{
 "cells": [
  {
   "cell_type": "code",
   "execution_count": 5,
   "metadata": {},
   "outputs": [],
   "source": [
    "#%autoreload 2\n",
    "\n",
    "from VMTest import *"
   ]
  },
  {
   "cell_type": "code",
   "execution_count": 6,
   "metadata": {},
   "outputs": [],
   "source": [
    "import json\n",
    "from networkx.readwrite import json_graph\n",
    "\n",
    "def removeDefaults(df):\n",
    "    defaults = list(loadSQL('defaults','reference')['defaults'])\n",
    "    subset = df[~df['subreddit'].isin(defaults)].copy()\n",
    "    \n",
    "    return subset\n",
    "\n",
    "def dropSingleEdges(G):\n",
    "    edges = list(G.edges(data=True))\n",
    "    single_edges = [edge for edge in edges if edge[2]['weight'] == 1]\n",
    "    \n",
    "    G.remove_edges_from(single_edges)\n",
    "    \n",
    "    return G\n",
    "\n",
    "def removeIsolates(G):\n",
    "    isolates = list(nx.isolates(G))\n",
    "    G.remove_nodes_from(isolates)\n",
    "    \n",
    "    return G\n",
    "    \n",
    "def setAttributes(G):\n",
    "    nx.set_node_attributes(G, 'group', 1)\n",
    "    for n in G:\n",
    "        G.nodes[n]['id'] = n\n",
    "        \n",
    "    return G\n",
    "\n",
    "def subsetNet(G):\n",
    "    G = dropSingleEdges(G)\n",
    "    G = removeIsolates(G)\n",
    "    G = setAttributes(G)\n",
    "    \n",
    "    return G\n",
    "    \n",
    "def saveGraphJson(G, filename):\n",
    "    d = json_graph.node_link_data(G)\n",
    "    json.dump(d, open(filename, 'w'))"
   ]
  },
  {
   "cell_type": "code",
   "execution_count": 7,
   "metadata": {},
   "outputs": [],
   "source": [
    "def projectSub(df):\n",
    "    top = df.subreddit.values\n",
    "    bot = df.author.values\n",
    "    \n",
    "    top_unique, top_indices = sp.unique(top, return_inverse=True)\n",
    "    bot_unique, bot_indices = sp.unique(bot, return_inverse=True)\n",
    "    \n",
    "    data = sp.ones(len(top))\n",
    "    incidence = sp.sparse.coo_matrix((data, (top_indices, bot_indices)))\n",
    "    adj = incidence.dot(incidence.T)\n",
    "    \n",
    "    G = add_edges_fast(top_unique, adj)\n",
    "    \n",
    "    return G"
   ]
  },
  {
   "cell_type": "code",
   "execution_count": 9,
   "metadata": {},
   "outputs": [],
   "source": [
    "database_name = 'allEdges'\n",
    "engine = get_engine(database_name)\n",
    "\n",
    "subreddit = 'changemyview'\n",
    "char = 'a'\n",
    "query = \"\"\"\n",
    "        SELECT author, subreddit, weight\n",
    "        FROM 'a'\n",
    "        WHERE subreddit in\n",
    "                  (SELECT subreddit\n",
    "                  FROM 'a'\n",
    "                  WHERE author in\n",
    "                            (SELECT author\n",
    "                            FROM 'a'\n",
    "                            WHERE (subreddit == 'changemyview')))\n",
    "        \"\"\".format(char, subreddit)\n",
    "\n",
    "data = pd.read_sql_query(query, engine)"
   ]
  },
  {
   "cell_type": "code",
   "execution_count": 10,
   "metadata": {},
   "outputs": [
    {
     "data": {
      "text/html": [
       "<div>\n",
       "<style scoped>\n",
       "    .dataframe tbody tr th:only-of-type {\n",
       "        vertical-align: middle;\n",
       "    }\n",
       "\n",
       "    .dataframe tbody tr th {\n",
       "        vertical-align: top;\n",
       "    }\n",
       "\n",
       "    .dataframe thead th {\n",
       "        text-align: right;\n",
       "    }\n",
       "</style>\n",
       "<table border=\"1\" class=\"dataframe\">\n",
       "  <thead>\n",
       "    <tr style=\"text-align: right;\">\n",
       "      <th></th>\n",
       "      <th>author</th>\n",
       "      <th>subreddit</th>\n",
       "      <th>weight</th>\n",
       "    </tr>\n",
       "  </thead>\n",
       "  <tbody>\n",
       "    <tr>\n",
       "      <th>0</th>\n",
       "      <td>andracute2</td>\n",
       "      <td>suggestmeabook</td>\n",
       "      <td>31</td>\n",
       "    </tr>\n",
       "    <tr>\n",
       "      <th>1</th>\n",
       "      <td>alegxab</td>\n",
       "      <td>MapPorn</td>\n",
       "      <td>47</td>\n",
       "    </tr>\n",
       "    <tr>\n",
       "      <th>2</th>\n",
       "      <td>Akoustyk</td>\n",
       "      <td>audioengineering</td>\n",
       "      <td>73</td>\n",
       "    </tr>\n",
       "    <tr>\n",
       "      <th>3</th>\n",
       "      <td>ARJeff</td>\n",
       "      <td>Brawlstars</td>\n",
       "      <td>63</td>\n",
       "    </tr>\n",
       "    <tr>\n",
       "      <th>4</th>\n",
       "      <td>AmazingSource</td>\n",
       "      <td>fatlogic</td>\n",
       "      <td>59</td>\n",
       "    </tr>\n",
       "  </tbody>\n",
       "</table>\n",
       "</div>"
      ],
      "text/plain": [
       "          author         subreddit  weight\n",
       "0     andracute2    suggestmeabook      31\n",
       "1        alegxab           MapPorn      47\n",
       "2       Akoustyk  audioengineering      73\n",
       "3         ARJeff        Brawlstars      63\n",
       "4  AmazingSource          fatlogic      59"
      ]
     },
     "execution_count": 10,
     "metadata": {},
     "output_type": "execute_result"
    }
   ],
   "source": [
    "data.head()"
   ]
  },
  {
   "cell_type": "code",
   "execution_count": 12,
   "metadata": {},
   "outputs": [],
   "source": [
    "G = projectSub(data)\n",
    "G.remove_node('changemyview')"
   ]
  },
  {
   "cell_type": "code",
   "execution_count": 38,
   "metadata": {},
   "outputs": [],
   "source": [
    "subset = data[data['weight']>=3]\n",
    "subset = subset[~subset['source'].isin(['AutoModerator','[deleted]'])]\n",
    "subset = subset[~subset['target'].isin(['changemyview'])]\n",
    "subset.to_csv('cmv-network.csv', index=False)"
   ]
  },
  {
   "cell_type": "code",
   "execution_count": 39,
   "metadata": {},
   "outputs": [
    {
     "data": {
      "text/plain": [
       "(277904, 3)"
      ]
     },
     "execution_count": 39,
     "metadata": {},
     "output_type": "execute_result"
    }
   ],
   "source": [
    "subset.shape"
   ]
  },
  {
   "cell_type": "code",
   "execution_count": 15,
   "metadata": {},
   "outputs": [
    {
     "data": {
      "text/html": [
       "<div>\n",
       "<style scoped>\n",
       "    .dataframe tbody tr th:only-of-type {\n",
       "        vertical-align: middle;\n",
       "    }\n",
       "\n",
       "    .dataframe tbody tr th {\n",
       "        vertical-align: top;\n",
       "    }\n",
       "\n",
       "    .dataframe thead th {\n",
       "        text-align: right;\n",
       "    }\n",
       "</style>\n",
       "<table border=\"1\" class=\"dataframe\">\n",
       "  <thead>\n",
       "    <tr style=\"text-align: right;\">\n",
       "      <th></th>\n",
       "      <th>source</th>\n",
       "      <th>target</th>\n",
       "      <th>weight</th>\n",
       "    </tr>\n",
       "  </thead>\n",
       "  <tbody>\n",
       "    <tr>\n",
       "      <th>0</th>\n",
       "      <td>andracute2</td>\n",
       "      <td>suggestmeabook</td>\n",
       "      <td>31</td>\n",
       "    </tr>\n",
       "    <tr>\n",
       "      <th>1</th>\n",
       "      <td>alegxab</td>\n",
       "      <td>MapPorn</td>\n",
       "      <td>47</td>\n",
       "    </tr>\n",
       "    <tr>\n",
       "      <th>2</th>\n",
       "      <td>Akoustyk</td>\n",
       "      <td>audioengineering</td>\n",
       "      <td>73</td>\n",
       "    </tr>\n",
       "    <tr>\n",
       "      <th>3</th>\n",
       "      <td>ARJeff</td>\n",
       "      <td>Brawlstars</td>\n",
       "      <td>63</td>\n",
       "    </tr>\n",
       "    <tr>\n",
       "      <th>4</th>\n",
       "      <td>AmazingSource</td>\n",
       "      <td>fatlogic</td>\n",
       "      <td>59</td>\n",
       "    </tr>\n",
       "  </tbody>\n",
       "</table>\n",
       "</div>"
      ],
      "text/plain": [
       "          source            target  weight\n",
       "0     andracute2    suggestmeabook      31\n",
       "1        alegxab           MapPorn      47\n",
       "2       Akoustyk  audioengineering      73\n",
       "3         ARJeff        Brawlstars      63\n",
       "4  AmazingSource          fatlogic      59"
      ]
     },
     "execution_count": 15,
     "metadata": {},
     "output_type": "execute_result"
    }
   ],
   "source": [
    "data.columns = ['source','target','weight']\n",
    "data.head()"
   ]
  },
  {
   "cell_type": "code",
   "execution_count": null,
   "metadata": {},
   "outputs": [],
   "source": [
    "data."
   ]
  },
  {
   "cell_type": "code",
   "execution_count": 115,
   "metadata": {},
   "outputs": [],
   "source": [
    "data = removeAuthors(data)\n",
    "data = removeDefaults(data)\n",
    "cmvAuthors = data[data['subreddit']=='changemyview'].author\n",
    "\n",
    "data.columns = ['author','subreddit','value']\n",
    "\n",
    "cmvNetwork = data[data['author'].isin(cmvAuthors)]\n",
    "nonCMVNetwork = data[~data['author'].isin(cmvAuthors)]"
   ]
  },
  {
   "cell_type": "markdown",
   "metadata": {},
   "source": [
    "# Producing Graphs"
   ]
  },
  {
   "cell_type": "markdown",
   "metadata": {},
   "source": [
    "## Testing on Sample Network"
   ]
  },
  {
   "cell_type": "code",
   "execution_count": 175,
   "metadata": {},
   "outputs": [],
   "source": [
    "def separateUpperQuartile(df, col):\n",
    "    upper_bound = df.quantile(.75)[col]\n",
    "    lq = s[s[col]<upper_bound]\n",
    "    uq = s[s[col]>=upper_bound]\n",
    "    \n",
    "    return lq, uq\n",
    "\n",
    "def removeUpperQuartileNodes(G):\n",
    "    s = pd.DataFrame.from_dict(dict(G.degree()), orient='index')\n",
    "    lq, uq = separateUpperQuartile(s, 0)\n",
    "    \n",
    "    G.remove_nodes_from(uq.index)"
   ]
  },
  {
   "cell_type": "code",
   "execution_count": 179,
   "metadata": {},
   "outputs": [],
   "source": [
    "def makeNetworkGraph(data, filename):\n",
    "    G = projectSub(cmvNetwork)\n",
    "    G.remove_node('changemyview')\n",
    "    removeUpperQuartileNodes(G)\n",
    "\n",
    "    defaults = list(loadSQL('defaults','reference')['defaults'])\n",
    "    G.remove_nodes_from(defaults) # too connected\n",
    "    G.remove_node('politics') # too connected\n",
    "    subset = subsetNet(G)\n",
    "\n",
    "    saveGraphJson(subset, '{}.json'.format(filename))\n",
    "    \n",
    "makeNetworkGraph(nonCMV, 'noncmv')"
   ]
  },
  {
   "cell_type": "code",
   "execution_count": 130,
   "metadata": {},
   "outputs": [],
   "source": [
    "df = nx.to_pandas_edgelist(subsetCMV)"
   ]
  },
  {
   "cell_type": "code",
   "execution_count": 131,
   "metadata": {},
   "outputs": [
    {
     "data": {
      "text/html": [
       "<div>\n",
       "<style scoped>\n",
       "    .dataframe tbody tr th:only-of-type {\n",
       "        vertical-align: middle;\n",
       "    }\n",
       "\n",
       "    .dataframe tbody tr th {\n",
       "        vertical-align: top;\n",
       "    }\n",
       "\n",
       "    .dataframe thead th {\n",
       "        text-align: right;\n",
       "    }\n",
       "</style>\n",
       "<table border=\"1\" class=\"dataframe\">\n",
       "  <thead>\n",
       "    <tr style=\"text-align: right;\">\n",
       "      <th></th>\n",
       "      <th>source</th>\n",
       "      <th>target</th>\n",
       "      <th>weight</th>\n",
       "    </tr>\n",
       "  </thead>\n",
       "  <tbody>\n",
       "    <tr>\n",
       "      <th>22447</th>\n",
       "      <td>WTF</td>\n",
       "      <td>politics</td>\n",
       "      <td>29.0</td>\n",
       "    </tr>\n",
       "    <tr>\n",
       "      <th>24435</th>\n",
       "      <td>bestof</td>\n",
       "      <td>politics</td>\n",
       "      <td>36.0</td>\n",
       "    </tr>\n",
       "    <tr>\n",
       "      <th>1877</th>\n",
       "      <td>AdviceAnimals</td>\n",
       "      <td>politics</td>\n",
       "      <td>40.0</td>\n",
       "    </tr>\n",
       "    <tr>\n",
       "      <th>18055</th>\n",
       "      <td>PoliticalHumor</td>\n",
       "      <td>politics</td>\n",
       "      <td>45.0</td>\n",
       "    </tr>\n",
       "    <tr>\n",
       "      <th>30563</th>\n",
       "      <td>politics</td>\n",
       "      <td>technology</td>\n",
       "      <td>46.0</td>\n",
       "    </tr>\n",
       "  </tbody>\n",
       "</table>\n",
       "</div>"
      ],
      "text/plain": [
       "               source      target  weight\n",
       "22447             WTF    politics    29.0\n",
       "24435          bestof    politics    36.0\n",
       "1877    AdviceAnimals    politics    40.0\n",
       "18055  PoliticalHumor    politics    45.0\n",
       "30563        politics  technology    46.0"
      ]
     },
     "execution_count": 131,
     "metadata": {},
     "output_type": "execute_result"
    }
   ],
   "source": [
    "df.sort_values('weight').tail()"
   ]
  },
  {
   "cell_type": "code",
   "execution_count": 157,
   "metadata": {},
   "outputs": [],
   "source": [
    "s = pd.DataFrame.from_dict(dict(subsetCMV.degree()), orient='index')"
   ]
  }
 ],
 "metadata": {
  "kernelspec": {
   "display_name": "Python 3",
   "language": "python",
   "name": "python3"
  },
  "language_info": {
   "codemirror_mode": {
    "name": "ipython",
    "version": 3
   },
   "file_extension": ".py",
   "mimetype": "text/x-python",
   "name": "python",
   "nbconvert_exporter": "python",
   "pygments_lexer": "ipython3",
   "version": "3.6.5"
  }
 },
 "nbformat": 4,
 "nbformat_minor": 2
}

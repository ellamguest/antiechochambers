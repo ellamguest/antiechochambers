{
 "cells": [
  {
   "cell_type": "code",
   "execution_count": 275,
   "metadata": {},
   "outputs": [],
   "source": [
    "%autoreload 2\n",
    "\n",
    "from VMTest import *"
   ]
  },
  {
   "cell_type": "code",
   "execution_count": 276,
   "metadata": {},
   "outputs": [],
   "source": [
    "import json\n",
    "from networkx.readwrite import json_graph\n",
    "\n",
    "def removeDefaults(df):\n",
    "    defaults = list(loadSQL('defaults','allEdges')['subreddit'])\n",
    "    subset = df[~df['subreddit'].isin(defaults)].copy()\n",
    "    \n",
    "    return subset\n",
    "\n",
    "def dropSingleEdges(G):\n",
    "    edges = list(G.edges(data=True))\n",
    "    single_edges = [edge for edge in edges if edge[2]['weight'] == 1]\n",
    "    \n",
    "    G.remove_edges_from(single_edges)\n",
    "    \n",
    "    return G\n",
    "\n",
    "def removeIsolates(G):\n",
    "    isolates = list(nx.isolates(G))\n",
    "    G.remove_nodes_from(isolates)\n",
    "    \n",
    "    return G\n",
    "    \n",
    "def setAttributes(G):\n",
    "    nx.set_node_attributes(G, 'group', 1)\n",
    "    for n in G:\n",
    "        G.nodes[n]['id'] = n\n",
    "        \n",
    "    return G\n",
    "\n",
    "def subsetNet(G):\n",
    "    G = dropSingleEdges(G)\n",
    "    G = removeIsolates(G)\n",
    "    G = setAttributes(G)\n",
    "    \n",
    "    return G\n",
    "    \n",
    "def saveGraphJson(G, filename):\n",
    "    d = json_graph.node_link_data(G)\n",
    "    json.dump(d, open(filename, 'w'))"
   ]
  },
  {
   "cell_type": "code",
   "execution_count": 23,
   "metadata": {},
   "outputs": [],
   "source": [
    "def projectSub(df):\n",
    "    top = df.subreddit.values\n",
    "    bot = df.author.values\n",
    "    \n",
    "    top_unique, top_indices = sp.unique(top, return_inverse=True)\n",
    "    bot_unique, bot_indices = sp.unique(bot, return_inverse=True)\n",
    "    \n",
    "    data = sp.ones(len(top))\n",
    "    incidence = sp.sparse.coo_matrix((data, (top_indices, bot_indices)))\n",
    "    adj = incidence.dot(incidence.T)\n",
    "    \n",
    "    G = add_edges_fast(top_unique, adj)\n",
    "    \n",
    "    return G"
   ]
  },
  {
   "cell_type": "code",
   "execution_count": 265,
   "metadata": {},
   "outputs": [],
   "source": [
    "database_name = 'allEdges'\n",
    "engine = get_engine(database_name)\n",
    "\n",
    "subreddit = 'changemyview'\n",
    "char = 'a'\n",
    "query = \"\"\"\n",
    "        SELECT author, subreddit, weight\n",
    "        FROM {0}\n",
    "        WHERE (subreddit not in (SELECT subreddit FROM defaults))\n",
    "        and (author in (select author\n",
    "            FROM {0}\n",
    "            WHERE (subreddit == '{1}')\n",
    "            and (author not in (SELECT author FROM skipAuthors))))\n",
    "        \"\"\".format(char, subreddit)\n",
    "\n",
    "data = pd.read_sql_query(query, engine)"
   ]
  },
  {
   "cell_type": "code",
   "execution_count": 278,
   "metadata": {},
   "outputs": [],
   "source": [
    "cmvAuthors = data[data['subreddit']=='changemyview'].author"
   ]
  },
  {
   "cell_type": "code",
   "execution_count": 280,
   "metadata": {},
   "outputs": [],
   "source": [
    "data.columns = ['author','subreddit','value']\n",
    "data = data[data['value']>1]\n",
    "cmvNetwork = data[data['author'].isin(cmvAuthors)]\n",
    "nonCMVNetwork = data[~data['author'].isin(cmvAuthors)]"
   ]
  },
  {
   "cell_type": "markdown",
   "metadata": {},
   "source": [
    "## Basic Stats"
   ]
  },
  {
   "cell_type": "code",
   "execution_count": 281,
   "metadata": {},
   "outputs": [
    {
     "name": "stdout",
     "output_type": "stream",
     "text": [
      "CMV NETWORK\n",
      "There are 723 CMV authors across 2272 subreddits\n",
      "\n",
      "Non-CMV NETWORK\n",
      "There are 0 non CMV authors across 0 subreddits\n"
     ]
    }
   ],
   "source": [
    "print('CMV NETWORK')\n",
    "print('There are', cmvNetwork.author.unique().shape[0], 'CMV authors across',\n",
    "     cmvNetwork.subreddit.unique().shape[0], 'subreddits')\n",
    "print()\n",
    "\n",
    "print('Non-CMV NETWORK')\n",
    "print('There are', nonCMVNetwork.author.unique().shape[0], 'non CMV authors across',\n",
    "     nonCMVNetwork.subreddit.unique().shape[0], 'subreddits')"
   ]
  },
  {
   "cell_type": "code",
   "execution_count": 187,
   "metadata": {},
   "outputs": [
    {
     "data": {
      "text/plain": [
       "count    12428.000000\n",
       "mean         5.901110\n",
       "std         22.350841\n",
       "min          1.000000\n",
       "25%          1.000000\n",
       "50%          2.000000\n",
       "75%          4.000000\n",
       "max       1055.000000\n",
       "Name: value, dtype: float64"
      ]
     },
     "execution_count": 187,
     "metadata": {},
     "output_type": "execute_result"
    }
   ],
   "source": [
    "cmvNetwork.value.describe()"
   ]
  },
  {
   "cell_type": "code",
   "execution_count": 222,
   "metadata": {},
   "outputs": [],
   "source": [
    "cmvCount = cmvNetwork.groupby('subreddit')['value'].count()\n",
    "cmvSum = cmvNetwork.groupby('subreddit')['value'].sum()\n",
    "\n",
    "noncmvCount = nonCMVNetwork.groupby('subreddit')['value'].count()\n",
    "noncmvSum = nonCMVNetwork.groupby('subreddit')['value'].sum()"
   ]
  },
  {
   "cell_type": "code",
   "execution_count": 229,
   "metadata": {},
   "outputs": [
    {
     "data": {
      "text/html": [
       "<div>\n",
       "<style scoped>\n",
       "    .dataframe tbody tr th:only-of-type {\n",
       "        vertical-align: middle;\n",
       "    }\n",
       "\n",
       "    .dataframe tbody tr th {\n",
       "        vertical-align: top;\n",
       "    }\n",
       "\n",
       "    .dataframe thead th {\n",
       "        text-align: right;\n",
       "    }\n",
       "</style>\n",
       "<table border=\"1\" class=\"dataframe\">\n",
       "  <thead>\n",
       "    <tr style=\"text-align: right;\">\n",
       "      <th></th>\n",
       "      <th>cmv_authors</th>\n",
       "      <th>cmv_comments</th>\n",
       "      <th>noncmv_authors</th>\n",
       "      <th>noncmv_comments</th>\n",
       "      <th>author_diff</th>\n",
       "      <th>comment_diff</th>\n",
       "    </tr>\n",
       "  </thead>\n",
       "  <tbody>\n",
       "    <tr>\n",
       "      <th>0xProject</th>\n",
       "      <td>1.0</td>\n",
       "      <td>6.0</td>\n",
       "      <td>8.0</td>\n",
       "      <td>39.0</td>\n",
       "      <td>0.125000</td>\n",
       "      <td>0.153846</td>\n",
       "    </tr>\n",
       "    <tr>\n",
       "      <th>2007scape</th>\n",
       "      <td>8.0</td>\n",
       "      <td>71.0</td>\n",
       "      <td>793.0</td>\n",
       "      <td>8286.0</td>\n",
       "      <td>0.010088</td>\n",
       "      <td>0.008569</td>\n",
       "    </tr>\n",
       "    <tr>\n",
       "      <th>240sx</th>\n",
       "      <td>1.0</td>\n",
       "      <td>4.0</td>\n",
       "      <td>9.0</td>\n",
       "      <td>92.0</td>\n",
       "      <td>0.111111</td>\n",
       "      <td>0.043478</td>\n",
       "    </tr>\n",
       "    <tr>\n",
       "      <th>2healthbars</th>\n",
       "      <td>1.0</td>\n",
       "      <td>4.0</td>\n",
       "      <td>45.0</td>\n",
       "      <td>115.0</td>\n",
       "      <td>0.022222</td>\n",
       "      <td>0.034783</td>\n",
       "    </tr>\n",
       "    <tr>\n",
       "      <th>2mad4madlads</th>\n",
       "      <td>1.0</td>\n",
       "      <td>3.0</td>\n",
       "      <td>14.0</td>\n",
       "      <td>32.0</td>\n",
       "      <td>0.071429</td>\n",
       "      <td>0.093750</td>\n",
       "    </tr>\n",
       "  </tbody>\n",
       "</table>\n",
       "</div>"
      ],
      "text/plain": [
       "              cmv_authors  cmv_comments  noncmv_authors  noncmv_comments  \\\n",
       "0xProject             1.0           6.0             8.0             39.0   \n",
       "2007scape             8.0          71.0           793.0           8286.0   \n",
       "240sx                 1.0           4.0             9.0             92.0   \n",
       "2healthbars           1.0           4.0            45.0            115.0   \n",
       "2mad4madlads          1.0           3.0            14.0             32.0   \n",
       "\n",
       "              author_diff  comment_diff  \n",
       "0xProject        0.125000      0.153846  \n",
       "2007scape        0.010088      0.008569  \n",
       "240sx            0.111111      0.043478  \n",
       "2healthbars      0.022222      0.034783  \n",
       "2mad4madlads     0.071429      0.093750  "
      ]
     },
     "execution_count": 229,
     "metadata": {},
     "output_type": "execute_result"
    }
   ],
   "source": [
    "diff = pd.DataFrame({'cmv_authors':cmvCount,\n",
    "                     'cmv_comments':cmvSum,\n",
    "                     'noncmv_authors':noncmvCount,\n",
    "                     'noncmv_comments':noncmvSum\n",
    "                    }).fillna(0)\n",
    "\n",
    "diff = diff[diff['cmv_authors']>0].drop('changemyview') # removing subreddits included by removed authors\n",
    "diff['author_diff'] = diff['cmv_authors']/diff['noncmv_authors']\n",
    "diff['comment_diff'] = diff['cmv_comments']/diff['noncmv_comments']\n",
    "diff.head()"
   ]
  },
  {
   "cell_type": "code",
   "execution_count": 230,
   "metadata": {},
   "outputs": [
    {
     "data": {
      "text/plain": [
       "(2271, 6)"
      ]
     },
     "execution_count": 230,
     "metadata": {},
     "output_type": "execute_result"
    }
   ],
   "source": [
    "diff.shape"
   ]
  },
  {
   "cell_type": "code",
   "execution_count": 264,
   "metadata": {},
   "outputs": [
    {
     "data": {
      "text/html": [
       "<div>\n",
       "<style scoped>\n",
       "    .dataframe tbody tr th:only-of-type {\n",
       "        vertical-align: middle;\n",
       "    }\n",
       "\n",
       "    .dataframe tbody tr th {\n",
       "        vertical-align: top;\n",
       "    }\n",
       "\n",
       "    .dataframe thead th {\n",
       "        text-align: right;\n",
       "    }\n",
       "</style>\n",
       "<table border=\"1\" class=\"dataframe\">\n",
       "  <thead>\n",
       "    <tr style=\"text-align: right;\">\n",
       "      <th></th>\n",
       "      <th>cmv_authors</th>\n",
       "      <th>cmv_comments</th>\n",
       "      <th>noncmv_authors</th>\n",
       "      <th>noncmv_comments</th>\n",
       "      <th>author_diff</th>\n",
       "      <th>comment_diff</th>\n",
       "    </tr>\n",
       "  </thead>\n",
       "  <tbody>\n",
       "    <tr>\n",
       "      <th>politics</th>\n",
       "      <td>143.0</td>\n",
       "      <td>3349.0</td>\n",
       "      <td>4999.0</td>\n",
       "      <td>89250.0</td>\n",
       "      <td>0.028606</td>\n",
       "      <td>0.037524</td>\n",
       "    </tr>\n",
       "    <tr>\n",
       "      <th>PoliticalHumor</th>\n",
       "      <td>48.0</td>\n",
       "      <td>436.0</td>\n",
       "      <td>898.0</td>\n",
       "      <td>6406.0</td>\n",
       "      <td>0.053452</td>\n",
       "      <td>0.068061</td>\n",
       "    </tr>\n",
       "    <tr>\n",
       "      <th>technology</th>\n",
       "      <td>45.0</td>\n",
       "      <td>270.0</td>\n",
       "      <td>1167.0</td>\n",
       "      <td>6246.0</td>\n",
       "      <td>0.038560</td>\n",
       "      <td>0.043228</td>\n",
       "    </tr>\n",
       "    <tr>\n",
       "      <th>AdviceAnimals</th>\n",
       "      <td>44.0</td>\n",
       "      <td>377.0</td>\n",
       "      <td>985.0</td>\n",
       "      <td>4755.0</td>\n",
       "      <td>0.044670</td>\n",
       "      <td>0.079285</td>\n",
       "    </tr>\n",
       "    <tr>\n",
       "      <th>NoStupidQuestions</th>\n",
       "      <td>40.0</td>\n",
       "      <td>480.0</td>\n",
       "      <td>736.0</td>\n",
       "      <td>5979.0</td>\n",
       "      <td>0.054348</td>\n",
       "      <td>0.080281</td>\n",
       "    </tr>\n",
       "  </tbody>\n",
       "</table>\n",
       "</div>"
      ],
      "text/plain": [
       "                   cmv_authors  cmv_comments  noncmv_authors  noncmv_comments  \\\n",
       "politics                 143.0        3349.0          4999.0          89250.0   \n",
       "PoliticalHumor            48.0         436.0           898.0           6406.0   \n",
       "technology                45.0         270.0          1167.0           6246.0   \n",
       "AdviceAnimals             44.0         377.0           985.0           4755.0   \n",
       "NoStupidQuestions         40.0         480.0           736.0           5979.0   \n",
       "\n",
       "                   author_diff  comment_diff  \n",
       "politics              0.028606      0.037524  \n",
       "PoliticalHumor        0.053452      0.068061  \n",
       "technology            0.038560      0.043228  \n",
       "AdviceAnimals         0.044670      0.079285  \n",
       "NoStupidQuestions     0.054348      0.080281  "
      ]
     },
     "execution_count": 264,
     "metadata": {},
     "output_type": "execute_result"
    }
   ],
   "source": [
    "diff.sort_values(['cmv_authors','noncmv_authors'], ascending=[False, True]).head()"
   ]
  },
  {
   "cell_type": "code",
   "execution_count": 233,
   "metadata": {},
   "outputs": [
    {
     "data": {
      "image/png": "[encoded data removed]",
      "text/plain": [
       "<matplotlib.figure.Figure at 0x1108fbfd0>"
      ]
     },
     "metadata": {},
     "output_type": "display_data"
    }
   ],
   "source": [
    "import matplotlib.pyplot as plt\n",
    "import seaborn as sns\n",
    "%matplotlib inline\n",
    "\n",
    "diff.plot('cmv_authors','noncmv_authors', kind='scatter');"
   ]
  },
  {
   "cell_type": "code",
   "execution_count": 263,
   "metadata": {},
   "outputs": [
    {
     "data": {
      "image/png": "[encoded data removed]",
      "text/plain": [
       "<matplotlib.figure.Figure at 0x17ca0ccc0>"
      ]
     },
     "metadata": {},
     "output_type": "display_data"
    }
   ],
   "source": [
    "import numpy as np \n",
    "\n",
    "fig, ax = plt.subplots()\n",
    "\n",
    "x = np.log(diff['noncmv_authors']+1)\n",
    "\n",
    "y = np.log(diff['cmv_authors'])\n",
    "ax.scatter(x, y);"
   ]
  },
  {
   "cell_type": "markdown",
   "metadata": {},
   "source": [
    "# Producing Graphs"
   ]
  },
  {
   "cell_type": "markdown",
   "metadata": {},
   "source": [
    "## Testing on Sample Network"
   ]
  },
  {
   "cell_type": "code",
   "execution_count": 175,
   "metadata": {},
   "outputs": [],
   "source": [
    "def separateUpperQuartile(df, col):\n",
    "    upper_bound = df.quantile(.75)[col]\n",
    "    lq = s[s[col]<upper_bound]\n",
    "    uq = s[s[col]>=upper_bound]\n",
    "    \n",
    "    return lq, uq\n",
    "\n",
    "def removeUpperQuartileNodes(G):\n",
    "    s = pd.DataFrame.from_dict(dict(G.degree()), orient='index')\n",
    "    lq, uq = separateUpperQuartile(s, 0)\n",
    "    \n",
    "    G.remove_nodes_from(uq.index)"
   ]
  },
  {
   "cell_type": "code",
   "execution_count": 179,
   "metadata": {},
   "outputs": [],
   "source": [
    "def makeNetworkGraph(data, filename):\n",
    "    G = projectSub(data)\n",
    "    G.remove_node('changemyview')\n",
    "    removeUpperQuartileNodes(G)\n",
    "\n",
    "    defaults = list(loadSQL('defaults','reference')['defaults'])\n",
    "    G.remove_nodes_from(defaults) # too connected\n",
    "    G.remove_node('politics') # too connected\n",
    "    subset = subsetNet(G)\n",
    "\n",
    "    saveGraphJson(subset, '{}.json'.format(filename))\n",
    "    \n",
    "makeNetworkGraph(nonCMV, 'noncmv')"
   ]
  },
  {
   "cell_type": "code",
   "execution_count": 130,
   "metadata": {},
   "outputs": [],
   "source": [
    "df = nx.to_pandas_edgelist(subsetCMV)"
   ]
  },
  {
   "cell_type": "code",
   "execution_count": 131,
   "metadata": {},
   "outputs": [
    {
     "data": {
      "text/html": [
       "<div>\n",
       "<style scoped>\n",
       "    .dataframe tbody tr th:only-of-type {\n",
       "        vertical-align: middle;\n",
       "    }\n",
       "\n",
       "    .dataframe tbody tr th {\n",
       "        vertical-align: top;\n",
       "    }\n",
       "\n",
       "    .dataframe thead th {\n",
       "        text-align: right;\n",
       "    }\n",
       "</style>\n",
       "<table border=\"1\" class=\"dataframe\">\n",
       "  <thead>\n",
       "    <tr style=\"text-align: right;\">\n",
       "      <th></th>\n",
       "      <th>source</th>\n",
       "      <th>target</th>\n",
       "      <th>weight</th>\n",
       "    </tr>\n",
       "  </thead>\n",
       "  <tbody>\n",
       "    <tr>\n",
       "      <th>22447</th>\n",
       "      <td>WTF</td>\n",
       "      <td>politics</td>\n",
       "      <td>29.0</td>\n",
       "    </tr>\n",
       "    <tr>\n",
       "      <th>24435</th>\n",
       "      <td>bestof</td>\n",
       "      <td>politics</td>\n",
       "      <td>36.0</td>\n",
       "    </tr>\n",
       "    <tr>\n",
       "      <th>1877</th>\n",
       "      <td>AdviceAnimals</td>\n",
       "      <td>politics</td>\n",
       "      <td>40.0</td>\n",
       "    </tr>\n",
       "    <tr>\n",
       "      <th>18055</th>\n",
       "      <td>PoliticalHumor</td>\n",
       "      <td>politics</td>\n",
       "      <td>45.0</td>\n",
       "    </tr>\n",
       "    <tr>\n",
       "      <th>30563</th>\n",
       "      <td>politics</td>\n",
       "      <td>technology</td>\n",
       "      <td>46.0</td>\n",
       "    </tr>\n",
       "  </tbody>\n",
       "</table>\n",
       "</div>"
      ],
      "text/plain": [
       "               source      target  weight\n",
       "22447             WTF    politics    29.0\n",
       "24435          bestof    politics    36.0\n",
       "1877    AdviceAnimals    politics    40.0\n",
       "18055  PoliticalHumor    politics    45.0\n",
       "30563        politics  technology    46.0"
      ]
     },
     "execution_count": 131,
     "metadata": {},
     "output_type": "execute_result"
    }
   ],
   "source": [
    "df.sort_values('weight').tail()"
   ]
  },
  {
   "cell_type": "code",
   "execution_count": 193,
   "metadata": {},
   "outputs": [],
   "source": [
    "G = projectSub(cmvNetwork)"
   ]
  },
  {
   "cell_type": "code",
   "execution_count": 194,
   "metadata": {},
   "outputs": [
    {
     "data": {
      "text/plain": [
       "DegreeView({'0xProject': 9, '2007scape': 106, '240sx': 52, '2healthbars': 169, '2mad4madlads': 57, '2meirl42meirl4meirl': 44, '2meirl4meirl': 189, '3DS': 97, '3Dprinting': 19, '3dshacks': 29, '40kLore': 17, '49ers': 15, '4PanelCringe': 96, '4chan': 315, '52weeksofcooking': 17, '72scale': 16, '7daystodie': 6, '911truth': 11, 'ADHD': 126, 'AMA': 44, 'AMDHelp': 11, 'ANormalDayInAmerica': 21, 'ANormalDayInRussia': 271, 'ATBGE': 358, 'ATC': 20, 'AVoid5': 14, 'AbandonedPorn': 182, 'Absurdism': 8, 'AcademicPsychology': 9, 'Acadiana': 17, 'AccidentalComedy': 22, 'AccidentalRacism': 169, 'Accounting': 4, 'Accutane': 2, 'ActLikeYouBelong': 172, 'ActionFigures': 11, 'AdventureCapitalist': 7, 'AdventurersLeague': 7, 'Advice': 147, 'AdviceAnimals': 676, 'AgainstHateSubreddits': 274, 'Agoraphobia': 25, 'AirBnB': 20, 'AirForce': 10, 'Alabama': 7, 'AllFantasyEverything': 48, 'AlliedHQ': 33, 'Allthewaythrough': 12, 'AlternativeAstronomy': 10, 'AmISexy': 121, 'AmItheAsshole': 21, 'AmazonMerch': 1, 'Amd': 66, 'AnCap101': 42, 'Anarcho_Capitalism': 91, 'Android': 285, 'AndroidGaming': 5, 'AndroidQuestions': 14, 'AnetA8': 4, 'Anger': 14, 'Anglicanism': 14, 'Angular2': 21, 'AnimalsBeingBros': 288, 'AnimalsBeingDerps': 56, 'AnimalsBeingJerks': 202, 'AnimeFunny': 80, 'Animemes': 180, 'Animesuggest': 5, 'Animorphs': 23, 'AnnArbor': 1, 'Anticonsumption': 108, 'Antipsychiatry': 18, 'Anxiety': 82, 'Anxietyhelp': 2, 'AppleWatch': 87, 'ApplyingToCollege': 22, 'Aquariums': 20, 'ArcherFX': 36, 'Architects': 9, 'ArchitecturePorn': 84, 'AreYouDeaf': 11, 'ArenaHS': 6, 'ArtefactPorn': 5, 'ArtisanVideos': 39, 'AsianBeauty': 6, 'AsianMasculinity': 5, 'AskALiberal': 29, 'AskARussian': 10, 'AskAcademia': 8, 'AskAnAmerican': 136, 'AskAnEscort': 44, 'AskAnthropology': 20, 'AskCulinary': 71, 'AskDocs': 58, 'AskEconomics': 11, 'AskElectronics': 14, 'AskEngineers': 74, 'AskEurope': 116, 'AskFeminists': 33, 'AskFoodHistorians': 17, 'AskHistorians': 20, 'AskHistory': 28, 'AskLibertarians': 49, 'AskLiteraryStudies': 28, 'AskMarketing': 20, 'AskMen': 362, 'AskMenOver30': 96, 'AskNOLA': 11, 'AskNYC': 19, 'AskNetsec': 2, 'AskOldPeople': 19, 'AskOuija': 81, 'AskParents': 27, 'AskPhysics': 9, 'AskProgramming': 21, 'AskRedditAfterDark': 99, 'AskRedditNSFW': 58, 'AskScienceDiscussion': 70, 'AskScienceFiction': 118, 'AskStatistics': 4, 'AskThe_Donald': 47, 'AskTrumpSupporters': 103, 'AskUK': 10, 'AskVet': 58, 'AskWomen': 259, 'AskWomenOver30': 19, 'Ask_Politics': 82, 'Ask_Radical_Feminists': 10, 'Askpolitics': 17, 'Assistance': 209, 'AstralProjection': 44, 'Astronomy': 97, 'AteTheOnion': 46, 'Atlanta': 64, 'AtlasReactor': 4, 'AusFinance': 15, 'AusLegal': 6, 'Austin': 4, 'Austria': 13, 'Autistic': 39, 'AutoDetailing': 12, 'Autos': 62, 'AwesomeCarMods': 52, 'Awwducational': 174, 'Awww': 56, 'BATProject': 2, 'BDSMcommunity': 6, 'BPD': 14, 'BPDlovedones': 8, 'BabyBumps': 41, 'BabylonBerlin': 3, 'BadSocialScience': 6, 'Bad_Cop_No_Donut': 30, 'Baking': 20, 'BanGDream': 3, 'Bandnames': 14, 'BannedFromThe_Donald': 96, 'Barca': 32, 'BasicIncome': 43, 'BattleOfTheSexes': 18, 'BattlefrontTWO': 20, 'Bayonetta': 34, 'BeAmazed': 118, 'BeardedDragons': 10, 'BeforeNAfterAdoption': 223, 'BernieSanders': 29, 'Bernie_Sanders': 15, 'BestOfReports': 80, 'BetterEveryLoop': 188, 'Bible': 14, 'BigBrother': 30, 'BigCatGifs': 174, 'BiggerThanYouThought': 102, 'BikeCammers': 6, 'BikiniBottomTwitter': 91, 'BillBurr': 52, 'Billions': 102, 'Bioshock': 56, 'Bitcoin': 66, 'BitcoinAUS': 23, 'BitcoinMarkets': 12, 'BlackLightning': 103, 'BlackPeopleTwitter': 436, 'Blackfellas': 15, 'Blacksmith': 20, 'BlueMidterm2018': 89, 'BoJackHorseman': 249, 'BobDylanMemes': 44, 'BoomtownFestival': 34, 'BoringCompany': 4, 'Bossfight': 19, 'BossfightUniverse': 7, 'BostonBruins': 13, 'Bounty0x': 6, 'Boxer': 9, 'Boxing': 60, 'Braincels': 107, 'BravoRealHousewives': 12, 'Breadit': 6, 'Breath_of_the_Wild': 269, 'Brewers': 1, 'BritishSuccess': 16, 'Brogres': 48, 'Browns': 17, 'Buddhism': 33, 'BudgetAudiophile': 56, 'Bumble': 11, 'BurningMan': 23, 'BusinessBritain': 27, 'Buttcoin': 23, 'BuyItForLife': 29, 'CAguns': 13, 'CCW': 17, 'CFB': 91, 'CGPGrey': 1, 'CODZombies': 18, 'COGuns': 13, 'CPTSD': 8, 'C_Programming': 24, 'Cadillac': 16, 'Calgary': 21, 'CalgaryFlames': 5, 'California': 76, 'California_Politics': 32, 'CallOfDutyWorldWarTwo': 9, 'CampingGear': 19, 'CampingandHiking': 68, 'CanadaPolitics': 25, 'CapitalismVSocialism': 125, 'CardanoCoin': 33, 'Cardinals': 36, 'Cartalk': 65, 'Casefile': 1, 'CastleTV': 25, 'CasualConversation': 245, 'CasualUK': 118, 'CatAdvice': 8, 'CatTaps': 16, 'CatastrophicFailure': 260, 'Catholicism': 59, 'Catloaf': 12, 'Celebs': 32, 'ChapoTrapHouse': 62, 'CharacterDevelopment': 10, 'CharacterRant': 11, 'Charleston': 4, 'Charlottesville': 0, 'Chastity_Galore': 10, 'ChicagoSuburbs': 47, 'ChildrenFallingOver': 149, 'China': 4, 'Chiropractic': 25, 'ChoosingBeggars': 488, 'Christianity': 157, 'Cichlid': 17, 'Cigarettes': 9, 'Cinemagraphs': 38, 'Cisco': 15, 'CitiesSkylines': 58, 'CityPorn': 17, 'CivVI': 12, 'ClashRoyale': 6, 'Clemson': 21, 'ClimbingCircleJerk': 3, 'Codependency': 26, 'Coffee': 27, 'CollegeBasketball': 150, 'Colorado': 13, 'ColorizedHistory': 120, 'Columbus': 19, 'CombatFootage': 112, 'ComedyCemetery': 82, 'CompetitiveHS': 59, 'Competitiveoverwatch': 114, 'Connecticut': 11, 'Conservative': 133, 'ConspiracyII': 49, 'ContagiousLaughter': 56, 'ContraPoints': 6, 'Cooking': 72, 'CoreCyberpunk': 1, 'CorporateFacepalm': 44, 'CorporateRoasts': 57, 'Costco': 15, 'CozyPlaces': 15, 'CrappyDesign': 350, 'CrappyDesign2': 14, 'CrazyIdeas': 276, 'Creation': 3, 'CreepyWikipedia': 44, 'CrewsCrew': 1, 'Cricket': 48, 'CringeAnarchy': 335, 'CriticalTheory': 28, 'CrohnsDisease': 6, 'CroppedNorrisJokes': 48, 'CrusaderKings': 39, 'CryptoCurrency': 186, 'CryptoMarkets': 40, 'CryptoTechnology': 23, 'Cryptozoology': 48, 'Cubers': 7, 'CumFromAnal': 4, 'Cumtown': 6, 'Cyberpunk': 100, 'Cytus': 3, 'DBZDokkanBattle': 7, 'DC_Cinematic': 199, 'DCcomics': 85, 'DJs': 0, 'DMAcademy': 45, 'DPDT': 102, 'DRZ400': 4, 'DadReflexes': 226, 'Dallas': 32, 'Damnthatsinteresting': 223, 'Daredevil': 9, 'DarkNetMarketsNoobs': 2, 'Dashcam': 16, 'DataHoarder': 116, 'DayofInfamy': 14, 'DaystromInstitute': 7, 'Daytrading': 9, 'Debate': 6, 'DebateAltRight': 3, 'DebateAnAtheist': 34, 'DebateCommunism': 86, 'DebateFascism': 61, 'DebateReligion': 167, 'DebunkThis': 11, 'DecidingToBeBetter': 9, 'DeepFriedMemes': 57, 'DeepIntoYouTube': 21, 'DeepSpaceNine': 29, 'Denver': 6, 'Design': 25, 'DesignPorn': 147, 'DesirePath': 52, 'Destiny': 22, 'DestinyTheGame': 5, 'DetroitBecomeHuman': 18, 'DiWHY': 333, 'DirkGently': 56, 'Discussion': 13, 'DisneyEyes': 15, 'DissidiaFFOO': 4, 'DnD': 240, 'DnDBehindTheScreen': 19, 'DoesAnybodyElse': 114, 'DolphinEmulator': 10, 'Doppleganger': 2, 'DotA2': 51, 'Drama': 194, 'DrawForMe': 5, 'Drexel': 30, 'Drugs': 104, 'DunderMifflin': 185, 'DungeonsAndDragons': 116, 'Dungeons_and_Dragons': 7, 'EAF': 80, 'EANHLfranchise': 19, 'EA_NHL': 19, 'EDC': 17, 'EDH': 21, 'EDM': 9, 'ENFP': 20, 'Earwolf': 14, 'EatCheapAndHealthy': 44, 'Economics': 210, 'Edmonton': 28, 'Eesti': 4, 'Egalitarianism': 69, 'ElderScrolls': 15, 'EliteDangerous': 92, 'EmmaWatson': 18, 'EmpireDidNothingWrong': 169, 'EndlessFrontier': 52, 'EngineeringPorn': 176, 'EngineeringStudents': 3, 'EngorgedVeinyBreasts': 5, 'Enhancement': 5, 'EnoughLibertarianSpam': 15, 'EnoughTrumpSpam': 111, 'Enough_Sanders_Spam': 56, 'Entrepreneur': 51, 'EntrepreneurRideAlong': 20, 'EternalCardGame': 19, 'Eugene': 28, 'Eurosceptics': 6, 'Eve': 14, 'EverythingScience': 71, 'ExNoContact': 103, 'Existentialism': 2, 'ExpectationVsReality': 309, 'Eyebleach': 269, 'FFBraveExvius': 1, 'FL_Studio': 7, 'FORTnITE': 62, 'FULLCOMMUNISM': 51, 'FUTMobile': 10, 'Fable': 4, 'FaithNoMore': 6, 'Fallout': 27, 'FanFiction': 21, 'FanTheories': 48, 'Fantasy': 5, 'FantasyPL': 4, 'FantasyUnitedNations': 11, 'FastWorkers': 11, 'FeMRADebates': 80, 'FellowKids': 97, 'Feminism': 7, 'Fencesitter': 19, 'Fibromyalgia': 2, 'FiestaST': 41, 'Filmmakers': 41, 'Firearms': 237, 'Firefighting': 2, 'Fitness': 197, 'FixMyPrint': 22, 'Fixxit': 13, 'FlashTV': 99, 'Flat_Earth': 3, 'FloatTank': 9, 'FloridaMan': 212, 'FoodPorn': 149, 'Foodforthought': 35, 'Foregen': 1, 'ForeverAlone': 19, 'Forex': 1, 'FortNiteBR': 192, 'French': 16, 'FriendsofthePod': 6, 'Frugal': 176, 'FrugalUrbanHermits': 34, 'FuckMyShitUp': 23, 'Fuckthealtright': 315, 'FullmetalAlchemist': 21, 'FunnyandSad': 137, 'FutureWhatIf': 5, 'Futurism': 4, 'GalaxyNote8': 7, 'GalaxyS8': 22, 'GalaxyS9': 11, 'GameDeals': 53, 'GamePhysics': 39, 'Gameboy': 49, 'GamerGhazi': 35, 'Games': 189, 'Gaming4Gamers': 39, 'GamingDetails': 21, 'Gamingcirclejerk': 70, 'GaySoundsShitposts': 21, 'GaybrosGoneWild': 20, 'GenderCritical': 17, 'GenderEgalitarian': 12, 'German': 6, 'GhostRecon': 7, 'Ghostbc': 13, 'GifRecipes': 232, 'GiftofGames': 15, 'Gifts': 80, 'GirlGamers': 7, 'Glitch_in_the_Matrix': 19, 'GlobalOffensive': 116, 'GlockMod': 23, 'Glocks': 23, 'GoForGold': 80, 'GoldCoast': 23, 'GoldandBlack': 41, 'GoldenStateWarriors': 14, 'GolfClash': 12, 'GolfGTI': 20, 'GooglePixel': 2, 'Gotham': 103, 'GrandTheftAutoV': 23, 'Greekgodx': 18, 'GreenBayPackers': 11, 'GrilledCheeze': 48, 'Grimdank': 9, 'Grimdawn': 13, 'Guelph': 19, 'Guildwars2': 4, 'Guitar': 15, 'GunPorn': 30, 'Gunime': 80, 'GunsAreCool': 70, 'HFY': 31, 'HIMYM': 3, 'HITDinvestigation': 11, 'HPMOR': 80, 'HPSlashFic': 3, 'HadToHurt': 52, 'HailCorporate': 36, 'Hair': 19, 'HaircareScience': 3, 'HalfLife': 4, 'Hamilton': 52, 'Handwriting': 6, 'Harmontown': 3, 'Haruhi': 80, 'HaveWeMet': 11, 'HellLetLoose': 6, 'HelloInternet': 6, 'HelpMeFind': 44, 'HentaiAnime': 12, 'HerOneBag': 11, 'HiTMAN': 18, 'HighQualityGifs': 250, 'HillaryForPrison': 13, 'HistoryMemes': 241, 'HistoryPorn': 210, 'Hitchcock': 28, 'HoMM': 9, 'HollowKnight': 18, 'HollywoodHandbook': 14, 'HomeImprovement': 97, 'HomeKit': 45, 'HomeNetworking': 25, 'HomePod': 54, 'Homebrewing': 4, 'HomeworkHelp': 4, 'Horses': 1, 'House': 3, 'HouseOfCards': 16, 'Hue': 5, 'HumanPorn': 56, 'HumansBeingBros': 430, 'HungryInTheDark': 11, 'HunterXHunter': 3, 'Hunting': 17, 'HyruleWarriors': 43, 'IASIP': 222, 'IBO': 4, 'IDontWorkHereLady': 56, 'INEEEEDIT': 309, 'INTP': 52, 'IRstudies': 4, 'ITCareerQuestions': 21, 'IWantToLearn': 32, 'Ice_Poseidon': 26, 'Idaho': 17, 'IdiotsFightingThings': 62, 'IdiotsInCars': 44, 'Idubbbz': 57, 'ImGoingToHellForThis': 182, 'ImaginaryDragons': 11, 'ImaginaryFeels': 27, 'ImaginaryFutureWar': 5, 'ImaginaryInteriors': 19, 'ImaginaryWarhammer': 15, 'Impeach_Trump': 21, 'IncelTears': 237, 'IncelsWithoutHate': 19, 'IncrediblesMemes': 44, 'IndiaInvestments': 3, 'IndiaSpeaks': 33, 'InfertilityBabies': 27, 'Infographics': 13, 'Intactivists': 26, 'InteriorDesign': 14, 'IntoTheBreach': 18, 'Iota': 6, 'IsItBullshit': 46, 'Israel': 4, 'JETProgramme': 25, 'JRPG': 14, 'JUSTNOMIL': 164, 'JamesBond': 15, 'JapanTravel': 38, 'Jeep': 23, 'Jeopardy': 14, 'JessicaJones': 18, 'JoeRogan': 188, 'JordanPeterson': 215, 'Jordan_Peterson_Memes': 32, 'Journalism': 29, 'JumpChain': 7, 'JuniorDoctorsUK': 0, 'JustBootThings': 7, 'JustProBlackThings': 7, 'Justfuckmyshitup': 270, 'JusticeServed': 497, 'Justrolledintotheshop': 312, 'KCRoyals': 11, 'Kaiserreich': 27, 'KansasCityChiefs': 11, 'Kanye': 22, 'KarmaConspiracy': 80, 'KarmaCourt': 23, 'KeanuBeingAwesome': 176, 'Keep_Track': 41, 'KenM': 191, 'KendrickLamar': 58, 'Kerala': 33, 'KerbalSpaceProgram': 110, 'Keto_Food': 26, 'KingOfTheHill': 48, 'KingdomHearts': 14, 'KingkillerChronicle': 19, 'KitchenConfidential': 72, 'Knoxville': 3, 'KotakuInAction': 154, 'KratomGarden': 6, 'LAClippers': 22, 'LGBTForeverAlone': 12, 'LSD': 6, 'LabourUK': 38, 'Ladybonersgonecuddly': 23, 'LandCruisers': 23, 'LateStageCapitalism': 92, 'LearnJapanese': 20, 'LearnUselessTalents': 11, 'LeedsUnited': 34, 'LegacyJailbreak': 18, 'LegalAdviceUK': 14, 'LegalTeens': 34, 'LessCredibleDefence': 8, 'LetsNotMeet': 47, 'LetsPlayVideos': 9, 'Liberal': 49, 'Libertarian': 435, 'LibertarianDebates': 25, 'Lightbulb': 23, 'Lisk': 6, 'LivestreamFail': 155, 'LocationSound': 56, 'Logic_301': 4, 'Lolice': 27, 'LonghornNation': 4, 'LosAngeles': 41, 'Louisville': 4, 'LoveNikki': 15, 'Lubbock': 6, 'LucioRollouts': 57, 'MAME': 52, 'MGTOW': 27, 'MLRugby': 2, 'MLS': 17, 'MMA': 274, 'MMORPG': 76, 'MODELING': 25, 'MTGLegacy': 14, 'MURICA': 323, 'MacOS': 42, 'MachineLearning': 8, 'MaddenUltimateTeam': 6, 'MadeMeSmile': 378, 'Maher': 4, 'Maine': 30, 'MakeNewFriendsHere': 9, 'MakerDAO': 9, 'MakeupAddiction': 12, 'MaliciousCompliance': 219, 'MapPorn': 321, 'Marblelympics': 5, 'MarchAgainstTrump': 120, 'Marriage': 19, 'Marvel': 263, 'MarvelPuzzleQuest': 1, 'MassiveCock': 20, 'MealPrepSunday': 19, 'MechanicAdvice': 49, 'MechanicalKeyboards': 57, 'Meditation': 96, 'Megaten': 14, 'MemeEconomy': 166, 'Menopause': 19, 'MensLib': 133, 'MensRights': 301, 'Miami': 9, 'Miata': 62, 'Michigan': 4, 'Military': 36, 'MilitaryPorn': 13, 'Minecraft': 122, 'Minneapolis': 25, 'ModSupport': 80, 'ModernMagic': 8, 'Moescape': 80, 'Moescene': 80, 'Mommit': 19, 'MonsterHunter': 202, 'MonsterHunterMeta': 10, 'MonsterHunterWorld': 8, 'MorbidReality': 110, 'MouseReview': 5, 'MovieDetails': 282, 'MoviePassClub': 8, 'Moviesinthemaking': 180, 'MtF': 21, 'MuayThai': 189, 'MultipleSclerosis': 58, 'MurderedByWords': 504, 'Muse': 21, 'Musicthemetime': 17, 'MyPeopleNeedMe': 84, 'NASCAR': 0, 'NBA2k': 4, 'NBAlive': 2, 'NFL_Draft': 8, 'NJGuns': 8, 'NOWTTYG': 43, 'NSFWFunny': 37, 'NSFWIAMA': 34, 'NSFW_GIF': 49, 'NYYankees': 6, 'NameThatSong': 17, 'Nanny': 17, 'NarcissisticAbuse': 46, 'Naruto': 7, 'NarutoShinobiStriker': 18, 'Nationals': 21, 'NatureIsFuckingLit': 275, 'Naturewasmetal': 21, 'NeckbeardNests': 5, 'Needafriend': 9, 'Negareddit': 14, 'NetflixBestOf': 47, 'Netrunner': 15, 'Neuropsychology': 9, 'NeutralPolitics': 77, 'NeutralTalk': 1, 'NewOrleans': 11, 'NewPatriotism': 49, 'NewSkaters': 4, 'NextCloud': 27, 'NiceHash': 13, 'Nicegirls': 210, 'NintendoSwitch': 340, 'NoFap': 25, 'NoShitSherlock': 92, 'NoStupidQuestions': 511, 'NobodyAsked': 89, 'Nootropics': 59, 'NormMacdonald': 49, 'Norse': 44, 'NotHowGirlsWork': 52, 'NotKenM': 44, 'NotMyJob': 132, 'OCD': 44, 'OSHA': 251, 'OTMemes': 102, 'OWConsole': 57, 'OffensiveMemes': 12, 'Office365': 5, 'Ohio': 19, 'Ohlympics': 6, 'OkCupid': 50, 'OldManDog': 23, 'OnePiece': 35, 'OnePunchMan': 11, 'OneY': 29, 'OopsDidntMeanTo': 305, 'OpiatesRecovery': 21, 'Oscars': 18, 'OurPresident': 18, 'OutOfTheLoop': 405, 'Overwatch': 321, 'OverwatchLeague': 7, 'OverwatchPS4': 57, 'OverwatchTMZ': 1, 'OverwatchUniversity': 62, 'Overwatch_Memes': 57, 'PCOS': 27, 'PKA': 21, 'POLITIC': 42, 'POTUSWatch': 58, 'PS4': 98, 'PUBATTLEGROUNDS': 256, 'PUBG': 21, 'PUBGMobile': 5, 'PUBGXboxOne': 21, 'Paleo': 17, 'PandR': 202, 'Parahumans': 10, 'Paranormal': 90, 'Pareidolia': 57, 'Parenting': 140, 'Pathfinder': 16, 'Pathfinder_RPG': 40, 'Patriots': 191, 'PeopleFuckingDying': 169, 'Perfectfit': 22, 'Permaculture': 14, 'PersonalFinanceCanada': 22, 'PetiteGoneWild': 130, 'Pets': 25, 'Petscop': 80, 'PewdiepieSubmissions': 57, 'Philippines': 4, 'PhotoshopRequest': 16, 'Physics': 117, 'Piracy': 62, 'PlantBasedDiet': 30, 'PleX': 41, 'Plumbing': 57, 'PokemonGoSpoofing': 49, 'PokemonROMhacks': 21, 'PokemonTCG': 8, 'PoliticalDiscussion': 196, 'PoliticalHumor': 631, 'PoliticalVideo': 5, 'Political_Discussion': 49, 'Political_Revolution': 102, 'Pony_irl': 6, 'Portland': 81, 'PostPoMo': 29, 'PowerShell': 25, 'Predators': 3, 'Prematurecelebration': 95, 'PrequelMemes': 310, 'PressureCooking': 52, 'ProEDmemes': 4, 'ProRevenge': 110, 'ProgrammerHumor': 221, 'ProgrammingLanguages': 3, 'ProjectReality': 14, 'PropagandaPosters': 151, 'ProtectAndServe': 52, 'PsychiatricFreedom': 12, 'Psychic': 58, 'Psychonaut': 10, 'PublicFreakout': 389, 'PurplePillDebate': 56, 'Python': 69, 'QuinnMains': 7, 'QuotesPorn': 13, 'RATS': 8, 'RBI': 44, 'ROTC': 4, 'RPGdesign': 3, 'RWBY': 10, 'RagenChastain': 15, 'Rainbow6': 288, 'Random_Acts_Of_Amazon': 5, 'Rateme': 39, 'RationalPsychonaut': 9, 'RealEstate': 88, 'RedLetterMedia': 25, 'RedditAlternatives': 34, 'RedditInReddit': 102, 'RedditLaqueristas': 17, 'Redskins': 5, 'Republican': 90, 'RequestNetwork': 8, 'Residency': 13, 'Retconned': 44, 'RetroFuturism': 227, 'RightwingLGBT': 12, 'RimWorld': 82, 'Ripple': 23, 'Roadcam': 156, 'RoastMe': 151, 'RoastMyCar': 1, 'RocketLeague': 124, 'Roku': 18, 'RoleReversal': 4, 'Roofing': 5, 'RoomPorn': 143, 'RussiaLago': 121, 'SCP': 59, 'SFBayHousing': 103, 'SQL': 18, 'SRSsucks': 48, 'SVU': 25, 'SWGalaxyOfHeroes': 5, 'SaintsFC': 23, 'SaltLakeCity': 7, 'SampleSize': 4, 'SanJose': 52, 'SanJoseSharks': 5, 'SandersForPresident': 72, 'SargonofAkkad': 14, 'Scandal': 7, 'ScenesFromAHat': 36, 'Schizoid': 44, 'Scotland': 6, 'ScottishPeopleTwitter': 108, 'Screenwriting': 10, 'Seahawks': 10, 'Seaofthieves': 83, 'Seattle': 17, 'SeattleWA': 18, 'SelenaGomez': 18, 'SelfDrivingCars': 23, 'SequelMemes': 192, 'SeriousConversation': 15, 'SexPositive': 38, 'SexToys': 16, 'Shadowverse': 8, 'ShingekiNoKyojin': 3, 'ShitAmericansSay': 173, 'ShitCosmoSays': 14, 'ShitPoliticsSays': 59, 'ShitRedditSays': 14, 'ShitTheAdminsSay': 80, 'ShitThe_DonaldSays': 12, 'Shitstatistssay': 86, 'ShittyLifeProTips': 78, 'Shitty_Car_Mods': 93, 'ShouldIbuythisgame': 53, 'Simulated': 204, 'SkincareAddiction': 93, 'SkincareAddicts': 12, 'Skookum': 33, 'Slipknot': 13, 'SlyGifs': 36, 'Smite': 21, 'Sneakers': 60, 'SneakyPete': 19, 'SnooNotes': 7, 'SocialismVCapitalism': 31, 'Socialism_101': 31, 'SonicTheHedgehog': 4, 'SoulCalibur': 8, 'Soulnexus': 58, 'SovietWomble': 31, 'SpaceXLounge': 36, 'SpaceXMasterrace': 19, 'SpeculativeEvolution': 14, 'Spore': 21, 'SquaredCircle': 265, 'StLouis': 15, 'StackAdvice': 30, 'StallmanWasRight': 12, 'StandUpComedy': 15, 'Standup': 88, 'StarWars': 430, 'StarWarsArmada': 24, 'StarWarsBattlefront': 122, 'StarWarsEmpireAtWar': 25, 'StarWarsLeaks': 40, 'StardewValley': 12, 'Stargate': 4, 'StateOfDecay': 19, 'Steam': 122, 'Stellar': 8, 'Stellaris': 90, 'StockMarket': 25, 'Stoicism': 14, 'StoppedWorking': 114, 'StoriesAboutKevin': 12, 'StormfrontorSJW': 52, 'Stormlight_Archive': 3, 'StrangerThings': 200, 'StreetFighter': 15, 'StreetFights': 44, 'StreetOutlaws': 25, 'StruggleFucking': 12, 'StudentLoans': 1, 'StudentNurse': 1, 'SubredditDrama': 448, 'SugarPine7': 1, 'SuicideWatch': 19, 'SummonSign': 5, 'Suomi': 16, 'SupermodelCats': 15, 'Supernatural': 37, 'Supplements': 5, 'Survival': 4, 'SurvivingMars': 11, 'SweatyPalms': 216, 'Swimming': 15, 'SwordOrSheath': 15, 'SyrianRebels': 27, 'TACN': 6, 'TEFL': 15, 'TIL_Uncensored': 49, 'TTC_PCOS': 27, 'TVDetails': 44, 'TWWPRDT': 4, 'TalesFromRetail': 13, 'TalesFromTheCustomer': 128, 'TalesFromTheFrontDesk': 12, 'TalesFromYourServer': 149, 'Teachers': 20, 'TeachingUK': 0, 'TeenAmIUgly': 3, 'Terraria': 2, 'TheCrownNetflix': 15, 'TheGirlSurvivalGuide': 22, 'TheGoodPlace': 16, 'TheLastAirbender': 194, 'TheNewRight': 14, 'TheOnion': 7, 'TheOrville': 7, 'TheOverload': 3, 'TheRedPill': 45, 'TheSilphRoad': 34, 'TheSimpsons': 123, 'TheWalkingDeadGame': 18, 'TheWayWeWere': 169, 'The_Congress': 12, 'The_Dennis': 39, 'The_Donald': 211, 'The_Mueller': 375, 'TheaterDays': 3, 'TheoryOfReddit': 110, 'ThisAmericanLife': 4, 'ThreadGames': 65, 'ThriftStoreHauls': 75, 'Thunder': 2, 'TiADiscussion': 13, 'Tierzoo': 57, 'Tinder': 439, 'TinyTrumps': 58, 'TokyoGhoul': 6, 'TooAfraidToAsk': 146, 'TopMindsOfReddit': 295, 'Torontobluejays': 1, 'TotalAnnihilation': 14, 'TotalWarArena': 2, 'TownofSalemgame': 10, 'ToyotaTacoma': 23, 'TransDIY': 3, 'TransQualityGifs': 9, 'Trimps': 10, 'TrollCoping': 12, 'TrollXChromosomes': 151, 'TrollYChromosome': 12, 'Tronix': 8, 'Trucks': 9, 'TrueAskReddit': 53, 'TrueAtheism': 19, 'TrueChristian': 3, 'TrueDoTA2': 22, 'TrueFilm': 28, 'TrueOffMyChest': 112, 'TrueReddit': 302, 'TrueSTL': 15, 'True_AskAConservative': 24, 'TrumpCriticizesTrump': 204, 'Trumpgret': 133, 'TryingForABaby': 27, 'Tucson': 4, 'TumblrAtRest': 56, 'TumblrInAction': 259, 'Twas_All_A_Dream': 15, 'TwinCities': 16, 'Twinnovation': 48, 'TwoBestFriendsPlay': 11, 'TwoSentenceHorror': 9, 'UFOs': 19, 'UIUC': 12, 'UKInvesting': 12, 'UKPersonalFinance': 12, 'UMD': 2, 'UNBGBBIIVCHIDCTIICBG': 287, 'USArugby': 2, 'USMC': 16, 'USNEWS': 13, 'USPS': 10, 'UTK': 2, 'UkrainianConflict': 15, 'UneasyAlliance': 10, 'Unemployed': 6, 'UnethicalLifeProTips': 344, 'Unexpected': 349, 'UnpopularOpinions': 26, 'UnresolvedMysteries': 62, 'UrbanHell': 51, 'Urdu': 9, 'UserExperienceDesign': 9, 'UserSimulator': 5, 'Utah': 17, 'UtahJazz': 19, 'VOIP': 9, 'VRGaming': 39, 'VTGuns': 19, 'VacationColorado': 39, 'VapePorn': 9, 'Vaping': 8, 'VaporwaveAesthetics': 14, 'Vermintide': 42, 'VeryBadWizards': 7, 'VetTech': 12, 'VideoEditing': 39, 'VinylDeals': 6, 'VirginiaTech': 11, 'VisitingIceland': 4, 'Vive': 39, 'Vocaloid': 80, 'Voltron': 4, 'WC3': 19, 'WTF': 662, 'WWE': 5, 'WWII': 24, 'Waluigi': 48, 'Warframe': 15, 'WarshipPorn': 24, 'Warthunder': 6, 'WatchItForThePlot': 161, 'WatchPeopleDieInside': 267, 'WatchandLearn': 2, 'Watches': 34, 'WayOfTheBern': 81, 'WeAreTheMusicMakers': 14, 'WeWantPlates': 145, 'WebGames': 15, 'WeirdWheels': 76, 'Wellthatsucks': 283, 'Werealive': 19, 'Whatcouldgowrong': 438, 'WhatsWrongWithYourDog': 169, 'WhitePeopleTwitter': 333, 'WhoIsHTB': 4, 'WinStupidPrizes': 52, 'Winnipeg': 4, 'Wishlist': 44, 'Wordpress': 4, 'WorldOfWarships': 28, 'WorstOfModeration': 80, 'WouldYouRather': 16, 'WriteDontWrite': 10, 'XMage': 3, 'Xcom': 48, 'Xennials': 14, 'Xenoblade_Chronicles': 14, 'Xiaomi': 3, 'YouShouldKnow': 269, 'ZNation': 19, 'ZeroWaste': 40, 'ZombieSurvivalTactics': 2, 'Zoomies': 79, 'abolish': 12, 'aboutreddit': 80, 'absolutelynotmeirl': 44, 'accidentalrockwell': 29, 'actuallesbians': 3, 'aerospace': 10, 'ainbow': 7, 'airplants': 34, 'airsoft': 14, 'alcohol': 22, 'alcoholism': 21, 'aliens': 44, 'alltheleft': 27, 'allthingsprotoss': 3, 'altcoin': 8, 'amateur_boxing': 32, 'amazonecho': 7, 'amibeingdetained': 52, 'amiugly': 198, 'analog': 6, 'anarchocapitalism': 49, 'androidapps': 57, 'androiddev': 0, 'angelsbaseball': 21, 'anime': 85, 'anime_irl': 233, 'animegifs': 80, 'animenocontext': 80, 'answers': 81, 'antiMLM': 264, 'antinatalism': 13, 'apolloapp': 57, 'apple': 116, 'appletv': 41, 'appliancerepair': 39, 'ar15': 23, 'archlinux': 18, 'arduino': 74, 'arizona': 1, 'army': 5, 'arrow': 13, 'arumba07': 4, 'asianpeoplegifs': 25, 'ask': 7, 'askMRP': 21, 'askaconservative': 12, 'askaplumber': 9, 'askgaybros': 65, 'askmath': 12, 'askphilosophy': 108, 'asktransgender': 41, 'asktrp': 20, 'askwomenadvice': 30, 'asmr': 111, 'asoiaf': 48, 'aspergers': 39, 'aspergirls': 11, 'assholedesign': 340, 'assholes': 15, 'atari8bit': 23, 'atheism': 511, 'audio': 56, 'audiobooks': 20, 'audioengineering': 1, 'audiophile': 31, 'australia': 160, 'autism': 67, 'avengedsevenfold': 13, 'aviation': 48, 'awfuleverything': 91, 'awfuleyebrows': 91, 'aws': 12, 'aznidentity': 15, 'babybigcatgifs': 169, 'backpacking': 35, 'badeconomics': 76, 'badhistory': 135, 'badmathematics': 10, 'badphilosophy': 9, 'badpolitics': 10, 'badtattoos': 18, 'baduk': 4, 'badukpolitics': 16, 'badunitedkingdom': 3, 'badwomensanatomy': 175, 'bakchodi': 3, 'baldursgate': 34, 'baltimore': 12, 'bananocoin': 12, 'banned': 10, 'barstoolsports': 5, 'bartenders': 52, 'baseball': 120, 'battlefield_one': 24, 'battlestations': 42, 'bayarea': 75, 'beauty': 2, 'beer': 125, 'beetlejuicing': 56, 'beholdthemasterrace': 328, 'bestof': 476, 'bestoflegaladvice': 131, 'bestofnetflix': 14, 'beta': 7, 'beyondthebump': 27, 'bigboobproblems': 26, 'bigboye': 52, 'bigdickproblems': 19, 'billionshekelsupreme': 2, 'bioniclelego': 32, 'biotech': 8, 'bipolar': 21, 'birding': 17, 'bjj': 47, 'blackberry': 16, 'blackchickswhitedicks': 5, 'blackdesertonline': 3, 'blackladies': 40, 'blackmagicfuckery': 268, 'blackmirror': 116, 'blackpeoplegifs': 250, 'blacksmithing': 20, 'bladesinthedark': 9, 'bloodborne': 44, 'blueheelers': 1, 'blunderyears': 285, 'boardgames': 92, 'bobdylan': 44, 'bodybuilding': 31, 'bodyweightfitness': 42, 'bombercrew': 30, 'boottoobig': 187, 'boston': 47, 'bostonceltics': 37, 'botw': 5, 'boutiquebluray': 7, 'boxoffice': 15, 'brakebills': 112, 'brandnew': 4, 'brasil': 1, 'breakingbad': 16, 'breakingmom': 1, 'breastfeeding': 27, 'brexit': 27, 'brighton': 34, 'britishproblems': 85, 'brockhampton': 1, 'broodwar': 15, 'brooklynninenine': 222, 'broslikeus': 7, 'brushybrushy': 102, 'btc': 87, 'buccos': 13, 'buildapc': 148, 'buildapcsales': 11, 'business': 56, 'businessanalysis': 4, 'buzzfeedbot': 27, 'cablefail': 9, 'cableporn': 9, 'calvinandhobbes': 259, 'cambridge_uni': 4, 'camphalfblood': 7, 'camping': 7, 'canada': 288, 'canberra': 15, 'candycrush': 44, 'canon': 15, 'caps': 5, 'cardano': 33, 'cardistry': 4, 'careeradvice': 12, 'carporn': 60, 'cars': 277, 'casualiama': 182, 'cats': 31, 'celebnsfw': 9, 'celestegame': 18, 'cfs': 14, 'chanceme': 22, 'changemyview': 1825, 'channelzero': 6, 'chastity': 10, 'chastitytraining': 10, 'chelseafc': 6, 'chemistry': 3, 'chess': 29, 'chicago': 55, 'chicagobulls': 7, 'chickengifs': 16, 'childfree': 79, 'chomsky': 49, 'cicada': 4, 'cider': 9, 'circlebroke2': 5, 'circlejerk': 4, 'civ': 49, 'classicalmusic': 11, 'classicwow': 28, 'cleanjokes': 14, 'clevelandcavs': 29, 'climbing': 3, 'coasttocoast': 19, 'coaxedintoasnafu': 48, 'cocaine': 21, 'cocktails': 68, 'coldfusion': 56, 'collapse': 42, 'college': 13, 'combinedgifs': 244, 'comedy': 11, 'comicbookmovies': 15, 'comicbooks': 188, 'comics': 232, 'community': 102, 'compsci': 14, 'computerscience': 11, 'confession': 400, 'confessions': 165, 'conservatives': 26, 'conspiracy': 249, 'conspiracyundone': 115, 'cool': 29, 'coolguides': 259, 'copypasta': 5, 'cordcutters': 102, 'counting': 15, 'cowboys': 26, 'coys': 23, 'cpp': 12, 'craigslist': 62, 'creepyPMs': 268, 'creepyasterisks': 234, 'cringe': 195, 'cringepics': 241, 'criterion': 7, 'crochet': 14, 'crtgaming': 2, 'cryosleep': 9, 'crypto': 9, 'cscareerquestions': 68, 'csgo': 18, 'css': 32, 'curledfeetsies': 94, 'curlyhair': 61, 'cursedimages': 15, 'customhearthstone': 14, 'custommagic': 11, 'cycling': 2, 'd_language': 8, 'daddit': 59, 'dadjokes': 53, 'dank_meme': 103, 'dankchristianmemes': 217, 'dankmemes': 220, 'darkestdungeon': 34, 'darkjokes': 8, 'darknet': 80, 'darksouls': 41, 'darksouls3': 11, 'dashcamgifs': 11, 'data': 49, 'datascience': 16, 'dating': 4, 'dating_advice': 87, 'dayz': 16, 'dbz': 189, 'ddo': 8, 'de': 76, 'deathgrips': 24, 'debian': 37, 'deephouse': 3, 'degoogle': 12, 'delusionalcraigslist': 76, 'democrats': 65, 'depression': 88, 'dirtbagcenter': 10, 'discgolf': 3, 'discordapp': 9, 'disneymagickingdoms': 1, 'disneyvacation': 217, 'dji': 15, 'dnbhl': 3, 'dndnext': 41, 'docker': 12, 'doctorwho': 48, 'doggos': 6, 'dogpictures': 185, 'dogs': 82, 'dogswithjobs': 169, 'donaldglover': 103, 'dontdeadopeninside': 88, 'donthelpjustfilm': 20, 'dontputyourdickinthat': 52, 'dragonage': 20, 'dragonvale': 14, 'drawing': 4, 'dresdenfiles': 11, 'driving': 37, 'drunk': 90, 'duelyst': 10, 'dvdcollection': 7, 'dwarffortress': 25, 'e46': 4, 'eagles': 26, 'eastbay': 4, 'economy': 84, 'education': 14, 'educationalgifs': 117, 'ehlersdanlos': 9, 'einfach_posten': 4, 'eldertrees': 29, 'electricians': 12, 'electronic_cigarette': 9, 'electronicmusic': 3, 'eliteexplorers': 33, 'elonmusk': 19, 'ems': 8, 'emulation': 10, 'engineering': 127, 'enoughpetersonspam': 48, 'entertainment': 48, 'entj': 10, 'entp': 48, 'environment': 94, 'esist': 91, 'ethdev': 9, 'ethereum': 42, 'ethoslab': 15, 'ethtrader': 20, 'etymology': 13, 'eu4': 37, 'europe': 385, 'evilbuildings': 255, 'evolution': 6, 'excel': 8, 'exchristian': 13, 'exjw': 20, 'exmormon': 34, 'exmuslim': 32, 'facepalm': 443, 'factorio': 73, 'fakehistoryporn': 182, 'fallenlondon': 5, 'fantasybaseball': 21, 'fantasybball': 7, 'fantasyfootball': 21, 'farcry': 30, 'farmingsimulator': 2, 'fasting': 32, 'fatlogic': 65, 'fatpeoplestories': 56, 'femalefashionadvice': 5, 'feminineboys': 3, 'fermentation': 28, 'fffffffuuuuuuuuuuuu': 56, 'ffxiv': 11, 'fiaustralia': 6, 'financialindependence': 102, 'findapath': 28, 'findareddit': 44, 'finishing': 7, 'firefly': 102, 'firstworldanarchists': 18, 'fitnesscirclejerk': 27, 'flatearth': 3, 'flicks': 11, 'flightradar24': 13, 'florida': 8, 'flyfishing': 33, 'flying': 2, 'fo4': 59, 'forbiddensnacks': 26, 'fordranger': 52, 'forhire': 83, 'formula1': 66, 'forsen': 7, 'forwardsfromgrandma': 15, 'forwardsfromhitler': 15, 'forwardsfromreddit': 15, 'fragrance': 5, 'france': 4, 'freefolk': 264, 'freemagic': 17, 'freeuse': 43, 'freeworldnews': 36, 'ft86': 20, 'ftm': 98, 'fuckHOA': 16, 'furry_irl': 28, 'futurama': 24, 'gainit': 9, 'gallifrey': 38, 'gamedesign': 22, 'gamedev': 85, 'gamegrumps': 63, 'gameofthrones': 308, 'gamernews': 19, 'gamindustri': 14, 'gamingsuggestions': 6, 'gardening': 64, 'gatech': 4, 'gatekeeping': 298, 'gatesopencomeonin': 56, 'gay_irl': 102, 'gaybros': 117, 'gaybrosgonemild': 20, 'gaymersgonewild': 20, 'gcc': 8, 'geek': 71, 'gentlemanboners': 18, 'geologycareers': 2, 'geopolitics': 56, 'germany': 9, 'getdisciplined': 14, 'gifsthatkeepongiving': 198, 'goddesses': 103, 'golf': 49, 'golfclassifieds': 49, 'gonewild': 5, 'gonewildATwork': 44, 'goodbyedepression': 19, 'google': 127, 'googlehome': 11, 'grammar': 23, 'greatawakening': 10, 'greentext': 236, 'greysanatomy': 21, 'grindr': 18, 'gtaonline': 5, 'guineapigs': 9, 'gumball': 5, 'gunpolitics': 63, 'guns': 237, 'guro': 12, 'gurps': 12, 'h3h3productions': 178, 'hackintosh': 7, 'haiti': 5, 'hapas': 32, 'happy': 169, 'happycowgifs': 13, 'hardcoreaww': 169, 'harrypotter': 173, 'hdcelebgifs': 18, 'hearthstone': 137, 'helloicon': 33, 'help': 15, 'heroesofthestorm': 32, 'highmaintenance': 5, 'hillaryclinton': 26, 'hinduism': 32, 'hiphop101': 14, 'hiphopheads': 172, 'hiphopvinyl': 14, 'historyboners': 44, 'hmmm': 133, 'hmmmgifs': 44, 'hockey': 91, 'hockeyjerseys': 13, 'hoi4': 45, 'hoi4modding': 16, 'holdmybeer': 368, 'holdmycosmo': 182, 'holdmyfries': 354, 'holdmyjuicebox': 206, 'holdmyredbull': 129, 'homeassistant': 5, 'homelab': 12, 'homeland': 102, 'homeowners': 42, 'homestuck': 5, 'hometheater': 47, 'horror': 28, 'houston': 32, 'hqtrivia': 39, 'htgawm': 14, 'humblebrag': 52, 'hvacadvice': 16, 'hypotheticalsituation': 15, 'iRacing': 17, 'iamverybadass': 255, 'iamverysmart': 445, 'ibs': 6, 'ich_iel': 4, 'ideasforcmv': 7, 'ideasfortheadmins': 86, 'ifttt': 14, 'ifyoulikeblank': 70, 'ihavesex': 76, 'iiiiiiitttttttttttt': 49, 'ikeahacks': 14, 'illinois': 48, 'im14andthisisdeep': 248, 'imaginarymaps': 12, 'incremental_games': 52, 'india': 79, 'indiadiscussion': 33, 'indianews': 33, 'indianpeoplefacebook': 132, 'indieheads': 25, 'indonesia': 24, 'infertility': 27, 'insanepeoplefacebook': 383, 'instant_regret': 337, 'instantkarma': 103, 'insults': 23, 'interestingasfuck': 553, 'intermittentfasting': 14, 'internetparents': 6, 'inthenews': 31, 'intrusivethoughts': 12, 'investing': 117, 'ionic': 21, 'ipad': 7, 'iphone': 204, 'ireland': 115, 'ironscape': 18, 'islam': 29, 'itookapicture': 15, 'itsaunixsystem': 81, 'jailbreak': 18, 'jakeandamir': 48, 'japan': 125, 'japanesemusic': 6, 'japanpics': 19, 'java': 8, 'javascript': 55, 'jesuschristreddit': 82, 'jobs': 89, 'judo': 29, 'justlegbeardthings': 103, 'justneckbeardthings': 359, 'juul': 9, 'katawashoujo': 5, 'keming': 52, 'keto': 146, 'ketogains': 20, 'ketorecipes': 4, 'ketoscience': 26, 'killingfloor': 7, 'killthecameraman': 11, 'killthosewhodisagree': 22, 'kingdomcome': 9, 'korea': 24, 'kotor': 34, 'kratom': 6, 'kurzgesagt': 31, 'lakers': 15, 'lanadelrey': 4, 'languagelearning': 7, 'lastimages': 179, 'latterdaysaints': 33, 'latvia': 33, 'law': 26, 'lawschooladmissions': 48, 'ldssexuality': 27, 'leagueoflegends': 114, 'learndota2': 9, 'learnjava': 26, 'learnlatvian': 25, 'learnmath': 42, 'learnprogramming': 32, 'learnpython': 56, 'legaladvice': 377, 'legaladviceofftopic': 112, 'lego': 143, 'letsplay': 6, 'lgbt': 9, 'liberalgunowners': 186, 'libertarianmeme': 20, 'lifehacks': 358, 'lifeisstrange': 60, 'lightshope': 15, 'likeus': 181, 'linguistics': 70, 'linux': 104, 'linux4noobs': 17, 'linux_gaming': 9, 'linuxquestions': 34, 'litecoin': 23, 'loadingicon': 6, 'logic': 11, 'logophilia': 23, 'lolgrindr': 10, 'loltyler1': 27, 'london': 67, 'longboarding': 4, 'longhair': 19, 'longisland': 15, 'loseit': 67, 'lostgeneration': 34, 'lotr': 226, 'lotrmemes': 75, 'love2d': 17, 'lyftdrivers': 3, 'mac': 56, 'macmini': 2, 'madisonwi': 5, 'madlads': 169, 'magicTCG': 133, 'magicskyfairy': 3, 'makeyourchoice': 5, 'makinghiphop': 24, 'malcolminthemiddle': 19, 'malefashionadvice': 20, 'malelivingspace': 109, 'maletime': 8, 'mallninjashit': 58, 'manga': 35, 'marijuanaenthusiasts': 80, 'marketing': 20, 'marriedredpill': 21, 'martialarts': 27, 'marvelstudios': 340, 'massachusetts': 29, 'masseffect': 15, 'masterhacker': 18, 'masturbation': 44, 'math': 57, 'matheducation': 4, 'mattcolville': 19, 'mazda3': 2, 'mazes': 26, 'mbti': 11, 'mcgill': 6, 'mdphd': 13, 'me_irl': 184, 'mealtimevideos': 12, 'mechanical_gifs': 64, 'medellin': 22, 'medical': 16, 'medicalschool': 13, 'medicine': 13, 'meirl': 107, 'melbourne': 21, 'memes': 321, 'mensa': 8, 'mentalhealth': 61, 'metacanada': 8, 'metalgearsolid': 18, 'mexico': 12, 'mfdoom': 18, 'miamidolphins': 3, 'microgrowery': 11, 'microsoft': 48, 'mildlyinfuriating': 376, 'milliondollarextreme': 42, 'minimalism': 16, 'minnesota': 37, 'minnesotavikings': 48, 'misanthropy': 9, 'mississippi': 10, 'modclub': 80, 'modded': 29, 'moderatepolitics': 103, 'modnews': 80, 'monarchism': 9, 'montreal': 8, 'moraldilemmas': 23, 'morbidquestions': 207, 'motivation': 35, 'motorcycles': 260, 'moviepass': 15, 'moviescirclejerk': 29, 'mpv': 32, 'msu': 2, 'muacirclejerk': 29, 'muacjdiscussion': 17, 'mycology': 4, 'namethatcar': 9, 'nanocurrency': 17, 'nanotrade': 6, 'narcos': 4, 'nashville': 19, 'nathanforyou': 7, 'nattyorjuice': 19, 'natureismetal': 289, 'navy': 9, 'nba': 331, 'nbadiscussion': 16, 'neckbeardRPG': 48, 'needadvice': 25, 'needamod': 80, 'neoconNWO': 24, 'neoliberal': 144, 'nerdcubed': 15, 'netflix': 15, 'networking': 18, 'neutralnews': 40, 'nevertellmetheodds': 218, 'newyorkcity': 13, 'newzealand': 82, 'nexus6': 4, 'nfl': 219, 'nhl': 21, 'niceguys': 337, 'nickofnight': 32, 'nihilism': 8, 'nim': 3, 'nintendo': 20, 'noamchomsky': 49, 'node': 11, 'noisygifs': 84, 'nononono': 344, 'nonononoyes': 124, 'norge': 22, 'northernireland': 53, 'nostalgia': 202, 'nothingeverhappens': 18, 'notinteresting': 34, 'notlikeothergirls': 9, 'notliketheothergirls': 57, 'nova': 46, 'noveltranslations': 10, 'nra': 19, 'nsfw': 44, 'nursing': 1, 'nutrition': 30, 'nyc': 44, 'oakland': 62, 'oaklandraiders': 32, 'oblivion': 4, 'ockytop': 6, 'oculus': 3, 'oddlysatisfying': 435, 'ofcoursethatsathing': 246, 'offbeat': 183, 'offlineTV': 57, 'offmychest': 64, 'oldpeoplefacebook': 240, 'olympics': 15, 'onebag': 11, 'onebagging': 11, 'oneplus': 18, 'onguardforthee': 36, 'onions': 5, 'ontario': 35, 'opensource': 27, 'openttd': 8, 'opieandanthony': 6, 'options': 11, 'optometry': 26, 'orlando': 16, 'ottawa': 11, 'outrun': 57, 'outside': 16, 'overlanding': 23, 'paintball': 2, 'pakistan': 19, 'paradigmchange': 48, 'paradoxplaza': 45, 'parentsofmultiples': 19, 'pathofexile': 50, 'patientgamers': 206, 'pawg': 23, 'pcgaming': 136, 'pcmasterrace': 357, 'pcmusic': 4, 'pebble': 52, 'penguins': 24, 'pennystocks': 9, 'perfectloops': 20, 'perth': 25, 'pestcontrol': 39, 'pettyrevenge': 45, 'pharmacy': 6, 'philadelphia': 41, 'phoneswap': 4, 'photocritique': 36, 'photography': 66, 'physicaltherapy': 5, 'physicianassistant': 25, 'physicsmemes': 44, 'piercing': 9, 'pittsburgh': 13, 'pkmntcg': 14, 'playingcards': 4, 'podcasts': 23, 'pokemon': 309, 'pokemongo': 113, 'polandball': 128, 'politics': 1060, 'popheads': 18, 'popping': 28, 'postprocessing': 15, 'povertyfinance': 54, 'powerlifting': 2, 'powerrangers': 21, 'powerwashingporn': 48, 'predaddit': 9, 'prefab': 9, 'pregnant': 27, 'prephysicianassistant': 25, 'preppers': 8, 'printSF': 19, 'printers': 32, 'privacy': 217, 'proED': 4, 'proEDadults': 4, 'proceduralgeneration': 4, 'prochoice': 1, 'productivity': 29, 'progmetal': 18, 'programming': 158, 'progresspics': 82, 'progun': 64, 'projectcar': 62, 'projectgorgon': 62, 'psychology': 67, 'ptcgo': 14, 'punchableface': 44, 'pussypassdenied': 101, 'qBittorrent': 32, 'queensuniversity': 6, 'quityourbullshit': 447, 'quotes': 149, 'r4rDFW': 58, 'radiohead': 9, 'rage': 226, 'rails': 12, 'raimimemes': 44, 'raisedbynarcissists': 66, 'rant': 99, 'rape': 26, 'rarepuppers': 195, 'raspberry_pi': 56, 'rational': 83, 'reactiongifs': 297, 'realasians': 7, 'reallifedoodles': 269, 'realtors': 49, 'recipes': 56, 'recruitinghell': 62, 'redacted': 10, 'reddevils': 5, 'redditgetsdrawn': 23, 'redditmobile': 44, 'redditrequest': 80, 'redesign': 7, 'redsox': 32, 'relationship_advice': 169, 'relationships': 272, 'religion': 12, 'restofthefuckingowl': 22, 'resumes': 15, 'retrobattlestations': 9, 'rfelectronics': 3, 'rickandmorty': 270, 'riddles': 14, 'riverdale': 23, 'roblox': 11, 'robotics': 39, 'roguelikes': 6, 'rollerblading': 4, 'roosterteeth': 49, 'rpg': 88, 'rpg_gamers': 21, 'rubberducks': 27, 'rugbyunion': 2, 'ruger': 5, 'running': 57, 'rupaulsdragrace': 4, 'russia': 23, 'russian': 10, 'sadcringe': 318, 'sales': 9, 'samharris': 150, 'samoyeds': 69, 'samsung': 34, 'sanantonio': 9, 'sanfrancisco': 193, 'santaclara': 52, 'santaclaritadiet': 50, 'santacruz': 66, 'santacruzlocals': 14, 'saskatchewan': 19, 'savedyouaclick': 273, 'sbubby': 14, 'scifi': 101, 'screenshots': 14, 'scriptedasiangifs': 32, 'scuba': 7, 'security': 27, 'seduction': 40, 'seinfeld': 1, 'self': 231, 'selfhosted': 27, 'selfimprovement': 96, 'serialkillers': 62, 'sex': 195, 'shadow_of_war': 39, 'shadowofmordor': 52, 'sheffield': 27, 'shield': 78, 'shitguncontrollerssay': 26, 'shitpost': 121, 'shittyama': 44, 'shittyaskscience': 88, 'shittyfoodporn': 185, 'shittyprogramming': 14, 'shittyrainbow6': 57, 'shittyreactiongifs': 210, 'shittyrobots': 101, 'shittysocialscience': 9, 'shittysuperpowers': 12, 'shockwaveporn': 56, 'short': 23, 'shortscarystories': 12, 'shortstories': 4, 'simonfraser': 9, 'simpleliving': 27, 'simpsonsshitposting': 15, 'singapore': 4, 'singularity': 17, 'sips': 19, 'sixers': 16, 'sixwordstories': 16, 'sjwhate': 32, 'skateboarding': 39, 'skeptic': 128, 'skipthedishes': 19, 'skyrim': 167, 'slatestarcodex': 4, 'slaythespire': 18, 'slowcooking': 23, 'smallbusiness': 20, 'smoking': 55, 'snowboarding': 15, 'soccer': 167, 'soccercirclejerk': 30, 'socialanxiety': 60, 'socialism': 293, 'socialistprogrammers': 12, 'socialskills': 113, 'softwaregore': 183, 'solotravel': 19, 'sousvide': 23, 'southafrica': 87, 'southpark': 59, 'spaceengineers': 38, 'spaceflight': 23, 'spaceporn': 102, 'spacex': 29, 'speedrun': 29, 'spikes': 16, 'splatoon': 12, 'standupshots': 207, 'starbucks': 26, 'starcitizen': 31, 'starcitizen_refunds': 9, 'starcraft': 79, 'starterpacks': 430, 'startrek': 100, 'starwarsrebels': 25, 'starwarsspeculation': 21, 'stephenking': 10, 'stevenuniverse': 5, 'stlouisblues': 12, 'stocks': 31, 'stopdrinking': 17, 'stopsmoking': 10, 'streetwear': 6, 'streetwearstartup': 6, 'subaru': 52, 'subnautica': 1, 'subredditoftheday': 15, 'succulents': 34, 'sugarfree': 15, 'sugarlifestyleforum': 17, 'suggest': 7, 'suggestmeabook': 2, 'summonerschool': 6, 'sunlesssea': 5, 'surfing': 15, 'survivinginfidelity': 80, 'survivio': 3, 'survivor': 6, 'svenskpolitik': 9, 'sweden': 11, 'swtor': 56, 'sydney': 23, 'sysadmin': 238, 'tacobell': 48, 'talesfromcallcenters': 14, 'talesfromtechsupport': 69, 'taricmains': 6, 'tattoos': 96, 'tcgte': 48, 'tea': 4, 'teaching': 23, 'tech': 50, 'technology': 685, 'techsupport': 46, 'techsupportgore': 266, 'techsupportmacgyver': 56, 'techtheatre': 1, 'teenagers': 245, 'telescopes': 39, 'tesco': 21, 'tesdcares': 0, 'teslamotors': 74, 'teslore': 7, 'texas': 22, 'tf2': 145, 'thalassophobia': 55, 'thatHappened': 252, 'thegrandtour': 41, 'thenetherlands': 1, 'theology': 14, 'therapy': 18, 'therewasanattempt': 276, 'thesopranos': 2, 'thewalkingdead': 88, 'theydidthemath': 249, 'thick': 23, 'thinkpad': 27, 'thinspo': 18, 'thisismylifenow': 348, 'tiltshift': 48, 'tipofmytongue': 183, 'toddlers': 40, 'tooktoomuch': 52, 'toronto': 3, 'torontoraptors': 8, 'torrents': 32, 'totalwar': 14, 'traaaaaaannnnnnnnnns': 53, 'traditionaltattoos': 18, 'trance': 32, 'transformers': 3, 'transgender': 40, 'transgendercirclejerk': 3, 'translator': 6, 'transpassing': 49, 'transpositive': 9, 'transtimelines': 14, 'trashpandas': 34, 'trashy': 448, 'trashyboners': 98, 'trashyladyboners': 44, 'travel': 6, 'trebuchetmemes': 9, 'trees': 219, 'tressless': 14, 'trippinthroughtime': 241, 'trondheim': 8, 'truecreepy': 44, 'truegaming': 162, 'truezelda': 21, 'tryingforanother': 27, 'tuckedinkitties': 15, 'tuesday': 24, 'tumblr': 316, 'turtle': 39, 'twinegames': 0, 'twrmod': 12, 'uBlockOrigin': 1, 'u_ItNeedsFood': 11, 'u_clarabelle_says': 7, 'u_totally_not_destiny': 80, 'u_washingtonpost': 32, 'ufc': 29, 'uknews': 27, 'ukpolitics': 200, 'undelete': 44, 'unitedkingdom': 172, 'unpopularopinion': 262, 'uofm': 1, 'urbanexploration': 56, 'userexperience': 21, 'uspolitics': 59, 'uwaterloo': 1, 'v8supercars': 2, 'vancouver': 9, 'vandwellers': 62, 'vegan': 258, 'vegancirclejerk': 6, 'veganrecipes': 17, 'vegetablegardening': 14, 'vegetarian': 68, 'vermont': 27, 'versailles_tv': 39, 'vexillology': 39, 'videogamescience': 29, 'vikingstv': 30, 'vinyl': 6, 'vipassana': 21, 'vitahacks': 4, 'vjing': 8, 'voyager': 44, 'wallstreetbets': 298, 'walmart': 11, 'waltonchain': 26, 'wargroove': 12, 'warriors': 27, 'washingtondc': 66, 'washingtonwizards': 41, 'watchpeopledie': 185, 'weather': 39, 'web_design': 32, 'webcomics': 55, 'webdev': 75, 'weddingplanning': 5, 'weeabootales': 80, 'weekendgunnit': 33, 'weightroom': 16, 'whatcarshouldIbuy': 29, 'whatif': 6, 'whatisthisthing': 125, 'whatstheword': 29, 'whatsthisbug': 29, 'wheredidthesodago': 19, 'whitepeoplegifs': 248, 'wholesomebpt': 241, 'wholesomegifs': 169, 'wholesomememes': 347, 'whowouldwin': 93, 'wiiu': 10, 'wikipedia': 22, 'wileyfox': 27, 'wine': 17, 'winterporn': 21, 'witcher': 169, 'wlu': 5, 'wlw_irl': 11, 'woahdude': 258, 'woodworking': 113, 'woof_irl': 78, 'woooosh': 31, 'worldbuilding': 54, 'worldofpvp': 5, 'worldpolitics': 139, 'wow': 195, 'wowservers': 16, 'wowthanksimcured': 31, 'writing': 74, 'wyoming': 17, 'xboxone': 243, 'xxfitness': 94, 'yesyesyesno': 118, 'yooper': 44, 'york': 16, 'youseeingthisshit': 267, 'youtubehaiku': 40, 'yuruyuri': 27, 'zelda': 253})"
      ]
     },
     "execution_count": 194,
     "metadata": {},
     "output_type": "execute_result"
    }
   ],
   "source": [
    "nx.degree(G)"
   ]
  },
  {
   "cell_type": "code",
   "execution_count": null,
   "metadata": {},
   "outputs": [],
   "source": []
  }
 ],
 "metadata": {
  "kernelspec": {
   "display_name": "Python 3",
   "language": "python",
   "name": "python3"
  },
  "language_info": {
   "codemirror_mode": {
    "name": "ipython",
    "version": 3
   },
   "file_extension": ".py",
   "mimetype": "text/x-python",
   "name": "python",
   "nbconvert_exporter": "python",
   "pygments_lexer": "ipython3",
   "version": "3.6.3"
  }
 },
 "nbformat": 4,
 "nbformat_minor": 2
}

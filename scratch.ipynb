{
 "cells": [
  {
   "cell_type": "code",
   "execution_count": 1,
   "metadata": {},
   "outputs": [],
   "source": [
    "%autoreload 2\n",
    "\n",
    "from VMTest import *\n",
    "import qgrid"
   ]
  },
  {
   "cell_type": "code",
   "execution_count": 2,
   "metadata": {},
   "outputs": [],
   "source": [
    "def removeAuthors(df):\n",
    "    skipAuthors = loadSQL('skipAuthors','reference')['0']\n",
    "    subset = df[~df['author'].isin(skipAuthors)].copy()\n",
    "    \n",
    "    return subset\n",
    "\n",
    "def getAuthorCounts(char, skipAuthors=False):\n",
    "    df = loadSQL(char, database_name, index_col='index')\n",
    "    counts = df.groupby('subreddit')['author'].count()\n",
    "    counts.name = char\n",
    "    \n",
    "    return counts\n",
    "\n",
    "def getTotal(countsList):\n",
    "    totals = pd.concat(countsList, axis=1)\n",
    "    totals.index.name = 'subreddit'\n",
    "    totals['TOTAL'] = totals.sum(axis=1)\n",
    "    totals.sort_values('TOTAL', ascending=False, inplace=True)\n",
    "    \n",
    "    return totals\n",
    "\n",
    "def getCommentTotals():\n",
    "    database_name = 'allEdges'\n",
    "    completed = checkCompleted(database_name)\n",
    "    engine = get_engine(database_name)\n",
    "\n",
    "    dfs = []\n",
    "    for char in completed:\n",
    "        query = \"\"\"\n",
    "        SELECT author, subreddit, weight FROM '{0}'\n",
    "        WHERE (author in\n",
    "                    (SELECT author FROM '{0}'\n",
    "                    WHERE (subreddit == '{1}') and\n",
    "                            (weight > 2)))\n",
    "            and (weight > 2)\n",
    "        \"\"\".format(char, subreddit)\n",
    "\n",
    "        data = pd.read_sql_query(query, engine)\n",
    "        dfs.append(data)\n",
    "    df = pd.concat(dfs)\n",
    "        \n",
    "    return df\n",
    "\n",
    "def getSubredditNetwork(subreddit):\n",
    "    database_name = 'allEdges'\n",
    "    completed = checkCompleted(database_name)\n",
    "    engine = get_engine(database_name)\n",
    "\n",
    "    dfs = []\n",
    "    for char in completed:\n",
    "        query = \"\"\"\n",
    "        SELECT author, subreddit, weight FROM '{0}'\n",
    "        WHERE (author in\n",
    "                    (SELECT author FROM '{0}'\n",
    "                    WHERE (subreddit == '{1}') and\n",
    "                            (weight > 2)))\n",
    "            and (weight > 2)\n",
    "        \"\"\".format(char, subreddit)\n",
    "\n",
    "        data = pd.read_sql_query(query, engine)\n",
    "        dfs.append(data)\n",
    "    df = pd.concat(dfs)\n",
    "        \n",
    "    return df\n",
    "\n",
    "def getCommentCounts(char, skipAuthors=False):\n",
    "    df = loadSQL(char, database_name, index_col='index')\n",
    "    if skipAuthors:\n",
    "        df = removeAuthors(df)\n",
    "        df = df[df['weight']>2]\n",
    "    counts = df.groupby('subreddit')['weight'].sum()\n",
    "    counts.name = char\n",
    "    \n",
    "    return counts\n",
    "\n",
    "def getSubredditCommentCounts(subreddit, skipAuthors=False):\n",
    "    df = getSubredditNetwork(subreddit)\n",
    "    if skipAuthors:\n",
    "        df = removeAuthors(df)\n",
    "    counts = df.groupby('subreddit')['weight'].sum().sort_values(ascending=False)\n",
    "    \n",
    "    return counts\n",
    "\n",
    "def scatter(df, x, y):\n",
    "    df.plot(x, y, kind='scatter');\n",
    "    \n",
    "def getRankComparison(rank, totalRank):\n",
    "    m = pd.merge(rank, totalRank, on='subreddit', suffixes=('','Total'), how='outer').fillna(0)\n",
    "    m['rankDiff'] = (m['rankTotal']+1)-m['rank'] # +1 discounts subreddit in first position\n",
    "    m['ratio'] = (m['weight'])/m['weightTotal'] # +1 for missing subreddits\n",
    "    \n",
    "    return m"
   ]
  },
  {
   "cell_type": "code",
   "execution_count": null,
   "metadata": {},
   "outputs": [],
   "source": [
    "database_name = 'allEdges'\n",
    "completed = checkCompleted(database_name)\n",
    "\n",
    "commentCounts = []\n",
    "\n",
    "for char in completed:\n",
    "    counts = getCommentCounts(char, skipAuthors=True)\n",
    "    commentCounts.append(counts)\n",
    "    \n",
    "totals = getTotal(commentCounts)\n",
    "totalRank= totals['TOTAL'].reset_index().reset_index()\n",
    "cols = ['rank','subreddit','weight']\n",
    "totalRank.columns = cols"
   ]
  },
  {
   "cell_type": "code",
   "execution_count": null,
   "metadata": {},
   "outputs": [],
   "source": [
    "subreddit = 'changemyview'\n",
    "df = getSubredditNetwork(subreddit)\n",
    "subset = removeAuthors(df)"
   ]
  },
  {
   "cell_type": "code",
   "execution_count": null,
   "metadata": {},
   "outputs": [],
   "source": [
    "counts = subset.groupby('subreddit')['weight'].sum().sort_values(ascending=False)\n",
    "rank = counts.reset_index().reset_index()\n",
    "\n",
    "cols = ['rank','subreddit','weight']\n",
    "rank.columns = cols\n",
    "cmv = getRankComparison(rank, totalRank)\n",
    "cmv = cmv[['subreddit','weight','weightTotal','ratio','rank','rankTotal','rankDiff']]"
   ]
  },
  {
   "cell_type": "code",
   "execution_count": null,
   "metadata": {},
   "outputs": [],
   "source": [
    "node_stats = project(subset)\n",
    "node_stats.sort_values('degree', ascending=False, inplace=True)"
   ]
  },
  {
   "cell_type": "code",
   "execution_count": null,
   "metadata": {},
   "outputs": [],
   "source": [
    "database_name = 'allEdges'\n",
    "completed = checkCompleted(database_name)\n",
    "engine = get_engine(database_name)\n",
    "\n",
    "dfs = []\n",
    "for char in completed:\n",
    "    query = \"\"\"\n",
    "    SELECT author, subreddit, weight FROM '{0}'\n",
    "    WHERE (weight > 2)\n",
    "    \"\"\".format(char)\n",
    "\n",
    "    data = pd.read_sql_query(query, engine)\n",
    "    subset = removeAuthors(data)\n",
    "    dfs.append(subset)\n",
    "allEdges = pd.concat(dfs)\n",
    "\n",
    "full_node_stats = project(allEdges)\n",
    "full_node_stats.sort_values('degree', ascending=False, inplace=True)"
   ]
  },
  {
   "cell_type": "markdown",
   "metadata": {},
   "source": [
    "# Entropy\n",
    "\n",
    "A measure of dispersion that considers the number of diverse objects as well as the relative weights"
   ]
  },
  {
   "cell_type": "code",
   "execution_count": 159,
   "metadata": {},
   "outputs": [],
   "source": [
    "def getEntropyDf(df, groupby):\n",
    "    weights = df.groupby(groupby)['weight'].apply(tuple)\n",
    "    w = pd.DataFrame({'weights':weights})\n",
    "    w['subreddits'] = subset.groupby('author')['subreddit'].apply(tuple)\n",
    "    w['entropy'] = w['weights'].apply(lambda x: sp.stats.entropy(x))\n",
    "    w['num_x'] = w['weights'].apply(lambda x: len(x))\n",
    "    w['num_comments'] = w['weights'].apply(lambda x: np.sum(x))\n",
    "    \n",
    "    w['log_x'] = np.log(w['num_x'])\n",
    "    w['log_comments'] = np.log(w['num_comments'])\n",
    "    \n",
    "    return w"
   ]
  },
  {
   "cell_type": "code",
   "execution_count": 132,
   "metadata": {},
   "outputs": [
    {
     "data": {
      "image/png": "[encoded data removed]",
      "text/plain": [
       "<matplotlib.figure.Figure at 0x127081a58>"
      ]
     },
     "metadata": {},
     "output_type": "display_data"
    }
   ],
   "source": [
    "author_entropy = getEntropyDf(subset, 'author')\n",
    "author_entropy.plot('log_comments','log_x',kind='scatter',color=author_entropy['entropy']);"
   ]
  },
  {
   "cell_type": "code",
   "execution_count": 133,
   "metadata": {},
   "outputs": [
    {
     "data": {
      "image/png": "[encoded data removed]",
      "text/plain": [
       "<matplotlib.figure.Figure at 0x127210ac8>"
      ]
     },
     "metadata": {},
     "output_type": "display_data"
    }
   ],
   "source": [
    "subreddit_entropy = getEntropyDf(subset, 'subreddit')\n",
    "subreddit_entropy.plot('log_comments','log_x',kind='scatter',color=subreddit_entropy['entropy']);"
   ]
  },
  {
   "cell_type": "markdown",
   "metadata": {},
   "source": [
    "Entropy is affected by the number of subreddits more than the total number of comments, so it is good to suggest the level of dispersion, whilst still considering the number of comments"
   ]
  },
  {
   "cell_type": "code",
   "execution_count": 146,
   "metadata": {},
   "outputs": [],
   "source": [
    "counts = subset.groupby('subreddit')['weight'].sum().sort_values(ascending=False)\n",
    "rank = counts.reset_index().reset_index()\n",
    "\n",
    "cols = ['rank','subreddit','weight']\n",
    "rank.columns = cols\n",
    "rank = rank.set_index('subreddit')"
   ]
  },
  {
   "cell_type": "code",
   "execution_count": 147,
   "metadata": {},
   "outputs": [],
   "source": [
    "rank['entropy'] = subreddit_entropy['entropy']"
   ]
  },
  {
   "cell_type": "code",
   "execution_count": 151,
   "metadata": {},
   "outputs": [
    {
     "data": {
      "image/png": "[encoded data removed]",
      "text/plain": [
       "<matplotlib.figure.Figure at 0x1286aa588>"
      ]
     },
     "metadata": {},
     "output_type": "display_data"
    }
   ],
   "source": [
    "scatter(rank, 'rank','entropy')"
   ]
  },
  {
   "cell_type": "markdown",
   "metadata": {},
   "source": [
    "## Author Entropy"
   ]
  },
  {
   "cell_type": "code",
   "execution_count": 226,
   "metadata": {},
   "outputs": [],
   "source": [
    "database_name = 'allEdges'\n",
    "completed = checkCompleted(database_name)\n",
    "engine = get_engine(database_name)\n",
    "\n",
    "\n",
    "subreddit = 'changemyview'\n",
    "char = 'a'\n",
    "query = \"\"\"\n",
    "SELECT author, subreddit, weight FROM '{0}'\n",
    "WHERE (weight > 2) and (author == '{1}')\n",
    "\"\"\".format(char, subreddit)\n",
    "\n",
    "df = pd.read_sql_query(query, engine)\n",
    "data = removeAuthors(df)"
   ]
  },
  {
   "cell_type": "code",
   "execution_count": null,
   "metadata": {},
   "outputs": [],
   "source": [
    "aAuthorEntropy = getEntropyDf(data, 'author')\n",
    "\n",
    "aCMV = aAuthorEntropy[aAuthorEntropy['subreddits'].apply(lambda x: True if \"changemyview\" in x else False)]\n",
    "aTD = aAuthorEntropy[aAuthorEntropy['subreddits'].apply(lambda x: True if \"The_Donald\" in x else False)]"
   ]
  },
  {
   "cell_type": "code",
   "execution_count": 210,
   "metadata": {},
   "outputs": [
    {
     "name": "stdout",
     "output_type": "stream",
     "text": [
      "the median entropy for all authors is 0.00\n",
      "the median entropy for CMV authors is 1.50\n",
      "the median entropy for TD authors is 0.83\n"
     ]
    }
   ],
   "source": [
    "print('the median entropy for all authors is {:,.2f}'.format(aAuthorEntropy.entropy.median()))\n",
    "print('the median entropy for CMV authors is {:,.2f}'.format(aCMV.entropy.median()))\n",
    "print('the median entropy for TD authors is {:,.2f}'.format(aTD.entropy.median()))"
   ]
  },
  {
   "cell_type": "code",
   "execution_count": 228,
   "metadata": {},
   "outputs": [],
   "source": [
    "query = \"\"\"\n",
    "SELECT author, subreddit, weight FROM '{0}'\n",
    "WHERE (weight > 2)\n",
    "\"\"\".format(char, subreddit)\n",
    "\n",
    "df = pd.read_sql_query(query, engine)\n",
    "total_data = removeAuthors(df)"
   ]
  },
  {
   "cell_type": "code",
   "execution_count": 303,
   "metadata": {},
   "outputs": [],
   "source": [
    "sample = list(total_data.subreddit.sample(100)) + ['changemyview', 'The_Donald']\n",
    "d = {}\n",
    "for sub in sample:\n",
    "    entropy_subset = aAuthorEntropy[aAuthorEntropy['subreddits'].apply(lambda x: True if sub in x else False)]\n",
    "    median_entropy = entropy_subset.entropy.median()\n",
    "    d[sub] = median_entropy"
   ]
  },
  {
   "cell_type": "code",
   "execution_count": 304,
   "metadata": {},
   "outputs": [
    {
     "data": {
      "image/png": "[encoded data removed]",
      "text/plain": [
       "<matplotlib.figure.Figure at 0x15c69e438>"
      ]
     },
     "metadata": {},
     "output_type": "display_data"
    }
   ],
   "source": [
    "import matplotlib.pyplot as plt\n",
    "%matplotlib inline\n",
    "\n",
    "s = pd.Series(d).sort_values()\n",
    "\n",
    "x = s[['changemyview','The_Donald']]\n",
    "xmin = 0\n",
    "\n",
    "y = [s.index.get_loc('changemyview'),s.index.get_loc('The_Donald')]\n",
    "ymin = 0\n",
    "\n",
    "colors = ['green','blue']\n",
    "\n",
    "fig, ax = plt.subplots()\n",
    "ax.hist(s, cumulative=True, color='grey', histtype='step', align='right')\n",
    "ax.vlines(x=x, ymin=ymin, ymax=y, colors=colors);\n",
    "ax.hlines(y=y, xmin=xmin, xmax=x, colors=colors, linestyles='dashed');"
   ]
  },
  {
   "cell_type": "code",
   "execution_count": 3,
   "metadata": {},
   "outputs": [
    {
     "name": "stdout",
     "output_type": "stream",
     "text": [
      "Object `sp.stats.entropy` not found.\n"
     ]
    }
   ],
   "source": [
    "import scipy as sp\n",
    "\n",
    "sp.stats.entropy?"
   ]
  },
  {
   "cell_type": "code",
   "execution_count": 305,
   "metadata": {},
   "outputs": [
    {
     "data": {
      "text/plain": [
       "(16287,)"
      ]
     },
     "execution_count": 305,
     "metadata": {},
     "output_type": "execute_result"
    }
   ],
   "source": [
    "total_data.subreddit.unique().shape"
   ]
  },
  {
   "cell_type": "code",
   "execution_count": 211,
   "metadata": {},
   "outputs": [
    {
     "data": {
      "image/png": "[encoded data removed]",
      "text/plain": [
       "<matplotlib.figure.Figure at 0x124f3d080>"
      ]
     },
     "metadata": {},
     "output_type": "display_data"
    }
   ],
   "source": [
    "scatter(aCMV, 'num_x','entropy')"
   ]
  },
  {
   "cell_type": "code",
   "execution_count": 212,
   "metadata": {},
   "outputs": [
    {
     "data": {
      "image/png": "[encoded data removed]",
      "text/plain": [
       "<matplotlib.figure.Figure at 0x12ac1e518>"
      ]
     },
     "metadata": {},
     "output_type": "display_data"
    }
   ],
   "source": [
    "scatter(aTD, 'num_x','entropy')"
   ]
  },
  {
   "cell_type": "markdown",
   "metadata": {},
   "source": [
    "## Subreddit Entropy"
   ]
  },
  {
   "cell_type": "code",
   "execution_count": 213,
   "metadata": {},
   "outputs": [
    {
     "data": {
      "text/html": [
       "<div>\n",
       "<style scoped>\n",
       "    .dataframe tbody tr th:only-of-type {\n",
       "        vertical-align: middle;\n",
       "    }\n",
       "\n",
       "    .dataframe tbody tr th {\n",
       "        vertical-align: top;\n",
       "    }\n",
       "\n",
       "    .dataframe thead th {\n",
       "        text-align: right;\n",
       "    }\n",
       "</style>\n",
       "<table border=\"1\" class=\"dataframe\">\n",
       "  <thead>\n",
       "    <tr style=\"text-align: right;\">\n",
       "      <th></th>\n",
       "      <th>weights</th>\n",
       "      <th>subreddits</th>\n",
       "      <th>entropy</th>\n",
       "      <th>num_x</th>\n",
       "      <th>num_comments</th>\n",
       "      <th>log_x</th>\n",
       "      <th>log_comments</th>\n",
       "    </tr>\n",
       "    <tr>\n",
       "      <th>subreddit</th>\n",
       "      <th></th>\n",
       "      <th></th>\n",
       "      <th></th>\n",
       "      <th></th>\n",
       "      <th></th>\n",
       "      <th></th>\n",
       "      <th></th>\n",
       "    </tr>\n",
       "  </thead>\n",
       "  <tbody>\n",
       "    <tr>\n",
       "      <th>0xProject</th>\n",
       "      <td>(4,)</td>\n",
       "      <td>NaN</td>\n",
       "      <td>0.00000</td>\n",
       "      <td>1</td>\n",
       "      <td>4</td>\n",
       "      <td>0.000000</td>\n",
       "      <td>1.386294</td>\n",
       "    </tr>\n",
       "    <tr>\n",
       "      <th>100movies365days</th>\n",
       "      <td>(3,)</td>\n",
       "      <td>NaN</td>\n",
       "      <td>0.00000</td>\n",
       "      <td>1</td>\n",
       "      <td>3</td>\n",
       "      <td>0.000000</td>\n",
       "      <td>1.098612</td>\n",
       "    </tr>\n",
       "    <tr>\n",
       "      <th>1200isplenty</th>\n",
       "      <td>(5, 3, 12, 3, 3, 3, 6, 19, 3)</td>\n",
       "      <td>NaN</td>\n",
       "      <td>1.91954</td>\n",
       "      <td>9</td>\n",
       "      <td>57</td>\n",
       "      <td>2.197225</td>\n",
       "      <td>4.043051</td>\n",
       "    </tr>\n",
       "    <tr>\n",
       "      <th>13451452251849519</th>\n",
       "      <td>(3,)</td>\n",
       "      <td>NaN</td>\n",
       "      <td>0.00000</td>\n",
       "      <td>1</td>\n",
       "      <td>3</td>\n",
       "      <td>0.000000</td>\n",
       "      <td>1.098612</td>\n",
       "    </tr>\n",
       "    <tr>\n",
       "      <th>13ReasonsWhy</th>\n",
       "      <td>(19,)</td>\n",
       "      <td>NaN</td>\n",
       "      <td>0.00000</td>\n",
       "      <td>1</td>\n",
       "      <td>19</td>\n",
       "      <td>0.000000</td>\n",
       "      <td>2.944439</td>\n",
       "    </tr>\n",
       "  </tbody>\n",
       "</table>\n",
       "</div>"
      ],
      "text/plain": [
       "                                         weights subreddits  entropy  num_x  \\\n",
       "subreddit                                                                     \n",
       "0xProject                                   (4,)        NaN  0.00000      1   \n",
       "100movies365days                            (3,)        NaN  0.00000      1   \n",
       "1200isplenty       (5, 3, 12, 3, 3, 3, 6, 19, 3)        NaN  1.91954      9   \n",
       "13451452251849519                           (3,)        NaN  0.00000      1   \n",
       "13ReasonsWhy                               (19,)        NaN  0.00000      1   \n",
       "\n",
       "                   num_comments     log_x  log_comments  \n",
       "subreddit                                                \n",
       "0xProject                     4  0.000000      1.386294  \n",
       "100movies365days              3  0.000000      1.098612  \n",
       "1200isplenty                 57  2.197225      4.043051  \n",
       "13451452251849519             3  0.000000      1.098612  \n",
       "13ReasonsWhy                 19  0.000000      2.944439  "
      ]
     },
     "execution_count": 213,
     "metadata": {},
     "output_type": "execute_result"
    }
   ],
   "source": [
    "subreddit_entropy.head()"
   ]
  },
  {
   "cell_type": "code",
   "execution_count": 215,
   "metadata": {},
   "outputs": [],
   "source": [
    "sCMV = subreddit_entropy"
   ]
  },
  {
   "cell_type": "code",
   "execution_count": 216,
   "metadata": {},
   "outputs": [
    {
     "data": {
      "text/plain": [
       "count    5626.000000\n",
       "mean        0.782052\n",
       "std         1.017915\n",
       "min         0.000000\n",
       "25%         0.000000\n",
       "50%         0.519580\n",
       "75%         1.268863\n",
       "max         7.652037\n",
       "Name: entropy, dtype: float64"
      ]
     },
     "execution_count": 216,
     "metadata": {},
     "output_type": "execute_result"
    }
   ],
   "source": [
    "sCMV.entropy.describe()"
   ]
  },
  {
   "cell_type": "code",
   "execution_count": 217,
   "metadata": {},
   "outputs": [],
   "source": [
    "sEntropy = getEntropyDf(data, 'subreddit')\n",
    "#sEntropy['authors'] = data.groupby('subreddit')['author'].apply(tuple)"
   ]
  },
  {
   "cell_type": "code",
   "execution_count": 218,
   "metadata": {},
   "outputs": [
    {
     "data": {
      "text/html": [
       "<div>\n",
       "<style scoped>\n",
       "    .dataframe tbody tr th:only-of-type {\n",
       "        vertical-align: middle;\n",
       "    }\n",
       "\n",
       "    .dataframe tbody tr th {\n",
       "        vertical-align: top;\n",
       "    }\n",
       "\n",
       "    .dataframe thead th {\n",
       "        text-align: right;\n",
       "    }\n",
       "</style>\n",
       "<table border=\"1\" class=\"dataframe\">\n",
       "  <thead>\n",
       "    <tr style=\"text-align: right;\">\n",
       "      <th></th>\n",
       "      <th>weights</th>\n",
       "      <th>subreddits</th>\n",
       "      <th>entropy</th>\n",
       "      <th>num_x</th>\n",
       "      <th>num_comments</th>\n",
       "      <th>log_x</th>\n",
       "      <th>log_comments</th>\n",
       "    </tr>\n",
       "    <tr>\n",
       "      <th>subreddit</th>\n",
       "      <th></th>\n",
       "      <th></th>\n",
       "      <th></th>\n",
       "      <th></th>\n",
       "      <th></th>\n",
       "      <th></th>\n",
       "      <th></th>\n",
       "    </tr>\n",
       "  </thead>\n",
       "  <tbody>\n",
       "    <tr>\n",
       "      <th>0xProject</th>\n",
       "      <td>(3, 4, 5, 6, 6, 7, 10)</td>\n",
       "      <td>NaN</td>\n",
       "      <td>1.883413</td>\n",
       "      <td>7</td>\n",
       "      <td>41</td>\n",
       "      <td>1.945910</td>\n",
       "      <td>3.713572</td>\n",
       "    </tr>\n",
       "    <tr>\n",
       "      <th>0xbitcoin</th>\n",
       "      <td>(6, 7)</td>\n",
       "      <td>NaN</td>\n",
       "      <td>0.690186</td>\n",
       "      <td>2</td>\n",
       "      <td>13</td>\n",
       "      <td>0.693147</td>\n",
       "      <td>2.564949</td>\n",
       "    </tr>\n",
       "    <tr>\n",
       "      <th>100thieves</th>\n",
       "      <td>(30, 3, 3, 3, 5, 6)</td>\n",
       "      <td>NaN</td>\n",
       "      <td>1.297599</td>\n",
       "      <td>6</td>\n",
       "      <td>50</td>\n",
       "      <td>1.791759</td>\n",
       "      <td>3.912023</td>\n",
       "    </tr>\n",
       "    <tr>\n",
       "      <th>1022</th>\n",
       "      <td>(4, 4, 4, 5, 9)</td>\n",
       "      <td>NaN</td>\n",
       "      <td>1.548183</td>\n",
       "      <td>5</td>\n",
       "      <td>26</td>\n",
       "      <td>1.609438</td>\n",
       "      <td>3.258097</td>\n",
       "    </tr>\n",
       "    <tr>\n",
       "      <th>1200isjerky</th>\n",
       "      <td>(40, 3, 3, 4, 4, 5)</td>\n",
       "      <td>NaN</td>\n",
       "      <td>1.140514</td>\n",
       "      <td>6</td>\n",
       "      <td>59</td>\n",
       "      <td>1.791759</td>\n",
       "      <td>4.077537</td>\n",
       "    </tr>\n",
       "  </tbody>\n",
       "</table>\n",
       "</div>"
      ],
      "text/plain": [
       "                            weights subreddits   entropy  num_x  num_comments  \\\n",
       "subreddit                                                                       \n",
       "0xProject    (3, 4, 5, 6, 6, 7, 10)        NaN  1.883413      7            41   \n",
       "0xbitcoin                    (6, 7)        NaN  0.690186      2            13   \n",
       "100thieves      (30, 3, 3, 3, 5, 6)        NaN  1.297599      6            50   \n",
       "1022                (4, 4, 4, 5, 9)        NaN  1.548183      5            26   \n",
       "1200isjerky     (40, 3, 3, 4, 4, 5)        NaN  1.140514      6            59   \n",
       "\n",
       "                log_x  log_comments  \n",
       "subreddit                            \n",
       "0xProject    1.945910      3.713572  \n",
       "0xbitcoin    0.693147      2.564949  \n",
       "100thieves   1.791759      3.912023  \n",
       "1022         1.609438      3.258097  \n",
       "1200isjerky  1.791759      4.077537  "
      ]
     },
     "execution_count": 218,
     "metadata": {},
     "output_type": "execute_result"
    }
   ],
   "source": [
    "sEntropy.head()"
   ]
  },
  {
   "cell_type": "code",
   "execution_count": 220,
   "metadata": {},
   "outputs": [
    {
     "data": {
      "text/plain": [
       "count    16482.000000\n",
       "mean         1.139672\n",
       "std          1.281558\n",
       "min          0.000000\n",
       "25%          0.000000\n",
       "50%          0.693147\n",
       "75%          1.891313\n",
       "max          8.701562\n",
       "Name: entropy, dtype: float64"
      ]
     },
     "execution_count": 220,
     "metadata": {},
     "output_type": "execute_result"
    }
   ],
   "source": [
    "sEntropy.entropy.describe()"
   ]
  },
  {
   "cell_type": "code",
   "execution_count": 221,
   "metadata": {},
   "outputs": [
    {
     "data": {
      "text/html": [
       "<div>\n",
       "<style scoped>\n",
       "    .dataframe tbody tr th:only-of-type {\n",
       "        vertical-align: middle;\n",
       "    }\n",
       "\n",
       "    .dataframe tbody tr th {\n",
       "        vertical-align: top;\n",
       "    }\n",
       "\n",
       "    .dataframe thead th {\n",
       "        text-align: right;\n",
       "    }\n",
       "</style>\n",
       "<table border=\"1\" class=\"dataframe\">\n",
       "  <thead>\n",
       "    <tr style=\"text-align: right;\">\n",
       "      <th></th>\n",
       "      <th>weights_total</th>\n",
       "      <th>subreddits_total</th>\n",
       "      <th>entropy_total</th>\n",
       "      <th>num_x_total</th>\n",
       "      <th>num_comments_total</th>\n",
       "      <th>log_x_total</th>\n",
       "      <th>log_comments_total</th>\n",
       "      <th>weights_CMV</th>\n",
       "      <th>subreddits_CMV</th>\n",
       "      <th>entropy_CMV</th>\n",
       "      <th>num_x_CMV</th>\n",
       "      <th>num_comments_CMV</th>\n",
       "      <th>log_x_CMV</th>\n",
       "      <th>log_comments_CMV</th>\n",
       "    </tr>\n",
       "    <tr>\n",
       "      <th>subreddit</th>\n",
       "      <th></th>\n",
       "      <th></th>\n",
       "      <th></th>\n",
       "      <th></th>\n",
       "      <th></th>\n",
       "      <th></th>\n",
       "      <th></th>\n",
       "      <th></th>\n",
       "      <th></th>\n",
       "      <th></th>\n",
       "      <th></th>\n",
       "      <th></th>\n",
       "      <th></th>\n",
       "      <th></th>\n",
       "    </tr>\n",
       "  </thead>\n",
       "  <tbody>\n",
       "    <tr>\n",
       "      <th>0xProject</th>\n",
       "      <td>(3, 4, 5, 6, 6, 7, 10)</td>\n",
       "      <td>NaN</td>\n",
       "      <td>1.883413</td>\n",
       "      <td>7</td>\n",
       "      <td>41</td>\n",
       "      <td>1.945910</td>\n",
       "      <td>3.713572</td>\n",
       "      <td>(4,)</td>\n",
       "      <td>NaN</td>\n",
       "      <td>0.00000</td>\n",
       "      <td>1</td>\n",
       "      <td>4</td>\n",
       "      <td>0.000000</td>\n",
       "      <td>1.386294</td>\n",
       "    </tr>\n",
       "    <tr>\n",
       "      <th>1200isplenty</th>\n",
       "      <td>(20, 15, 14, 22, 13, 26, 23, 44, 15, 16, 53, 3...</td>\n",
       "      <td>NaN</td>\n",
       "      <td>4.496973</td>\n",
       "      <td>127</td>\n",
       "      <td>998</td>\n",
       "      <td>4.844187</td>\n",
       "      <td>6.905753</td>\n",
       "      <td>(5, 3, 12, 3, 3, 3, 6, 19, 3)</td>\n",
       "      <td>NaN</td>\n",
       "      <td>1.91954</td>\n",
       "      <td>9</td>\n",
       "      <td>57</td>\n",
       "      <td>2.197225</td>\n",
       "      <td>4.043051</td>\n",
       "    </tr>\n",
       "    <tr>\n",
       "      <th>13451452251849519</th>\n",
       "      <td>(32, 17, 3, 3, 3, 4, 8)</td>\n",
       "      <td>NaN</td>\n",
       "      <td>1.517975</td>\n",
       "      <td>7</td>\n",
       "      <td>70</td>\n",
       "      <td>1.945910</td>\n",
       "      <td>4.248495</td>\n",
       "      <td>(3,)</td>\n",
       "      <td>NaN</td>\n",
       "      <td>0.00000</td>\n",
       "      <td>1</td>\n",
       "      <td>3</td>\n",
       "      <td>0.000000</td>\n",
       "      <td>1.098612</td>\n",
       "    </tr>\n",
       "    <tr>\n",
       "      <th>13ReasonsWhy</th>\n",
       "      <td>(3, 3, 4, 4, 5)</td>\n",
       "      <td>NaN</td>\n",
       "      <td>1.590270</td>\n",
       "      <td>5</td>\n",
       "      <td>19</td>\n",
       "      <td>1.609438</td>\n",
       "      <td>2.944439</td>\n",
       "      <td>(19,)</td>\n",
       "      <td>NaN</td>\n",
       "      <td>0.00000</td>\n",
       "      <td>1</td>\n",
       "      <td>19</td>\n",
       "      <td>0.000000</td>\n",
       "      <td>2.944439</td>\n",
       "    </tr>\n",
       "    <tr>\n",
       "      <th>13or30</th>\n",
       "      <td>(3, 4, 4, 6, 11, 12)</td>\n",
       "      <td>NaN</td>\n",
       "      <td>1.655568</td>\n",
       "      <td>6</td>\n",
       "      <td>40</td>\n",
       "      <td>1.791759</td>\n",
       "      <td>3.688879</td>\n",
       "      <td>(4,)</td>\n",
       "      <td>NaN</td>\n",
       "      <td>0.00000</td>\n",
       "      <td>1</td>\n",
       "      <td>4</td>\n",
       "      <td>0.000000</td>\n",
       "      <td>1.386294</td>\n",
       "    </tr>\n",
       "  </tbody>\n",
       "</table>\n",
       "</div>"
      ],
      "text/plain": [
       "                                                       weights_total  \\\n",
       "subreddit                                                              \n",
       "0xProject                                     (3, 4, 5, 6, 6, 7, 10)   \n",
       "1200isplenty       (20, 15, 14, 22, 13, 26, 23, 44, 15, 16, 53, 3...   \n",
       "13451452251849519                            (32, 17, 3, 3, 3, 4, 8)   \n",
       "13ReasonsWhy                                         (3, 3, 4, 4, 5)   \n",
       "13or30                                          (3, 4, 4, 6, 11, 12)   \n",
       "\n",
       "                  subreddits_total  entropy_total  num_x_total  \\\n",
       "subreddit                                                        \n",
       "0xProject                      NaN       1.883413            7   \n",
       "1200isplenty                   NaN       4.496973          127   \n",
       "13451452251849519              NaN       1.517975            7   \n",
       "13ReasonsWhy                   NaN       1.590270            5   \n",
       "13or30                         NaN       1.655568            6   \n",
       "\n",
       "                   num_comments_total  log_x_total  log_comments_total  \\\n",
       "subreddit                                                                \n",
       "0xProject                          41     1.945910            3.713572   \n",
       "1200isplenty                      998     4.844187            6.905753   \n",
       "13451452251849519                  70     1.945910            4.248495   \n",
       "13ReasonsWhy                       19     1.609438            2.944439   \n",
       "13or30                             40     1.791759            3.688879   \n",
       "\n",
       "                                     weights_CMV subreddits_CMV  entropy_CMV  \\\n",
       "subreddit                                                                      \n",
       "0xProject                                   (4,)            NaN      0.00000   \n",
       "1200isplenty       (5, 3, 12, 3, 3, 3, 6, 19, 3)            NaN      1.91954   \n",
       "13451452251849519                           (3,)            NaN      0.00000   \n",
       "13ReasonsWhy                               (19,)            NaN      0.00000   \n",
       "13or30                                      (4,)            NaN      0.00000   \n",
       "\n",
       "                   num_x_CMV  num_comments_CMV  log_x_CMV  log_comments_CMV  \n",
       "subreddit                                                                    \n",
       "0xProject                  1                 4   0.000000          1.386294  \n",
       "1200isplenty               9                57   2.197225          4.043051  \n",
       "13451452251849519          1                 3   0.000000          1.098612  \n",
       "13ReasonsWhy               1                19   0.000000          2.944439  \n",
       "13or30                     1                 4   0.000000          1.386294  "
      ]
     },
     "execution_count": 221,
     "metadata": {},
     "output_type": "execute_result"
    }
   ],
   "source": [
    "m = pd.merge(sEntropy, sCMV, right_index=True, left_index=True, how='inner',suffixes=['_total','_CMV'])\n",
    "m.head()"
   ]
  },
  {
   "cell_type": "code",
   "execution_count": 222,
   "metadata": {},
   "outputs": [
    {
     "data": {
      "image/png": "[encoded data removed]",
      "text/plain": [
       "<matplotlib.figure.Figure at 0x1289a45f8>"
      ]
     },
     "metadata": {},
     "output_type": "display_data"
    }
   ],
   "source": [
    "scatter(m, 'entropy_total','entropy_CMV')"
   ]
  },
  {
   "cell_type": "code",
   "execution_count": 224,
   "metadata": {},
   "outputs": [
    {
     "data": {
      "text/html": [
       "<div>\n",
       "<style scoped>\n",
       "    .dataframe tbody tr th:only-of-type {\n",
       "        vertical-align: middle;\n",
       "    }\n",
       "\n",
       "    .dataframe tbody tr th {\n",
       "        vertical-align: top;\n",
       "    }\n",
       "\n",
       "    .dataframe thead th {\n",
       "        text-align: right;\n",
       "    }\n",
       "</style>\n",
       "<table border=\"1\" class=\"dataframe\">\n",
       "  <thead>\n",
       "    <tr style=\"text-align: right;\">\n",
       "      <th></th>\n",
       "      <th>weights_total</th>\n",
       "      <th>subreddits_total</th>\n",
       "      <th>entropy_total</th>\n",
       "      <th>num_x_total</th>\n",
       "      <th>num_comments_total</th>\n",
       "      <th>log_x_total</th>\n",
       "      <th>log_comments_total</th>\n",
       "      <th>weights_CMV</th>\n",
       "      <th>subreddits_CMV</th>\n",
       "      <th>entropy_CMV</th>\n",
       "      <th>num_x_CMV</th>\n",
       "      <th>num_comments_CMV</th>\n",
       "      <th>log_x_CMV</th>\n",
       "      <th>log_comments_CMV</th>\n",
       "    </tr>\n",
       "    <tr>\n",
       "      <th>subreddit</th>\n",
       "      <th></th>\n",
       "      <th></th>\n",
       "      <th></th>\n",
       "      <th></th>\n",
       "      <th></th>\n",
       "      <th></th>\n",
       "      <th></th>\n",
       "      <th></th>\n",
       "      <th></th>\n",
       "      <th></th>\n",
       "      <th></th>\n",
       "      <th></th>\n",
       "      <th></th>\n",
       "      <th></th>\n",
       "    </tr>\n",
       "  </thead>\n",
       "  <tbody>\n",
       "    <tr>\n",
       "      <th>TMBR</th>\n",
       "      <td>(5,)</td>\n",
       "      <td>NaN</td>\n",
       "      <td>0.0</td>\n",
       "      <td>1</td>\n",
       "      <td>5</td>\n",
       "      <td>0.0</td>\n",
       "      <td>1.609438</td>\n",
       "      <td>(12, 5, 3, 12, 3, 6)</td>\n",
       "      <td>NaN</td>\n",
       "      <td>1.639738</td>\n",
       "      <td>6</td>\n",
       "      <td>41</td>\n",
       "      <td>1.791759</td>\n",
       "      <td>3.713572</td>\n",
       "    </tr>\n",
       "    <tr>\n",
       "      <th>highthoughts</th>\n",
       "      <td>(3,)</td>\n",
       "      <td>NaN</td>\n",
       "      <td>0.0</td>\n",
       "      <td>1</td>\n",
       "      <td>3</td>\n",
       "      <td>0.0</td>\n",
       "      <td>1.098612</td>\n",
       "      <td>(3, 5, 3, 5)</td>\n",
       "      <td>NaN</td>\n",
       "      <td>1.354710</td>\n",
       "      <td>4</td>\n",
       "      <td>16</td>\n",
       "      <td>1.386294</td>\n",
       "      <td>2.772589</td>\n",
       "    </tr>\n",
       "    <tr>\n",
       "      <th>LessCredibleDefence</th>\n",
       "      <td>(4,)</td>\n",
       "      <td>NaN</td>\n",
       "      <td>0.0</td>\n",
       "      <td>1</td>\n",
       "      <td>4</td>\n",
       "      <td>0.0</td>\n",
       "      <td>1.386294</td>\n",
       "      <td>(16, 5, 10, 17)</td>\n",
       "      <td>NaN</td>\n",
       "      <td>1.296220</td>\n",
       "      <td>4</td>\n",
       "      <td>48</td>\n",
       "      <td>1.386294</td>\n",
       "      <td>3.871201</td>\n",
       "    </tr>\n",
       "    <tr>\n",
       "      <th>WordAvalanches</th>\n",
       "      <td>(3,)</td>\n",
       "      <td>NaN</td>\n",
       "      <td>0.0</td>\n",
       "      <td>1</td>\n",
       "      <td>3</td>\n",
       "      <td>0.0</td>\n",
       "      <td>1.098612</td>\n",
       "      <td>(4, 3, 9, 4)</td>\n",
       "      <td>NaN</td>\n",
       "      <td>1.287672</td>\n",
       "      <td>4</td>\n",
       "      <td>20</td>\n",
       "      <td>1.386294</td>\n",
       "      <td>2.995732</td>\n",
       "    </tr>\n",
       "    <tr>\n",
       "      <th>ideasforcmv</th>\n",
       "      <td>(11,)</td>\n",
       "      <td>NaN</td>\n",
       "      <td>0.0</td>\n",
       "      <td>1</td>\n",
       "      <td>11</td>\n",
       "      <td>0.0</td>\n",
       "      <td>2.397895</td>\n",
       "      <td>(11, 4, 3, 3)</td>\n",
       "      <td>NaN</td>\n",
       "      <td>1.210537</td>\n",
       "      <td>4</td>\n",
       "      <td>21</td>\n",
       "      <td>1.386294</td>\n",
       "      <td>3.044522</td>\n",
       "    </tr>\n",
       "  </tbody>\n",
       "</table>\n",
       "</div>"
      ],
      "text/plain": [
       "                    weights_total subreddits_total  entropy_total  \\\n",
       "subreddit                                                           \n",
       "TMBR                         (5,)              NaN            0.0   \n",
       "highthoughts                 (3,)              NaN            0.0   \n",
       "LessCredibleDefence          (4,)              NaN            0.0   \n",
       "WordAvalanches               (3,)              NaN            0.0   \n",
       "ideasforcmv                 (11,)              NaN            0.0   \n",
       "\n",
       "                     num_x_total  num_comments_total  log_x_total  \\\n",
       "subreddit                                                           \n",
       "TMBR                           1                   5          0.0   \n",
       "highthoughts                   1                   3          0.0   \n",
       "LessCredibleDefence            1                   4          0.0   \n",
       "WordAvalanches                 1                   3          0.0   \n",
       "ideasforcmv                    1                  11          0.0   \n",
       "\n",
       "                     log_comments_total           weights_CMV subreddits_CMV  \\\n",
       "subreddit                                                                      \n",
       "TMBR                           1.609438  (12, 5, 3, 12, 3, 6)            NaN   \n",
       "highthoughts                   1.098612          (3, 5, 3, 5)            NaN   \n",
       "LessCredibleDefence            1.386294       (16, 5, 10, 17)            NaN   \n",
       "WordAvalanches                 1.098612          (4, 3, 9, 4)            NaN   \n",
       "ideasforcmv                    2.397895         (11, 4, 3, 3)            NaN   \n",
       "\n",
       "                     entropy_CMV  num_x_CMV  num_comments_CMV  log_x_CMV  \\\n",
       "subreddit                                                                  \n",
       "TMBR                    1.639738          6                41   1.791759   \n",
       "highthoughts            1.354710          4                16   1.386294   \n",
       "LessCredibleDefence     1.296220          4                48   1.386294   \n",
       "WordAvalanches          1.287672          4                20   1.386294   \n",
       "ideasforcmv             1.210537          4                21   1.386294   \n",
       "\n",
       "                     log_comments_CMV  \n",
       "subreddit                              \n",
       "TMBR                         3.713572  \n",
       "highthoughts                 2.772589  \n",
       "LessCredibleDefence          3.871201  \n",
       "WordAvalanches               2.995732  \n",
       "ideasforcmv                  3.044522  "
      ]
     },
     "execution_count": 224,
     "metadata": {},
     "output_type": "execute_result"
    }
   ],
   "source": [
    "m.sort_values(['entropy_total','entropy_CMV'], ascending=[True,False]).head()"
   ]
  },
  {
   "cell_type": "code",
   "execution_count": 10,
   "metadata": {},
   "outputs": [
    {
     "data": {
      "text/html": [
       "<div>\n",
       "<style scoped>\n",
       "    .dataframe tbody tr th:only-of-type {\n",
       "        vertical-align: middle;\n",
       "    }\n",
       "\n",
       "    .dataframe tbody tr th {\n",
       "        vertical-align: top;\n",
       "    }\n",
       "\n",
       "    .dataframe thead th {\n",
       "        text-align: right;\n",
       "    }\n",
       "</style>\n",
       "<table border=\"1\" class=\"dataframe\">\n",
       "  <thead>\n",
       "    <tr style=\"text-align: right;\">\n",
       "      <th></th>\n",
       "      <th>defaults</th>\n",
       "    </tr>\n",
       "    <tr>\n",
       "      <th>index</th>\n",
       "      <th></th>\n",
       "    </tr>\n",
       "  </thead>\n",
       "  <tbody>\n",
       "    <tr>\n",
       "      <th>0</th>\n",
       "      <td>Art</td>\n",
       "    </tr>\n",
       "    <tr>\n",
       "      <th>1</th>\n",
       "      <td>AskReddit</td>\n",
       "    </tr>\n",
       "    <tr>\n",
       "      <th>2</th>\n",
       "      <td>DIY</td>\n",
       "    </tr>\n",
       "    <tr>\n",
       "      <th>3</th>\n",
       "      <td>Documentaries</td>\n",
       "    </tr>\n",
       "    <tr>\n",
       "      <th>4</th>\n",
       "      <td>EarthPorn</td>\n",
       "    </tr>\n",
       "  </tbody>\n",
       "</table>\n",
       "</div>"
      ],
      "text/plain": [
       "            defaults\n",
       "index               \n",
       "0                Art\n",
       "1          AskReddit\n",
       "2                DIY\n",
       "3      Documentaries\n",
       "4          EarthPorn"
      ]
     },
     "execution_count": 10,
     "metadata": {},
     "output_type": "execute_result"
    }
   ],
   "source": [
    "from VMTest import *\n",
    "\n",
    "def saveSQL(df, table_name, database_name, **kwargs):\n",
    "    engine = get_engine(database_name=database_name)\n",
    "    df.to_sql(name=table_name, con=engine,  **kwargs)\n",
    "    \n",
    "def loadSQL(table_name, database_name, index_col='index'):\n",
    "    engine = get_engine(database_name=database_name)\n",
    "    df = pd.read_sql_table(table_name=table_name, con=engine, index_col=index_col)\n",
    "    \n",
    "    return df\n",
    "\n",
    "\n",
    "ra = loadSQL('defaults','reference')\n",
    "ra.head()"
   ]
  },
  {
   "cell_type": "code",
   "execution_count": 16,
   "metadata": {},
   "outputs": [],
   "source": [
    "saveSQL(ra, 'defaults','allEdges', if_exists='replace')"
   ]
  },
  {
   "cell_type": "code",
   "execution_count": 15,
   "metadata": {},
   "outputs": [
    {
     "data": {
      "text/html": [
       "<div>\n",
       "<style scoped>\n",
       "    .dataframe tbody tr th:only-of-type {\n",
       "        vertical-align: middle;\n",
       "    }\n",
       "\n",
       "    .dataframe tbody tr th {\n",
       "        vertical-align: top;\n",
       "    }\n",
       "\n",
       "    .dataframe thead th {\n",
       "        text-align: right;\n",
       "    }\n",
       "</style>\n",
       "<table border=\"1\" class=\"dataframe\">\n",
       "  <thead>\n",
       "    <tr style=\"text-align: right;\">\n",
       "      <th></th>\n",
       "      <th>subreddit</th>\n",
       "    </tr>\n",
       "    <tr>\n",
       "      <th>index</th>\n",
       "      <th></th>\n",
       "    </tr>\n",
       "  </thead>\n",
       "  <tbody>\n",
       "    <tr>\n",
       "      <th>0</th>\n",
       "      <td>Art</td>\n",
       "    </tr>\n",
       "    <tr>\n",
       "      <th>1</th>\n",
       "      <td>AskReddit</td>\n",
       "    </tr>\n",
       "    <tr>\n",
       "      <th>2</th>\n",
       "      <td>DIY</td>\n",
       "    </tr>\n",
       "    <tr>\n",
       "      <th>3</th>\n",
       "      <td>Documentaries</td>\n",
       "    </tr>\n",
       "    <tr>\n",
       "      <th>4</th>\n",
       "      <td>EarthPorn</td>\n",
       "    </tr>\n",
       "  </tbody>\n",
       "</table>\n",
       "</div>"
      ],
      "text/plain": [
       "           subreddit\n",
       "index               \n",
       "0                Art\n",
       "1          AskReddit\n",
       "2                DIY\n",
       "3      Documentaries\n",
       "4          EarthPorn"
      ]
     },
     "execution_count": 15,
     "metadata": {},
     "output_type": "execute_result"
    }
   ],
   "source": [
    "ra.columns = ['subreddit']\n",
    "ra.head()"
   ]
  },
  {
   "cell_type": "code",
   "execution_count": null,
   "metadata": {},
   "outputs": [],
   "source": []
  }
 ],
 "metadata": {
  "kernelspec": {
   "display_name": "Python 3",
   "language": "python",
   "name": "python3"
  },
  "language_info": {
   "codemirror_mode": {
    "name": "ipython",
    "version": 3
   },
   "file_extension": ".py",
   "mimetype": "text/x-python",
   "name": "python",
   "nbconvert_exporter": "python",
   "pygments_lexer": "ipython3",
   "version": "3.6.3"
  }
 },
 "nbformat": 4,
 "nbformat_minor": 2
}

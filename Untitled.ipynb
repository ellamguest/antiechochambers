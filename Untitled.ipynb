{
 "cells": [
  {
   "cell_type": "code",
   "execution_count": 3,
   "metadata": {},
   "outputs": [],
   "source": [
    "from google.cloud import bigquery\n",
    "import pandas as pd\n",
    "from tqdm import tqdm\n",
    "from pathlib import Path\n",
    "\n",
    "\"\"\"BIG QUERY FUNCTIONS\"\"\"\n",
    "\n",
    "def client():\n",
    "    \"\"\"require a bigquery project and credentials, save in json in root main directory\"\"\"\n",
    "    credsfile = Path().resolve().joinpath('antiechochambers-1ba7f7f4c68e.json')\n",
    "    return bigquery.Client.from_service_account_json(credsfile)\n",
    "\n",
    "def jobConfig():\n",
    "    config = bigquery.QueryJobConfig()\n",
    "    config.query_parameters = (bigquery.ScalarQueryParameter('size', 'INT64', 10),)\n",
    "    config.use_legacy_sql = False\n",
    "    config.maximum_bytes_billed = int(5e9)\n",
    "    \n",
    "    return config\n",
    "\n",
    "def run_job(query):\n",
    "    print('Submitting query')\n",
    "    j = client().query(query=query, job_config=jobConfig())\n",
    "    with tqdm() as pbar:\n",
    "        while True:\n",
    "            try:\n",
    "                j.result(timeout=1)\n",
    "            except TimeoutError:                \n",
    "                pbar.update(1)\n",
    "            else:\n",
    "                break\n",
    "    return j\n",
    "\n",
    "def fetchQuery(query):\n",
    "    j = run_job(query)\n",
    "    df = j.to_dataframe()\n",
    "    \n",
    "    return df\n",
    "\n",
    "def fetchSubList():\n",
    "    \"\"\"should create bot table to call on\"\"\"\n",
    "    query = f\"\"\"SELECT *\n",
    "                 FROM `aerobic-datum-126519.sms_18_sample_subreddits.randomSubreddits`\n",
    "                 \"\"\"\n",
    "\n",
    "    data = fetchQuery(query)\n",
    "    \n",
    "    return data"
   ]
  },
  {
   "cell_type": "code",
   "execution_count": 4,
   "metadata": {},
   "outputs": [
    {
     "name": "stdout",
     "output_type": "stream",
     "text": [
      "Submitting query\n"
     ]
    },
    {
     "name": "stderr",
     "output_type": "stream",
     "text": [
      "0it [00:00, ?it/s]\n"
     ]
    },
    {
     "data": {
      "text/plain": [
       "(1000, 2)"
      ]
     },
     "execution_count": 4,
     "metadata": {},
     "output_type": "execute_result"
    }
   ],
   "source": [
    "sublist = fetchSubList()"
   ]
  },
  {
   "cell_type": "code",
   "execution_count": 5,
   "metadata": {},
   "outputs": [
    {
     "name": "stdout",
     "output_type": "stream",
     "text": [
      "(1000, 2)\n"
     ]
    }
   ],
   "source": [
    "from google.cloud import bigquery\n",
    "import pandas as pd\n",
    "from tqdm import tqdm\n",
    "import numpy as np\n",
    "import json\n",
    "from pathlib import Path\n",
    "import glob\n",
    "import numpy as np"
   ]
  },
  {
   "cell_type": "markdown",
   "metadata": {},
   "source": [
    "### getting package requirements"
   ]
  },
  {
   "cell_type": "code",
   "execution_count": 32,
   "metadata": {},
   "outputs": [],
   "source": [
    "! pip freeze | grep -e pandas -e google -e tqdm -e pathlib -e numpy -e json -e glob -e scipy > requirements.txt"
   ]
  },
  {
   "cell_type": "code",
   "execution_count": 20,
   "metadata": {},
   "outputs": [],
   "source": [
    "import boto3"
   ]
  },
  {
   "cell_type": "code",
   "execution_count": 19,
   "metadata": {},
   "outputs": [
    {
     "name": "stdout",
     "output_type": "stream",
     "text": [
      "Fetching package metadata .............\n",
      "Solving package specifications: .\n",
      "\n",
      "Package plan for installation in environment //anaconda/envs/python3.6:\n",
      "\n",
      "The following NEW packages will be INSTALLED:\n",
      "\n",
      "    boto3:      1.7.24-py_0   conda-forge\n",
      "    botocore:   1.10.24-py_0  conda-forge\n",
      "    jmespath:   0.9.3-py36_0  conda-forge\n",
      "    s3transfer: 0.1.13-py36_0 conda-forge\n",
      "\n",
      "jmespath-0.9.3 100% |################################| Time: 0:00:00 188.89 kB/s\n",
      "botocore-1.10. 100% |################################| Time: 0:00:01   2.50 MB/s\n",
      "s3transfer-0.1 100% |################################| Time: 0:00:00   7.70 MB/s\n",
      "boto3-1.7.24-p 100% |################################| Time: 0:00:00   6.78 MB/s\n"
     ]
    }
   ],
   "source": [
    "! conda install boto3 -y"
   ]
  },
  {
   "cell_type": "code",
   "execution_count": 25,
   "metadata": {},
   "outputs": [],
   "source": [
    "import boto3\n",
    "\n",
    "client = boto3.client('ec2')\n",
    "\n",
    "ec2 = boto3.resource('ec2')\n",
    "instance_id = 'i-07af7a3b7c5558d11'\n",
    "instance = ec2.Instance(instance_id)"
   ]
  },
  {
   "cell_type": "code",
   "execution_count": 21,
   "metadata": {},
   "outputs": [
    {
     "name": "stdout",
     "output_type": "stream",
     "text": [
      "{'Reservations': [], 'ResponseMetadata': {'RequestId': '08f6878d-fb61-4690-932f-3ec32668ec5e', 'HTTPStatusCode': 200, 'HTTPHeaders': {'content-type': 'text/xml;charset=UTF-8', 'transfer-encoding': 'chunked', 'vary': 'Accept-Encoding', 'date': 'Mon, 21 May 2018 13:05:51 GMT', 'server': 'AmazonEC2'}, 'RetryAttempts': 0}}\n"
     ]
    }
   ],
   "source": [
    "import boto3\n",
    "\n",
    "ec2 = boto3.client('ec2')\n",
    "response = ec2.describe_instances()\n",
    "print(response)"
   ]
  },
  {
   "cell_type": "code",
   "execution_count": 22,
   "metadata": {},
   "outputs": [],
   "source": [
    "instance_id = 'i-07af7a3b7c5558d11'"
   ]
  },
  {
   "cell_type": "code",
   "execution_count": 26,
   "metadata": {},
   "outputs": [
    {
     "data": {
      "text/plain": [
       "ec2.Instance(id='i-07af7a3b7c5558d11')"
      ]
     },
     "execution_count": 26,
     "metadata": {},
     "output_type": "execute_result"
    }
   ],
   "source": [
    "instance"
   ]
  },
  {
   "cell_type": "code",
   "execution_count": 27,
   "metadata": {},
   "outputs": [
    {
     "data": {
      "text/plain": [
       "\u001b[0;31mType:\u001b[0m            ec2.Instance\n",
       "\u001b[0;31mString form:\u001b[0m     ec2.Instance(id='i-07af7a3b7c5558d11')\n",
       "\u001b[0;31mFile:\u001b[0m            //anaconda/envs/python3.6/lib/python3.6/site-packages/boto3/resources/factory.py\n",
       "\u001b[0;31mDocstring:\u001b[0m       <no docstring>\n",
       "\u001b[0;31mClass docstring:\u001b[0m\n",
       "A base class for resources.\n",
       "\n",
       ":type client: botocore.client\n",
       ":param client: A low-level Botocore client instance\n"
      ]
     },
     "metadata": {},
     "output_type": "display_data"
    }
   ],
   "source": [
    "instance??"
   ]
  },
  {
   "cell_type": "code",
   "execution_count": 29,
   "metadata": {},
   "outputs": [
    {
     "name": "stdout",
     "output_type": "stream",
     "text": [
      "{'KeyPairs': [{'KeyFingerprint': '1e:eb:ba:a4:d7:90:e5:ae:0d:9f:c5:90:58:29:8f:b2:53:a1:94:d3', 'KeyName': 'ella-1'}], 'ResponseMetadata': {'RequestId': 'f1cc3390-e672-4b8a-b63e-4eb970f5dfe2', 'HTTPStatusCode': 200, 'HTTPHeaders': {'content-type': 'text/xml;charset=UTF-8', 'content-length': '408', 'date': 'Mon, 21 May 2018 13:08:45 GMT', 'server': 'AmazonEC2'}, 'RetryAttempts': 0}}\n"
     ]
    }
   ],
   "source": [
    "ec2 = boto3.client('ec2')\n",
    "response = ec2.describe_key_pairs()\n",
    "print(response)"
   ]
  },
  {
   "cell_type": "code",
   "execution_count": null,
   "metadata": {},
   "outputs": [],
   "source": [
    "instance."
   ]
  }
 ],
 "metadata": {
  "kernelspec": {
   "display_name": "Python 3",
   "language": "python",
   "name": "python3"
  },
  "language_info": {
   "codemirror_mode": {
    "name": "ipython",
    "version": 3
   },
   "file_extension": ".py",
   "mimetype": "text/x-python",
   "name": "python",
   "nbconvert_exporter": "python",
   "pygments_lexer": "ipython3",
   "version": "3.6.3"
  }
 },
 "nbformat": 4,
 "nbformat_minor": 2
}

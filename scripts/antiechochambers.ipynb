{
 "cells": [
  {
   "cell_type": "markdown",
   "metadata": {},
   "source": [
    "# Literature Review"
   ]
  },
  {
   "cell_type": "code",
   "execution_count": 3,
   "metadata": {},
   "outputs": [],
   "source": [
    "from pathlib import Path\n",
    "\n",
    "data_file = lambda filename: Path().resolve().parent.joinpath(*['data', filename])\n",
    "cache_file = lambda filename: Path().resolve().parent.joinpath(*['cache', filename])\n",
    "figure_file = lambda filename: Path().resolve().parent.joinpath(*['figures', filename])\n",
    "\n",
    "def createDirectories():\n",
    "    DATA = Path().resolve().parent.joinpath('data')\n",
    "    CACHE = Path().resolve().parent.joinpath('cache')\n",
    "    FIGURES = Path().resolve().parent.joinpath('figures')\n",
    "    for directory in [DATA, CACHE, FIGURES]:\n",
    "        try:\n",
    "            directory.mkdir()\n",
    "            print('directory created')\n",
    "        except FileExistsError:\n",
    "            print('directory already exists')"
   ]
  },
  {
   "cell_type": "code",
   "execution_count": 4,
   "metadata": {},
   "outputs": [],
   "source": [
    "from google.cloud import bigquery\n",
    "import pandas as pd\n",
    "from tqdm import tqdm\n",
    "from google.cloud import bigquery\n",
    "from concurrent.futures import TimeoutError\n",
    "import os\n",
    "import numpy as np\n",
    "import json\n",
    "\n",
    "\"\"\"BIG QUERY FUNCTIONS\"\"\"\n",
    "\n",
    "def client():\n",
    "    \"\"\"require a bigquery project and credentials, save in json in root main directory\"\"\"\n",
    "    credsfile = Path().resolve().parent.joinpath('credentials.json')\n",
    "    creds = json.load(open(credsfile))\n",
    "    PROJECT = creds[\"PROJECT\"]\n",
    "    CREDENTIALS = Path().resolve().parent.joinpath(creds[\"CREDENTIALS\"])\n",
    "    return bigquery.Client.from_service_account_json(CREDENTIALS, project=PROJECT)\n",
    "\n",
    "def jobConfig():\n",
    "    config = bigquery.QueryJobConfig()\n",
    "    config.query_parameters = (bigquery.ScalarQueryParameter('size', 'INT64', 10),)\n",
    "    config.use_legacy_sql = False\n",
    "    config.maximum_bytes_billed = int(5e9)\n",
    "    \n",
    "    return config\n",
    "\n",
    "def run_job(query):\n",
    "    print('Submitting query')\n",
    "    j = client().query(query=query, job_config=jobConfig())\n",
    "    with tqdm() as pbar:\n",
    "        while True:\n",
    "            try:\n",
    "                j.result(timeout=1)\n",
    "            except TimeoutError:                \n",
    "                pbar.update(1)\n",
    "            else:\n",
    "                break\n",
    "    return j\n",
    "\n",
    "def unpack_results(j):\n",
    "    print('Unpacking results')\n",
    "    \n",
    "    total = j.query_results().total_rows\n",
    "    \n",
    "    iterator = j.result()\n",
    "    rows = []\n",
    "    for row in tqdm(iterator, total=total):\n",
    "        rows.append(row.values())\n",
    "    \n",
    "    columns = [c.name for c in iterator.schema]\n",
    "    df = pd.DataFrame(rows, None, columns)\n",
    "    \n",
    "    return df\n",
    "\n",
    "\n",
    "def fetchQuery(query):\n",
    "    j = run_job(query)\n",
    "    df = unpack_results(j)\n",
    "    \n",
    "    return df"
   ]
  },
  {
   "cell_type": "code",
   "execution_count": 6,
   "metadata": {},
   "outputs": [],
   "source": [
    "def getSampleSubreddits(LIMIT=1000):\n",
    "    query = \"\"\"SELECT subreddit, COUNT(*) as comment_count\n",
    "                FROM `fh-bigquery.reddit_comments.2017_06`\n",
    "                WHERE subreddit NOT IN ('The_Donald', 'changemyview')\n",
    "                GROUP By subreddit\n",
    "                HAVING COUNT(*) >= 1000\n",
    "                ORDER BY RAND()\n",
    "                LIMIT {}\"\"\".format(LIMIT)\n",
    "\n",
    "    df = fetchQuery(query)\n",
    "    df.to_csv(data_file('sampleSubreddits.csv'))\n",
    "    \n",
    "def getSubredditInCounts(nSampleSubreddits=100):\n",
    "    sampleSubreddits = pd.read_csv(data_file('sampleSubreddits.csv'))\n",
    "    subs = set(['The_Donald', 'changemyview'] + list(sampleSubreddits['subreddit'].sample(nSampleSubreddits)))\n",
    "    names = \"'\" + \"','\".join(subs)+ \"'\"\n",
    "    query = \"\"\"SELECT subreddit, author, COUNT(*) as count\n",
    "                    FROM `fh-bigquery.reddit_comments.2017_06`\n",
    "                    WHERE (subreddit IN ({})) and (author NOT IN ('[deleted]'))\n",
    "                    GROUP BY subreddit, author\"\"\".format(names)\n",
    "\n",
    "    df = fetchQuery(query)\n",
    "    df.to_csv(data_file('sampleSubredditInCounts.csv'))\n",
    "    \n",
    "def fetchAllCounts():\n",
    "    inCounts = pd.read_csv(data_file('SubredditInCounts.csv'), index_col=0)\n",
    "\n",
    "    authors = list(inCounts['author'].unique())\n",
    "    blocks = [15000*n for n in range (0,int(len(authors)+1/15000))]\n",
    "    ranges = list(zip(blocks, blocks[1:]))\n",
    "\n",
    "    chunks = []\n",
    "    for r in ranges:\n",
    "        start, end = r\n",
    "        chunks.append(authors[start:end])\n",
    "    chunks.append(authors[blocks[-1]:])\n",
    "\n",
    "    dfs = []\n",
    "    for c in tqdm(chunks):\n",
    "        names = \"'\" + \"','\".join(c)+ \"'\"\n",
    "        query = \"\"\"SELECT subreddit, author, COUNT(*) as count\n",
    "                        FROM `fh-bigquery.reddit_comments.2017_06`\n",
    "                        WHERE (author IN ({})) and (author NOT IN ('[deleted]'))\n",
    "                        GROUP BY subreddit, author\"\"\".format(names)\n",
    "\n",
    "        df = fetchQuery(query)\n",
    "        dfs.append(df)\n",
    "    \n",
    "    return dfs\n",
    "\n",
    "def saveCommentCounts():\n",
    "    dfs = fetchAllCounts()\n",
    "    allCounts = pd.concat(dfs)\n",
    "    assert len(authors) == len(allCounts['author'].unique()), 'incorrect # authors'\n",
    "    allCounts.to_csv(data_file('allCommentCounts.csv'))"
   ]
  },
  {
   "cell_type": "code",
   "execution_count": 8,
   "metadata": {},
   "outputs": [],
   "source": [
    "def cacheCounts():\n",
    "    subByAuthorCounts = pd.read_csv(data_file('allCommentCounts.csv'), index_col=0)\n",
    "\n",
    "    subCounts = pd.concat([subByAuthorCounts.groupby('subreddit')['author'].count(),\n",
    "                           subByAuthorCounts.groupby('subreddit')['count'].sum(),\n",
    "                           subByAuthorCounts.groupby('subreddit')['count'].median()],\n",
    "                          axis=1)\n",
    "\n",
    "    subCounts.columns = ['subAuthorsCount', 'subCommentsCount', 'subMedianAuthorCommentsCount']\n",
    "    subCounts.to_csv(cache_file('subCounts.csv'))\n",
    "\n",
    "    authorCounts = pd.concat([subByAuthorCounts.groupby('author')['subreddit'].count(),\n",
    "                              subByAuthorCounts.groupby('author')['count'].sum(),\n",
    "                              subByAuthorCounts.groupby('author')['count'].median()],\n",
    "                             axis=1)\n",
    "\n",
    "    authorCounts.columns = ['authorSubsCount', 'authorCommentsCount', 'authorMedianSubredditCommentsCount']\n",
    "    authorCounts.to_csv(cache_file('authorCounts.csv'))\n",
    "    \n",
    "def saveAllMerged():\n",
    "    inCounts = pd.read_csv(data_file('SubredditInCounts.csv'), index_col=0)\n",
    "    inCounts.columns = ['subreddit','author','inCount']\n",
    "\n",
    "    subCounts = pd.read_csv(cache_file('subCounts.csv'), index_col=0)\n",
    "    authorCounts = pd.read_csv(cache_file('authorCounts.csv'), index_col=0)\n",
    "\n",
    "    subMerged = inCounts.merge(subCounts, left_on='subreddit', right_index=True)\n",
    "    allMerged = subMerged.merge(authorCounts, left_on='author',right_index=True)\n",
    "    \n",
    "    allMerged.to_csv(cache_file('allMerged.csv'))"
   ]
  },
  {
   "cell_type": "code",
   "execution_count": 9,
   "metadata": {},
   "outputs": [],
   "source": [
    "def getAuthorMediansBySubreddit(df):\n",
    "    \"\"\"df should be allMerged or a subset of if,\n",
    "        ex. where inCount > 5 \"\"\"\n",
    "    authorCols = ['inCount','authorSubsCount', 'authorCommentsCount',\n",
    "                  'authorMedianSubredditCommentsCount','authorInRate']\n",
    "    medianCols = []\n",
    "    for authorCol in authorCols:\n",
    "        median = df.groupby('subreddit')[authorCol].median()\n",
    "        medianCols.append(median)\n",
    "    return pd.concat(medianCols, axis=1)"
   ]
  },
  {
   "cell_type": "code",
   "execution_count": 10,
   "metadata": {},
   "outputs": [],
   "source": [
    "allMerged = pd.read_csv(cache_file('allMerged.csv'))\n",
    "engagedAuthors = allMerged[allMerged['authorCommentsCount']>4]\n",
    "activeSubreddits = engagedAuthors[engagedAuthors['subAuthorsCount']>100]\n",
    "medians = getAuthorMediansBySubreddit(activeSubreddits)\n",
    "\n",
    "\n",
    "nAllAuthors = len(allMerged['author'].unique())\n",
    "nEngagedAuthors = len(engagedAuthors['author'].unique())\n",
    "portionEngagedAuthors = nEngagedAuthors/nAllAuthors\n",
    "\n",
    "inActiveSubreddits = set(engagedAuthors['subreddit'].unique()) - set(activeSubreddits['subreddit'].unique())"
   ]
  },
  {
   "cell_type": "markdown",
   "metadata": {
    "variables": {
     "inActiveSubreddits": "{&#39;ads&#39;}",
     "portionEngagedAuthors": "0.83889392740675"
    }
   },
   "source": [
    "I removed all author which fewer that 5 comments across all subreddits with left {{portionEngagedAuthors}} of original authors.\n",
    "\n",
    "I removed all subreddits with fewer than 100 commenting authors. This removed {{inActiveSubreddits}}."
   ]
  },
  {
   "cell_type": "code",
   "execution_count": 79,
   "metadata": {},
   "outputs": [
    {
     "data": {
      "image/png": "[encoded data removed]",
      "text/plain": [
       "<matplotlib.figure.Figure at 0x11db32ef0>"
      ]
     },
     "metadata": {},
     "output_type": "display_data"
    }
   ],
   "source": [
    "import seaborn as sns\n",
    "import matplotlib.pyplot as plt\n",
    "import matplotlib.patches as mpatches\n",
    "    \n",
    "def subAvgPlot(counts, ylabel,title):\n",
    "    colours = ['grey']*len(counts)\n",
    "    colours[counts.index.get_loc('changemyview')] = 'blue'\n",
    "    colours[counts.index.get_loc('The_Donald')] = 'red'\n",
    "\n",
    "    height = counts.values\n",
    "    bars = counts.index\n",
    "    y_pos = np.arange(len(bars))\n",
    "\n",
    "    plt.bar(y_pos, height, color=colours, label='random subs')\n",
    "    \n",
    "    cmv = mpatches.Patch(color='blue', label='r/changemyview')\n",
    "    td = mpatches.Patch(color='red', label='r/The_Donald')\n",
    "    random = mpatches.Patch(color='gray', label='Random subreddits')\n",
    "    plt.legend(handles=[cmv,td,random], loc=2)\n",
    "    plt.tick_params(axis='x', which='both',bottom='off',top='off',labelbottom='off')\n",
    "    \n",
    "    plt.ylabel(ylabel)\n",
    "    plt.title(title)\n",
    "    plt.show();\n",
    "    \n",
    "subAvgPlot(medians['authorInRate'].sort_values(), 'authorInRate', 'Median Author In-rate Per Subreddit')"
   ]
  },
  {
   "cell_type": "code",
   "execution_count": 83,
   "metadata": {},
   "outputs": [
    {
     "data": {
      "image/png": "[encoded data removed]",
      "text/plain": [
       "<matplotlib.figure.Figure at 0x11d917940>"
      ]
     },
     "metadata": {},
     "output_type": "display_data"
    }
   ],
   "source": [
    "subAvgPlot(medians['authorSubsCount'].sort_values(), 'authorSubsCount', 'Median Author Subreddit Count Per Subreddit')"
   ]
  },
  {
   "cell_type": "code",
   "execution_count": 85,
   "metadata": {},
   "outputs": [],
   "source": [
    "s = pd.read_csv('/Users/emg/Programming/GitHub/antiechochambers/data/sampleSubreddits.csv')"
   ]
  },
  {
   "cell_type": "code",
   "execution_count": 86,
   "metadata": {},
   "outputs": [
    {
     "data": {
      "text/html": [
       "<div>\n",
       "<style>\n",
       "    .dataframe thead tr:only-child th {\n",
       "        text-align: right;\n",
       "    }\n",
       "\n",
       "    .dataframe thead th {\n",
       "        text-align: left;\n",
       "    }\n",
       "\n",
       "    .dataframe tbody tr th {\n",
       "        vertical-align: top;\n",
       "    }\n",
       "</style>\n",
       "<table border=\"1\" class=\"dataframe\">\n",
       "  <thead>\n",
       "    <tr style=\"text-align: right;\">\n",
       "      <th></th>\n",
       "      <th>Unnamed: 0</th>\n",
       "      <th>subreddit</th>\n",
       "      <th>comment_count</th>\n",
       "    </tr>\n",
       "  </thead>\n",
       "  <tbody>\n",
       "    <tr>\n",
       "      <th>0</th>\n",
       "      <td>0</td>\n",
       "      <td>spaceengineers</td>\n",
       "      <td>4323</td>\n",
       "    </tr>\n",
       "    <tr>\n",
       "      <th>1</th>\n",
       "      <td>1</td>\n",
       "      <td>antinatalism</td>\n",
       "      <td>5379</td>\n",
       "    </tr>\n",
       "    <tr>\n",
       "      <th>2</th>\n",
       "      <td>2</td>\n",
       "      <td>modpiracy</td>\n",
       "      <td>1154</td>\n",
       "    </tr>\n",
       "    <tr>\n",
       "      <th>3</th>\n",
       "      <td>3</td>\n",
       "      <td>GearsOfWar</td>\n",
       "      <td>16067</td>\n",
       "    </tr>\n",
       "    <tr>\n",
       "      <th>4</th>\n",
       "      <td>4</td>\n",
       "      <td>ethdev</td>\n",
       "      <td>1273</td>\n",
       "    </tr>\n",
       "  </tbody>\n",
       "</table>\n",
       "</div>"
      ],
      "text/plain": [
       "   Unnamed: 0       subreddit  comment_count\n",
       "0           0  spaceengineers           4323\n",
       "1           1    antinatalism           5379\n",
       "2           2       modpiracy           1154\n",
       "3           3      GearsOfWar          16067\n",
       "4           4          ethdev           1273"
      ]
     },
     "execution_count": 86,
     "metadata": {},
     "output_type": "execute_result"
    }
   ],
   "source": [
    "s.head()"
   ]
  },
  {
   "cell_type": "code",
   "execution_count": 102,
   "metadata": {},
   "outputs": [],
   "source": [
    "def getSampleAuthorOutCounts():\n",
    "    grouped = df.groupby('subreddit')\n",
    "    sampleAuthors = grouped['author'].apply(lambda x: x.sample(100, replace=True))\n",
    "    sampleAuthors = set(sampleAuthors)\n",
    "\n",
    "    characters = names = \"'\" + \"','\".join(sampleAuthors)+ \"'\"\n",
    "    num_chunks = np.round(len(characters)/15000)+1\n",
    "    len_chunks = np.round(len(sampleAuthors)/num_chunks)+1\n",
    "\n",
    "    blocks = [int(len_chunks*n) for n in range (0,int(num_chunks))]\n",
    "    ranges = list(zip(blocks, blocks[1:]))\n",
    "\n",
    "    chunks = []\n",
    "    authors = list(sampleAuthors)\n",
    "    for r in ranges:\n",
    "        start, end = r\n",
    "        chunks.append(authors[start:end])\n",
    "    chunks.append(authors[blocks[-1]:])\n",
    "\n",
    "    dfs = []\n",
    "    for c in tqdm(chunks):\n",
    "        names = \"'\" + \"','\".join(c)+ \"'\"\n",
    "        query = \"\"\"SELECT subreddit, author, COUNT(*) as count\n",
    "                        FROM `fh-bigquery.reddit_comments.2017_06`\n",
    "                        WHERE (author IN ({})) and (author NOT IN ('[deleted]'))\n",
    "                        GROUP BY subreddit, author\"\"\".format(names)\n",
    "\n",
    "        df = fetchQuery(query)\n",
    "        dfs.append(df)\n",
    "\n",
    "    allCounts = pd.concat(dfs)\n",
    "    assert len(authors) == len(allCounts['author'].unique()), 'incorrect # authors'\n",
    "    allCounts.to_csv(data_file('sampleAuthorCommentCounts.csv'))"
   ]
  },
  {
   "cell_type": "code",
   "execution_count": 151,
   "metadata": {},
   "outputs": [],
   "source": []
  },
  {
   "cell_type": "code",
   "execution_count": 166,
   "metadata": {},
   "outputs": [],
   "source": [
    "allCounts = pd.read_csv(data_file('sampleAuthorCommentCounts.csv'), index_col=0)\n",
    "subByAuthorCounts = allCounts[allCounts['count']>1]\n",
    "\n",
    "subCounts = pd.concat([subByAuthorCounts.groupby('subreddit')['author'].count(),\n",
    "                       subByAuthorCounts.groupby('subreddit')['count'].sum(),\n",
    "                       subByAuthorCounts.groupby('subreddit')['count'].median()],\n",
    "                      axis=1)\n",
    "subCounts.columns = ['subAuthorsCount', 'subCommentsCount', 'subMedianAuthorCommentsCount']\n",
    "subCounts.to_csv(cache_file('sampleSubCounts.csv'))\n",
    "\n",
    "authorCounts = pd.concat([subByAuthorCounts.groupby('author')['subreddit'].count(),\n",
    "                          subByAuthorCounts.groupby('author')['count'].sum(),\n",
    "                          subByAuthorCounts.groupby('author')['count'].median()],\n",
    "                         axis=1)\n",
    "\n",
    "authorCounts.columns = ['authorSubsCount', 'authorCommentsCount', 'authorMedianSubredditCommentsCount']\n",
    "authorCounts.to_csv(cache_file('sampleAuthorCounts.csv'))"
   ]
  },
  {
   "cell_type": "code",
   "execution_count": null,
   "metadata": {},
   "outputs": [],
   "source": [
    "def saveAllMerged():\n",
    "    inCounts = pd.read_csv(data_file('SubredditInCounts.csv'), index_col=0)\n",
    "    inCounts.columns = ['subreddit','author','inCount']\n",
    "\n",
    "    subCounts = pd.read_csv(cache_file('subCounts.csv'), index_col=0)\n",
    "    authorCounts = pd.read_csv(cache_file('authorCounts.csv'), index_col=0)\n",
    "\n",
    "    subMerged = inCounts.merge(subCounts, left_on='subreddit', right_index=True)\n",
    "    allMerged = subMerged.merge(authorCounts, left_on='author',right_index=True)\n",
    "    \n",
    "    allMerged.to_csv(cache_file('allMerged.csv'))"
   ]
  },
  {
   "cell_type": "code",
   "execution_count": 162,
   "metadata": {},
   "outputs": [
    {
     "name": "stderr",
     "output_type": "stream",
     "text": [
      "//anaconda/envs/python3.6/lib/python3.6/site-packages/numpy/lib/arraysetops.py:395: FutureWarning: elementwise comparison failed; returning scalar instead, but in the future will perform elementwise comparison\n",
      "  mask |= (ar1 == a)\n"
     ]
    }
   ],
   "source": [
    "inCounts = pd.read_csv(data_file('SubredditInCounts.csv'), index_col=0)\n",
    "inCounts.columns = ['subreddit','author','inCount']"
   ]
  },
  {
   "cell_type": "code",
   "execution_count": 167,
   "metadata": {},
   "outputs": [],
   "source": [
    "subCounts = pd.read_csv(cache_file('sampleSubCounts.csv'), index_col=0)\n",
    "authorCounts = pd.read_csv(cache_file('sampleAuthorCounts.csv'), index_col=0)"
   ]
  },
  {
   "cell_type": "code",
   "execution_count": 168,
   "metadata": {},
   "outputs": [],
   "source": [
    "subMerged = inCounts.merge(subCounts, left_on='subreddit', right_index=True)\n",
    "allMerged = subMerged.merge(authorCounts, left_on='author',right_index=True)"
   ]
  },
  {
   "cell_type": "code",
   "execution_count": 169,
   "metadata": {},
   "outputs": [
    {
     "data": {
      "text/html": [
       "<div>\n",
       "<style>\n",
       "    .dataframe thead tr:only-child th {\n",
       "        text-align: right;\n",
       "    }\n",
       "\n",
       "    .dataframe thead th {\n",
       "        text-align: left;\n",
       "    }\n",
       "\n",
       "    .dataframe tbody tr th {\n",
       "        vertical-align: top;\n",
       "    }\n",
       "</style>\n",
       "<table border=\"1\" class=\"dataframe\">\n",
       "  <thead>\n",
       "    <tr style=\"text-align: right;\">\n",
       "      <th></th>\n",
       "      <th>subreddit</th>\n",
       "      <th>author</th>\n",
       "      <th>inCount</th>\n",
       "      <th>subAuthorsCount</th>\n",
       "      <th>subCommentsCount</th>\n",
       "      <th>subMedianAuthorCommentsCount</th>\n",
       "      <th>authorSubsCount</th>\n",
       "      <th>authorCommentsCount</th>\n",
       "      <th>authorMedianSubredditCommentsCount</th>\n",
       "    </tr>\n",
       "  </thead>\n",
       "  <tbody>\n",
       "    <tr>\n",
       "      <th>22464</th>\n",
       "      <td>italy</td>\n",
       "      <td>kisstheblade69</td>\n",
       "      <td>211</td>\n",
       "      <td>26</td>\n",
       "      <td>961</td>\n",
       "      <td>6.0</td>\n",
       "      <td>5</td>\n",
       "      <td>225</td>\n",
       "      <td>5.0</td>\n",
       "    </tr>\n",
       "    <tr>\n",
       "      <th>348974</th>\n",
       "      <td>xmen</td>\n",
       "      <td>kisstheblade69</td>\n",
       "      <td>1</td>\n",
       "      <td>41</td>\n",
       "      <td>308</td>\n",
       "      <td>5.0</td>\n",
       "      <td>5</td>\n",
       "      <td>225</td>\n",
       "      <td>5.0</td>\n",
       "    </tr>\n",
       "    <tr>\n",
       "      <th>1433114</th>\n",
       "      <td>AskMen</td>\n",
       "      <td>kisstheblade69</td>\n",
       "      <td>5</td>\n",
       "      <td>131</td>\n",
       "      <td>2946</td>\n",
       "      <td>5.0</td>\n",
       "      <td>5</td>\n",
       "      <td>225</td>\n",
       "      <td>5.0</td>\n",
       "    </tr>\n",
       "    <tr>\n",
       "      <th>1444208</th>\n",
       "      <td>trashy</td>\n",
       "      <td>kisstheblade69</td>\n",
       "      <td>1</td>\n",
       "      <td>200</td>\n",
       "      <td>1251</td>\n",
       "      <td>4.0</td>\n",
       "      <td>5</td>\n",
       "      <td>225</td>\n",
       "      <td>5.0</td>\n",
       "    </tr>\n",
       "    <tr>\n",
       "      <th>1848257</th>\n",
       "      <td>todayilearned</td>\n",
       "      <td>kisstheblade69</td>\n",
       "      <td>1</td>\n",
       "      <td>700</td>\n",
       "      <td>5716</td>\n",
       "      <td>4.0</td>\n",
       "      <td>5</td>\n",
       "      <td>225</td>\n",
       "      <td>5.0</td>\n",
       "    </tr>\n",
       "  </tbody>\n",
       "</table>\n",
       "</div>"
      ],
      "text/plain": [
       "             subreddit          author  inCount  subAuthorsCount  \\\n",
       "22464            italy  kisstheblade69      211               26   \n",
       "348974            xmen  kisstheblade69        1               41   \n",
       "1433114         AskMen  kisstheblade69        5              131   \n",
       "1444208         trashy  kisstheblade69        1              200   \n",
       "1848257  todayilearned  kisstheblade69        1              700   \n",
       "\n",
       "         subCommentsCount  subMedianAuthorCommentsCount  authorSubsCount  \\\n",
       "22464                 961                           6.0                5   \n",
       "348974                308                           5.0                5   \n",
       "1433114              2946                           5.0                5   \n",
       "1444208              1251                           4.0                5   \n",
       "1848257              5716                           4.0                5   \n",
       "\n",
       "         authorCommentsCount  authorMedianSubredditCommentsCount  \n",
       "22464                    225                                 5.0  \n",
       "348974                   225                                 5.0  \n",
       "1433114                  225                                 5.0  \n",
       "1444208                  225                                 5.0  \n",
       "1848257                  225                                 5.0  "
      ]
     },
     "execution_count": 169,
     "metadata": {},
     "output_type": "execute_result"
    }
   ],
   "source": [
    "allMerged.head()"
   ]
  },
  {
   "cell_type": "code",
   "execution_count": 189,
   "metadata": {},
   "outputs": [
    {
     "data": {
      "text/plain": [
       "(109, 5)"
      ]
     },
     "execution_count": 189,
     "metadata": {},
     "output_type": "execute_result"
    }
   ],
   "source": [
    "allMerged['authorInRate']=allMerged['inCount']/allMerged['authorCommentsCount']\n",
    "engagedAuthors = allMerged[allMerged['authorCommentsCount']>10]\n",
    "activeSubreddits = engagedAuthors[engagedAuthors['subAuthorsCount']>50]\n",
    "medians = getAuthorMediansBySubreddit(activeSubreddits)\n",
    "\n",
    "medians.shape"
   ]
  },
  {
   "cell_type": "code",
   "execution_count": 180,
   "metadata": {},
   "outputs": [
    {
     "data": {
      "text/plain": [
       "(987, 5)"
      ]
     },
     "execution_count": 180,
     "metadata": {},
     "output_type": "execute_result"
    }
   ],
   "source": [
    "medians = getAuthorMediansBySubreddit(engagedAuthors)\n",
    "medians.head()\n",
    "medians.shape"
   ]
  },
  {
   "cell_type": "code",
   "execution_count": 183,
   "metadata": {},
   "outputs": [
    {
     "data": {
      "text/plain": [
       "(421, 5)"
      ]
     },
     "execution_count": 183,
     "metadata": {},
     "output_type": "execute_result"
    }
   ],
   "source": []
  },
  {
   "cell_type": "code",
   "execution_count": 190,
   "metadata": {},
   "outputs": [
    {
     "data": {
      "image/png": "[encoded data removed]",
      "text/plain": [
       "<matplotlib.figure.Figure at 0x12486a780>"
      ]
     },
     "metadata": {},
     "output_type": "display_data"
    }
   ],
   "source": [
    "subAvgPlot(medians['authorInRate'].sort_values(), 'authorInRate', 'Median Author In-rate Per Subreddit')"
   ]
  },
  {
   "cell_type": "code",
   "execution_count": 188,
   "metadata": {},
   "outputs": [
    {
     "data": {
      "text/plain": [
       "count     35427.000000\n",
       "mean      12886.033760\n",
       "std       75043.979261\n",
       "min           2.000000\n",
       "25%          39.000000\n",
       "50%         167.000000\n",
       "75%        3382.000000\n",
       "max      708660.000000\n",
       "Name: authorCommentsCount, dtype: float64"
      ]
     },
     "execution_count": 188,
     "metadata": {},
     "output_type": "execute_result"
    }
   ],
   "source": [
    "allMerged['authorCommentsCount'].describe()"
   ]
  },
  {
   "cell_type": "code",
   "execution_count": 191,
   "metadata": {},
   "outputs": [
    {
     "data": {
      "image/png": "[encoded data removed]",
      "text/plain": [
       "<matplotlib.figure.Figure at 0x12330c390>"
      ]
     },
     "metadata": {},
     "output_type": "display_data"
    }
   ],
   "source": [
    "subAvgPlot(medians['authorSubsCount'].sort_values(), 'authorSubsCount', 'Median Author Subreddit Count Per Subreddit')"
   ]
  },
  {
   "cell_type": "code",
   "execution_count": null,
   "metadata": {},
   "outputs": [],
   "source": []
  }
 ],
 "metadata": {
  "kernelspec": {
   "display_name": "Python 2",
   "language": "python",
   "name": "python2"
  },
  "language_info": {
   "codemirror_mode": {
    "name": "ipython",
    "version": 2
   },
   "file_extension": ".py",
   "mimetype": "text/x-python",
   "name": "python",
   "nbconvert_exporter": "python",
   "pygments_lexer": "ipython2",
   "version": "2.7.13"
  }
 },
 "nbformat": 4,
 "nbformat_minor": 2
}

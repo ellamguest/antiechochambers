{
 "cells": [
  {
   "cell_type": "markdown",
   "metadata": {},
   "source": [
    "# Literature Review"
   ]
  },
  {
   "cell_type": "code",
   "execution_count": 9,
   "metadata": {},
   "outputs": [
    {
     "name": "stdout",
     "output_type": "stream",
     "text": [
      "directory created\n",
      "directory created\n",
      "directory created\n"
     ]
    }
   ],
   "source": [
    "from pathlib import Path\n",
    "\n",
    "data_file = lambda filename: Path().resolve().parent.joinpath(*['data', filename])\n",
    "cache_file = lambda filename: Path().resolve().parent.joinpath(*['cache', filename])\n",
    "figure_file = lambda filename: Path().resolve().parent.joinpath(*['figures', filename])\n",
    "\n",
    "def createDirectories():\n",
    "    DATA = Path().resolve().parent.joinpath('data')\n",
    "    CACHE = Path().resolve().parent.joinpath('cache')\n",
    "    FIGURES = Path().resolve().parent.joinpath('figures')\n",
    "    for directory in [DATA, CACHE, FIGURES]:\n",
    "        try:\n",
    "            directory.mkdir()\n",
    "            print('directory created')\n",
    "        except FileExistsError:\n",
    "            print('directory already exists')\n",
    "\n",
    "createDirectories()"
   ]
  },
  {
   "cell_type": "code",
   "execution_count": 6,
   "metadata": {},
   "outputs": [],
   "source": [
    "import json\n",
    "\n",
    "\"\"\"require a bigquery project and credentials, save in json in root main directory\"\"\"\n",
    "credsfile = Path().resolve().parent.joinpath('credentials.json')\n",
    "creds = json.load(open(credsfile))\n",
    "PROJECT = creds[\"PROJECT\"]\n",
    "CREDENTIALS = Path().resolve().parent.joinpath(creds[\"CREDENTIALS\"])"
   ]
  },
  {
   "cell_type": "code",
   "execution_count": 4,
   "metadata": {},
   "outputs": [],
   "source": [
    "from google.cloud import bigquery\n",
    "import pandas as pd\n",
    "from tqdm import tqdm\n",
    "from google.cloud import bigquery\n",
    "from concurrent.futures import TimeoutError\n",
    "import os\n",
    "import numpy as np\n",
    "\n",
    "def client():\n",
    "    return bigquery.Client.from_service_account_json(CREDENTIALS, project=PROJECT)\n",
    "\n",
    "def jobConfig():\n",
    "    config = bigquery.QueryJobConfig()\n",
    "    config.query_parameters = (bigquery.ScalarQueryParameter('size', 'INT64', 10),)\n",
    "    config.use_legacy_sql = False\n",
    "    config.maximum_bytes_billed = int(5e9)\n",
    "    \n",
    "    return config\n",
    "\n",
    "def run_job(query):\n",
    "    print('Submitting query')\n",
    "    j = client().query(query=query, job_config=jobConfig())\n",
    "    with tqdm() as pbar:\n",
    "        while True:\n",
    "            try:\n",
    "                j.result(timeout=1)\n",
    "            except TimeoutError:                \n",
    "                pbar.update(1)\n",
    "            else:\n",
    "                break\n",
    "    return j\n",
    "\n",
    "def unpack_results(j):\n",
    "    print('Unpacking results')\n",
    "    \n",
    "    total = j.query_results().total_rows\n",
    "    \n",
    "    iterator = j.result()\n",
    "    rows = []\n",
    "    for row in tqdm(iterator, total=total):\n",
    "        rows.append(row.values())\n",
    "    \n",
    "    columns = [c.name for c in iterator.schema]\n",
    "    df = pd.DataFrame(rows, None, columns)\n",
    "    \n",
    "    return df\n",
    "\n",
    "\n",
    "def fetchQuery(query):\n",
    "    j = run_job(query)\n",
    "    df = unpack_results(j)\n",
    "    \n",
    "    return df"
   ]
  },
  {
   "cell_type": "code",
   "execution_count": 7,
   "metadata": {},
   "outputs": [
    {
     "name": "stdout",
     "output_type": "stream",
     "text": [
      "Submitting query\n"
     ]
    },
    {
     "name": "stderr",
     "output_type": "stream",
     "text": [
      "0it [00:00, ?it/s]\n",
      "  0%|          | 0/52206 [00:00<?, ?it/s]"
     ]
    },
    {
     "name": "stdout",
     "output_type": "stream",
     "text": [
      "Unpacking results\n"
     ]
    },
    {
     "name": "stderr",
     "output_type": "stream",
     "text": [
      "100%|██████████| 52206/52206 [00:02<00:00, 23059.41it/s]\n"
     ]
    }
   ],
   "source": [
    "def getTDIn():\n",
    "    query = \"\"\"SELECT author, COUNT(*) as count\n",
    "                    FROM `fh-bigquery.reddit_comments.2017_06`\n",
    "                    WHERE (subreddit IN ('The_Donald')) and (author NOT IN ('[deleted]'))\n",
    "                    GROUP BY author\"\"\"\n",
    "\n",
    "    df = fetchQuery(query)\n",
    "    df.to_csv(data_file('TDauthorInCounts.csv'))\n",
    "    \n",
    "    return df\n",
    "\n",
    "\n",
    "def fetchInSubredditData():\n",
    "    getTDIn()\n",
    "    getCMVIn()\n",
    "    getSampleSubreddits()"
   ]
  },
  {
   "cell_type": "code",
   "execution_count": 17,
   "metadata": {},
   "outputs": [],
   "source": [
    "def getCMVIn():\n",
    "    query = \"\"\"SELECT author, COUNT(*) as count\n",
    "                    FROM `fh-bigquery.reddit_comments.2017_06`\n",
    "                    WHERE (subreddit IN ('changemyview')) and (author NOT IN ('[deleted]'))\n",
    "                    GROUP BY author\"\"\"\n",
    "\n",
    "    df = fetchQuery(query)\n",
    "    df.to_csv(data_file('CMVauthorInCounts.csv'))\n",
    "    \n",
    "    return df"
   ]
  },
  {
   "cell_type": "code",
   "execution_count": 30,
   "metadata": {},
   "outputs": [],
   "source": [
    "def getSampleSubreddits(LIMIT=10):\n",
    "    query = \"\"\"SELECT subreddit\n",
    "                FROM `fh-bigquery.reddit_comments.2017_06`\n",
    "                ORDER BY RAND()\n",
    "                LIMIT {}\"\"\".format(LIMIT)\n",
    "\n",
    "    df = fetchQuery(query)\n",
    "    df.to_csv(data_file('sampleSubreddits.csv'))"
   ]
  },
  {
   "cell_type": "code",
   "execution_count": 31,
   "metadata": {},
   "outputs": [
    {
     "name": "stdout",
     "output_type": "stream",
     "text": [
      "Submitting query\n"
     ]
    },
    {
     "name": "stderr",
     "output_type": "stream",
     "text": [
      "1it [00:01,  1.28s/it]\n",
      "  0%|          | 0/10 [00:00<?, ?it/s]"
     ]
    },
    {
     "name": "stdout",
     "output_type": "stream",
     "text": [
      "Unpacking results\n"
     ]
    },
    {
     "name": "stderr",
     "output_type": "stream",
     "text": [
      "100%|██████████| 10/10 [00:00<00:00, 21.72it/s]\n"
     ]
    }
   ],
   "source": [
    "getSampleSubreddits()\n",
    "sampleSubreddits = pd.read_csv(data_file('sampleSubreddits.csv'), index_col=0)"
   ]
  },
  {
   "cell_type": "code",
   "execution_count": 41,
   "metadata": {},
   "outputs": [],
   "source": [
    "subs = list(sampleSubreddits['subreddit'])\n",
    "names = \"'\" + \"','\".join(names)+ \"'\""
   ]
  },
  {
   "cell_type": "code",
   "execution_count": 92,
   "metadata": {},
   "outputs": [
    {
     "name": "stdout",
     "output_type": "stream",
     "text": [
      "Submitting query\n"
     ]
    },
    {
     "name": "stderr",
     "output_type": "stream",
     "text": [
      "0it [00:00, ?it/s]\n",
      "  0%|          | 0/366284 [00:00<?, ?it/s]"
     ]
    },
    {
     "name": "stdout",
     "output_type": "stream",
     "text": [
      "Unpacking results\n"
     ]
    },
    {
     "name": "stderr",
     "output_type": "stream",
     "text": [
      "100%|██████████| 366284/366284 [00:17<00:00, 21277.47it/s]\n"
     ]
    },
    {
     "data": {
      "text/plain": [
       "(366284, 4)"
      ]
     },
     "execution_count": 92,
     "metadata": {},
     "output_type": "execute_result"
    }
   ],
   "source": [
    "def getSubredditInCounts(sampleSubreddits):\n",
    "    subs = ['The_Donald', 'changemyview'] + list(sampleSubreddits['subreddit'])\n",
    "    names = \"'\" + \"','\".join(subs)+ \"'\"\n",
    "    query = \"\"\"SELECT subreddit, author, COUNT(*) as count\n",
    "                    FROM `fh-bigquery.reddit_comments.2017_06`\n",
    "                    WHERE (subreddit IN ({})) and (author NOT IN ('[deleted]'))\n",
    "                    GROUP BY subreddit, author\"\"\".format(names)\n",
    "\n",
    "    df = fetchQuery(query)\n",
    "    df.to_csv(data_file('SubredditInCounts.csv'))\n",
    "    \n",
    "getSubredditInCounts(sampleSubreddits)"
   ]
  },
  {
   "cell_type": "code",
   "execution_count": 94,
   "metadata": {},
   "outputs": [],
   "source": []
  },
  {
   "cell_type": "code",
   "execution_count": 99,
   "metadata": {},
   "outputs": [
    {
     "data": {
      "image/png": "[encoded data removed]",
      "text/plain": [
       "<matplotlib.figure.Figure at 0x11c483cf8>"
      ]
     },
     "metadata": {},
     "output_type": "display_data"
    }
   ],
   "source": [
    "%matplotlib inline\n",
    "InCounts.sort_values('comments').plot();"
   ]
  },
  {
   "cell_type": "code",
   "execution_count": 206,
   "metadata": {},
   "outputs": [],
   "source": [
    "import seaborn as sns\n",
    "import matplotlib.pyplot as plt\n",
    "\n",
    "\n",
    "def getOutComments():\n",
    "    InSubredditDf = pd.read_csv(data_file('SubredditInCounts.csv'))\n",
    "    sample_authors = list(InSubredditDf['author'].unique())\n",
    "    names = \"'\" + \"','\".join(sample_authors)+ \"'\"\n",
    "    query = \"\"\"SELECT subreddit, author, COUNT(*) as count\n",
    "                    FROM `fh-bigquery.reddit_comments.2017_06`\n",
    "                    WHERE (author IN ({})) and (author NOT IN ('[deleted]'))\n",
    "                    GROUP BY subreddit, author\"\"\".format(names)\n",
    "\n",
    "    df = fetchQuery(query)\n",
    "    df.to_csv(data_file('SubredditOutCounts.csv'))\n",
    "    \n",
    "def subAvgPlot(counts):\n",
    "    fix, ax = plt.subplots()\n",
    "    counts.plot(ax=ax, color='black', label='Random Subs')\n",
    "    plt.axvline(counts.loc['changemyview'], color='blue', label='CMV')\n",
    "    plt.axvline(counts.loc['The_Donald'], color='red', label='TD')\n",
    "    plt.legend(loc=1);"
   ]
  },
  {
   "cell_type": "code",
   "execution_count": 192,
   "metadata": {},
   "outputs": [],
   "source": [
    "InSubredditDf = pd.read_csv(data_file('SubredditInCounts.csv'))\n",
    "InCounts = getSubredditCountDf(InSubredditDf)"
   ]
  },
  {
   "cell_type": "code",
   "execution_count": 207,
   "metadata": {},
   "outputs": [
    {
     "name": "stdout",
     "output_type": "stream",
     "text": [
      "Submitting query\n"
     ]
    },
    {
     "name": "stderr",
     "output_type": "stream",
     "text": [
      "3it [00:04,  1.49s/it]\n",
      "  0%|          | 0/186968 [00:00<?, ?it/s]"
     ]
    },
    {
     "name": "stdout",
     "output_type": "stream",
     "text": [
      "Unpacking results\n"
     ]
    },
    {
     "name": "stderr",
     "output_type": "stream",
     "text": [
      "100%|██████████| 186968/186968 [00:10<00:00, 18148.29it/s]\n"
     ]
    }
   ],
   "source": [
    "getSubredditOutCounts()"
   ]
  },
  {
   "cell_type": "code",
   "execution_count": 174,
   "metadata": {},
   "outputs": [
    {
     "data": {
      "text/plain": [
       "subreddit\n",
       "SkypeShows    4389.0\n",
       "SlavesUK      4389.0\n",
       "Slutoon       4389.0\n",
       "SickJunk      4389.0\n",
       "zuthar13      4389.0\n",
       "Name: authorOutSubreddits, dtype: float64"
      ]
     },
     "execution_count": 174,
     "metadata": {},
     "output_type": "execute_result"
    }
   ],
   "source": [
    "OutSubredditDf = pd.read_csv(data_file('SubredditOutCounts.csv'), index_col=0)\n",
    "authorOutSubredditCount = OutSubredditDf.groupby('author')['subreddit'].count()\n",
    "OutSubredditDf['authorOutSubreddits'] = OutSubredditDf['author'].apply(lambda x: authorOutSubredditCount.loc[x])\n",
    "avgOutSub = OutSubredditDf.groupby('subreddit')['authorOutSubreddits'].mean().sort_values()\n",
    "outSubPlot(avgOutSub)"
   ]
  },
  {
   "cell_type": "code",
   "execution_count": 220,
   "metadata": {},
   "outputs": [],
   "source": [
    "def countDf(df, groupby='subreddit'):\n",
    "    variable = 'author'\n",
    "    if groupby == 'author':\n",
    "        variable = 'subreddit'\n",
    "    counts = pd.concat([df.groupby(groupby)[variable].count(),\n",
    "               df.groupby(groupby)['count'].sum(),\n",
    "                df.groupby(groupby)['count'].mean()], axis=1)\n",
    "    counts.columns = ['n'+variable,'comments','avg#comments']\n",
    "    \n",
    "    return counts"
   ]
  },
  {
   "cell_type": "code",
   "execution_count": 221,
   "metadata": {},
   "outputs": [
    {
     "data": {
      "text/html": [
       "<div>\n",
       "<style>\n",
       "    .dataframe thead tr:only-child th {\n",
       "        text-align: right;\n",
       "    }\n",
       "\n",
       "    .dataframe thead th {\n",
       "        text-align: left;\n",
       "    }\n",
       "\n",
       "    .dataframe tbody tr th {\n",
       "        vertical-align: top;\n",
       "    }\n",
       "</style>\n",
       "<table border=\"1\" class=\"dataframe\">\n",
       "  <thead>\n",
       "    <tr style=\"text-align: right;\">\n",
       "      <th></th>\n",
       "      <th>subreddit</th>\n",
       "      <th>author</th>\n",
       "      <th>count</th>\n",
       "      <th>nsubreddit</th>\n",
       "      <th>comments</th>\n",
       "      <th>avg#comments</th>\n",
       "      <th>inRate</th>\n",
       "    </tr>\n",
       "  </thead>\n",
       "  <tbody>\n",
       "    <tr>\n",
       "      <th>11</th>\n",
       "      <td>ads</td>\n",
       "      <td>johnrome784</td>\n",
       "      <td>1</td>\n",
       "      <td>2</td>\n",
       "      <td>2</td>\n",
       "      <td>1.000000</td>\n",
       "      <td>0.500000</td>\n",
       "    </tr>\n",
       "    <tr>\n",
       "      <th>12</th>\n",
       "      <td>ads</td>\n",
       "      <td>alsotri</td>\n",
       "      <td>1</td>\n",
       "      <td>6</td>\n",
       "      <td>53</td>\n",
       "      <td>8.833333</td>\n",
       "      <td>0.018868</td>\n",
       "    </tr>\n",
       "    <tr>\n",
       "      <th>13</th>\n",
       "      <td>ads</td>\n",
       "      <td>MonsterCrufix</td>\n",
       "      <td>1</td>\n",
       "      <td>5</td>\n",
       "      <td>12</td>\n",
       "      <td>2.400000</td>\n",
       "      <td>0.083333</td>\n",
       "    </tr>\n",
       "    <tr>\n",
       "      <th>14</th>\n",
       "      <td>ads</td>\n",
       "      <td>bestbingodeal15</td>\n",
       "      <td>1</td>\n",
       "      <td>1</td>\n",
       "      <td>1</td>\n",
       "      <td>1.000000</td>\n",
       "      <td>1.000000</td>\n",
       "    </tr>\n",
       "    <tr>\n",
       "      <th>15</th>\n",
       "      <td>ads</td>\n",
       "      <td>softwaremakerz</td>\n",
       "      <td>1</td>\n",
       "      <td>21</td>\n",
       "      <td>23</td>\n",
       "      <td>1.095238</td>\n",
       "      <td>0.043478</td>\n",
       "    </tr>\n",
       "  </tbody>\n",
       "</table>\n",
       "</div>"
      ],
      "text/plain": [
       "   subreddit           author  count  nsubreddit  comments  avg#comments  \\\n",
       "11       ads      johnrome784      1           2         2      1.000000   \n",
       "12       ads          alsotri      1           6        53      8.833333   \n",
       "13       ads    MonsterCrufix      1           5        12      2.400000   \n",
       "14       ads  bestbingodeal15      1           1         1      1.000000   \n",
       "15       ads   softwaremakerz      1          21        23      1.095238   \n",
       "\n",
       "      inRate  \n",
       "11  0.500000  \n",
       "12  0.018868  \n",
       "13  0.083333  \n",
       "14  1.000000  \n",
       "15  0.043478  "
      ]
     },
     "execution_count": 221,
     "metadata": {},
     "output_type": "execute_result"
    }
   ],
   "source": [
    "OutSubredditDf = pd.read_csv(data_file('SubredditOutCounts.csv'), index_col=0)\n",
    "authorCounts = countDf(OutSubredditDf, 'author')\n",
    "InSubredditDf = pd.read_csv(data_file('SubredditInCounts.csv'), index_col=0)\n",
    "merged = InSubredditDf.merge(authorCounts, left_on='author', right_index=True)\n",
    "merged['inRate'] = merged['count']/merged['comments']\n",
    "merged.head()"
   ]
  },
  {
   "cell_type": "code",
   "execution_count": 294,
   "metadata": {},
   "outputs": [],
   "source": [
    "avgInRates = merged.groupby('subreddit')['inRate'].median().sort_values()"
   ]
  },
  {
   "cell_type": "code",
   "execution_count": 308,
   "metadata": {},
   "outputs": [
    {
     "data": {
      "image/png": "[encoded data removed]",
      "text/plain": [
       "<matplotlib.figure.Figure at 0x13b899a58>"
      ]
     },
     "metadata": {},
     "output_type": "display_data"
    }
   ],
   "source": [
    "from itertools import cycle, islice\n",
    "\n",
    "def subPlot(df, variable):\n",
    "    counts = df.groupby('subreddit')[variable].median().sort_values()\n",
    "    fix, ax = plt.subplots()\n",
    "    \n",
    "    cols = ['black']*len(counts.index)\n",
    "    cols[counts.index.get_loc('changemyview')] = 'blue'\n",
    "    cols[counts.index.get_loc('The_Donald')] = 'red'\n",
    "    counts.plot(ax=ax, label='Random Subs', kind='bar', color=cols) # why cols not working?\n",
    "    plt.axvline(counts.index.get_loc('changemyview'), color='blue', label='CMV')\n",
    "    plt.axvline(counts.index.get_loc('The_Donald'), color='red', label='TD')\n",
    "    plt.ylabel(f'Median {variable}')\n",
    "    plt.legend(loc=2)\n",
    "    plt.title(f'Median {variable} Commented in by Subreddit Authors')\n",
    "    plt.tight_layout()\n",
    "\n",
    "df = merged[(merged['count']>100)&(merged['nsubreddit']>20)]\n",
    "subPlot(df, 'inRate')"
   ]
  },
  {
   "cell_type": "code",
   "execution_count": 310,
   "metadata": {},
   "outputs": [
    {
     "data": {
      "text/plain": [
       "count    11.000000\n",
       "mean      0.303903\n",
       "std       0.236416\n",
       "min       0.000288\n",
       "25%       0.115697\n",
       "50%       0.259271\n",
       "75%       0.461821\n",
       "max       0.683706\n",
       "Name: inRate, dtype: float64"
      ]
     },
     "execution_count": 310,
     "metadata": {},
     "output_type": "execute_result"
    }
   ],
   "source": [
    "df.groupby('subreddit')['inRate'].median().describe()"
   ]
  },
  {
   "cell_type": "code",
   "execution_count": 312,
   "metadata": {},
   "outputs": [
    {
     "data": {
      "text/plain": [
       "(11,)"
      ]
     },
     "execution_count": 312,
     "metadata": {},
     "output_type": "execute_result"
    }
   ],
   "source": [
    "df.groupby('subreddit')['inRate'].median().shape"
   ]
  },
  {
   "cell_type": "code",
   "execution_count": 313,
   "metadata": {},
   "outputs": [],
   "source": [
    "InSubredditDf = pd.read_csv(data_file('SubredditInCounts.csv'), index_col=0)"
   ]
  },
  {
   "cell_type": "code",
   "execution_count": 315,
   "metadata": {},
   "outputs": [
    {
     "data": {
      "text/plain": [
       "(310938,)"
      ]
     },
     "execution_count": 315,
     "metadata": {},
     "output_type": "execute_result"
    }
   ],
   "source": [
    "InSubredditDf.author.unique().shape"
   ]
  },
  {
   "cell_type": "code",
   "execution_count": 347,
   "metadata": {},
   "outputs": [
    {
     "name": "stderr",
     "output_type": "stream",
     "text": [
      "  0%|          | 0/20 [00:00<?, ?it/s]"
     ]
    },
    {
     "name": "stdout",
     "output_type": "stream",
     "text": [
      "Submitting query\n"
     ]
    },
    {
     "name": "stderr",
     "output_type": "stream",
     "text": [
      "\n",
      "0it [00:00, ?it/s]\u001b[A\n",
      "1it [00:01,  1.36s/it]\u001b[A\n",
      "2it [00:02,  1.38s/it]\u001b[A\n",
      "3it [00:04,  1.36s/it]\u001b[A\n",
      "\u001b[A\n",
      "  0%|          | 0/174502 [00:00<?, ?it/s]\u001b[A"
     ]
    },
    {
     "name": "stdout",
     "output_type": "stream",
     "text": [
      "Unpacking results\n"
     ]
    },
    {
     "name": "stderr",
     "output_type": "stream",
     "text": [
      "\n",
      "  0%|          | 1/174502 [00:04<237:11:41,  4.89s/it]\u001b[A\n",
      "  3%|▎         | 5069/174502 [00:05<02:47, 1012.85it/s]\u001b[A\n",
      "  5%|▌         | 9079/174502 [00:05<01:32, 1780.10it/s]\u001b[A\n",
      " 10%|█         | 18250/174502 [00:05<00:44, 3511.27it/s]\u001b[A\n",
      " 15%|█▍        | 25665/174502 [00:05<00:30, 4840.76it/s]\u001b[A\n",
      " 18%|█▊        | 30912/174502 [00:05<00:26, 5508.40it/s]\u001b[A\n",
      " 20%|██        | 35116/174502 [00:05<00:22, 6148.26it/s]\u001b[A\n",
      " 23%|██▎       | 40899/174502 [00:05<00:18, 7032.55it/s]\u001b[A\n",
      " 26%|██▋       | 46144/174502 [00:05<00:16, 7801.46it/s]\u001b[A\n",
      " 29%|██▉       | 50955/174502 [00:06<00:14, 8449.84it/s]\u001b[A\n",
      " 33%|███▎      | 57068/174502 [00:06<00:12, 9309.24it/s]\u001b[A\n",
      " 36%|███▌      | 62125/174502 [00:06<00:11, 9930.20it/s]\u001b[A\n",
      " 39%|███▉      | 67763/174502 [00:06<00:10, 10658.64it/s]\u001b[A\n",
      " 42%|████▏     | 72831/174502 [00:06<00:09, 11288.70it/s]\u001b[A\n",
      " 45%|████▍     | 77892/174502 [00:06<00:08, 11884.21it/s]\u001b[A\n",
      " 48%|████▊     | 82920/174502 [00:06<00:07, 12412.14it/s]\u001b[A\n",
      " 51%|█████     | 88238/174502 [00:06<00:06, 13015.84it/s]\u001b[A\n",
      " 53%|█████▎    | 93128/174502 [00:06<00:06, 13529.18it/s]\u001b[A\n",
      " 57%|█████▋    | 99502/174502 [00:06<00:05, 14247.39it/s]\u001b[A\n",
      " 60%|██████    | 104797/174502 [00:10<00:07, 9744.40it/s]\u001b[A\n",
      " 66%|██████▋   | 115931/174502 [00:10<00:05, 10680.44it/s]\u001b[A\n",
      " 73%|███████▎  | 126575/174502 [00:10<00:04, 11554.31it/s]\u001b[A\n",
      " 79%|███████▊  | 137053/174502 [00:11<00:03, 12395.88it/s]\u001b[A\n",
      " 84%|████████▍ | 146238/174502 [00:11<00:02, 13110.33it/s]\u001b[A\n",
      " 90%|█████████ | 157424/174502 [00:11<00:01, 13987.24it/s]\u001b[A\n",
      " 96%|█████████▋| 168301/174502 [00:11<00:00, 14821.66it/s]\u001b[A\n",
      "  5%|▌         | 1/20 [00:18<05:52, 18.55s/it]5252.98it/s]\u001b[A"
     ]
    },
    {
     "name": "stdout",
     "output_type": "stream",
     "text": [
      "Submitting query\n"
     ]
    },
    {
     "name": "stderr",
     "output_type": "stream",
     "text": [
      "\n",
      "0it [00:00, ?it/s]\u001b[A\n",
      "1it [00:01,  1.34s/it]\u001b[A\n",
      "2it [00:02,  1.33s/it]\u001b[A\n",
      "3it [00:03,  1.32s/it]\u001b[A\n",
      "4it [00:05,  1.34s/it]\u001b[A\n",
      "\u001b[A\n",
      "  0%|          | 0/221069 [00:00<?, ?it/s]\u001b[A"
     ]
    },
    {
     "name": "stdout",
     "output_type": "stream",
     "text": [
      "Unpacking results\n"
     ]
    },
    {
     "name": "stderr",
     "output_type": "stream",
     "text": [
      "\n",
      "  0%|          | 1/221069 [00:03<239:46:37,  3.90s/it]\u001b[A\n",
      "  5%|▌         | 11383/221069 [00:04<01:13, 2842.50it/s]\u001b[A\n",
      " 10%|▉         | 21753/221069 [00:04<00:37, 5298.55it/s]\u001b[A\n",
      " 14%|█▍        | 31725/221069 [00:04<00:25, 7543.77it/s]\u001b[A\n",
      " 18%|█▊        | 40076/221069 [00:04<00:19, 9309.48it/s]\u001b[A\n",
      " 23%|██▎       | 50056/221069 [00:04<00:15, 11362.93it/s]\u001b[A\n",
      " 28%|██▊       | 61986/221069 [00:04<00:11, 13759.82it/s]\u001b[A\n",
      " 33%|███▎      | 73119/221069 [00:04<00:09, 15879.08it/s]\u001b[A\n",
      " 38%|███▊      | 84814/221069 [00:04<00:07, 18026.53it/s]\u001b[A\n",
      " 43%|████▎     | 95739/221069 [00:04<00:06, 19922.55it/s]\u001b[A\n",
      " 48%|████▊     | 106280/221069 [00:08<00:09, 12212.22it/s]\u001b[A\n",
      " 53%|█████▎    | 117518/221069 [00:08<00:07, 13349.44it/s]\u001b[A\n",
      " 58%|█████▊    | 128987/221069 [00:08<00:06, 14487.74it/s]\u001b[A\n",
      " 64%|██████▎   | 140695/221069 [00:09<00:05, 15627.37it/s]\u001b[A\n",
      " 69%|██████▊   | 151908/221069 [00:09<00:04, 16686.52it/s]\u001b[A\n",
      " 74%|███████▍  | 163784/221069 [00:09<00:03, 17796.41it/s]\u001b[A\n",
      " 79%|███████▉  | 175020/221069 [00:09<00:02, 18813.31it/s]\u001b[A\n",
      " 84%|████████▍ | 186002/221069 [00:09<00:01, 19721.95it/s]\u001b[A\n",
      " 89%|████████▉ | 196267/221069 [00:09<00:01, 20578.00it/s]\u001b[A\n",
      " 93%|█████████▎| 206339/221069 [00:10<00:00, 18887.66it/s]\u001b[A\n",
      " 99%|█████████▉| 218498/221069 [00:11<00:00, 19820.06it/s]\u001b[A\n",
      " 10%|█         | 2/20 [00:37<05:33, 18.51s/it]9961.42it/s]\u001b[A"
     ]
    },
    {
     "name": "stdout",
     "output_type": "stream",
     "text": [
      "Submitting query\n"
     ]
    },
    {
     "name": "stderr",
     "output_type": "stream",
     "text": [
      "\n",
      "0it [00:00, ?it/s]\u001b[A\n",
      "1it [00:01,  1.39s/it]\u001b[A\n",
      "2it [00:02,  1.37s/it]\u001b[A\n",
      "3it [00:04,  1.35s/it]\u001b[A\n",
      "4it [00:05,  1.36s/it]\u001b[A\n",
      "5it [00:06,  1.38s/it]\u001b[A\n",
      "\u001b[A\n",
      "  0%|          | 0/104914 [00:00<?, ?it/s]\u001b[A"
     ]
    },
    {
     "name": "stdout",
     "output_type": "stream",
     "text": [
      "Unpacking results\n"
     ]
    },
    {
     "name": "stderr",
     "output_type": "stream",
     "text": [
      "\n",
      "  0%|          | 1/104914 [00:04<144:09:47,  4.95s/it]\u001b[A\n",
      "  8%|▊         | 8461/104914 [00:05<00:57, 1676.69it/s]\u001b[A\n",
      " 17%|█▋        | 17325/104914 [00:05<00:26, 3366.85it/s]\u001b[A\n",
      " 27%|██▋       | 28431/104914 [00:05<00:14, 5418.90it/s]\u001b[A\n",
      " 35%|███▍      | 36512/104914 [00:05<00:10, 6829.32it/s]\u001b[A\n",
      " 44%|████▎     | 45722/104914 [00:05<00:07, 8394.54it/s]\u001b[A\n",
      " 54%|█████▎    | 56324/104914 [00:05<00:04, 10154.32it/s]\u001b[A\n",
      " 65%|██████▌   | 68342/104914 [00:05<00:03, 12104.84it/s]\u001b[A\n",
      " 77%|███████▋  | 81142/104914 [00:05<00:01, 14121.80it/s]\u001b[A\n",
      " 89%|████████▉ | 93187/104914 [00:05<00:00, 15939.38it/s]\u001b[A\n",
      " 99%|█████████▉| 104174/104914 [00:06<00:00, 15508.95it/s]\u001b[A\n",
      " 15%|█▌        | 3/20 [00:52<04:59, 17.61s/it]5584.52it/s]\u001b[A"
     ]
    },
    {
     "name": "stdout",
     "output_type": "stream",
     "text": [
      "Submitting query\n"
     ]
    },
    {
     "name": "stderr",
     "output_type": "stream",
     "text": [
      "\n",
      "0it [00:00, ?it/s]\u001b[A\n",
      "1it [00:01,  1.32s/it]\u001b[A\n",
      "2it [00:02,  1.31s/it]\u001b[A\n",
      "3it [00:03,  1.33s/it]\u001b[A\n",
      "4it [00:05,  1.33s/it]\u001b[A\n",
      "\u001b[A\n",
      "  0%|          | 0/248857 [00:00<?, ?it/s]\u001b[A"
     ]
    },
    {
     "name": "stdout",
     "output_type": "stream",
     "text": [
      "Unpacking results\n"
     ]
    },
    {
     "name": "stderr",
     "output_type": "stream",
     "text": [
      "\n",
      "  0%|          | 1/248857 [00:03<273:17:50,  3.95s/it]\u001b[A\n",
      "  4%|▍         | 11150/248857 [00:04<01:26, 2751.12it/s]\u001b[A\n",
      "  9%|▊         | 21760/248857 [00:04<00:43, 5239.91it/s]\u001b[A\n",
      " 13%|█▎        | 31697/248857 [00:04<00:29, 7453.09it/s]\u001b[A\n",
      " 17%|█▋        | 42947/248857 [00:04<00:20, 9866.64it/s]\u001b[A\n",
      " 22%|██▏       | 54642/248857 [00:04<00:15, 12271.00it/s]\u001b[A\n",
      " 26%|██▌       | 64125/248857 [00:04<00:13, 14083.12it/s]\u001b[A\n",
      " 30%|██▉       | 73428/248857 [00:04<00:11, 15777.72it/s]\u001b[A\n",
      " 33%|███▎      | 82956/248857 [00:04<00:09, 17450.92it/s]\u001b[A\n",
      " 37%|███▋      | 93034/248857 [00:04<00:08, 19166.75it/s]\u001b[A\n",
      " 41%|████      | 102604/248857 [00:08<00:12, 11652.15it/s]\u001b[A\n",
      " 45%|████▍     | 111391/248857 [00:08<00:10, 12507.97it/s]\u001b[A\n",
      " 49%|████▉     | 122055/248857 [00:09<00:09, 13552.84it/s]\u001b[A\n",
      " 53%|█████▎    | 132323/248857 [00:09<00:08, 14530.43it/s]\u001b[A\n",
      " 58%|█████▊    | 143659/248857 [00:09<00:06, 15604.61it/s]\u001b[A\n",
      " 63%|██████▎   | 156379/248857 [00:09<00:05, 16803.14it/s]\u001b[A\n",
      " 68%|██████▊   | 168488/248857 [00:09<00:04, 17912.60it/s]\u001b[A\n",
      " 72%|███████▏  | 179523/248857 [00:09<00:03, 18847.18it/s]\u001b[A\n",
      " 76%|███████▋  | 190016/248857 [00:09<00:02, 19733.23it/s]\u001b[A\n",
      " 81%|████████  | 200393/248857 [00:12<00:02, 16543.18it/s]\u001b[A\n",
      " 83%|████████▎ | 207783/248857 [00:12<00:02, 16982.73it/s]\u001b[A\n",
      " 87%|████████▋ | 215906/248857 [00:12<00:01, 17503.20it/s]\u001b[A\n",
      " 91%|█████████ | 225951/248857 [00:12<00:01, 18170.78it/s]\u001b[A\n",
      " 94%|█████████▍| 234861/248857 [00:12<00:00, 18736.34it/s]\u001b[A\n",
      " 98%|█████████▊| 243238/248857 [00:12<00:00, 19158.41it/s]\u001b[A\n",
      " 20%|██        | 4/20 [01:13<04:52, 18.29s/it]9427.50it/s]\u001b[A"
     ]
    },
    {
     "name": "stdout",
     "output_type": "stream",
     "text": [
      "Submitting query\n"
     ]
    },
    {
     "name": "stderr",
     "output_type": "stream",
     "text": [
      "\n",
      "0it [00:00, ?it/s]\u001b[A\n",
      "1it [00:01,  1.31s/it]\u001b[A\n",
      "2it [00:02,  1.32s/it]\u001b[A\n",
      "3it [00:03,  1.31s/it]\u001b[A\n",
      "\u001b[A\n",
      "  0%|          | 0/142026 [00:00<?, ?it/s]\u001b[A"
     ]
    },
    {
     "name": "stdout",
     "output_type": "stream",
     "text": [
      "Unpacking results\n"
     ]
    },
    {
     "name": "stderr",
     "output_type": "stream",
     "text": [
      "\n",
      "  0%|          | 1/142026 [00:04<188:03:10,  4.77s/it]\u001b[A\n",
      "  6%|▋         | 9212/142026 [00:04<01:10, 1892.95it/s]\u001b[A\n",
      " 13%|█▎        | 19095/142026 [00:04<00:31, 3843.79it/s]\u001b[A\n",
      " 21%|██▏       | 30316/142026 [00:05<00:18, 5983.24it/s]\u001b[A\n",
      " 28%|██▊       | 40312/142026 [00:05<00:13, 7801.89it/s]\u001b[A\n",
      " 36%|███▌      | 51125/142026 [00:05<00:09, 9707.06it/s]\u001b[A\n",
      " 43%|████▎     | 61347/142026 [00:05<00:07, 11431.73it/s]\u001b[A\n",
      " 51%|█████     | 72634/142026 [00:05<00:05, 13285.66it/s]\u001b[A\n",
      " 58%|█████▊    | 82416/142026 [00:05<00:04, 14695.74it/s]\u001b[A\n",
      " 64%|██████▍   | 91352/142026 [00:05<00:03, 15993.15it/s]\u001b[A\n",
      " 71%|███████   | 100176/142026 [00:08<00:03, 11998.73it/s]\u001b[A\n",
      " 77%|███████▋  | 109600/142026 [00:08<00:02, 12970.08it/s]\u001b[A\n",
      " 83%|████████▎ | 118240/142026 [00:08<00:01, 13830.14it/s]\u001b[A\n",
      " 89%|████████▉ | 126434/142026 [00:08<00:01, 14617.57it/s]\u001b[A\n",
      " 95%|█████████▌| 135521/142026 [00:08<00:00, 15489.43it/s]\u001b[A\n",
      " 25%|██▌       | 5/20 [01:29<04:27, 17.87s/it]6072.03it/s]\u001b[A"
     ]
    },
    {
     "name": "stdout",
     "output_type": "stream",
     "text": [
      "Submitting query\n"
     ]
    },
    {
     "name": "stderr",
     "output_type": "stream",
     "text": [
      "\n",
      "0it [00:00, ?it/s]\u001b[A\n",
      "1it [00:01,  1.44s/it]\u001b[A\n",
      "2it [00:02,  1.40s/it]\u001b[A\n",
      "3it [00:04,  1.40s/it]\u001b[A\n",
      "\u001b[A\n",
      "  0%|          | 0/149984 [00:00<?, ?it/s]\u001b[A"
     ]
    },
    {
     "name": "stdout",
     "output_type": "stream",
     "text": [
      "Unpacking results\n"
     ]
    },
    {
     "name": "stderr",
     "output_type": "stream",
     "text": [
      "\n",
      "  0%|          | 1/149984 [00:04<189:50:18,  4.56s/it]\u001b[A\n",
      "  6%|▋         | 9520/149984 [00:04<01:08, 2044.61it/s]\u001b[A\n",
      " 13%|█▎        | 19983/149984 [00:04<00:30, 4201.17it/s]\u001b[A\n",
      " 20%|██        | 30744/149984 [00:04<00:18, 6329.52it/s]\u001b[A\n",
      " 27%|██▋       | 39796/149984 [00:04<00:13, 8027.53it/s]\u001b[A\n",
      " 33%|███▎      | 49477/149984 [00:05<00:10, 9776.99it/s]\u001b[A\n",
      " 39%|███▉      | 58903/149984 [00:05<00:07, 11422.59it/s]\u001b[A\n",
      " 47%|████▋     | 70882/149984 [00:05<00:05, 13485.51it/s]\u001b[A\n",
      " 54%|█████▍    | 81178/149984 [00:05<00:04, 15155.08it/s]\u001b[A\n",
      " 61%|██████    | 91446/149984 [00:05<00:03, 16759.29it/s]\u001b[A\n",
      " 68%|██████▊   | 101376/149984 [00:08<00:04, 12139.82it/s]\u001b[A\n",
      " 74%|███████▍  | 111654/149984 [00:08<00:02, 13212.46it/s]\u001b[A\n",
      " 83%|████████▎ | 124222/149984 [00:08<00:01, 14516.33it/s]\u001b[A\n",
      " 89%|████████▉ | 133608/149984 [00:08<00:01, 15417.99it/s]\u001b[A\n",
      " 95%|█████████▌| 142629/149984 [00:08<00:00, 16223.72it/s]\u001b[A\n",
      " 30%|███       | 6/20 [01:45<04:05, 17.50s/it]6840.12it/s]\u001b[A"
     ]
    },
    {
     "name": "stdout",
     "output_type": "stream",
     "text": [
      "Submitting query\n"
     ]
    },
    {
     "name": "stderr",
     "output_type": "stream",
     "text": [
      "\n",
      "0it [00:00, ?it/s]\u001b[A\n",
      "1it [00:01,  1.39s/it]\u001b[A\n",
      "2it [00:02,  1.36s/it]\u001b[A\n",
      "3it [00:04,  1.35s/it]\u001b[A\n",
      "\u001b[A\n",
      "  0%|          | 0/158117 [00:00<?, ?it/s]\u001b[A"
     ]
    },
    {
     "name": "stdout",
     "output_type": "stream",
     "text": [
      "Unpacking results\n"
     ]
    },
    {
     "name": "stderr",
     "output_type": "stream",
     "text": [
      "\n",
      "  0%|          | 1/158117 [00:04<199:28:18,  4.54s/it]\u001b[A\n",
      "  5%|▌         | 8468/158117 [00:04<01:22, 1823.99it/s]\u001b[A\n",
      " 12%|█▏        | 19067/158117 [00:04<00:34, 4020.82it/s]\u001b[A\n",
      " 19%|█▉        | 30408/158117 [00:04<00:20, 6280.84it/s]\u001b[A\n",
      " 26%|██▌       | 41207/158117 [00:04<00:14, 8339.18it/s]\u001b[A\n",
      " 34%|███▎      | 53189/158117 [00:05<00:09, 10549.25it/s]\u001b[A\n",
      " 41%|████      | 65186/158117 [00:05<00:07, 12676.41it/s]\u001b[A\n",
      " 48%|████▊     | 75246/158117 [00:05<00:05, 14334.81it/s]\u001b[A\n",
      " 55%|█████▍    | 86176/158117 [00:05<00:04, 16108.92it/s]\u001b[A\n",
      " 61%|██████    | 96689/158117 [00:05<00:03, 17744.17it/s]\u001b[A\n",
      " 68%|██████▊   | 106970/158117 [00:08<00:03, 13362.52it/s]\u001b[A\n",
      " 75%|███████▌  | 118749/158117 [00:08<00:02, 14649.74it/s]\u001b[A\n",
      " 82%|████████▏ | 130446/158117 [00:08<00:01, 15895.27it/s]\u001b[A\n",
      " 90%|█████████ | 142696/158117 [00:08<00:00, 17181.25it/s]\u001b[A\n",
      " 98%|█████████▊| 155007/158117 [00:08<00:00, 18441.64it/s]\u001b[A\n",
      " 35%|███▌      | 7/20 [02:00<03:43, 17.22s/it]8655.50it/s]\u001b[A"
     ]
    },
    {
     "name": "stdout",
     "output_type": "stream",
     "text": [
      "Submitting query\n"
     ]
    },
    {
     "name": "stderr",
     "output_type": "stream",
     "text": [
      "\n",
      "0it [00:00, ?it/s]\u001b[A\n",
      "1it [00:01,  1.33s/it]\u001b[A\n",
      "2it [00:02,  1.34s/it]\u001b[A\n",
      "3it [00:04,  1.34s/it]\u001b[A\n",
      "\u001b[A\n",
      "  0%|          | 0/124027 [00:00<?, ?it/s]\u001b[A"
     ]
    },
    {
     "name": "stdout",
     "output_type": "stream",
     "text": [
      "Unpacking results\n"
     ]
    },
    {
     "name": "stderr",
     "output_type": "stream",
     "text": [
      "\n",
      "  0%|          | 1/124027 [00:04<143:27:36,  4.16s/it]\u001b[A\n",
      "  9%|▉         | 11554/124027 [00:04<00:41, 2709.66it/s]\u001b[A\n",
      " 18%|█▊        | 22839/124027 [00:04<00:19, 5232.83it/s]\u001b[A\n",
      " 26%|██▋       | 32735/124027 [00:04<00:12, 7332.38it/s]\u001b[A\n",
      " 33%|███▎      | 40486/124027 [00:04<00:09, 8868.03it/s]\u001b[A\n",
      " 40%|████      | 49616/124027 [00:04<00:06, 10638.16it/s]\u001b[A\n",
      " 50%|█████     | 62335/124027 [00:04<00:04, 13084.35it/s]\u001b[A\n",
      " 60%|██████    | 74544/124027 [00:04<00:03, 15324.62it/s]\u001b[A\n",
      " 70%|███████   | 87279/124027 [00:04<00:02, 17578.58it/s]\u001b[A\n",
      " 80%|████████  | 99282/124027 [00:05<00:01, 19601.33it/s]\u001b[A\n",
      " 89%|████████▉ | 110537/124027 [00:06<00:00, 17250.94it/s]\u001b[A\n",
      " 97%|█████████▋| 120547/124027 [00:06<00:00, 18524.10it/s]\u001b[A\n",
      " 40%|████      | 8/20 [02:14<03:21, 16.79s/it]8865.36it/s]\u001b[A"
     ]
    },
    {
     "name": "stdout",
     "output_type": "stream",
     "text": [
      "Submitting query\n"
     ]
    },
    {
     "name": "stderr",
     "output_type": "stream",
     "text": [
      "\n",
      "0it [00:00, ?it/s]\u001b[A\n",
      "1it [00:01,  1.30s/it]\u001b[A\n",
      "2it [00:02,  1.31s/it]\u001b[A\n",
      "3it [00:04,  1.34s/it]\u001b[A\n",
      "\u001b[A\n",
      "  0%|          | 0/255435 [00:00<?, ?it/s]\u001b[A"
     ]
    },
    {
     "name": "stdout",
     "output_type": "stream",
     "text": [
      "Unpacking results\n"
     ]
    },
    {
     "name": "stderr",
     "output_type": "stream",
     "text": [
      "\n",
      "  0%|          | 1/255435 [00:03<256:30:39,  3.62s/it]\u001b[A\n",
      "  4%|▍         | 9875/255435 [00:03<01:32, 2658.36it/s]\u001b[A\n",
      "  9%|▊         | 22276/255435 [00:03<00:39, 5839.45it/s]\u001b[A\n",
      " 13%|█▎        | 33627/255435 [00:03<00:25, 8588.14it/s]\u001b[A\n",
      " 18%|█▊        | 45359/255435 [00:04<00:18, 11296.18it/s]\u001b[A\n",
      " 22%|██▏       | 57015/255435 [00:04<00:14, 13857.17it/s]\u001b[A\n",
      " 27%|██▋       | 69580/255435 [00:04<00:11, 16507.05it/s]\u001b[A\n",
      " 32%|███▏      | 80793/255435 [00:04<00:09, 18723.75it/s]\u001b[A\n",
      " 36%|███▋      | 92876/255435 [00:04<00:07, 21036.50it/s]\u001b[A\n",
      " 41%|████      | 104001/255435 [00:09<00:14, 10613.96it/s]\u001b[A\n",
      " 44%|████▍     | 111851/255435 [00:09<00:12, 11225.51it/s]\u001b[A\n",
      " 47%|████▋     | 119798/255435 [00:10<00:11, 11903.22it/s]\u001b[A\n",
      " 50%|████▉     | 127011/255435 [00:10<00:10, 12472.30it/s]\u001b[A\n",
      " 52%|█████▏    | 133877/255435 [00:10<00:09, 12905.58it/s]\u001b[A\n",
      " 57%|█████▋    | 145144/255435 [00:10<00:07, 13858.34it/s]\u001b[A\n",
      " 61%|██████▏   | 156796/255435 [00:10<00:06, 14828.05it/s]\u001b[A\n",
      " 66%|██████▌   | 168908/255435 [00:10<00:05, 15824.85it/s]\u001b[A\n",
      " 71%|███████   | 181841/255435 [00:10<00:04, 16878.49it/s]\u001b[A\n",
      " 76%|███████▌  | 194017/255435 [00:10<00:03, 17842.92it/s]\u001b[A\n",
      " 80%|████████  | 205167/255435 [00:13<00:03, 15146.45it/s]\u001b[A\n",
      " 85%|████████▍ | 216809/255435 [00:13<00:02, 15889.47it/s]\u001b[A\n",
      " 89%|████████▉ | 227582/255435 [00:13<00:01, 16557.63it/s]\u001b[A\n",
      " 94%|█████████▍| 240620/255435 [00:13<00:00, 17379.15it/s]\u001b[A\n",
      " 99%|█████████▉| 252433/255435 [00:13<00:00, 18101.48it/s]\u001b[A\n",
      " 45%|████▌     | 9/20 [02:35<03:09, 17.25s/it]8224.91it/s]\u001b[A"
     ]
    },
    {
     "name": "stdout",
     "output_type": "stream",
     "text": [
      "Submitting query\n"
     ]
    },
    {
     "name": "stderr",
     "output_type": "stream",
     "text": [
      "\n",
      "0it [00:00, ?it/s]\u001b[A\n",
      "1it [00:01,  1.38s/it]\u001b[A\n",
      "2it [00:02,  1.36s/it]\u001b[A\n",
      "3it [00:03,  1.34s/it]\u001b[A\n",
      "4it [00:05,  1.35s/it]\u001b[A\n",
      "\u001b[A\n",
      "  0%|          | 0/236568 [00:00<?, ?it/s]\u001b[A"
     ]
    },
    {
     "name": "stdout",
     "output_type": "stream",
     "text": [
      "Unpacking results\n"
     ]
    },
    {
     "name": "stderr",
     "output_type": "stream",
     "text": [
      "\n",
      "  0%|          | 1/236568 [00:04<311:17:00,  4.74s/it]\u001b[A\n",
      "  4%|▎         | 8799/236568 [00:04<02:05, 1819.53it/s]\u001b[A\n",
      "  8%|▊         | 20009/236568 [00:04<00:53, 4053.89it/s]\u001b[A\n",
      " 14%|█▍        | 32599/236568 [00:05<00:31, 6472.46it/s]\u001b[A\n",
      " 19%|█▊        | 44079/236568 [00:05<00:22, 8582.34it/s]\u001b[A\n",
      " 24%|██▍       | 56958/236568 [00:05<00:16, 10878.63it/s]\u001b[A\n",
      " 29%|██▊       | 67952/236568 [00:05<00:13, 12734.16it/s]\u001b[A\n",
      " 34%|███▍      | 80885/236568 [00:05<00:10, 14879.27it/s]\u001b[A\n",
      " 39%|███▉      | 93431/236568 [00:05<00:08, 16876.16it/s]\u001b[A\n",
      " 44%|████▍     | 104927/236568 [00:09<00:12, 10939.08it/s]\u001b[A\n",
      " 49%|████▉     | 116768/236568 [00:09<00:09, 12048.58it/s]\u001b[A\n",
      " 54%|█████▍    | 128032/236568 [00:09<00:08, 13075.84it/s]\u001b[A\n",
      " 59%|█████▉    | 140021/236568 [00:09<00:06, 14155.88it/s]\u001b[A\n",
      " 64%|██████▍   | 151851/236568 [00:09<00:05, 15196.48it/s]\u001b[A\n",
      " 69%|██████▉   | 162745/236568 [00:10<00:04, 16095.91it/s]\u001b[A\n",
      " 73%|███████▎  | 173141/236568 [00:10<00:03, 16956.18it/s]\u001b[A\n",
      " 78%|███████▊  | 183494/236568 [00:10<00:02, 17793.64it/s]\u001b[A\n",
      " 82%|████████▏ | 194467/236568 [00:10<00:02, 18676.67it/s]\u001b[A\n",
      " 87%|████████▋ | 204976/236568 [00:12<00:01, 16768.25it/s]\u001b[A\n",
      " 92%|█████████▏| 217511/236568 [00:12<00:01, 17649.04it/s]\u001b[A\n",
      " 96%|█████████▋| 228137/236568 [00:12<00:00, 18361.67it/s]\u001b[A\n",
      " 50%|█████     | 10/20 [02:55<02:55, 17.55s/it]898.45it/s]\u001b[A"
     ]
    },
    {
     "name": "stdout",
     "output_type": "stream",
     "text": [
      "Submitting query\n"
     ]
    },
    {
     "name": "stderr",
     "output_type": "stream",
     "text": [
      "\n",
      "0it [00:00, ?it/s]\u001b[A\n",
      "1it [00:01,  1.35s/it]\u001b[A\n",
      "2it [00:02,  1.34s/it]\u001b[A\n",
      "3it [00:03,  1.33s/it]\u001b[A\n",
      "\u001b[A\n",
      "  0%|          | 0/181623 [00:00<?, ?it/s]\u001b[A"
     ]
    },
    {
     "name": "stdout",
     "output_type": "stream",
     "text": [
      "Unpacking results\n"
     ]
    },
    {
     "name": "stderr",
     "output_type": "stream",
     "text": [
      "\n",
      "  0%|          | 1/181623 [00:03<184:15:10,  3.65s/it]\u001b[A\n",
      "  4%|▍         | 8075/181623 [00:03<01:20, 2152.37it/s]\u001b[A\n",
      " 11%|█▏        | 20448/181623 [00:03<00:30, 5310.52it/s]\u001b[A\n",
      " 17%|█▋        | 30322/181623 [00:03<00:19, 7675.80it/s]\u001b[A\n",
      " 23%|██▎       | 42059/181623 [00:04<00:13, 10380.85it/s]\u001b[A\n",
      " 29%|██▉       | 52830/181623 [00:04<00:10, 12727.86it/s]\u001b[A\n",
      " 34%|███▍      | 61832/181623 [00:04<00:08, 14521.50it/s]\u001b[A\n",
      " 40%|████      | 73034/181623 [00:04<00:06, 16761.96it/s]\u001b[A\n",
      " 45%|████▌     | 82572/181623 [00:04<00:05, 18452.00it/s]\u001b[A\n",
      " 51%|█████     | 91988/181623 [00:04<00:04, 20109.06it/s]\u001b[A\n",
      " 56%|█████▌    | 101199/181623 [00:08<00:06, 12104.55it/s]\u001b[A\n",
      " 61%|██████    | 110429/181623 [00:08<00:05, 13051.64it/s]\u001b[A\n",
      " 67%|██████▋   | 121070/181623 [00:08<00:04, 14142.02it/s]\u001b[A\n",
      " 73%|███████▎  | 132527/181623 [00:08<00:03, 15302.68it/s]\u001b[A\n",
      " 79%|███████▉  | 143935/181623 [00:08<00:02, 16430.44it/s]\u001b[A\n",
      " 85%|████████▍ | 153872/181623 [00:08<00:01, 17364.97it/s]\u001b[A\n",
      " 92%|█████████▏| 166672/181623 [00:08<00:00, 18599.71it/s]\u001b[A\n",
      " 98%|█████████▊| 178665/181623 [00:09<00:00, 19717.44it/s]\u001b[A\n",
      " 55%|█████▌    | 11/20 [03:11<02:37, 17.45s/it]868.80it/s]\u001b[A"
     ]
    },
    {
     "name": "stdout",
     "output_type": "stream",
     "text": [
      "Submitting query\n"
     ]
    },
    {
     "name": "stderr",
     "output_type": "stream",
     "text": [
      "\n",
      "0it [00:00, ?it/s]\u001b[A\n",
      "1it [00:01,  1.39s/it]\u001b[A\n",
      "2it [00:02,  1.36s/it]\u001b[A\n",
      "3it [00:04,  1.37s/it]\u001b[A\n",
      "\u001b[A\n",
      "  0%|          | 0/167594 [00:00<?, ?it/s]\u001b[A"
     ]
    },
    {
     "name": "stdout",
     "output_type": "stream",
     "text": [
      "Unpacking results\n"
     ]
    },
    {
     "name": "stderr",
     "output_type": "stream",
     "text": [
      "\n",
      "  0%|          | 1/167594 [00:04<207:00:16,  4.45s/it]\u001b[A\n",
      "  7%|▋         | 11626/167594 [00:04<01:00, 2557.25it/s]\u001b[A\n",
      " 14%|█▎        | 23000/167594 [00:04<00:29, 4950.34it/s]\u001b[A\n",
      " 21%|██        | 34824/167594 [00:04<00:18, 7335.46it/s]\u001b[A\n",
      " 28%|██▊       | 46862/167594 [00:04<00:12, 9669.42it/s]\u001b[A\n",
      " 35%|███▌      | 59371/167594 [00:04<00:09, 12003.33it/s]\u001b[A\n",
      " 43%|████▎     | 71552/167594 [00:05<00:06, 14178.18it/s]\u001b[A\n",
      " 49%|████▉     | 82532/167594 [00:05<00:05, 16034.08it/s]\u001b[A\n",
      " 56%|█████▋    | 94562/167594 [00:05<00:04, 18023.29it/s]\u001b[A\n",
      " 63%|██████▎   | 105706/167594 [00:08<00:04, 12674.44it/s]\u001b[A\n",
      " 68%|██████▊   | 114464/167594 [00:08<00:03, 13561.49it/s]\u001b[A\n",
      " 75%|███████▍  | 125226/167594 [00:08<00:02, 14663.75it/s]\u001b[A\n",
      " 81%|████████  | 135741/167594 [00:08<00:02, 15710.71it/s]\u001b[A\n",
      " 88%|████████▊ | 147171/167594 [00:08<00:01, 16838.38it/s]\u001b[A\n",
      " 95%|█████████▌| 159374/167594 [00:08<00:00, 18029.05it/s]\u001b[A\n",
      " 60%|██████    | 12/20 [03:27<02:18, 17.31s/it]726.85it/s]\u001b[A"
     ]
    },
    {
     "name": "stdout",
     "output_type": "stream",
     "text": [
      "Submitting query\n"
     ]
    },
    {
     "name": "stderr",
     "output_type": "stream",
     "text": [
      "\n",
      "0it [00:00, ?it/s]\u001b[A\n",
      "1it [00:01,  1.38s/it]\u001b[A\n",
      "2it [00:02,  1.36s/it]\u001b[A\n",
      "3it [00:04,  1.35s/it]\u001b[A\n",
      "\u001b[A\n",
      "  0%|          | 0/216465 [00:00<?, ?it/s]\u001b[A"
     ]
    },
    {
     "name": "stdout",
     "output_type": "stream",
     "text": [
      "Unpacking results\n"
     ]
    },
    {
     "name": "stderr",
     "output_type": "stream",
     "text": [
      "\n",
      "  0%|          | 1/216465 [00:03<226:45:13,  3.77s/it]\u001b[A\n",
      "  3%|▎         | 7447/216465 [00:03<01:48, 1922.66it/s]\u001b[A\n",
      "  7%|▋         | 16170/216465 [00:03<00:49, 4072.24it/s]\u001b[A\n",
      " 13%|█▎        | 27123/216465 [00:04<00:28, 6662.87it/s]\u001b[A\n",
      " 18%|█▊        | 38162/216465 [00:04<00:19, 9147.12it/s]\u001b[A\n",
      " 23%|██▎       | 50291/216465 [00:04<00:14, 11774.26it/s]\u001b[A\n",
      " 29%|██▊       | 61971/216465 [00:04<00:10, 14178.52it/s]\u001b[A\n",
      " 34%|███▍      | 73522/216465 [00:04<00:08, 16444.76it/s]\u001b[A\n",
      " 39%|███▉      | 84729/216465 [00:04<00:07, 18535.20it/s]\u001b[A\n",
      " 44%|████▍     | 96038/216465 [00:04<00:05, 20558.94it/s]\u001b[A\n",
      " 49%|████▉     | 106845/216465 [00:08<00:08, 12495.35it/s]\u001b[A\n",
      " 55%|█████▍    | 118666/216465 [00:08<00:07, 13716.14it/s]\u001b[A\n",
      " 60%|█████▉    | 129221/216465 [00:08<00:05, 14766.04it/s]\u001b[A\n",
      " 65%|██████▍   | 140506/216465 [00:08<00:04, 15874.30it/s]\u001b[A\n",
      " 70%|███████   | 152341/216465 [00:08<00:03, 17019.00it/s]\u001b[A\n",
      " 76%|███████▌  | 164292/216465 [00:09<00:02, 18151.16it/s]\u001b[A\n",
      " 81%|████████▏ | 176201/216465 [00:09<00:02, 19254.59it/s]\u001b[A\n",
      " 87%|████████▋ | 188262/216465 [00:09<00:01, 20347.74it/s]\u001b[A\n",
      " 92%|█████████▏| 200001/216465 [00:10<00:00, 18572.29it/s]\u001b[A\n",
      " 97%|█████████▋| 210958/216465 [00:10<00:00, 19408.47it/s]\u001b[A\n",
      " 65%|██████▌   | 13/20 [03:45<02:01, 17.33s/it]799.51it/s]\u001b[A"
     ]
    },
    {
     "name": "stdout",
     "output_type": "stream",
     "text": [
      "Submitting query\n"
     ]
    },
    {
     "name": "stderr",
     "output_type": "stream",
     "text": [
      "\n",
      "0it [00:00, ?it/s]\u001b[A\n",
      "1it [00:01,  1.31s/it]\u001b[A\n",
      "2it [00:02,  1.30s/it]\u001b[A\n",
      "3it [00:03,  1.30s/it]\u001b[A\n",
      "\u001b[A\n",
      "  0%|          | 0/186137 [00:00<?, ?it/s]\u001b[A"
     ]
    },
    {
     "name": "stdout",
     "output_type": "stream",
     "text": [
      "Unpacking results\n"
     ]
    },
    {
     "name": "stderr",
     "output_type": "stream",
     "text": [
      "\n",
      "  0%|          | 1/186137 [00:04<220:15:35,  4.26s/it]\u001b[A\n",
      "  5%|▌         | 10011/186137 [00:04<01:16, 2295.91it/s]\u001b[A\n",
      " 12%|█▏        | 21794/186137 [00:04<00:33, 4886.45it/s]\u001b[A\n",
      " 18%|█▊        | 32952/186137 [00:04<00:21, 7225.33it/s]\u001b[A\n",
      " 24%|██▍       | 44957/186137 [00:04<00:14, 9645.82it/s]\u001b[A\n",
      " 31%|███       | 56947/186137 [00:04<00:10, 11964.04it/s]\u001b[A\n",
      " 37%|███▋      | 69209/186137 [00:04<00:08, 14237.41it/s]\u001b[A\n",
      " 43%|████▎     | 79672/186137 [00:04<00:06, 16052.82it/s]\u001b[A\n",
      " 49%|████▉     | 91488/186137 [00:05<00:05, 18069.68it/s]\u001b[A\n",
      " 55%|█████▍    | 102296/186137 [00:09<00:07, 11213.08it/s]\u001b[A\n",
      " 60%|██████    | 112339/186137 [00:09<00:06, 12179.37it/s]\u001b[A\n",
      " 66%|██████▌   | 122150/186137 [00:09<00:04, 13100.93it/s]\u001b[A\n",
      " 71%|███████   | 132469/186137 [00:09<00:03, 14058.17it/s]\u001b[A\n",
      " 78%|███████▊  | 145914/186137 [00:09<00:02, 15321.98it/s]\u001b[A\n",
      " 85%|████████▌ | 158274/186137 [00:09<00:01, 16445.93it/s]\u001b[A\n",
      " 92%|█████████▏| 170602/186137 [00:09<00:00, 17546.25it/s]\u001b[A\n",
      " 98%|█████████▊| 182995/186137 [00:09<00:00, 18628.09it/s]\u001b[A\n",
      " 70%|███████   | 14/20 [04:02<01:43, 17.31s/it]788.34it/s]\u001b[A"
     ]
    },
    {
     "name": "stdout",
     "output_type": "stream",
     "text": [
      "Submitting query\n"
     ]
    },
    {
     "name": "stderr",
     "output_type": "stream",
     "text": [
      "\n",
      "0it [00:00, ?it/s]\u001b[A\n",
      "1it [00:01,  1.30s/it]\u001b[A\n",
      "2it [00:02,  1.34s/it]\u001b[A\n",
      "3it [00:04,  1.34s/it]\u001b[A\n",
      "\u001b[A\n",
      "  0%|          | 0/205435 [00:00<?, ?it/s]\u001b[A"
     ]
    },
    {
     "name": "stdout",
     "output_type": "stream",
     "text": [
      "Unpacking results\n"
     ]
    },
    {
     "name": "stderr",
     "output_type": "stream",
     "text": [
      "\n",
      "  0%|          | 1/205435 [00:05<286:46:07,  5.03s/it]\u001b[A\n",
      "  2%|▏         | 4392/205435 [00:05<03:54, 856.85it/s]\u001b[A\n",
      "  6%|▌         | 11546/205435 [00:05<01:27, 2209.18it/s]\u001b[A\n",
      " 10%|█         | 20718/205435 [00:05<00:47, 3890.60it/s]\u001b[A\n",
      " 16%|█▌        | 31909/205435 [00:05<00:29, 5880.41it/s]\u001b[A\n",
      " 21%|██        | 42677/205435 [00:05<00:21, 7724.56it/s]\u001b[A\n",
      " 25%|██▍       | 50658/205435 [00:05<00:17, 8973.45it/s]\u001b[A\n",
      " 29%|██▊       | 58984/205435 [00:05<00:14, 10267.67it/s]\u001b[A\n",
      " 33%|███▎      | 67652/205435 [00:05<00:11, 11571.47it/s]\u001b[A\n",
      " 37%|███▋      | 75718/205435 [00:05<00:10, 12707.57it/s]\u001b[A\n",
      " 41%|████      | 83499/205435 [00:06<00:08, 13771.78it/s]\u001b[A\n",
      " 45%|████▌     | 93150/205435 [00:06<00:07, 15113.26it/s]\u001b[A\n",
      " 49%|████▉     | 101420/205435 [00:10<00:10, 9729.75it/s]\u001b[A\n",
      " 55%|█████▍    | 112630/205435 [00:10<00:08, 10702.34it/s]\u001b[A\n",
      " 61%|██████    | 124420/205435 [00:10<00:06, 11710.74it/s]\u001b[A\n",
      " 66%|██████▌   | 135724/205435 [00:10<00:05, 12655.73it/s]\u001b[A\n",
      " 72%|███████▏  | 147126/205435 [00:10<00:04, 13592.91it/s]\u001b[A\n",
      " 77%|███████▋  | 158498/205435 [00:10<00:03, 14508.99it/s]\u001b[A\n",
      " 83%|████████▎ | 170685/205435 [00:11<00:02, 15482.91it/s]\u001b[A\n",
      " 89%|████████▉ | 183103/205435 [00:11<00:01, 16457.56it/s]\u001b[A\n",
      " 95%|█████████▌| 195753/205435 [00:11<00:00, 17440.69it/s]\u001b[A\n",
      " 75%|███████▌  | 15/20 [04:21<01:27, 17.42s/it]125.89it/s]\u001b[A"
     ]
    },
    {
     "name": "stdout",
     "output_type": "stream",
     "text": [
      "Submitting query\n"
     ]
    },
    {
     "name": "stderr",
     "output_type": "stream",
     "text": [
      "\n",
      "0it [00:00, ?it/s]\u001b[A\n",
      "1it [00:01,  1.39s/it]\u001b[A\n",
      "2it [00:02,  1.36s/it]\u001b[A\n",
      "3it [00:04,  1.36s/it]\u001b[A\n",
      "\u001b[A\n",
      "  0%|          | 0/195315 [00:00<?, ?it/s]\u001b[A"
     ]
    },
    {
     "name": "stdout",
     "output_type": "stream",
     "text": [
      "Unpacking results\n"
     ]
    },
    {
     "name": "stderr",
     "output_type": "stream",
     "text": [
      "\n",
      "  0%|          | 1/195315 [00:04<225:29:53,  4.16s/it]\u001b[A\n",
      "  3%|▎         | 6653/195315 [00:04<02:00, 1563.11it/s]\u001b[A\n",
      "  9%|▊         | 16831/195315 [00:04<00:46, 3863.26it/s]\u001b[A\n",
      " 15%|█▍        | 29137/195315 [00:04<00:25, 6537.93it/s]\u001b[A\n",
      " 21%|██        | 40808/195315 [00:04<00:17, 8952.40it/s]\u001b[A\n",
      " 27%|██▋       | 53699/195315 [00:04<00:12, 11531.63it/s]\u001b[A\n",
      " 33%|███▎      | 64409/195315 [00:04<00:09, 13538.40it/s]\u001b[A\n",
      " 38%|███▊      | 74375/195315 [00:04<00:07, 15307.96it/s]\u001b[A\n",
      " 45%|████▍     | 86986/195315 [00:04<00:06, 17543.66it/s]\u001b[A\n",
      " 51%|█████     | 99962/195315 [00:05<00:04, 19760.19it/s]\u001b[A\n",
      " 57%|█████▋    | 111362/195315 [00:09<00:07, 11408.33it/s]\u001b[A\n",
      " 63%|██████▎   | 122130/195315 [00:09<00:05, 12383.30it/s]\u001b[A\n",
      " 69%|██████▉   | 134280/195315 [00:09<00:04, 13478.28it/s]\u001b[A\n",
      " 75%|███████▌  | 146759/195315 [00:10<00:03, 14585.36it/s]\u001b[A\n",
      " 81%|████████  | 158448/195315 [00:10<00:02, 15592.09it/s]\u001b[A\n",
      " 88%|████████▊ | 171221/195315 [00:10<00:01, 16685.28it/s]\u001b[A\n",
      " 94%|█████████▍| 184507/195315 [00:10<00:00, 17805.96it/s]\u001b[A\n",
      " 80%|████████  | 16/20 [04:38<01:09, 17.42s/it]577.63it/s]\u001b[A"
     ]
    },
    {
     "name": "stdout",
     "output_type": "stream",
     "text": [
      "Submitting query\n"
     ]
    },
    {
     "name": "stderr",
     "output_type": "stream",
     "text": [
      "\n",
      "0it [00:00, ?it/s]\u001b[A\n",
      "1it [00:01,  1.37s/it]\u001b[A\n",
      "2it [00:02,  1.36s/it]\u001b[A\n",
      "3it [00:04,  1.35s/it]\u001b[A\n",
      "\u001b[A\n",
      "  0%|          | 0/194016 [00:00<?, ?it/s]\u001b[A"
     ]
    },
    {
     "name": "stdout",
     "output_type": "stream",
     "text": [
      "Unpacking results\n"
     ]
    },
    {
     "name": "stderr",
     "output_type": "stream",
     "text": [
      "\n",
      "  0%|          | 1/194016 [00:04<266:51:19,  4.95s/it]\u001b[A\n",
      "  6%|▌         | 11311/194016 [00:05<01:21, 2239.31it/s]\u001b[A\n",
      " 11%|█▏        | 22305/194016 [00:05<00:39, 4330.24it/s]\u001b[A\n",
      " 17%|█▋        | 33447/194016 [00:05<00:25, 6369.18it/s]\u001b[A\n",
      " 23%|██▎       | 44321/194016 [00:05<00:18, 8282.35it/s]\u001b[A\n",
      " 29%|██▉       | 55908/194016 [00:05<00:13, 10256.47it/s]\u001b[A\n",
      " 34%|███▍      | 66916/194016 [00:05<00:10, 12053.01it/s]\u001b[A\n",
      " 40%|████      | 78397/194016 [00:05<00:08, 13870.89it/s]\u001b[A\n",
      " 46%|████▋     | 89854/194016 [00:05<00:06, 15623.39it/s]\u001b[A\n",
      " 52%|█████▏    | 100525/194016 [00:09<00:09, 10211.57it/s]\u001b[A\n",
      " 57%|█████▋    | 110682/194016 [00:09<00:07, 11130.33it/s]\u001b[A\n",
      " 63%|██████▎   | 123053/194016 [00:10<00:05, 12250.77it/s]\u001b[A\n",
      " 69%|██████▉   | 133708/194016 [00:10<00:04, 13180.02it/s]\u001b[A\n",
      " 75%|███████▍  | 145510/194016 [00:10<00:03, 14202.76it/s]\u001b[A\n",
      " 80%|████████  | 156088/194016 [00:10<00:02, 15089.03it/s]\u001b[A\n",
      " 86%|████████▌ | 166920/194016 [00:10<00:01, 15981.55it/s]\u001b[A\n",
      " 92%|█████████▏| 178616/194016 [00:10<00:00, 16939.41it/s]\u001b[A\n",
      " 98%|█████████▊| 190367/194016 [00:10<00:00, 17883.63it/s]\u001b[A\n",
      " 85%|████████▌ | 17/20 [04:56<00:52, 17.44s/it]059.61it/s]\u001b[A"
     ]
    },
    {
     "name": "stdout",
     "output_type": "stream",
     "text": [
      "Submitting query\n"
     ]
    },
    {
     "name": "stderr",
     "output_type": "stream",
     "text": [
      "\n",
      "0it [00:00, ?it/s]\u001b[A\n",
      "1it [00:01,  1.35s/it]\u001b[A\n",
      "2it [00:02,  1.33s/it]\u001b[A\n",
      "3it [00:04,  1.35s/it]\u001b[A\n",
      "4it [00:05,  1.33s/it]\u001b[A\n",
      "\u001b[A\n",
      "  0%|          | 0/198157 [00:00<?, ?it/s]\u001b[A"
     ]
    },
    {
     "name": "stdout",
     "output_type": "stream",
     "text": [
      "Unpacking results\n"
     ]
    },
    {
     "name": "stderr",
     "output_type": "stream",
     "text": [
      "\n",
      "  0%|          | 1/198157 [00:04<252:23:25,  4.59s/it]\u001b[A\n",
      "  6%|▌         | 11753/198157 [00:04<01:14, 2508.54it/s]\u001b[A\n",
      " 11%|█▏        | 22555/198157 [00:04<00:37, 4712.36it/s]\u001b[A\n",
      " 18%|█▊        | 34962/198157 [00:04<00:22, 7155.12it/s]\u001b[A\n",
      " 22%|██▏       | 42680/198157 [00:05<00:18, 8332.96it/s]\u001b[A\n",
      " 26%|██▋       | 52356/198157 [00:05<00:14, 10027.21it/s]\u001b[A\n",
      " 30%|███       | 59729/198157 [00:05<00:13, 10644.30it/s]\u001b[A\n",
      " 35%|███▍      | 68673/198157 [00:05<00:10, 12024.13it/s]\u001b[A\n",
      " 38%|███▊      | 75366/198157 [00:05<00:09, 12829.61it/s]\u001b[A\n",
      " 43%|████▎     | 84509/198157 [00:05<00:08, 14145.74it/s]\u001b[A\n",
      " 46%|████▌     | 91391/198157 [00:06<00:07, 14917.36it/s]\u001b[A\n",
      " 49%|████▉     | 97564/198157 [00:06<00:06, 15591.07it/s]\u001b[A\n",
      " 52%|█████▏    | 103305/198157 [00:11<00:10, 8978.55it/s]\u001b[A\n",
      " 57%|█████▋    | 112206/198157 [00:11<00:08, 9667.90it/s]\u001b[A\n",
      " 62%|██████▏   | 123627/198157 [00:11<00:07, 10561.17it/s]\u001b[A\n",
      " 68%|██████▊   | 134960/198157 [00:11<00:05, 11431.76it/s]\u001b[A\n",
      " 74%|███████▍  | 146244/198157 [00:11<00:04, 12282.90it/s]\u001b[A\n",
      " 80%|████████  | 159311/198157 [00:12<00:02, 13269.24it/s]\u001b[A\n",
      " 86%|████████▌ | 169764/198157 [00:12<00:02, 14022.87it/s]\u001b[A\n",
      " 92%|█████████▏| 181874/198157 [00:12<00:01, 14900.19it/s]\u001b[A\n",
      " 98%|█████████▊| 193841/198157 [00:12<00:00, 15751.87it/s]\u001b[A\n",
      " 90%|█████████ | 18/20 [05:17<00:35, 17.66s/it]968.76it/s]\u001b[A"
     ]
    },
    {
     "name": "stdout",
     "output_type": "stream",
     "text": [
      "Submitting query\n"
     ]
    },
    {
     "name": "stderr",
     "output_type": "stream",
     "text": [
      "\n",
      "0it [00:00, ?it/s]\u001b[A\n",
      "1it [00:01,  1.47s/it]\u001b[A\n",
      "2it [00:02,  1.42s/it]\u001b[A\n",
      "3it [00:04,  1.42s/it]\u001b[A\n",
      "\u001b[A\n",
      "  0%|          | 0/203381 [00:00<?, ?it/s]\u001b[A"
     ]
    },
    {
     "name": "stdout",
     "output_type": "stream",
     "text": [
      "Unpacking results\n"
     ]
    },
    {
     "name": "stderr",
     "output_type": "stream",
     "text": [
      "\n",
      "  0%|          | 1/203381 [00:04<273:17:08,  4.84s/it]\u001b[A\n",
      "  2%|▏         | 5008/203381 [00:04<03:15, 1013.30it/s]\u001b[A\n",
      "  6%|▌         | 12026/203381 [00:05<01:20, 2385.66it/s]\u001b[A\n",
      " 10%|▉         | 19760/203381 [00:05<00:47, 3845.48it/s]\u001b[A\n",
      " 13%|█▎        | 25777/203381 [00:05<00:36, 4920.70it/s]\u001b[A\n",
      " 16%|█▌        | 32602/203381 [00:05<00:27, 6107.33it/s]\u001b[A\n",
      " 19%|█▉        | 39481/203381 [00:05<00:22, 7260.00it/s]\u001b[A\n",
      " 23%|██▎       | 46277/203381 [00:05<00:18, 8355.33it/s]\u001b[A\n",
      " 27%|██▋       | 54310/203381 [00:05<00:15, 9630.39it/s]\u001b[A\n",
      " 31%|███       | 63208/203381 [00:05<00:12, 11013.44it/s]\u001b[A\n",
      " 35%|███▌      | 71358/203381 [00:05<00:10, 12222.45it/s]\u001b[A\n",
      " 40%|████      | 81890/203381 [00:05<00:08, 13789.32it/s]\u001b[A\n",
      " 45%|████▍     | 90771/203381 [00:06<00:07, 15030.29it/s]\u001b[A\n",
      " 49%|████▉     | 99380/203381 [00:06<00:06, 16153.98it/s]\u001b[A\n",
      " 53%|█████▎    | 107691/203381 [00:10<00:09, 10454.77it/s]\u001b[A\n",
      " 56%|█████▌    | 113569/203381 [00:10<00:08, 10906.43it/s]\u001b[A\n",
      " 59%|█████▊    | 119286/203381 [00:10<00:07, 11337.04it/s]\u001b[A\n",
      " 62%|██████▏   | 125779/203381 [00:10<00:06, 11843.60it/s]\u001b[A\n",
      " 65%|██████▍   | 131993/203381 [00:10<00:05, 12311.91it/s]\u001b[A\n",
      " 68%|██████▊   | 138410/203381 [00:10<00:05, 12790.29it/s]\u001b[A\n",
      " 72%|███████▏  | 146680/203381 [00:10<00:04, 13428.07it/s]\u001b[A\n",
      " 75%|███████▌  | 153514/203381 [00:11<00:03, 13927.49it/s]\u001b[A\n",
      " 80%|███████▉  | 162431/203381 [00:11<00:02, 14604.07it/s]\u001b[A\n",
      " 84%|████████▍ | 171090/203381 [00:11<00:02, 15244.86it/s]\u001b[A\n",
      " 88%|████████▊ | 178944/203381 [00:11<00:01, 15803.92it/s]\u001b[A\n",
      " 92%|█████████▏| 187354/203381 [00:11<00:00, 16401.17it/s]\u001b[A\n",
      " 96%|█████████▋| 196090/203381 [00:11<00:00, 17016.83it/s]\u001b[A\n",
      " 95%|█████████▌| 19/20 [05:37<00:17, 17.76s/it]480.16it/s]\u001b[A"
     ]
    },
    {
     "name": "stdout",
     "output_type": "stream",
     "text": [
      "Submitting query\n"
     ]
    },
    {
     "name": "stderr",
     "output_type": "stream",
     "text": [
      "\n"
     ]
    },
    {
     "ename": "BadRequest",
     "evalue": "400 POST https://www.googleapis.com/bigquery/v2/projects/reddit-network-184710/jobs: The query is too large. The maximum query length is 256.000K characters, including comments and white space characters.",
     "output_type": "error",
     "traceback": [
      "\u001b[0;31m---------------------------------------------------------------------------\u001b[0m",
      "\u001b[0;31mBadRequest\u001b[0m                                Traceback (most recent call last)",
      "\u001b[0;32m<ipython-input-347-63111a5cd07c>\u001b[0m in \u001b[0;36m<module>\u001b[0;34m()\u001b[0m\n\u001b[1;32m     19\u001b[0m                     GROUP BY subreddit, author\"\"\".format(names)\n\u001b[1;32m     20\u001b[0m \u001b[0;34m\u001b[0m\u001b[0m\n\u001b[0;32m---> 21\u001b[0;31m     \u001b[0mdf\u001b[0m \u001b[0;34m=\u001b[0m \u001b[0mfetchQuery\u001b[0m\u001b[0;34m(\u001b[0m\u001b[0mquery\u001b[0m\u001b[0;34m)\u001b[0m\u001b[0;34m\u001b[0m\u001b[0m\n\u001b[0m\u001b[1;32m     22\u001b[0m     \u001b[0mdfs\u001b[0m\u001b[0;34m.\u001b[0m\u001b[0mappend\u001b[0m\u001b[0;34m(\u001b[0m\u001b[0mdf\u001b[0m\u001b[0;34m)\u001b[0m\u001b[0;34m\u001b[0m\u001b[0m\n",
      "\u001b[0;32m<ipython-input-4-128219e0da2f>\u001b[0m in \u001b[0;36mfetchQuery\u001b[0;34m(query)\u001b[0m\n\u001b[1;32m     48\u001b[0m \u001b[0;34m\u001b[0m\u001b[0m\n\u001b[1;32m     49\u001b[0m \u001b[0;32mdef\u001b[0m \u001b[0mfetchQuery\u001b[0m\u001b[0;34m(\u001b[0m\u001b[0mquery\u001b[0m\u001b[0;34m)\u001b[0m\u001b[0;34m:\u001b[0m\u001b[0;34m\u001b[0m\u001b[0m\n\u001b[0;32m---> 50\u001b[0;31m     \u001b[0mj\u001b[0m \u001b[0;34m=\u001b[0m \u001b[0mrun_job\u001b[0m\u001b[0;34m(\u001b[0m\u001b[0mquery\u001b[0m\u001b[0;34m)\u001b[0m\u001b[0;34m\u001b[0m\u001b[0m\n\u001b[0m\u001b[1;32m     51\u001b[0m     \u001b[0mdf\u001b[0m \u001b[0;34m=\u001b[0m \u001b[0munpack_results\u001b[0m\u001b[0;34m(\u001b[0m\u001b[0mj\u001b[0m\u001b[0;34m)\u001b[0m\u001b[0;34m\u001b[0m\u001b[0m\n\u001b[1;32m     52\u001b[0m \u001b[0;34m\u001b[0m\u001b[0m\n",
      "\u001b[0;32m<ipython-input-4-128219e0da2f>\u001b[0m in \u001b[0;36mrun_job\u001b[0;34m(query)\u001b[0m\n\u001b[1;32m     20\u001b[0m \u001b[0;32mdef\u001b[0m \u001b[0mrun_job\u001b[0m\u001b[0;34m(\u001b[0m\u001b[0mquery\u001b[0m\u001b[0;34m)\u001b[0m\u001b[0;34m:\u001b[0m\u001b[0;34m\u001b[0m\u001b[0m\n\u001b[1;32m     21\u001b[0m     \u001b[0mprint\u001b[0m\u001b[0;34m(\u001b[0m\u001b[0;34m'Submitting query'\u001b[0m\u001b[0;34m)\u001b[0m\u001b[0;34m\u001b[0m\u001b[0m\n\u001b[0;32m---> 22\u001b[0;31m     \u001b[0mj\u001b[0m \u001b[0;34m=\u001b[0m \u001b[0mclient\u001b[0m\u001b[0;34m(\u001b[0m\u001b[0;34m)\u001b[0m\u001b[0;34m.\u001b[0m\u001b[0mquery\u001b[0m\u001b[0;34m(\u001b[0m\u001b[0mquery\u001b[0m\u001b[0;34m=\u001b[0m\u001b[0mquery\u001b[0m\u001b[0;34m,\u001b[0m \u001b[0mjob_config\u001b[0m\u001b[0;34m=\u001b[0m\u001b[0mjobConfig\u001b[0m\u001b[0;34m(\u001b[0m\u001b[0;34m)\u001b[0m\u001b[0;34m)\u001b[0m\u001b[0;34m\u001b[0m\u001b[0m\n\u001b[0m\u001b[1;32m     23\u001b[0m     \u001b[0;32mwith\u001b[0m \u001b[0mtqdm\u001b[0m\u001b[0;34m(\u001b[0m\u001b[0;34m)\u001b[0m \u001b[0;32mas\u001b[0m \u001b[0mpbar\u001b[0m\u001b[0;34m:\u001b[0m\u001b[0;34m\u001b[0m\u001b[0m\n\u001b[1;32m     24\u001b[0m         \u001b[0;32mwhile\u001b[0m \u001b[0;32mTrue\u001b[0m\u001b[0;34m:\u001b[0m\u001b[0;34m\u001b[0m\u001b[0m\n",
      "\u001b[0;32m//anaconda/envs/python3.6/lib/python3.6/site-packages/google/cloud/bigquery/client.py\u001b[0m in \u001b[0;36mquery\u001b[0;34m(self, query, job_config, job_id, job_id_prefix, retry)\u001b[0m\n\u001b[1;32m    984\u001b[0m         \u001b[0mjob_id\u001b[0m \u001b[0;34m=\u001b[0m \u001b[0m_make_job_id\u001b[0m\u001b[0;34m(\u001b[0m\u001b[0mjob_id\u001b[0m\u001b[0;34m,\u001b[0m \u001b[0mjob_id_prefix\u001b[0m\u001b[0;34m)\u001b[0m\u001b[0;34m\u001b[0m\u001b[0m\n\u001b[1;32m    985\u001b[0m         \u001b[0mjob\u001b[0m \u001b[0;34m=\u001b[0m \u001b[0mQueryJob\u001b[0m\u001b[0;34m(\u001b[0m\u001b[0mjob_id\u001b[0m\u001b[0;34m,\u001b[0m \u001b[0mquery\u001b[0m\u001b[0;34m,\u001b[0m \u001b[0mclient\u001b[0m\u001b[0;34m=\u001b[0m\u001b[0mself\u001b[0m\u001b[0;34m,\u001b[0m \u001b[0mjob_config\u001b[0m\u001b[0;34m=\u001b[0m\u001b[0mjob_config\u001b[0m\u001b[0;34m)\u001b[0m\u001b[0;34m\u001b[0m\u001b[0m\n\u001b[0;32m--> 986\u001b[0;31m         \u001b[0mjob\u001b[0m\u001b[0;34m.\u001b[0m\u001b[0m_begin\u001b[0m\u001b[0;34m(\u001b[0m\u001b[0mretry\u001b[0m\u001b[0;34m=\u001b[0m\u001b[0mretry\u001b[0m\u001b[0;34m)\u001b[0m\u001b[0;34m\u001b[0m\u001b[0m\n\u001b[0m\u001b[1;32m    987\u001b[0m         \u001b[0;32mreturn\u001b[0m \u001b[0mjob\u001b[0m\u001b[0;34m\u001b[0m\u001b[0m\n\u001b[1;32m    988\u001b[0m \u001b[0;34m\u001b[0m\u001b[0m\n",
      "\u001b[0;32m//anaconda/envs/python3.6/lib/python3.6/site-packages/google/cloud/bigquery/job.py\u001b[0m in \u001b[0;36m_begin\u001b[0;34m(self, client, retry)\u001b[0m\n\u001b[1;32m    395\u001b[0m         api_response = client._call_api(\n\u001b[1;32m    396\u001b[0m             \u001b[0mretry\u001b[0m\u001b[0;34m,\u001b[0m\u001b[0;34m\u001b[0m\u001b[0m\n\u001b[0;32m--> 397\u001b[0;31m             method='POST', path=path, data=self._build_resource())\n\u001b[0m\u001b[1;32m    398\u001b[0m         \u001b[0mself\u001b[0m\u001b[0;34m.\u001b[0m\u001b[0m_set_properties\u001b[0m\u001b[0;34m(\u001b[0m\u001b[0mapi_response\u001b[0m\u001b[0;34m)\u001b[0m\u001b[0;34m\u001b[0m\u001b[0m\n\u001b[1;32m    399\u001b[0m \u001b[0;34m\u001b[0m\u001b[0m\n",
      "\u001b[0;32m//anaconda/envs/python3.6/lib/python3.6/site-packages/google/cloud/bigquery/client.py\u001b[0m in \u001b[0;36m_call_api\u001b[0;34m(self, retry, **kwargs)\u001b[0m\n\u001b[1;32m    269\u001b[0m         \u001b[0;32mif\u001b[0m \u001b[0mretry\u001b[0m\u001b[0;34m:\u001b[0m\u001b[0;34m\u001b[0m\u001b[0m\n\u001b[1;32m    270\u001b[0m             \u001b[0mcall\u001b[0m \u001b[0;34m=\u001b[0m \u001b[0mretry\u001b[0m\u001b[0;34m(\u001b[0m\u001b[0mcall\u001b[0m\u001b[0;34m)\u001b[0m\u001b[0;34m\u001b[0m\u001b[0m\n\u001b[0;32m--> 271\u001b[0;31m         \u001b[0;32mreturn\u001b[0m \u001b[0mcall\u001b[0m\u001b[0;34m(\u001b[0m\u001b[0;34m)\u001b[0m\u001b[0;34m\u001b[0m\u001b[0m\n\u001b[0m\u001b[1;32m    272\u001b[0m \u001b[0;34m\u001b[0m\u001b[0m\n\u001b[1;32m    273\u001b[0m     \u001b[0;32mdef\u001b[0m \u001b[0mget_dataset\u001b[0m\u001b[0;34m(\u001b[0m\u001b[0mself\u001b[0m\u001b[0;34m,\u001b[0m \u001b[0mdataset_ref\u001b[0m\u001b[0;34m,\u001b[0m \u001b[0mretry\u001b[0m\u001b[0;34m=\u001b[0m\u001b[0mDEFAULT_RETRY\u001b[0m\u001b[0;34m)\u001b[0m\u001b[0;34m:\u001b[0m\u001b[0;34m\u001b[0m\u001b[0m\n",
      "\u001b[0;32m//anaconda/envs/python3.6/lib/python3.6/site-packages/google/api_core/retry.py\u001b[0m in \u001b[0;36mretry_wrapped_func\u001b[0;34m(*args, **kwargs)\u001b[0m\n\u001b[1;32m    258\u001b[0m                 \u001b[0msleep_generator\u001b[0m\u001b[0;34m,\u001b[0m\u001b[0;34m\u001b[0m\u001b[0m\n\u001b[1;32m    259\u001b[0m                 \u001b[0mself\u001b[0m\u001b[0;34m.\u001b[0m\u001b[0m_deadline\u001b[0m\u001b[0;34m,\u001b[0m\u001b[0;34m\u001b[0m\u001b[0m\n\u001b[0;32m--> 260\u001b[0;31m                 \u001b[0mon_error\u001b[0m\u001b[0;34m=\u001b[0m\u001b[0mon_error\u001b[0m\u001b[0;34m,\u001b[0m\u001b[0;34m\u001b[0m\u001b[0m\n\u001b[0m\u001b[1;32m    261\u001b[0m             )\n\u001b[1;32m    262\u001b[0m \u001b[0;34m\u001b[0m\u001b[0m\n",
      "\u001b[0;32m//anaconda/envs/python3.6/lib/python3.6/site-packages/google/api_core/retry.py\u001b[0m in \u001b[0;36mretry_target\u001b[0;34m(target, predicate, sleep_generator, deadline, on_error)\u001b[0m\n\u001b[1;32m    175\u001b[0m     \u001b[0;32mfor\u001b[0m \u001b[0msleep\u001b[0m \u001b[0;32min\u001b[0m \u001b[0msleep_generator\u001b[0m\u001b[0;34m:\u001b[0m\u001b[0;34m\u001b[0m\u001b[0m\n\u001b[1;32m    176\u001b[0m         \u001b[0;32mtry\u001b[0m\u001b[0;34m:\u001b[0m\u001b[0;34m\u001b[0m\u001b[0m\n\u001b[0;32m--> 177\u001b[0;31m             \u001b[0;32mreturn\u001b[0m \u001b[0mtarget\u001b[0m\u001b[0;34m(\u001b[0m\u001b[0;34m)\u001b[0m\u001b[0;34m\u001b[0m\u001b[0m\n\u001b[0m\u001b[1;32m    178\u001b[0m \u001b[0;34m\u001b[0m\u001b[0m\n\u001b[1;32m    179\u001b[0m         \u001b[0;31m# pylint: disable=broad-except\u001b[0m\u001b[0;34m\u001b[0m\u001b[0;34m\u001b[0m\u001b[0m\n",
      "\u001b[0;32m//anaconda/envs/python3.6/lib/python3.6/site-packages/google/cloud/_http.py\u001b[0m in \u001b[0;36mapi_request\u001b[0;34m(self, method, path, query_params, data, content_type, headers, api_base_url, api_version, expect_json, _target_object)\u001b[0m\n\u001b[1;32m    291\u001b[0m \u001b[0;34m\u001b[0m\u001b[0m\n\u001b[1;32m    292\u001b[0m         \u001b[0;32mif\u001b[0m \u001b[0;32mnot\u001b[0m \u001b[0;36m200\u001b[0m \u001b[0;34m<=\u001b[0m \u001b[0mresponse\u001b[0m\u001b[0;34m.\u001b[0m\u001b[0mstatus_code\u001b[0m \u001b[0;34m<\u001b[0m \u001b[0;36m300\u001b[0m\u001b[0;34m:\u001b[0m\u001b[0;34m\u001b[0m\u001b[0m\n\u001b[0;32m--> 293\u001b[0;31m             \u001b[0;32mraise\u001b[0m \u001b[0mexceptions\u001b[0m\u001b[0;34m.\u001b[0m\u001b[0mfrom_http_response\u001b[0m\u001b[0;34m(\u001b[0m\u001b[0mresponse\u001b[0m\u001b[0;34m)\u001b[0m\u001b[0;34m\u001b[0m\u001b[0m\n\u001b[0m\u001b[1;32m    294\u001b[0m \u001b[0;34m\u001b[0m\u001b[0m\n\u001b[1;32m    295\u001b[0m         \u001b[0;32mif\u001b[0m \u001b[0mexpect_json\u001b[0m \u001b[0;32mand\u001b[0m \u001b[0mresponse\u001b[0m\u001b[0;34m.\u001b[0m\u001b[0mcontent\u001b[0m\u001b[0;34m:\u001b[0m\u001b[0;34m\u001b[0m\u001b[0m\n",
      "\u001b[0;31mBadRequest\u001b[0m: 400 POST https://www.googleapis.com/bigquery/v2/projects/reddit-network-184710/jobs: The query is too large. The maximum query length is 256.000K characters, including comments and white space characters."
     ]
    }
   ],
   "source": [
    "InSubredditDf = pd.read_csv(data_file('SubredditInCounts.csv'))\n",
    "\n",
    "authors = list(InSubredditDf['author'].unique())\n",
    "blocks = [15000*n for n in range (0,np.round(len(authors)/15000))]\n",
    "ranges = list(zip(blocks, blocks[1:]))\n",
    "\n",
    "chunks = []\n",
    "for r in ranges:\n",
    "    start, end = r\n",
    "    chunks.append(authors[start:end])\n",
    "chunks.append(authors[blocks[-1]:])\n",
    "\n",
    "dfs = []\n",
    "for c in tqdm(chunks):\n",
    "    names = \"'\" + \"','\".join(c)+ \"'\"\n",
    "    query = \"\"\"SELECT subreddit, author, COUNT(*) as count\n",
    "                    FROM `fh-bigquery.reddit_comments.2017_06`\n",
    "                    WHERE (author IN ({})) and (author NOT IN ('[deleted]'))\n",
    "                    GROUP BY subreddit, author\"\"\".format(names)\n",
    "\n",
    "    df = fetchQuery(query)\n",
    "    dfs.append(df)"
   ]
  },
  {
   "cell_type": "code",
   "execution_count": 348,
   "metadata": {},
   "outputs": [
    {
     "data": {
      "text/plain": [
       "19"
      ]
     },
     "execution_count": 348,
     "metadata": {},
     "output_type": "execute_result"
    }
   ],
   "source": [
    "len(dfs)"
   ]
  },
  {
   "cell_type": "code",
   "execution_count": 349,
   "metadata": {},
   "outputs": [],
   "source": [
    "authors = list(InSubredditDf['author'].unique())\n",
    "blocks = [15000*n for n in range (0,np.round(len(authors)/15000))]\n",
    "\n",
    "ranges = list(zip(blocks, blocks[1:]))\n",
    "\n",
    "chunks = []\n",
    "for r in ranges:\n",
    "    start, end = r\n",
    "    chunks.append(authors[start:end])\n",
    "chunks.append(authors[blocks[-1]:])"
   ]
  },
  {
   "cell_type": "code",
   "execution_count": 356,
   "metadata": {},
   "outputs": [
    {
     "data": {
      "text/plain": [
       "False"
      ]
     },
     "execution_count": 356,
     "metadata": {},
     "output_type": "execute_result"
    }
   ],
   "source": [
    "c in chunks"
   ]
  },
  {
   "cell_type": "code",
   "execution_count": 357,
   "metadata": {},
   "outputs": [
    {
     "name": "stderr",
     "output_type": "stream",
     "text": [
      "  0%|          | 0/2 [00:00<?, ?it/s]"
     ]
    },
    {
     "name": "stdout",
     "output_type": "stream",
     "text": [
      "Submitting query\n"
     ]
    },
    {
     "name": "stderr",
     "output_type": "stream",
     "text": [
      "\n",
      "0it [00:00, ?it/s]\u001b[A\n",
      "1it [00:01,  1.39s/it]\u001b[A\n",
      "2it [00:02,  1.38s/it]\u001b[A\n",
      "3it [00:04,  1.37s/it]\u001b[A\n",
      "\u001b[A\n",
      "  0%|          | 0/189886 [00:00<?, ?it/s]\u001b[A"
     ]
    },
    {
     "name": "stdout",
     "output_type": "stream",
     "text": [
      "Unpacking results\n"
     ]
    },
    {
     "name": "stderr",
     "output_type": "stream",
     "text": [
      "\n",
      "  0%|          | 1/189886 [00:05<304:01:27,  5.76s/it]\u001b[A\n",
      "  4%|▍         | 7365/189886 [00:05<02:25, 1256.32it/s]\u001b[A\n",
      "  9%|▉         | 16749/189886 [00:05<01:01, 2809.26it/s]\u001b[A\n",
      " 13%|█▎        | 25604/189886 [00:06<00:38, 4218.86it/s]\u001b[A\n",
      " 18%|█▊        | 34481/189886 [00:06<00:27, 5595.89it/s]\u001b[A\n",
      " 22%|██▏       | 41138/189886 [00:06<00:22, 6504.67it/s]\u001b[A\n",
      " 25%|██▍       | 47060/189886 [00:06<00:19, 7284.30it/s]\u001b[A\n",
      " 28%|██▊       | 52478/189886 [00:06<00:17, 7854.79it/s]\u001b[A\n",
      " 31%|███       | 59226/189886 [00:06<00:14, 8734.16it/s]\u001b[A\n",
      " 35%|███▍      | 66123/189886 [00:06<00:12, 9608.68it/s]\u001b[A\n",
      " 38%|███▊      | 72791/189886 [00:06<00:11, 10426.40it/s]\u001b[A\n",
      " 43%|████▎     | 82120/189886 [00:07<00:09, 11597.94it/s]\u001b[A\n",
      " 50%|████▉     | 94312/189886 [00:07<00:07, 13134.36it/s]\u001b[A\n",
      " 54%|█████▍    | 102866/189886 [00:10<00:09, 9476.19it/s]\u001b[A\n",
      " 59%|█████▉    | 112593/189886 [00:10<00:07, 10278.85it/s]\u001b[A\n",
      " 65%|██████▍   | 122855/189886 [00:11<00:06, 11114.21it/s]\u001b[A\n",
      " 70%|██████▉   | 132497/189886 [00:11<00:04, 11877.87it/s]\u001b[A\n",
      " 76%|███████▌  | 143814/189886 [00:11<00:03, 12778.10it/s]\u001b[A\n",
      " 81%|████████  | 153778/189886 [00:11<00:02, 13543.26it/s]\u001b[A\n",
      " 87%|████████▋ | 165299/189886 [00:11<00:01, 14430.74it/s]\u001b[A\n",
      " 94%|█████████▎| 177665/189886 [00:11<00:00, 15377.04it/s]\u001b[A\n",
      " 50%|█████     | 1/2 [00:19<00:19, 19.87s/it]16211.45it/s]\u001b[A"
     ]
    },
    {
     "name": "stdout",
     "output_type": "stream",
     "text": [
      "Submitting query\n"
     ]
    },
    {
     "name": "stderr",
     "output_type": "stream",
     "text": [
      "\n",
      "0it [00:00, ?it/s]\u001b[A\n",
      "1it [00:01,  1.33s/it]\u001b[A\n",
      "2it [00:02,  1.33s/it]\u001b[A\n",
      "3it [00:04,  1.33s/it]\u001b[A\n",
      "\u001b[A\n",
      "  0%|          | 0/128285 [00:00<?, ?it/s]\u001b[A"
     ]
    },
    {
     "name": "stdout",
     "output_type": "stream",
     "text": [
      "Unpacking results\n"
     ]
    },
    {
     "name": "stderr",
     "output_type": "stream",
     "text": [
      "\n",
      "  0%|          | 1/128285 [00:04<155:12:53,  4.36s/it]\u001b[A\n",
      "  6%|▌         | 7168/128285 [00:04<01:15, 1608.87it/s]\u001b[A\n",
      " 13%|█▎        | 16181/128285 [00:04<00:31, 3552.12it/s]\u001b[A\n",
      " 20%|██        | 26155/128285 [00:04<00:18, 5616.93it/s]\u001b[A\n",
      " 29%|██▉       | 37118/128285 [00:04<00:11, 7805.26it/s]\u001b[A\n",
      " 37%|███▋      | 47324/128285 [00:04<00:08, 9746.85it/s]\u001b[A\n",
      " 45%|████▍     | 57335/128285 [00:04<00:06, 11569.86it/s]\u001b[A\n",
      " 53%|█████▎    | 67574/128285 [00:05<00:04, 13365.78it/s]\u001b[A\n",
      " 60%|█████▉    | 76802/128285 [00:05<00:03, 14876.38it/s]\u001b[A\n",
      " 67%|██████▋   | 86547/128285 [00:05<00:02, 16445.45it/s]\u001b[A\n",
      " 75%|███████▍  | 95796/128285 [00:05<00:01, 17862.45it/s]\u001b[A\n",
      " 82%|████████▏ | 105045/128285 [00:06<00:01, 15225.79it/s]\u001b[A\n",
      " 90%|█████████ | 116000/128285 [00:06<00:00, 16573.28it/s]\u001b[A\n",
      " 99%|█████████▉| 127114/128285 [00:07<00:00, 17904.34it/s]\u001b[A\n",
      "100%|██████████| 2/2 [00:33<00:00, 16.73s/it]17965.19it/s]\u001b[A\n"
     ]
    }
   ],
   "source": [
    "for c in tqdm(chunks[19:]):\n",
    "    names = \"'\" + \"','\".join(c)+ \"'\"\n",
    "    query = \"\"\"SELECT subreddit, author, COUNT(*) as count\n",
    "                    FROM `fh-bigquery.reddit_comments.2017_06`\n",
    "                    WHERE (author IN ({})) and (author NOT IN ('[deleted]'))\n",
    "                    GROUP BY subreddit, author\"\"\".format(names)\n",
    "\n",
    "    df = fetchQuery(query)\n",
    "    dfs.append(df)"
   ]
  },
  {
   "cell_type": "code",
   "execution_count": 373,
   "metadata": {},
   "outputs": [
    {
     "data": {
      "text/plain": [
       "21"
      ]
     },
     "execution_count": 373,
     "metadata": {},
     "output_type": "execute_result"
    }
   ],
   "source": [
    "len(dfs)"
   ]
  },
  {
   "cell_type": "code",
   "execution_count": 374,
   "metadata": {},
   "outputs": [],
   "source": [
    "master = pd.concat(dfs)"
   ]
  },
  {
   "cell_type": "code",
   "execution_count": 375,
   "metadata": {},
   "outputs": [],
   "source": [
    "master.to_csv(data_file('outCommentCounts.csv'))"
   ]
  },
  {
   "cell_type": "code",
   "execution_count": 366,
   "metadata": {},
   "outputs": [],
   "source": [
    "assert len(authors) == len(master['author'].unique()), 'incorrent # authors'"
   ]
  },
  {
   "cell_type": "code",
   "execution_count": 383,
   "metadata": {},
   "outputs": [
    {
     "data": {
      "text/plain": [
       "count    13268.000000\n",
       "mean        18.265074\n",
       "std        217.492710\n",
       "min          6.000000\n",
       "25%          7.500000\n",
       "50%          9.500000\n",
       "75%         13.000000\n",
       "max      23409.000000\n",
       "Name: count, dtype: float64"
      ]
     },
     "execution_count": 383,
     "metadata": {},
     "output_type": "execute_result"
    }
   ],
   "source": [
    "engaged = master[master['count']>5]\n",
    "engaged.groupby(['subreddit'])['count'].median().describe()"
   ]
  },
  {
   "cell_type": "code",
   "execution_count": null,
   "metadata": {},
   "outputs": [],
   "source": []
  }
 ],
 "metadata": {
  "kernelspec": {
   "display_name": "Python 3",
   "language": "python",
   "name": "python3"
  },
  "language_info": {
   "codemirror_mode": {
    "name": "ipython",
    "version": 3
   },
   "file_extension": ".py",
   "mimetype": "text/x-python",
   "name": "python",
   "nbconvert_exporter": "python",
   "pygments_lexer": "ipython3",
   "version": "3.6.3"
  }
 },
 "nbformat": 4,
 "nbformat_minor": 2
}

{
 "cells": [
  {
   "cell_type": "code",
   "execution_count": 14,
   "metadata": {},
   "outputs": [],
   "source": [
    "%autoreload 2\n",
    "\n",
    "from network_stats import *\n",
    "from googleCloud import *"
   ]
  },
  {
   "cell_type": "markdown",
   "metadata": {},
   "source": [
    "### dropping weak ties"
   ]
  },
  {
   "cell_type": "code",
   "execution_count": null,
   "metadata": {},
   "outputs": [],
   "source": [
    "def get_subset(data, n=10, defaults=None):\n",
    "    sub_counts = data.subreddit.value_counts()\n",
    "    author_counts = data.author.value_counts()\n",
    "\n",
    "    keep_subs = sub_counts[sub_counts>=n].index\n",
    "    keep_authors = author_counts[author_counts>=n].index\n",
    "    \n",
    "    subset = data.copy()\n",
    "    \n",
    "    subset=subset[(subset['subreddit'].isin(keep_subs))&\n",
    "              (subset['author'].isin(keep_authors))&\n",
    "              (subset['weight']>=n)]\n",
    "    \n",
    "    if defaults:\n",
    "        subset=subset[~subset.isin(defaults)]\n",
    "    \n",
    "    return subset"
   ]
  },
  {
   "cell_type": "markdown",
   "metadata": {},
   "source": [
    "### removing defaults"
   ]
  },
  {
   "cell_type": "code",
   "execution_count": null,
   "metadata": {},
   "outputs": [],
   "source": [
    "defaults = \"\"\"\n",
    "/r/announcements/\n",
    "/r/Art/\n",
    "/r/AskReddit/\n",
    "/r/askscience/\n",
    "/r/aww/\n",
    "/r/blog/\n",
    "/r/books/\n",
    "/r/creepy/\n",
    "/r/dataisbeautiful/\n",
    "/r/DIY/\n",
    "/r/Documentaries/\n",
    "/r/EarthPorn/\n",
    "/r/explainlikeimfive/\n",
    "/r/food/\n",
    "/r/funny/\n",
    "/r/Futurology/\n",
    "/r/gadgets/\n",
    "/r/gaming/\n",
    "/r/GetMotivated/\n",
    "/r/gifs/\n",
    "/r/history/\n",
    "/r/IAmA/\n",
    "/r/InternetIsBeautiful/\n",
    "/r/Jokes/\n",
    "/r/LifeProTips/\n",
    "/r/listentothis/\n",
    "/r/mildlyinteresting/\n",
    "/r/movies/\n",
    "/r/Music/\n",
    "/r/news/\n",
    "/r/nosleep/\n",
    "/r/nottheonion/\n",
    "/r/OldSchoolCool/\n",
    "/r/personalfinance/\n",
    "/r/philosophy/\n",
    "/r/photoshopbattles/\n",
    "/r/pics/\n",
    "/r/science/\n",
    "/r/Showerthoughts/\n",
    "/r/space/\n",
    "/r/sports/\n",
    "/r/television/\n",
    "/r/tifu/\n",
    "/r/todayilearned/\n",
    "/r/UpliftingNews/\n",
    "/r/videos/\n",
    "/r/worldnews/\n",
    "\"\"\"\n",
    "\n",
    "defaults_list = [x.strip('/\\n') for x in defaults.split('/r/')]"
   ]
  },
  {
   "cell_type": "markdown",
   "metadata": {},
   "source": [
    "### compiling scripts"
   ]
  },
  {
   "cell_type": "code",
   "execution_count": 26,
   "metadata": {},
   "outputs": [
    {
     "name": "stdout",
     "output_type": "stream",
     "text": [
      "1\n",
      "done with likeus!\n",
      "2\n",
      "done with newjersey!\n",
      "File network_stats.db uploaded.\n"
     ]
    }
   ],
   "source": [
    "%run network_stats.py"
   ]
  },
  {
   "cell_type": "code",
   "execution_count": 33,
   "metadata": {},
   "outputs": [
    {
     "name": "stdout",
     "output_type": "stream",
     "text": [
      "File requirements.txt uploaded.\n",
      "File antiechochambers-1ba7f7f4c68e.json uploaded.\n",
      "File network_stats.py uploaded.\n",
      "File googleCloud.py uploaded.\n"
     ]
    }
   ],
   "source": [
    "bucket_name = 'network-analysis'\n",
    "files = [\"requirements.txt\",\"antiechochambers-1ba7f7f4c68e.json\",\"network_stats.py\", \"googleCloud.py\"]\n",
    "\n",
    "for file_name in files:\n",
    "    upload_blob(bucket_name, file_name)"
   ]
  },
  {
   "cell_type": "markdown",
   "metadata": {},
   "source": [
    "### google cloud compute "
   ]
  },
  {
   "cell_type": "code",
   "execution_count": 22,
   "metadata": {},
   "outputs": [
    {
     "name": "stdout",
     "output_type": "stream",
     "text": [
      "INFO: Successfully saved requirements file in ./requirements.txt\n"
     ]
    }
   ],
   "source": [
    "! pipreqs . --force"
   ]
  },
  {
   "cell_type": "code",
   "execution_count": 3,
   "metadata": {},
   "outputs": [
    {
     "name": "stdout",
     "output_type": "stream",
     "text": [
      "{'kind': 'storage#buckets', 'items': [{'kind': 'storage#bucket', 'id': 'network-analysis', 'selfLink': 'https://www.googleapis.com/storage/v1/b/network-analysis', 'projectNumber': '472724286010', 'name': 'network-analysis', 'timeCreated': '2018-05-22T10:52:59.950Z', 'updated': '2018-05-22T10:52:59.950Z', 'metageneration': '1', 'location': 'US', 'storageClass': 'STANDARD', 'etag': 'CAE='}, {'kind': 'storage#bucket', 'id': 'td-all-comments', 'selfLink': 'https://www.googleapis.com/storage/v1/b/td-all-comments', 'projectNumber': '472724286010', 'name': 'td-all-comments', 'timeCreated': '2017-10-11T16:36:48.440Z', 'updated': '2017-10-11T16:36:48.440Z', 'metageneration': '1', 'location': 'EUROPE-WEST1', 'storageClass': 'REGIONAL', 'etag': 'CAE='}, {'kind': 'storage#bucket', 'id': 'tuned-aviary-8376', 'selfLink': 'https://www.googleapis.com/storage/v1/b/tuned-aviary-8376', 'projectNumber': '472724286010', 'name': 'tuned-aviary-8376', 'timeCreated': '2017-07-12T14:41:21.461Z', 'updated': '2017-07-12T14:41:21.461Z', 'metageneration': '1', 'location': 'US', 'storageClass': 'MULTI_REGIONAL', 'etag': 'CAE='}]}\n"
     ]
    }
   ],
   "source": [
    "import argparse\n",
    "\n",
    "import googleapiclient.discovery\n",
    "\n",
    "\n",
    "def create_service():\n",
    "    # Construct the service object for interacting with the Cloud Storage API -\n",
    "    # the 'storage' service, at version 'v1'.\n",
    "    # Authentication is provided by application default credentials.\n",
    "    # When running locally, these are available after running\n",
    "    # `gcloud auth application-default login`. When running on Compute\n",
    "    # Engine, these are available from the environment.\n",
    "    return googleapiclient.discovery.build('storage', 'v1')\n",
    "\n",
    "def list_buckets(service, project_id):\n",
    "    buckets = service.buckets().list(project=project_id).execute()\n",
    "    return buckets\n",
    "\n",
    "\n",
    "def main(project_id):\n",
    "    service = create_service()\n",
    "    buckets = list_buckets(service, project_id)\n",
    "    print(buckets)\n",
    "\n",
    "\n",
    "main('aerobic-datum-126519')"
   ]
  },
  {
   "cell_type": "code",
   "execution_count": 10,
   "metadata": {},
   "outputs": [],
   "source": [
    "import googleapiclient.discovery\n",
    "\n",
    "def list_instances(compute, project, zone):\n",
    "    result = compute.instances().list(project=project, zone=zone).execute()\n",
    "    return result['items']\n",
    "\n",
    "def wait_for_operation(compute, project, zone, operation):\n",
    "    print('Waiting for operation to finish...')\n",
    "    while True:\n",
    "        result = compute.zoneOperations().get(\n",
    "            project=project,\n",
    "            zone=zone,\n",
    "            operation=operation).execute()\n",
    "\n",
    "        if result['status'] == 'DONE':\n",
    "            print(\"done.\")\n",
    "            if 'error' in result:\n",
    "                raise Exception(result['error'])\n",
    "            return result\n",
    "\n",
    "        time.sleep(1)"
   ]
  },
  {
   "cell_type": "code",
   "execution_count": 12,
   "metadata": {},
   "outputs": [
    {
     "data": {
      "text/plain": [
       "[{'canIpForward': False,\n",
       "  'cpuPlatform': 'Intel Skylake',\n",
       "  'creationTimestamp': '2018-05-22T05:26:11.165-07:00',\n",
       "  'deletionProtection': False,\n",
       "  'description': '',\n",
       "  'disks': [{'autoDelete': True,\n",
       "    'boot': True,\n",
       "    'deviceName': 'instance-1',\n",
       "    'guestOsFeatures': [{'type': 'VIRTIO_SCSI_MULTIQUEUE'}],\n",
       "    'index': 0,\n",
       "    'interface': 'SCSI',\n",
       "    'kind': 'compute#attachedDisk',\n",
       "    'licenses': ['https://www.googleapis.com/compute/v1/projects/debian-cloud/global/licenses/debian-9-stretch'],\n",
       "    'mode': 'READ_WRITE',\n",
       "    'source': 'https://www.googleapis.com/compute/v1/projects/aerobic-datum-126519/zones/europe-west4-a/disks/instance-1',\n",
       "    'type': 'PERSISTENT'}],\n",
       "  'id': '8213703190054023821',\n",
       "  'kind': 'compute#instance',\n",
       "  'labelFingerprint': '42WmSpB8rSM=',\n",
       "  'machineType': 'https://www.googleapis.com/compute/v1/projects/aerobic-datum-126519/zones/europe-west4-a/machineTypes/n1-standard-1',\n",
       "  'metadata': {'fingerprint': 'wELp6O-Bl8s=', 'kind': 'compute#metadata'},\n",
       "  'name': 'instance-1',\n",
       "  'networkInterfaces': [{'accessConfigs': [{'kind': 'compute#accessConfig',\n",
       "      'name': 'External NAT',\n",
       "      'natIP': '35.204.44.76',\n",
       "      'type': 'ONE_TO_ONE_NAT'}],\n",
       "    'fingerprint': 'Snvpfi5Wm6U=',\n",
       "    'kind': 'compute#networkInterface',\n",
       "    'name': 'nic0',\n",
       "    'network': 'https://www.googleapis.com/compute/v1/projects/aerobic-datum-126519/global/networks/default',\n",
       "    'networkIP': '10.164.0.2',\n",
       "    'subnetwork': 'https://www.googleapis.com/compute/v1/projects/aerobic-datum-126519/regions/europe-west4/subnetworks/default'}],\n",
       "  'scheduling': {'automaticRestart': True,\n",
       "   'onHostMaintenance': 'MIGRATE',\n",
       "   'preemptible': False},\n",
       "  'selfLink': 'https://www.googleapis.com/compute/v1/projects/aerobic-datum-126519/zones/europe-west4-a/instances/instance-1',\n",
       "  'serviceAccounts': [{'email': '472724286010-compute@developer.gserviceaccount.com',\n",
       "    'scopes': ['https://www.googleapis.com/auth/cloud-platform']}],\n",
       "  'startRestricted': False,\n",
       "  'status': 'RUNNING',\n",
       "  'tags': {'fingerprint': '42WmSpB8rSM='},\n",
       "  'zone': 'https://www.googleapis.com/compute/v1/projects/aerobic-datum-126519/zones/europe-west4-a'}]"
      ]
     },
     "execution_count": 12,
     "metadata": {},
     "output_type": "execute_result"
    }
   ],
   "source": [
    "compute = googleapiclient.discovery.build('compute', 'v1')\n",
    "project = 'aerobic-datum-126519'\n",
    "zone = 'europe-west4-a'\n",
    "\n",
    "list_instances(compute, project, zone)"
   ]
  },
  {
   "cell_type": "code",
   "execution_count": 17,
   "metadata": {},
   "outputs": [
    {
     "data": {
      "text/plain": [
       "'1.1.13'"
      ]
     },
     "execution_count": 17,
     "metadata": {},
     "output_type": "execute_result"
    }
   ],
   "source": [
    "import sqlalchemy\n",
    "\n",
    "sqlalchemy.__version__"
   ]
  },
  {
   "cell_type": "code",
   "execution_count": null,
   "metadata": {},
   "outputs": [],
   "source": []
  }
 ],
 "metadata": {
  "kernelspec": {
   "display_name": "Python 3",
   "language": "python",
   "name": "python3"
  },
  "language_info": {
   "codemirror_mode": {
    "name": "ipython",
    "version": 3
   },
   "file_extension": ".py",
   "mimetype": "text/x-python",
   "name": "python",
   "nbconvert_exporter": "python",
   "pygments_lexer": "ipython3",
   "version": "3.6.3"
  }
 },
 "nbformat": 4,
 "nbformat_minor": 2
}

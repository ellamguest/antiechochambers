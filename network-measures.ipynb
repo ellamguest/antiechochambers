{
 "cells": [
  {
   "cell_type": "code",
   "execution_count": 8,
   "metadata": {},
   "outputs": [],
   "source": [
    "from google.cloud import bigquery\n",
    "import pandas as pd\n",
    "from tqdm import tqdm\n",
    "from concurrent.futures import TimeoutError\n",
    "import os\n",
    "import numpy as np\n",
    "import json\n",
    "from pathlib import Path\n",
    "import glob\n",
    "\n",
    "cache_file = lambda filename: Path().resolve().joinpath(*['cache', filename])\n",
    "\n",
    "\"\"\"BIG QUERY FUNCTIONS\"\"\"\n",
    "\n",
    "def client():\n",
    "    \"\"\"require a bigquery project and credentials, save in json in root main directory\"\"\"\n",
    "    credsfile = Path().resolve().joinpath('antiechochambers-1ba7f7f4c68e.json')\n",
    "    return bigquery.Client.from_service_account_json(credsfile)\n",
    "\n",
    "def jobConfig():\n",
    "    config = bigquery.QueryJobConfig()\n",
    "    config.query_parameters = (bigquery.ScalarQueryParameter('size', 'INT64', 10),)\n",
    "    config.use_legacy_sql = False\n",
    "    config.maximum_bytes_billed = int(5e9)\n",
    "    \n",
    "    return config\n",
    "\n",
    "def run_job(query):\n",
    "    print('Submitting query')\n",
    "    j = client().query(query=query, job_config=jobConfig())\n",
    "    with tqdm() as pbar:\n",
    "        while True:\n",
    "            try:\n",
    "                j.result(timeout=1)\n",
    "            except TimeoutError:                \n",
    "                pbar.update(1)\n",
    "            else:\n",
    "                break\n",
    "    return j\n",
    "\n",
    "def fetchQuery(query):\n",
    "    j = run_job(query)\n",
    "    df = j.to_dataframe()\n",
    "    \n",
    "    return df\n",
    "\n",
    "def fetchSubredditData(subreddit):\n",
    "    \"\"\"should create bot table to call on\"\"\"\n",
    "    query = f\"\"\"SELECT subreddit, author, COUNT(created_utc) as weight\n",
    "                FROM `fh-bigquery.reddit_comments.2017_06`\n",
    "                WHERE author in (SELECT author\n",
    "                                 FROM `aerobic-datum-126519.sms_18_sample_subreddits.mainSubInCounts`\n",
    "                                 WHERE (subreddit = '{subreddit}') AND (authorInCount > 2) AND\n",
    "                                         author not in (SELECT author\n",
    "                                                         FROM `fh-bigquery.reddit_comments.bots_201505`)\n",
    "                                        AND (lower(author) NOT LIKE '%bot%')\n",
    "                                        AND (author NOT LIKE 'JlmmyButler')\n",
    "                                        AND (author NOT LIKE 'TotesMessenger'))\n",
    "                GROUP BY subreddit, author\n",
    "                HAVING weight > 2\"\"\"\n",
    "\n",
    "    data = fetchQuery(query)\n",
    "    \n",
    "    return data"
   ]
  },
  {
   "cell_type": "code",
   "execution_count": 4,
   "metadata": {},
   "outputs": [],
   "source": [
    "import time\n",
    "\n",
    "def get_node_ids_dict(edgelist):\n",
    "    node_ids = list(edgelist.subreddit.unique()) + list(edgelist.author.unique())\n",
    "    return dict(zip(node_ids, range(len(node_ids))))\n",
    "\n",
    "def get_edges(edgelist, subreddit):\n",
    "    node_ids_dict = get_node_ids_dict(edgelist)\n",
    "    #start = time.time()\n",
    "    edgelist = edgelist[edgelist['subreddit']!=subreddit]\n",
    "    edges = pd.DataFrame({'subreddit':edgelist.subreddit.map(lambda x: node_ids_dict[x]),\n",
    "                          'author':edgelist.author.map(lambda x: node_ids_dict[x]),\n",
    "                          'weight':edgelist.weight})\n",
    "    edges = edges[['subreddit','author','weight']]\n",
    "    #end = time.time()\n",
    "\n",
    "    #elapsed = end-start\n",
    "    #print(f'that took {elapsed} seconds')\n",
    "    \n",
    "    return edges"
   ]
  },
  {
   "cell_type": "markdown",
   "metadata": {},
   "source": [
    "### Projecting unipartite network"
   ]
  },
  {
   "cell_type": "code",
   "execution_count": 5,
   "metadata": {},
   "outputs": [],
   "source": [
    "import numpy as np\n",
    "from scipy import sparse\n",
    "\n",
    "def project_unipartite_network(edgelist, subreddit, row='subreddit',col='author'):\n",
    "    edges = get_edges(edgelist, subreddit)\n",
    "    edges['value'] = 1\n",
    "    row_ind = np.array(edges[row])\n",
    "    col_ind = np.array(edges[col])\n",
    "    data = np.array(edges['value'], dtype=float)\n",
    "    mat_coo = sparse.coo_matrix((data, (row_ind, col_ind)))\n",
    "    mat_coo.sum_duplicates()\n",
    "    csr = mat_coo.tocsr()\n",
    "    #csr.sum_duplicates()\n",
    "\n",
    "    sub_net = csr.dot(csr.T).tolil()\n",
    "    sub_net.setdiag(0)\n",
    "    \n",
    "    return sub_net"
   ]
  },
  {
   "cell_type": "markdown",
   "metadata": {},
   "source": [
    "### network density and degree histogram"
   ]
  },
  {
   "cell_type": "code",
   "execution_count": 6,
   "metadata": {},
   "outputs": [],
   "source": [
    "def get_network_density(sub_net):\n",
    "    assert sub_net.shape[0]==sub_net.shape[1], 'matrix is not square'\n",
    "\n",
    "    N = sub_net.shape[0]\n",
    "    E = sub_net.getnnz()\n",
    "\n",
    "    return (E-N+1)/(N*(N-3)+2)\n",
    "    \n",
    "def get_degrees(network, network_type):\n",
    "    degrees = pd.DataFrame(np.count_nonzero(network.todense(), axis=1), columns=[f'{network_type}_degrees'])\n",
    "    weighted_degrees = pd.DataFrame(network.sum(axis=1),columns=[f'{network_type}_weighted_degrees'])\n",
    "    \n",
    "    return degrees, weighted_degrees"
   ]
  },
  {
   "cell_type": "code",
   "execution_count": 7,
   "metadata": {},
   "outputs": [],
   "source": [
    "def get_stats_df(data, subreddit):\n",
    "    #print('getting subreddit network...')\n",
    "    sub_net = project_unipartite_network(data, subreddit)\n",
    "    subreddit_density = get_network_density(sub_net)\n",
    "    #subreddit_degrees, subreddit_weighted_degrees = get_degrees(sub_net, 'subreddit')\n",
    "    \n",
    "    #print('getting author network...')\n",
    "    author_net = project_unipartite_network(data, subreddit,row='author', col='subreddit')\n",
    "    author_density = get_network_density(author_net)\n",
    "    #author_degrees, author_weighted_degrees = get_degrees(author_net, 'author')\n",
    "\n",
    "    print('compiling stats...')\n",
    "    stats = {'sub_counts':data.subreddit.value_counts().describe(),\n",
    "             'author_counts':data.author.value_counts().describe(),\n",
    "             'bipartite_edge_weights':data.weight.describe(),\n",
    "             'sub_net_density':subreddit_density,\n",
    "             #'subreddit_degrees':subreddit_degrees['subreddit_degrees'].describe(),\n",
    "             #'subreddit_weighted_degrees':subreddit_weighted_degrees['subreddit_weighted_degrees'].describe(),\n",
    "             'author_net_density':author_density,\n",
    "             #'author_degrees':author_degrees['author_degrees'].describe(),\n",
    "             #'author_weighted_degrees':author_weighted_degrees['author_weighted_degrees'].describe()\n",
    "            }\n",
    "\n",
    "    stats_df = pd.DataFrame.from_dict(stats)\n",
    "    stats_df.index.name = 'stat'\n",
    "    stats_df['subreddit'] = subreddit\n",
    "    return stats_df"
   ]
  },
  {
   "cell_type": "code",
   "execution_count": 18,
   "metadata": {},
   "outputs": [
    {
     "name": "stdout",
     "output_type": "stream",
     "text": [
      "fetching data...\n",
      "Submitting query\n"
     ]
    },
    {
     "name": "stderr",
     "output_type": "stream",
     "text": [
      "0it [00:00, ?it/s]\n"
     ]
    },
    {
     "name": "stdout",
     "output_type": "stream",
     "text": [
      "getting subreddit network...\n",
      "that took 0.16529512405395508 seconds\n",
      "getting author network...\n",
      "that took 0.1575329303741455 seconds\n",
      "compiling stats...\n"
     ]
    }
   ],
   "source": [
    "td_data = fetchSubredditData(\"The_Donald\")\n",
    "td_stats_df = get_stats_df(td_data, \"The_Donald\")"
   ]
  },
  {
   "cell_type": "code",
   "execution_count": 22,
   "metadata": {},
   "outputs": [],
   "source": [
    "stats_dfs = pd.concat([cmv_stats_df, td_stats_df],axis=0,keys=['cmv','td'])"
   ]
  },
  {
   "cell_type": "code",
   "execution_count": 29,
   "metadata": {},
   "outputs": [],
   "source": [
    "stats_dfs.to_csv('network_stats.csv')"
   ]
  },
  {
   "cell_type": "code",
   "execution_count": 6,
   "metadata": {},
   "outputs": [
    {
     "name": "stdout",
     "output_type": "stream",
     "text": [
      "Submitting query\n"
     ]
    },
    {
     "name": "stderr",
     "output_type": "stream",
     "text": [
      "4it [00:05,  1.31s/it]\n"
     ]
    },
    {
     "name": "stdout",
     "output_type": "stream",
     "text": [
      "getting subreddit network...\n",
      "that took 0.04991888999938965 seconds\n",
      "getting author network...\n",
      "that took 0.050752878189086914 seconds\n",
      "compiling stats...\n"
     ]
    }
   ],
   "source": [
    "cmv_data = fetchSubredditData(\"changemyview\")\n",
    "cmv_stats_df = get_stats_df(cmv_data, \"changemyview\")"
   ]
  },
  {
   "cell_type": "code",
   "execution_count": 7,
   "metadata": {},
   "outputs": [
    {
     "data": {
      "text/html": [
       "<div>\n",
       "<style scoped>\n",
       "    .dataframe tbody tr th:only-of-type {\n",
       "        vertical-align: middle;\n",
       "    }\n",
       "\n",
       "    .dataframe tbody tr th {\n",
       "        vertical-align: top;\n",
       "    }\n",
       "\n",
       "    .dataframe thead th {\n",
       "        text-align: right;\n",
       "    }\n",
       "</style>\n",
       "<table border=\"1\" class=\"dataframe\">\n",
       "  <thead>\n",
       "    <tr style=\"text-align: right;\">\n",
       "      <th></th>\n",
       "      <th>author_counts</th>\n",
       "      <th>author_net_density</th>\n",
       "      <th>bipartite_edge_weights</th>\n",
       "      <th>sub_counts</th>\n",
       "      <th>sub_net_density</th>\n",
       "    </tr>\n",
       "  </thead>\n",
       "  <tbody>\n",
       "    <tr>\n",
       "      <th>count</th>\n",
       "      <td>3556.000000</td>\n",
       "      <td>0.059909</td>\n",
       "      <td>32882.000000</td>\n",
       "      <td>4047.000000</td>\n",
       "      <td>0.018425</td>\n",
       "    </tr>\n",
       "    <tr>\n",
       "      <th>mean</th>\n",
       "      <td>9.246907</td>\n",
       "      <td>0.059909</td>\n",
       "      <td>15.464662</td>\n",
       "      <td>8.125031</td>\n",
       "      <td>0.018425</td>\n",
       "    </tr>\n",
       "    <tr>\n",
       "      <th>std</th>\n",
       "      <td>9.475191</td>\n",
       "      <td>0.059909</td>\n",
       "      <td>42.176850</td>\n",
       "      <td>66.610722</td>\n",
       "      <td>0.018425</td>\n",
       "    </tr>\n",
       "    <tr>\n",
       "      <th>min</th>\n",
       "      <td>1.000000</td>\n",
       "      <td>0.059909</td>\n",
       "      <td>3.000000</td>\n",
       "      <td>1.000000</td>\n",
       "      <td>0.018425</td>\n",
       "    </tr>\n",
       "    <tr>\n",
       "      <th>25%</th>\n",
       "      <td>3.000000</td>\n",
       "      <td>0.059909</td>\n",
       "      <td>4.000000</td>\n",
       "      <td>1.000000</td>\n",
       "      <td>0.018425</td>\n",
       "    </tr>\n",
       "    <tr>\n",
       "      <th>50%</th>\n",
       "      <td>6.000000</td>\n",
       "      <td>0.059909</td>\n",
       "      <td>6.000000</td>\n",
       "      <td>2.000000</td>\n",
       "      <td>0.018425</td>\n",
       "    </tr>\n",
       "    <tr>\n",
       "      <th>75%</th>\n",
       "      <td>12.000000</td>\n",
       "      <td>0.059909</td>\n",
       "      <td>13.000000</td>\n",
       "      <td>4.000000</td>\n",
       "      <td>0.018425</td>\n",
       "    </tr>\n",
       "    <tr>\n",
       "      <th>max</th>\n",
       "      <td>96.000000</td>\n",
       "      <td>0.059909</td>\n",
       "      <td>2467.000000</td>\n",
       "      <td>3556.000000</td>\n",
       "      <td>0.018425</td>\n",
       "    </tr>\n",
       "  </tbody>\n",
       "</table>\n",
       "</div>"
      ],
      "text/plain": [
       "       author_counts  author_net_density  bipartite_edge_weights   sub_counts  \\\n",
       "count    3556.000000            0.059909            32882.000000  4047.000000   \n",
       "mean        9.246907            0.059909               15.464662     8.125031   \n",
       "std         9.475191            0.059909               42.176850    66.610722   \n",
       "min         1.000000            0.059909                3.000000     1.000000   \n",
       "25%         3.000000            0.059909                4.000000     1.000000   \n",
       "50%         6.000000            0.059909                6.000000     2.000000   \n",
       "75%        12.000000            0.059909               13.000000     4.000000   \n",
       "max        96.000000            0.059909             2467.000000  3556.000000   \n",
       "\n",
       "       sub_net_density  \n",
       "count         0.018425  \n",
       "mean          0.018425  \n",
       "std           0.018425  \n",
       "min           0.018425  \n",
       "25%           0.018425  \n",
       "50%           0.018425  \n",
       "75%           0.018425  \n",
       "max           0.018425  "
      ]
     },
     "execution_count": 7,
     "metadata": {},
     "output_type": "execute_result"
    }
   ],
   "source": [
    "cmv_stats_df"
   ]
  },
  {
   "cell_type": "code",
   "execution_count": null,
   "metadata": {},
   "outputs": [],
   "source": []
  },
  {
   "cell_type": "markdown",
   "metadata": {},
   "source": [
    "### dropping weak ties"
   ]
  },
  {
   "cell_type": "code",
   "execution_count": 31,
   "metadata": {},
   "outputs": [
    {
     "name": "stdout",
     "output_type": "stream",
     "text": [
      "Submitting query\n"
     ]
    },
    {
     "name": "stderr",
     "output_type": "stream",
     "text": [
      "0it [00:00, ?it/s]\n"
     ]
    }
   ],
   "source": [
    "subreddit = \"changemyview\"\n",
    "data = fetchSubredditData(subreddit)"
   ]
  },
  {
   "cell_type": "code",
   "execution_count": 32,
   "metadata": {},
   "outputs": [
    {
     "data": {
      "text/html": [
       "<div>\n",
       "<style scoped>\n",
       "    .dataframe tbody tr th:only-of-type {\n",
       "        vertical-align: middle;\n",
       "    }\n",
       "\n",
       "    .dataframe tbody tr th {\n",
       "        vertical-align: top;\n",
       "    }\n",
       "\n",
       "    .dataframe thead th {\n",
       "        text-align: right;\n",
       "    }\n",
       "</style>\n",
       "<table border=\"1\" class=\"dataframe\">\n",
       "  <thead>\n",
       "    <tr style=\"text-align: right;\">\n",
       "      <th></th>\n",
       "      <th>subreddit</th>\n",
       "      <th>author</th>\n",
       "      <th>weight</th>\n",
       "    </tr>\n",
       "  </thead>\n",
       "  <tbody>\n",
       "    <tr>\n",
       "      <th>0</th>\n",
       "      <td>de</td>\n",
       "      <td>Kelsig</td>\n",
       "      <td>3</td>\n",
       "    </tr>\n",
       "    <tr>\n",
       "      <th>1</th>\n",
       "      <td>de</td>\n",
       "      <td>weedtese</td>\n",
       "      <td>3</td>\n",
       "    </tr>\n",
       "    <tr>\n",
       "      <th>2</th>\n",
       "      <td>de</td>\n",
       "      <td>Feroc</td>\n",
       "      <td>3</td>\n",
       "    </tr>\n",
       "    <tr>\n",
       "      <th>3</th>\n",
       "      <td>de</td>\n",
       "      <td>krimin_killr21</td>\n",
       "      <td>3</td>\n",
       "    </tr>\n",
       "    <tr>\n",
       "      <th>4</th>\n",
       "      <td>de</td>\n",
       "      <td>tastetherainbowmoth</td>\n",
       "      <td>4</td>\n",
       "    </tr>\n",
       "  </tbody>\n",
       "</table>\n",
       "</div>"
      ],
      "text/plain": [
       "  subreddit               author  weight\n",
       "0        de               Kelsig       3\n",
       "1        de             weedtese       3\n",
       "2        de                Feroc       3\n",
       "3        de       krimin_killr21       3\n",
       "4        de  tastetherainbowmoth       4"
      ]
     },
     "execution_count": 32,
     "metadata": {},
     "output_type": "execute_result"
    }
   ],
   "source": [
    "data.head()"
   ]
  },
  {
   "cell_type": "code",
   "execution_count": 78,
   "metadata": {},
   "outputs": [],
   "source": [
    "def get_subset(data, n=10, defaults=None):\n",
    "    sub_counts = data.subreddit.value_counts()\n",
    "    author_counts = data.author.value_counts()\n",
    "\n",
    "    keep_subs = sub_counts[sub_counts>=n].index\n",
    "    keep_authors = author_counts[author_counts>=n].index\n",
    "    \n",
    "    subset = data.copy()\n",
    "    \n",
    "    subset=subset[(subset['subreddit'].isin(keep_subs))&\n",
    "              (subset['author'].isin(keep_authors))&\n",
    "              (subset['weight']>=n)]\n",
    "    \n",
    "    if defaults:\n",
    "        subset=subset[~subset.isin(defaults)]\n",
    "    \n",
    "    return subset"
   ]
  },
  {
   "cell_type": "code",
   "execution_count": 58,
   "metadata": {},
   "outputs": [],
   "source": [
    "cmv_subset = get_subset(cmv_data, n=10)"
   ]
  },
  {
   "cell_type": "code",
   "execution_count": 59,
   "metadata": {},
   "outputs": [
    {
     "data": {
      "text/plain": [
       "(6684, 3)"
      ]
     },
     "execution_count": 59,
     "metadata": {},
     "output_type": "execute_result"
    }
   ],
   "source": [
    "cmv_subset.shape"
   ]
  },
  {
   "cell_type": "code",
   "execution_count": 60,
   "metadata": {},
   "outputs": [
    {
     "name": "stdout",
     "output_type": "stream",
     "text": [
      "getting subreddit network...\n",
      "that took 0.014419078826904297 seconds\n",
      "getting author network...\n",
      "that took 0.032124996185302734 seconds\n",
      "compiling stats...\n"
     ]
    }
   ],
   "source": [
    "cmv_subset_stats = get_stats_df(cmv_subset, \"changemyview\")"
   ]
  },
  {
   "cell_type": "code",
   "execution_count": 61,
   "metadata": {},
   "outputs": [
    {
     "data": {
      "text/html": [
       "<div>\n",
       "<style scoped>\n",
       "    .dataframe tbody tr th:only-of-type {\n",
       "        vertical-align: middle;\n",
       "    }\n",
       "\n",
       "    .dataframe tbody tr th {\n",
       "        vertical-align: top;\n",
       "    }\n",
       "\n",
       "    .dataframe thead th {\n",
       "        text-align: right;\n",
       "    }\n",
       "</style>\n",
       "<table border=\"1\" class=\"dataframe\">\n",
       "  <thead>\n",
       "    <tr style=\"text-align: right;\">\n",
       "      <th></th>\n",
       "      <th>author_counts</th>\n",
       "      <th>author_net_density</th>\n",
       "      <th>bipartite_edge_weights</th>\n",
       "      <th>sub_counts</th>\n",
       "      <th>sub_net_density</th>\n",
       "    </tr>\n",
       "  </thead>\n",
       "  <tbody>\n",
       "    <tr>\n",
       "      <th>count</th>\n",
       "      <td>1186.000000</td>\n",
       "      <td>0.197052</td>\n",
       "      <td>6684.000000</td>\n",
       "      <td>493.000000</td>\n",
       "      <td>0.149074</td>\n",
       "    </tr>\n",
       "    <tr>\n",
       "      <th>mean</th>\n",
       "      <td>5.635750</td>\n",
       "      <td>0.197052</td>\n",
       "      <td>36.471275</td>\n",
       "      <td>13.557809</td>\n",
       "      <td>0.149074</td>\n",
       "    </tr>\n",
       "    <tr>\n",
       "      <th>std</th>\n",
       "      <td>5.341553</td>\n",
       "      <td>0.197052</td>\n",
       "      <td>67.963827</td>\n",
       "      <td>42.663878</td>\n",
       "      <td>0.149074</td>\n",
       "    </tr>\n",
       "    <tr>\n",
       "      <th>min</th>\n",
       "      <td>1.000000</td>\n",
       "      <td>0.197052</td>\n",
       "      <td>10.000000</td>\n",
       "      <td>1.000000</td>\n",
       "      <td>0.149074</td>\n",
       "    </tr>\n",
       "    <tr>\n",
       "      <th>25%</th>\n",
       "      <td>3.000000</td>\n",
       "      <td>0.197052</td>\n",
       "      <td>13.000000</td>\n",
       "      <td>3.000000</td>\n",
       "      <td>0.149074</td>\n",
       "    </tr>\n",
       "    <tr>\n",
       "      <th>50%</th>\n",
       "      <td>5.000000</td>\n",
       "      <td>0.197052</td>\n",
       "      <td>19.000000</td>\n",
       "      <td>5.000000</td>\n",
       "      <td>0.149074</td>\n",
       "    </tr>\n",
       "    <tr>\n",
       "      <th>75%</th>\n",
       "      <td>7.000000</td>\n",
       "      <td>0.197052</td>\n",
       "      <td>35.000000</td>\n",
       "      <td>10.000000</td>\n",
       "      <td>0.149074</td>\n",
       "    </tr>\n",
       "    <tr>\n",
       "      <th>max</th>\n",
       "      <td>129.000000</td>\n",
       "      <td>0.197052</td>\n",
       "      <td>2467.000000</td>\n",
       "      <td>600.000000</td>\n",
       "      <td>0.149074</td>\n",
       "    </tr>\n",
       "  </tbody>\n",
       "</table>\n",
       "</div>"
      ],
      "text/plain": [
       "       author_counts  author_net_density  bipartite_edge_weights  sub_counts  \\\n",
       "count    1186.000000            0.197052             6684.000000  493.000000   \n",
       "mean        5.635750            0.197052               36.471275   13.557809   \n",
       "std         5.341553            0.197052               67.963827   42.663878   \n",
       "min         1.000000            0.197052               10.000000    1.000000   \n",
       "25%         3.000000            0.197052               13.000000    3.000000   \n",
       "50%         5.000000            0.197052               19.000000    5.000000   \n",
       "75%         7.000000            0.197052               35.000000   10.000000   \n",
       "max       129.000000            0.197052             2467.000000  600.000000   \n",
       "\n",
       "       sub_net_density  \n",
       "count         0.149074  \n",
       "mean          0.149074  \n",
       "std           0.149074  \n",
       "min           0.149074  \n",
       "25%           0.149074  \n",
       "50%           0.149074  \n",
       "75%           0.149074  \n",
       "max           0.149074  "
      ]
     },
     "execution_count": 61,
     "metadata": {},
     "output_type": "execute_result"
    }
   ],
   "source": [
    "cmv_subset_stats"
   ]
  },
  {
   "cell_type": "code",
   "execution_count": 83,
   "metadata": {},
   "outputs": [
    {
     "data": {
      "text/plain": [
       "changemyview           505\n",
       "politics               293\n",
       "AskMen                  62\n",
       "Libertarian             62\n",
       "AdviceAnimals           60\n",
       "CringeAnarchy           54\n",
       "technology              52\n",
       "nba                     49\n",
       "NoStupidQuestions       44\n",
       "PoliticalDiscussion     42\n",
       "Name: subreddit, dtype: int64"
      ]
     },
     "execution_count": 83,
     "metadata": {},
     "output_type": "execute_result"
    }
   ],
   "source": [
    "cmv_subset.subreddit.value_counts().sort_values(ascending=False).head(10)"
   ]
  },
  {
   "cell_type": "code",
   "execution_count": 84,
   "metadata": {},
   "outputs": [
    {
     "name": "stdout",
     "output_type": "stream",
     "text": [
      "Submitting query\n"
     ]
    },
    {
     "name": "stderr",
     "output_type": "stream",
     "text": [
      "0it [00:00, ?it/s]\n"
     ]
    }
   ],
   "source": [
    "td_data = fetchSubredditData(\"The_Donald\")\n",
    "td_subset = get_subset(td_data, n=10, defaults=defaults_list)"
   ]
  },
  {
   "cell_type": "code",
   "execution_count": 85,
   "metadata": {},
   "outputs": [
    {
     "data": {
      "text/plain": [
       "(130977, 3)"
      ]
     },
     "execution_count": 85,
     "metadata": {},
     "output_type": "execute_result"
    }
   ],
   "source": [
    "td_data.shape"
   ]
  },
  {
   "cell_type": "code",
   "execution_count": 70,
   "metadata": {},
   "outputs": [
    {
     "name": "stdout",
     "output_type": "stream",
     "text": [
      "getting subreddit network...\n",
      "that took 0.036611080169677734 seconds\n",
      "getting author network...\n",
      "that took 0.025936126708984375 seconds\n",
      "compiling stats...\n"
     ]
    },
    {
     "data": {
      "text/html": [
       "<div>\n",
       "<style scoped>\n",
       "    .dataframe tbody tr th:only-of-type {\n",
       "        vertical-align: middle;\n",
       "    }\n",
       "\n",
       "    .dataframe tbody tr th {\n",
       "        vertical-align: top;\n",
       "    }\n",
       "\n",
       "    .dataframe thead th {\n",
       "        text-align: right;\n",
       "    }\n",
       "</style>\n",
       "<table border=\"1\" class=\"dataframe\">\n",
       "  <thead>\n",
       "    <tr style=\"text-align: right;\">\n",
       "      <th></th>\n",
       "      <th>author_counts</th>\n",
       "      <th>author_net_density</th>\n",
       "      <th>bipartite_edge_weights</th>\n",
       "      <th>sub_counts</th>\n",
       "      <th>sub_net_density</th>\n",
       "    </tr>\n",
       "  </thead>\n",
       "  <tbody>\n",
       "    <tr>\n",
       "      <th>count</th>\n",
       "      <td>3416.000000</td>\n",
       "      <td>0.132256</td>\n",
       "      <td>18173.000000</td>\n",
       "      <td>1123.000000</td>\n",
       "      <td>0.060784</td>\n",
       "    </tr>\n",
       "    <tr>\n",
       "      <th>mean</th>\n",
       "      <td>5.319965</td>\n",
       "      <td>0.132256</td>\n",
       "      <td>39.539757</td>\n",
       "      <td>16.182547</td>\n",
       "      <td>0.060784</td>\n",
       "    </tr>\n",
       "    <tr>\n",
       "      <th>std</th>\n",
       "      <td>4.758141</td>\n",
       "      <td>0.132256</td>\n",
       "      <td>74.024180</td>\n",
       "      <td>82.809176</td>\n",
       "      <td>0.060784</td>\n",
       "    </tr>\n",
       "    <tr>\n",
       "      <th>min</th>\n",
       "      <td>1.000000</td>\n",
       "      <td>0.132256</td>\n",
       "      <td>10.000000</td>\n",
       "      <td>1.000000</td>\n",
       "      <td>0.060784</td>\n",
       "    </tr>\n",
       "    <tr>\n",
       "      <th>25%</th>\n",
       "      <td>3.000000</td>\n",
       "      <td>0.132256</td>\n",
       "      <td>13.000000</td>\n",
       "      <td>2.000000</td>\n",
       "      <td>0.060784</td>\n",
       "    </tr>\n",
       "    <tr>\n",
       "      <th>50%</th>\n",
       "      <td>4.000000</td>\n",
       "      <td>0.132256</td>\n",
       "      <td>19.000000</td>\n",
       "      <td>4.000000</td>\n",
       "      <td>0.060784</td>\n",
       "    </tr>\n",
       "    <tr>\n",
       "      <th>75%</th>\n",
       "      <td>7.000000</td>\n",
       "      <td>0.132256</td>\n",
       "      <td>36.000000</td>\n",
       "      <td>9.000000</td>\n",
       "      <td>0.060784</td>\n",
       "    </tr>\n",
       "    <tr>\n",
       "      <th>max</th>\n",
       "      <td>175.000000</td>\n",
       "      <td>0.132256</td>\n",
       "      <td>2467.000000</td>\n",
       "      <td>2135.000000</td>\n",
       "      <td>0.060784</td>\n",
       "    </tr>\n",
       "  </tbody>\n",
       "</table>\n",
       "</div>"
      ],
      "text/plain": [
       "       author_counts  author_net_density  bipartite_edge_weights   sub_counts  \\\n",
       "count    3416.000000            0.132256            18173.000000  1123.000000   \n",
       "mean        5.319965            0.132256               39.539757    16.182547   \n",
       "std         4.758141            0.132256               74.024180    82.809176   \n",
       "min         1.000000            0.132256               10.000000     1.000000   \n",
       "25%         3.000000            0.132256               13.000000     2.000000   \n",
       "50%         4.000000            0.132256               19.000000     4.000000   \n",
       "75%         7.000000            0.132256               36.000000     9.000000   \n",
       "max       175.000000            0.132256             2467.000000  2135.000000   \n",
       "\n",
       "       sub_net_density  \n",
       "count         0.060784  \n",
       "mean          0.060784  \n",
       "std           0.060784  \n",
       "min           0.060784  \n",
       "25%           0.060784  \n",
       "50%           0.060784  \n",
       "75%           0.060784  \n",
       "max           0.060784  "
      ]
     },
     "execution_count": 70,
     "metadata": {},
     "output_type": "execute_result"
    }
   ],
   "source": [
    "td_subset_stats = get_stats_df(td_subset, \"The_Donald\")\n",
    "td_subset_stats"
   ]
  },
  {
   "cell_type": "code",
   "execution_count": 87,
   "metadata": {},
   "outputs": [
    {
     "data": {
      "text/plain": [
       "The_Donald        2135\n",
       "politics           723\n",
       "CringeAnarchy      265\n",
       "nba                196\n",
       "conspiracy         182\n",
       "KotakuInAction     160\n",
       "AdviceAnimals      141\n",
       "pcmasterrace       128\n",
       "Conservative       107\n",
       "PoliticalHumor     103\n",
       "Name: subreddit, dtype: int64"
      ]
     },
     "execution_count": 87,
     "metadata": {},
     "output_type": "execute_result"
    }
   ],
   "source": [
    "td_subset.subreddit.value_counts().sort_values(ascending=False).head(10)"
   ]
  },
  {
   "cell_type": "markdown",
   "metadata": {},
   "source": [
    "### removing defaults"
   ]
  },
  {
   "cell_type": "code",
   "execution_count": 72,
   "metadata": {},
   "outputs": [],
   "source": [
    "defaults = \"\"\"\n",
    "/r/announcements/\n",
    "/r/Art/\n",
    "/r/AskReddit/\n",
    "/r/askscience/\n",
    "/r/aww/\n",
    "/r/blog/\n",
    "/r/books/\n",
    "/r/creepy/\n",
    "/r/dataisbeautiful/\n",
    "/r/DIY/\n",
    "/r/Documentaries/\n",
    "/r/EarthPorn/\n",
    "/r/explainlikeimfive/\n",
    "/r/food/\n",
    "/r/funny/\n",
    "/r/Futurology/\n",
    "/r/gadgets/\n",
    "/r/gaming/\n",
    "/r/GetMotivated/\n",
    "/r/gifs/\n",
    "/r/history/\n",
    "/r/IAmA/\n",
    "/r/InternetIsBeautiful/\n",
    "/r/Jokes/\n",
    "/r/LifeProTips/\n",
    "/r/listentothis/\n",
    "/r/mildlyinteresting/\n",
    "/r/movies/\n",
    "/r/Music/\n",
    "/r/news/\n",
    "/r/nosleep/\n",
    "/r/nottheonion/\n",
    "/r/OldSchoolCool/\n",
    "/r/personalfinance/\n",
    "/r/philosophy/\n",
    "/r/photoshopbattles/\n",
    "/r/pics/\n",
    "/r/science/\n",
    "/r/Showerthoughts/\n",
    "/r/space/\n",
    "/r/sports/\n",
    "/r/television/\n",
    "/r/tifu/\n",
    "/r/todayilearned/\n",
    "/r/UpliftingNews/\n",
    "/r/videos/\n",
    "/r/worldnews/\n",
    "\"\"\"\n",
    "\n",
    "defaults_list = [x.strip('/\\n') for x in defaults.split('/r/')]"
   ]
  },
  {
   "cell_type": "code",
   "execution_count": 81,
   "metadata": {},
   "outputs": [],
   "source": [
    "cmv_subset = get_subset(cmv_data, n=10, defaults=defaults_list)"
   ]
  },
  {
   "cell_type": "markdown",
   "metadata": {},
   "source": [
    "### baseline subreddits"
   ]
  },
  {
   "cell_type": "code",
   "execution_count": 9,
   "metadata": {},
   "outputs": [
    {
     "name": "stdout",
     "output_type": "stream",
     "text": [
      "Submitting query\n"
     ]
    },
    {
     "name": "stderr",
     "output_type": "stream",
     "text": [
      "0it [00:00, ?it/s]\n"
     ]
    }
   ],
   "source": [
    "def fetchSubList():\n",
    "    \"\"\"should create bot table to call on\"\"\"\n",
    "    query = f\"\"\"SELECT *\n",
    "                 FROM `aerobic-datum-126519.sms_18_sample_subreddits.randomSubreddits`\n",
    "                 \"\"\"\n",
    "\n",
    "    data = fetchQuery(query)\n",
    "    \n",
    "    return data\n",
    "\n",
    "sublist = fetchSubList()"
   ]
  },
  {
   "cell_type": "code",
   "execution_count": 72,
   "metadata": {},
   "outputs": [
    {
     "data": {
      "text/html": [
       "<div>\n",
       "<style scoped>\n",
       "    .dataframe tbody tr th:only-of-type {\n",
       "        vertical-align: middle;\n",
       "    }\n",
       "\n",
       "    .dataframe tbody tr th {\n",
       "        vertical-align: top;\n",
       "    }\n",
       "\n",
       "    .dataframe thead th {\n",
       "        text-align: right;\n",
       "    }\n",
       "</style>\n",
       "<table border=\"1\" class=\"dataframe\">\n",
       "  <thead>\n",
       "    <tr style=\"text-align: right;\">\n",
       "      <th></th>\n",
       "      <th>subreddit</th>\n",
       "      <th>subAuthorCount</th>\n",
       "    </tr>\n",
       "  </thead>\n",
       "  <tbody>\n",
       "    <tr>\n",
       "      <th>900</th>\n",
       "      <td>heat</td>\n",
       "      <td>1000</td>\n",
       "    </tr>\n",
       "    <tr>\n",
       "      <th>901</th>\n",
       "      <td>Gonewild18</td>\n",
       "      <td>1000</td>\n",
       "    </tr>\n",
       "    <tr>\n",
       "      <th>911</th>\n",
       "      <td>Eminem</td>\n",
       "      <td>1002</td>\n",
       "    </tr>\n",
       "    <tr>\n",
       "      <th>919</th>\n",
       "      <td>SoccerBetting</td>\n",
       "      <td>1004</td>\n",
       "    </tr>\n",
       "    <tr>\n",
       "      <th>918</th>\n",
       "      <td>DIY_eJuice</td>\n",
       "      <td>1004</td>\n",
       "    </tr>\n",
       "  </tbody>\n",
       "</table>\n",
       "</div>"
      ],
      "text/plain": [
       "         subreddit  subAuthorCount\n",
       "900           heat            1000\n",
       "901     Gonewild18            1000\n",
       "911         Eminem            1002\n",
       "919  SoccerBetting            1004\n",
       "918     DIY_eJuice            1004"
      ]
     },
     "execution_count": 72,
     "metadata": {},
     "output_type": "execute_result"
    }
   ],
   "source": [
    "sublist.sort_values('subAuthorCount').head(5)"
   ]
  },
  {
   "cell_type": "code",
   "execution_count": 73,
   "metadata": {},
   "outputs": [
    {
     "data": {
      "text/html": [
       "<div>\n",
       "<style scoped>\n",
       "    .dataframe tbody tr th:only-of-type {\n",
       "        vertical-align: middle;\n",
       "    }\n",
       "\n",
       "    .dataframe tbody tr th {\n",
       "        vertical-align: top;\n",
       "    }\n",
       "\n",
       "    .dataframe thead th {\n",
       "        text-align: right;\n",
       "    }\n",
       "</style>\n",
       "<table border=\"1\" class=\"dataframe\">\n",
       "  <thead>\n",
       "    <tr style=\"text-align: right;\">\n",
       "      <th></th>\n",
       "      <th>subreddit</th>\n",
       "      <th>subAuthorCount</th>\n",
       "    </tr>\n",
       "  </thead>\n",
       "  <tbody>\n",
       "    <tr>\n",
       "      <th>129</th>\n",
       "      <td>television</td>\n",
       "      <td>55325</td>\n",
       "    </tr>\n",
       "    <tr>\n",
       "      <th>65</th>\n",
       "      <td>OldSchoolCool</td>\n",
       "      <td>56333</td>\n",
       "    </tr>\n",
       "    <tr>\n",
       "      <th>438</th>\n",
       "      <td>WTF</td>\n",
       "      <td>69993</td>\n",
       "    </tr>\n",
       "    <tr>\n",
       "      <th>981</th>\n",
       "      <td>Showerthoughts</td>\n",
       "      <td>101370</td>\n",
       "    </tr>\n",
       "    <tr>\n",
       "      <th>764</th>\n",
       "      <td>gifs</td>\n",
       "      <td>125891</td>\n",
       "    </tr>\n",
       "  </tbody>\n",
       "</table>\n",
       "</div>"
      ],
      "text/plain": [
       "          subreddit  subAuthorCount\n",
       "129      television           55325\n",
       "65    OldSchoolCool           56333\n",
       "438             WTF           69993\n",
       "981  Showerthoughts          101370\n",
       "764            gifs          125891"
      ]
     },
     "execution_count": 73,
     "metadata": {},
     "output_type": "execute_result"
    }
   ],
   "source": [
    "sublist.sort_values('subAuthorCount').tail(5)"
   ]
  },
  {
   "cell_type": "code",
   "execution_count": 20,
   "metadata": {},
   "outputs": [
    {
     "data": {
      "text/plain": [
       "count      1000.000000\n",
       "mean       4671.660000\n",
       "std        8382.077886\n",
       "min        1000.000000\n",
       "25%        1368.000000\n",
       "50%        2227.000000\n",
       "75%        4448.500000\n",
       "max      125891.000000\n",
       "Name: subAuthorCount, dtype: float64"
      ]
     },
     "execution_count": 20,
     "metadata": {},
     "output_type": "execute_result"
    }
   ],
   "source": [
    "sublist.subAuthorCount.describe()"
   ]
  },
  {
   "cell_type": "code",
   "execution_count": 29,
   "metadata": {},
   "outputs": [],
   "source": [
    "def fetchSubredditData(subreddit):\n",
    "    \"\"\"should create bot table to call on\"\"\"\n",
    "    query = f\"\"\"\n",
    "                SELECT *\n",
    "                FROM `aerobic-datum-126519.sms_18_sample_subreddits.allAuthorCommentCounts`\n",
    "                WHERE author in (SELECT author\n",
    "                                 FROM `aerobic-datum-126519.sms_18_sample_subreddits.randomSubredditAuthors`\n",
    "                                 WHERE (subreddit = '{subreddit}') AND (authorInCOunt > 2) AND\n",
    "                                         author not in (SELECT author\n",
    "                                                         FROM `fh-bigquery.reddit_comments.bots_201505`)\n",
    "                                        AND (lower(author) NOT LIKE '%bot%')\n",
    "                                        AND (author NOT LIKE 'JlmmyButler')\n",
    "                                        AND (author NOT LIKE 'TotesMessenger'))\n",
    "                    AND authorCommentCount > 2\n",
    "                ORDER BY subreddit, author\n",
    "                \"\"\"\n",
    "\n",
    "    data = fetchQuery(query)\n",
    "    \n",
    "    return data"
   ]
  },
  {
   "cell_type": "code",
   "execution_count": 30,
   "metadata": {},
   "outputs": [
    {
     "name": "stdout",
     "output_type": "stream",
     "text": [
      "Submitting query\n"
     ]
    },
    {
     "name": "stderr",
     "output_type": "stream",
     "text": [
      "3it [00:03,  1.33s/it]\n"
     ]
    },
    {
     "data": {
      "text/plain": [
       "(1720, 3)"
      ]
     },
     "execution_count": 30,
     "metadata": {},
     "output_type": "execute_result"
    }
   ],
   "source": [
    "subreddit = \"finance\"\n",
    "\n",
    "data.shape"
   ]
  },
  {
   "cell_type": "code",
   "execution_count": 101,
   "metadata": {},
   "outputs": [],
   "source": [
    "def saveStatsDfs(subreddit):\n",
    "    data = fetchSubredditData(subreddit)\n",
    "    data.columns = ['subreddit','author','weight']\n",
    "    stats_df = get_stats_df(data, subreddit)\n",
    "    stats_df.to_pickle(cache_file(f'{subreddit}_stats_df.pkl'))\n",
    "    print(f'done with {subreddit}!')"
   ]
  },
  {
   "cell_type": "code",
   "execution_count": null,
   "metadata": {},
   "outputs": [
    {
     "name": "stdout",
     "output_type": "stream",
     "text": [
      "StarWars\n",
      "Submitting query\n"
     ]
    },
    {
     "name": "stderr",
     "output_type": "stream",
     "text": [
      "3it [00:03,  1.26s/it]\n"
     ]
    },
    {
     "name": "stdout",
     "output_type": "stream",
     "text": [
      "compiling stats...\n",
      "done with StarWars!\n",
      "EarthPorn\n",
      "Submitting query\n"
     ]
    },
    {
     "name": "stderr",
     "output_type": "stream",
     "text": [
      "2it [00:02,  1.34s/it]\n"
     ]
    },
    {
     "name": "stdout",
     "output_type": "stream",
     "text": [
      "compiling stats...\n",
      "done with EarthPorn!\n",
      "gifs\n",
      "Submitting query\n"
     ]
    },
    {
     "name": "stderr",
     "output_type": "stream",
     "text": [
      "3it [00:03,  1.33s/it]\n"
     ]
    }
   ],
   "source": [
    "sampleSubs = sublist.subreddit.sample(10)\n",
    "for subreddit in sampleSubs:\n",
    "    print(subreddit)\n",
    "    saveStatsDfs(subreddit)"
   ]
  },
  {
   "cell_type": "code",
   "execution_count": 105,
   "metadata": {},
   "outputs": [
    {
     "data": {
      "text/plain": [
       "11"
      ]
     },
     "execution_count": 105,
     "metadata": {},
     "output_type": "execute_result"
    }
   ],
   "source": [
    "import glob\n",
    "\n",
    "path = str(cache_file('*_stats_df.pkl'))\n",
    "files = glob.glob(path)\n",
    "len(files)"
   ]
  },
  {
   "cell_type": "code",
   "execution_count": 106,
   "metadata": {},
   "outputs": [],
   "source": [
    "dfs = []\n",
    "for file in files:\n",
    "    new_stats_df = pd.read_pickle(file)\n",
    "    new_stats_df.reset_index(drop=False, inplace=True)\n",
    "    dfs.append(new_stats_df)"
   ]
  },
  {
   "cell_type": "code",
   "execution_count": 107,
   "metadata": {},
   "outputs": [
    {
     "data": {
      "text/html": [
       "<div>\n",
       "<style scoped>\n",
       "    .dataframe tbody tr th:only-of-type {\n",
       "        vertical-align: middle;\n",
       "    }\n",
       "\n",
       "    .dataframe tbody tr th {\n",
       "        vertical-align: top;\n",
       "    }\n",
       "\n",
       "    .dataframe thead th {\n",
       "        text-align: right;\n",
       "    }\n",
       "</style>\n",
       "<table border=\"1\" class=\"dataframe\">\n",
       "  <thead>\n",
       "    <tr style=\"text-align: right;\">\n",
       "      <th></th>\n",
       "      <th>stat</th>\n",
       "      <th>author_counts</th>\n",
       "      <th>author_net_density</th>\n",
       "      <th>bipartite_edge_weights</th>\n",
       "      <th>sub_counts</th>\n",
       "      <th>sub_net_density</th>\n",
       "      <th>subreddit</th>\n",
       "    </tr>\n",
       "  </thead>\n",
       "  <tbody>\n",
       "    <tr>\n",
       "      <th>0</th>\n",
       "      <td>count</td>\n",
       "      <td>592.000000</td>\n",
       "      <td>0.021366</td>\n",
       "      <td>12189.000000</td>\n",
       "      <td>2382.000000</td>\n",
       "      <td>0.128146</td>\n",
       "      <td>OopsDidntMeanTo</td>\n",
       "    </tr>\n",
       "    <tr>\n",
       "      <th>1</th>\n",
       "      <td>mean</td>\n",
       "      <td>20.589527</td>\n",
       "      <td>0.021366</td>\n",
       "      <td>12.604644</td>\n",
       "      <td>5.117128</td>\n",
       "      <td>0.128146</td>\n",
       "      <td>OopsDidntMeanTo</td>\n",
       "    </tr>\n",
       "    <tr>\n",
       "      <th>2</th>\n",
       "      <td>std</td>\n",
       "      <td>35.136409</td>\n",
       "      <td>0.021366</td>\n",
       "      <td>47.350986</td>\n",
       "      <td>18.797181</td>\n",
       "      <td>0.128146</td>\n",
       "      <td>OopsDidntMeanTo</td>\n",
       "    </tr>\n",
       "    <tr>\n",
       "      <th>3</th>\n",
       "      <td>min</td>\n",
       "      <td>1.000000</td>\n",
       "      <td>0.021366</td>\n",
       "      <td>3.000000</td>\n",
       "      <td>1.000000</td>\n",
       "      <td>0.128146</td>\n",
       "      <td>OopsDidntMeanTo</td>\n",
       "    </tr>\n",
       "    <tr>\n",
       "      <th>4</th>\n",
       "      <td>25%</td>\n",
       "      <td>7.000000</td>\n",
       "      <td>0.021366</td>\n",
       "      <td>3.000000</td>\n",
       "      <td>1.000000</td>\n",
       "      <td>0.128146</td>\n",
       "      <td>OopsDidntMeanTo</td>\n",
       "    </tr>\n",
       "    <tr>\n",
       "      <th>5</th>\n",
       "      <td>50%</td>\n",
       "      <td>14.000000</td>\n",
       "      <td>0.021366</td>\n",
       "      <td>5.000000</td>\n",
       "      <td>1.000000</td>\n",
       "      <td>0.128146</td>\n",
       "      <td>OopsDidntMeanTo</td>\n",
       "    </tr>\n",
       "    <tr>\n",
       "      <th>6</th>\n",
       "      <td>75%</td>\n",
       "      <td>26.000000</td>\n",
       "      <td>0.021366</td>\n",
       "      <td>10.000000</td>\n",
       "      <td>3.000000</td>\n",
       "      <td>0.128146</td>\n",
       "      <td>OopsDidntMeanTo</td>\n",
       "    </tr>\n",
       "    <tr>\n",
       "      <th>7</th>\n",
       "      <td>max</td>\n",
       "      <td>723.000000</td>\n",
       "      <td>0.021366</td>\n",
       "      <td>3086.000000</td>\n",
       "      <td>592.000000</td>\n",
       "      <td>0.128146</td>\n",
       "      <td>OopsDidntMeanTo</td>\n",
       "    </tr>\n",
       "  </tbody>\n",
       "</table>\n",
       "</div>"
      ],
      "text/plain": [
       "    stat  author_counts  author_net_density  bipartite_edge_weights  \\\n",
       "0  count     592.000000            0.021366            12189.000000   \n",
       "1   mean      20.589527            0.021366               12.604644   \n",
       "2    std      35.136409            0.021366               47.350986   \n",
       "3    min       1.000000            0.021366                3.000000   \n",
       "4    25%       7.000000            0.021366                3.000000   \n",
       "5    50%      14.000000            0.021366                5.000000   \n",
       "6    75%      26.000000            0.021366               10.000000   \n",
       "7    max     723.000000            0.021366             3086.000000   \n",
       "\n",
       "    sub_counts  sub_net_density        subreddit  \n",
       "0  2382.000000         0.128146  OopsDidntMeanTo  \n",
       "1     5.117128         0.128146  OopsDidntMeanTo  \n",
       "2    18.797181         0.128146  OopsDidntMeanTo  \n",
       "3     1.000000         0.128146  OopsDidntMeanTo  \n",
       "4     1.000000         0.128146  OopsDidntMeanTo  \n",
       "5     1.000000         0.128146  OopsDidntMeanTo  \n",
       "6     3.000000         0.128146  OopsDidntMeanTo  \n",
       "7   592.000000         0.128146  OopsDidntMeanTo  "
      ]
     },
     "execution_count": 107,
     "metadata": {},
     "output_type": "execute_result"
    }
   ],
   "source": [
    "dfs[0]"
   ]
  },
  {
   "cell_type": "code",
   "execution_count": 108,
   "metadata": {},
   "outputs": [],
   "source": [
    "merged = pd.concat(dfs)"
   ]
  },
  {
   "cell_type": "code",
   "execution_count": 109,
   "metadata": {},
   "outputs": [
    {
     "data": {
      "text/plain": [
       "(88, 7)"
      ]
     },
     "execution_count": 109,
     "metadata": {},
     "output_type": "execute_result"
    }
   ],
   "source": [
    "merged.shape"
   ]
  },
  {
   "cell_type": "code",
   "execution_count": 110,
   "metadata": {},
   "outputs": [
    {
     "data": {
      "text/html": [
       "<div>\n",
       "<style scoped>\n",
       "    .dataframe tbody tr th:only-of-type {\n",
       "        vertical-align: middle;\n",
       "    }\n",
       "\n",
       "    .dataframe tbody tr th {\n",
       "        vertical-align: top;\n",
       "    }\n",
       "\n",
       "    .dataframe thead th {\n",
       "        text-align: right;\n",
       "    }\n",
       "</style>\n",
       "<table border=\"1\" class=\"dataframe\">\n",
       "  <thead>\n",
       "    <tr style=\"text-align: right;\">\n",
       "      <th></th>\n",
       "      <th>stat</th>\n",
       "      <th>author_counts</th>\n",
       "      <th>author_net_density</th>\n",
       "      <th>bipartite_edge_weights</th>\n",
       "      <th>sub_counts</th>\n",
       "      <th>sub_net_density</th>\n",
       "      <th>subreddit</th>\n",
       "    </tr>\n",
       "  </thead>\n",
       "  <tbody>\n",
       "    <tr>\n",
       "      <th>0</th>\n",
       "      <td>count</td>\n",
       "      <td>592.000000</td>\n",
       "      <td>0.021366</td>\n",
       "      <td>12189.000000</td>\n",
       "      <td>2382.000000</td>\n",
       "      <td>0.128146</td>\n",
       "      <td>OopsDidntMeanTo</td>\n",
       "    </tr>\n",
       "    <tr>\n",
       "      <th>1</th>\n",
       "      <td>mean</td>\n",
       "      <td>20.589527</td>\n",
       "      <td>0.021366</td>\n",
       "      <td>12.604644</td>\n",
       "      <td>5.117128</td>\n",
       "      <td>0.128146</td>\n",
       "      <td>OopsDidntMeanTo</td>\n",
       "    </tr>\n",
       "    <tr>\n",
       "      <th>2</th>\n",
       "      <td>std</td>\n",
       "      <td>35.136409</td>\n",
       "      <td>0.021366</td>\n",
       "      <td>47.350986</td>\n",
       "      <td>18.797181</td>\n",
       "      <td>0.128146</td>\n",
       "      <td>OopsDidntMeanTo</td>\n",
       "    </tr>\n",
       "    <tr>\n",
       "      <th>3</th>\n",
       "      <td>min</td>\n",
       "      <td>1.000000</td>\n",
       "      <td>0.021366</td>\n",
       "      <td>3.000000</td>\n",
       "      <td>1.000000</td>\n",
       "      <td>0.128146</td>\n",
       "      <td>OopsDidntMeanTo</td>\n",
       "    </tr>\n",
       "    <tr>\n",
       "      <th>4</th>\n",
       "      <td>25%</td>\n",
       "      <td>7.000000</td>\n",
       "      <td>0.021366</td>\n",
       "      <td>3.000000</td>\n",
       "      <td>1.000000</td>\n",
       "      <td>0.128146</td>\n",
       "      <td>OopsDidntMeanTo</td>\n",
       "    </tr>\n",
       "  </tbody>\n",
       "</table>\n",
       "</div>"
      ],
      "text/plain": [
       "    stat  author_counts  author_net_density  bipartite_edge_weights  \\\n",
       "0  count     592.000000            0.021366            12189.000000   \n",
       "1   mean      20.589527            0.021366               12.604644   \n",
       "2    std      35.136409            0.021366               47.350986   \n",
       "3    min       1.000000            0.021366                3.000000   \n",
       "4    25%       7.000000            0.021366                3.000000   \n",
       "\n",
       "    sub_counts  sub_net_density        subreddit  \n",
       "0  2382.000000         0.128146  OopsDidntMeanTo  \n",
       "1     5.117128         0.128146  OopsDidntMeanTo  \n",
       "2    18.797181         0.128146  OopsDidntMeanTo  \n",
       "3     1.000000         0.128146  OopsDidntMeanTo  \n",
       "4     1.000000         0.128146  OopsDidntMeanTo  "
      ]
     },
     "execution_count": 110,
     "metadata": {},
     "output_type": "execute_result"
    }
   ],
   "source": [
    "merged.head()"
   ]
  },
  {
   "cell_type": "code",
   "execution_count": 112,
   "metadata": {},
   "outputs": [
    {
     "data": {
      "text/html": [
       "<div>\n",
       "<style scoped>\n",
       "    .dataframe tbody tr th:only-of-type {\n",
       "        vertical-align: middle;\n",
       "    }\n",
       "\n",
       "    .dataframe tbody tr th {\n",
       "        vertical-align: top;\n",
       "    }\n",
       "\n",
       "    .dataframe thead th {\n",
       "        text-align: right;\n",
       "    }\n",
       "</style>\n",
       "<table border=\"1\" class=\"dataframe\">\n",
       "  <thead>\n",
       "    <tr style=\"text-align: right;\">\n",
       "      <th></th>\n",
       "      <th>stat</th>\n",
       "      <th>author_counts</th>\n",
       "      <th>author_net_density</th>\n",
       "      <th>bipartite_edge_weights</th>\n",
       "      <th>sub_counts</th>\n",
       "      <th>sub_net_density</th>\n",
       "      <th>subreddit</th>\n",
       "    </tr>\n",
       "  </thead>\n",
       "  <tbody>\n",
       "    <tr>\n",
       "      <th>0</th>\n",
       "      <td>count</td>\n",
       "      <td>1475.0</td>\n",
       "      <td>0.014222</td>\n",
       "      <td>7292.0</td>\n",
       "      <td>1774.0</td>\n",
       "      <td>0.013206</td>\n",
       "      <td>subaru</td>\n",
       "    </tr>\n",
       "    <tr>\n",
       "      <th>0</th>\n",
       "      <td>count</td>\n",
       "      <td>783.0</td>\n",
       "      <td>0.024918</td>\n",
       "      <td>9315.0</td>\n",
       "      <td>2009.0</td>\n",
       "      <td>0.034713</td>\n",
       "      <td>FoodPorn</td>\n",
       "    </tr>\n",
       "    <tr>\n",
       "      <th>0</th>\n",
       "      <td>count</td>\n",
       "      <td>226.0</td>\n",
       "      <td>0.010028</td>\n",
       "      <td>1720.0</td>\n",
       "      <td>675.0</td>\n",
       "      <td>0.038756</td>\n",
       "      <td>finance</td>\n",
       "    </tr>\n",
       "    <tr>\n",
       "      <th>0</th>\n",
       "      <td>count</td>\n",
       "      <td>141.0</td>\n",
       "      <td>0.004576</td>\n",
       "      <td>1760.0</td>\n",
       "      <td>849.0</td>\n",
       "      <td>0.050105</td>\n",
       "      <td>RelayForReddit</td>\n",
       "    </tr>\n",
       "    <tr>\n",
       "      <th>0</th>\n",
       "      <td>count</td>\n",
       "      <td>2721.0</td>\n",
       "      <td>0.022457</td>\n",
       "      <td>18920.0</td>\n",
       "      <td>3591.0</td>\n",
       "      <td>0.071119</td>\n",
       "      <td>Christianity</td>\n",
       "    </tr>\n",
       "    <tr>\n",
       "      <th>0</th>\n",
       "      <td>count</td>\n",
       "      <td>219.0</td>\n",
       "      <td>0.001970</td>\n",
       "      <td>2126.0</td>\n",
       "      <td>1078.0</td>\n",
       "      <td>0.088708</td>\n",
       "      <td>spotify</td>\n",
       "    </tr>\n",
       "    <tr>\n",
       "      <th>0</th>\n",
       "      <td>count</td>\n",
       "      <td>900.0</td>\n",
       "      <td>0.008903</td>\n",
       "      <td>5645.0</td>\n",
       "      <td>1881.0</td>\n",
       "      <td>0.092099</td>\n",
       "      <td>whatsthisplant</td>\n",
       "    </tr>\n",
       "    <tr>\n",
       "      <th>0</th>\n",
       "      <td>count</td>\n",
       "      <td>592.0</td>\n",
       "      <td>0.021366</td>\n",
       "      <td>12189.0</td>\n",
       "      <td>2382.0</td>\n",
       "      <td>0.128146</td>\n",
       "      <td>OopsDidntMeanTo</td>\n",
       "    </tr>\n",
       "    <tr>\n",
       "      <th>0</th>\n",
       "      <td>count</td>\n",
       "      <td>2503.0</td>\n",
       "      <td>0.004298</td>\n",
       "      <td>9747.0</td>\n",
       "      <td>2556.0</td>\n",
       "      <td>0.143886</td>\n",
       "      <td>brasil</td>\n",
       "    </tr>\n",
       "    <tr>\n",
       "      <th>0</th>\n",
       "      <td>count</td>\n",
       "      <td>409.0</td>\n",
       "      <td>0.005446</td>\n",
       "      <td>2850.0</td>\n",
       "      <td>1298.0</td>\n",
       "      <td>0.164284</td>\n",
       "      <td>vegas</td>\n",
       "    </tr>\n",
       "    <tr>\n",
       "      <th>0</th>\n",
       "      <td>count</td>\n",
       "      <td>482.0</td>\n",
       "      <td>0.014906</td>\n",
       "      <td>2640.0</td>\n",
       "      <td>1031.0</td>\n",
       "      <td>0.251414</td>\n",
       "      <td>pakistan</td>\n",
       "    </tr>\n",
       "  </tbody>\n",
       "</table>\n",
       "</div>"
      ],
      "text/plain": [
       "    stat  author_counts  author_net_density  bipartite_edge_weights  \\\n",
       "0  count         1475.0            0.014222                  7292.0   \n",
       "0  count          783.0            0.024918                  9315.0   \n",
       "0  count          226.0            0.010028                  1720.0   \n",
       "0  count          141.0            0.004576                  1760.0   \n",
       "0  count         2721.0            0.022457                 18920.0   \n",
       "0  count          219.0            0.001970                  2126.0   \n",
       "0  count          900.0            0.008903                  5645.0   \n",
       "0  count          592.0            0.021366                 12189.0   \n",
       "0  count         2503.0            0.004298                  9747.0   \n",
       "0  count          409.0            0.005446                  2850.0   \n",
       "0  count          482.0            0.014906                  2640.0   \n",
       "\n",
       "   sub_counts  sub_net_density        subreddit  \n",
       "0      1774.0         0.013206           subaru  \n",
       "0      2009.0         0.034713         FoodPorn  \n",
       "0       675.0         0.038756          finance  \n",
       "0       849.0         0.050105   RelayForReddit  \n",
       "0      3591.0         0.071119     Christianity  \n",
       "0      1078.0         0.088708          spotify  \n",
       "0      1881.0         0.092099   whatsthisplant  \n",
       "0      2382.0         0.128146  OopsDidntMeanTo  \n",
       "0      2556.0         0.143886           brasil  \n",
       "0      1298.0         0.164284            vegas  \n",
       "0      1031.0         0.251414         pakistan  "
      ]
     },
     "execution_count": 112,
     "metadata": {},
     "output_type": "execute_result"
    }
   ],
   "source": [
    "merged.drop_duplicates('subreddit').sort_values('sub_net_density')"
   ]
  },
  {
   "cell_type": "code",
   "execution_count": 117,
   "metadata": {},
   "outputs": [
    {
     "data": {
      "image/png": "[encoded data removed]",
      "text/plain": [
       "<matplotlib.figure.Figure at 0x110a764e0>"
      ]
     },
     "metadata": {},
     "output_type": "display_data"
    }
   ],
   "source": [
    "merged.plot('bipartite_edge_weights','sub_net_density', kind='scatter');"
   ]
  },
  {
   "cell_type": "code",
   "execution_count": 118,
   "metadata": {},
   "outputs": [
    {
     "data": {
      "image/png": "[encoded data removed]",
      "text/plain": [
       "<matplotlib.figure.Figure at 0x110c74780>"
      ]
     },
     "metadata": {},
     "output_type": "display_data"
    }
   ],
   "source": [
    "merged.plot('author_counts','sub_net_density', kind='scatter');"
   ]
  },
  {
   "cell_type": "code",
   "execution_count": 119,
   "metadata": {},
   "outputs": [
    {
     "data": {
      "image/png": "[encoded data removed]",
      "text/plain": [
       "<matplotlib.figure.Figure at 0x10f3e1d30>"
      ]
     },
     "metadata": {},
     "output_type": "display_data"
    }
   ],
   "source": [
    "merged.plot('sub_counts','sub_net_density', kind='scatter');"
   ]
  },
  {
   "cell_type": "code",
   "execution_count": 120,
   "metadata": {},
   "outputs": [
    {
     "data": {
      "image/png": "[encoded data removed]",
      "text/plain": [
       "<matplotlib.figure.Figure at 0x1106de2b0>"
      ]
     },
     "metadata": {},
     "output_type": "display_data"
    }
   ],
   "source": [
    "merged.plot('author_net_density','sub_net_density', kind='scatter');"
   ]
  },
  {
   "cell_type": "code",
   "execution_count": 15,
   "metadata": {},
   "outputs": [],
   "source": [
    "path = str(cache_file('*_stats_df.pkl'))\n",
    "files = glob.glob(path)\n",
    "\n",
    "completed = [file.replace(str(cache_file('')), '').replace('_stats_df.pkl', '').lstrip('/') for file in files]"
   ]
  },
  {
   "cell_type": "code",
   "execution_count": 16,
   "metadata": {},
   "outputs": [
    {
     "data": {
      "text/plain": [
       "13"
      ]
     },
     "execution_count": 16,
     "metadata": {},
     "output_type": "execute_result"
    }
   ],
   "source": [
    "len(completed)"
   ]
  },
  {
   "cell_type": "code",
   "execution_count": 17,
   "metadata": {},
   "outputs": [
    {
     "data": {
      "text/plain": [
       "['OopsDidntMeanTo',\n",
       " 'finance',\n",
       " 'subaru',\n",
       " 'RelayForReddit',\n",
       " 'spotify',\n",
       " 'vegas',\n",
       " 'whatsthisplant',\n",
       " 'Christianity',\n",
       " 'brasil',\n",
       " 'EarthPorn',\n",
       " 'pakistan',\n",
       " 'FoodPorn',\n",
       " 'StarWars']"
      ]
     },
     "execution_count": 17,
     "metadata": {},
     "output_type": "execute_result"
    }
   ],
   "source": [
    "completed"
   ]
  },
  {
   "cell_type": "code",
   "execution_count": 42,
   "metadata": {},
   "outputs": [],
   "source": [
    "from sqlalchemy import create_engine\n",
    "\n",
    "name=str(cache_file('stats_df.db'))\n",
    "engine = create_engine('sqlite://', echo=False)\n",
    "stats_df.to_sql(name=name, con=engine)"
   ]
  },
  {
   "cell_type": "code",
   "execution_count": 45,
   "metadata": {},
   "outputs": [],
   "source": [
    "test = pd.read_sql(str(cache_file('stats_df.db')), con=engine)"
   ]
  },
  {
   "cell_type": "code",
   "execution_count": 46,
   "metadata": {},
   "outputs": [
    {
     "data": {
      "text/html": [
       "<div>\n",
       "<style scoped>\n",
       "    .dataframe tbody tr th:only-of-type {\n",
       "        vertical-align: middle;\n",
       "    }\n",
       "\n",
       "    .dataframe tbody tr th {\n",
       "        vertical-align: top;\n",
       "    }\n",
       "\n",
       "    .dataframe thead th {\n",
       "        text-align: right;\n",
       "    }\n",
       "</style>\n",
       "<table border=\"1\" class=\"dataframe\">\n",
       "  <thead>\n",
       "    <tr style=\"text-align: right;\">\n",
       "      <th></th>\n",
       "      <th>stat</th>\n",
       "      <th>author_counts</th>\n",
       "      <th>author_net_density</th>\n",
       "      <th>bipartite_edge_weights</th>\n",
       "      <th>sub_counts</th>\n",
       "      <th>sub_net_density</th>\n",
       "      <th>subreddit</th>\n",
       "    </tr>\n",
       "  </thead>\n",
       "  <tbody>\n",
       "    <tr>\n",
       "      <th>0</th>\n",
       "      <td>count</td>\n",
       "      <td>592.000000</td>\n",
       "      <td>0.021366</td>\n",
       "      <td>12189.000000</td>\n",
       "      <td>2382.000000</td>\n",
       "      <td>0.128146</td>\n",
       "      <td>OopsDidntMeanTo</td>\n",
       "    </tr>\n",
       "    <tr>\n",
       "      <th>1</th>\n",
       "      <td>mean</td>\n",
       "      <td>20.589527</td>\n",
       "      <td>0.021366</td>\n",
       "      <td>12.604644</td>\n",
       "      <td>5.117128</td>\n",
       "      <td>0.128146</td>\n",
       "      <td>OopsDidntMeanTo</td>\n",
       "    </tr>\n",
       "    <tr>\n",
       "      <th>2</th>\n",
       "      <td>std</td>\n",
       "      <td>35.136409</td>\n",
       "      <td>0.021366</td>\n",
       "      <td>47.350986</td>\n",
       "      <td>18.797181</td>\n",
       "      <td>0.128146</td>\n",
       "      <td>OopsDidntMeanTo</td>\n",
       "    </tr>\n",
       "    <tr>\n",
       "      <th>3</th>\n",
       "      <td>min</td>\n",
       "      <td>1.000000</td>\n",
       "      <td>0.021366</td>\n",
       "      <td>3.000000</td>\n",
       "      <td>1.000000</td>\n",
       "      <td>0.128146</td>\n",
       "      <td>OopsDidntMeanTo</td>\n",
       "    </tr>\n",
       "    <tr>\n",
       "      <th>4</th>\n",
       "      <td>25%</td>\n",
       "      <td>7.000000</td>\n",
       "      <td>0.021366</td>\n",
       "      <td>3.000000</td>\n",
       "      <td>1.000000</td>\n",
       "      <td>0.128146</td>\n",
       "      <td>OopsDidntMeanTo</td>\n",
       "    </tr>\n",
       "    <tr>\n",
       "      <th>5</th>\n",
       "      <td>50%</td>\n",
       "      <td>14.000000</td>\n",
       "      <td>0.021366</td>\n",
       "      <td>5.000000</td>\n",
       "      <td>1.000000</td>\n",
       "      <td>0.128146</td>\n",
       "      <td>OopsDidntMeanTo</td>\n",
       "    </tr>\n",
       "    <tr>\n",
       "      <th>6</th>\n",
       "      <td>75%</td>\n",
       "      <td>26.000000</td>\n",
       "      <td>0.021366</td>\n",
       "      <td>10.000000</td>\n",
       "      <td>3.000000</td>\n",
       "      <td>0.128146</td>\n",
       "      <td>OopsDidntMeanTo</td>\n",
       "    </tr>\n",
       "    <tr>\n",
       "      <th>7</th>\n",
       "      <td>max</td>\n",
       "      <td>723.000000</td>\n",
       "      <td>0.021366</td>\n",
       "      <td>3086.000000</td>\n",
       "      <td>592.000000</td>\n",
       "      <td>0.128146</td>\n",
       "      <td>OopsDidntMeanTo</td>\n",
       "    </tr>\n",
       "  </tbody>\n",
       "</table>\n",
       "</div>"
      ],
      "text/plain": [
       "    stat  author_counts  author_net_density  bipartite_edge_weights  \\\n",
       "0  count     592.000000            0.021366            12189.000000   \n",
       "1   mean      20.589527            0.021366               12.604644   \n",
       "2    std      35.136409            0.021366               47.350986   \n",
       "3    min       1.000000            0.021366                3.000000   \n",
       "4    25%       7.000000            0.021366                3.000000   \n",
       "5    50%      14.000000            0.021366                5.000000   \n",
       "6    75%      26.000000            0.021366               10.000000   \n",
       "7    max     723.000000            0.021366             3086.000000   \n",
       "\n",
       "    sub_counts  sub_net_density        subreddit  \n",
       "0  2382.000000         0.128146  OopsDidntMeanTo  \n",
       "1     5.117128         0.128146  OopsDidntMeanTo  \n",
       "2    18.797181         0.128146  OopsDidntMeanTo  \n",
       "3     1.000000         0.128146  OopsDidntMeanTo  \n",
       "4     1.000000         0.128146  OopsDidntMeanTo  \n",
       "5     1.000000         0.128146  OopsDidntMeanTo  \n",
       "6     3.000000         0.128146  OopsDidntMeanTo  \n",
       "7   592.000000         0.128146  OopsDidntMeanTo  "
      ]
     },
     "execution_count": 46,
     "metadata": {},
     "output_type": "execute_result"
    }
   ],
   "source": [
    "test"
   ]
  },
  {
   "cell_type": "code",
   "execution_count": null,
   "metadata": {},
   "outputs": [],
   "source": []
  }
 ],
 "metadata": {
  "kernelspec": {
   "display_name": "Python 3",
   "language": "python",
   "name": "python3"
  },
  "language_info": {
   "codemirror_mode": {
    "name": "ipython",
    "version": 3
   },
   "file_extension": ".py",
   "mimetype": "text/x-python",
   "name": "python",
   "nbconvert_exporter": "python",
   "pygments_lexer": "ipython3",
   "version": "3.6.3"
  }
 },
 "nbformat": 4,
 "nbformat_minor": 2
}

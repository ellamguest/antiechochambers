{
 "cells": [
  {
   "cell_type": "code",
   "execution_count": 2,
   "metadata": {},
   "outputs": [],
   "source": [
    "%autoreload 2\n",
    "\n",
    "from VMTest import *"
   ]
  },
  {
   "cell_type": "code",
   "execution_count": 4,
   "metadata": {},
   "outputs": [
    {
     "data": {
      "text/plain": [
       "['a']"
      ]
     },
     "execution_count": 4,
     "metadata": {},
     "output_type": "execute_result"
    }
   ],
   "source": [
    "database_name = 'allEdges'\n",
    "completed = checkCompleted(database_name)\n",
    "completed"
   ]
  },
  {
   "cell_type": "code",
   "execution_count": 5,
   "metadata": {},
   "outputs": [
    {
     "name": "stdout",
     "output_type": "stream",
     "text": [
      "that took 0.714102029800415\n"
     ]
    }
   ],
   "source": [
    "runStats('Frat')"
   ]
  },
  {
   "cell_type": "code",
   "execution_count": 15,
   "metadata": {},
   "outputs": [],
   "source": [
    "letters = list(map(chr, range(97, 123)))\n",
    "numbers = list(range(0,10))\n",
    "chars = letters + numbers\n",
    "\n",
    "database_name = 'allEdges'\n",
    "completed = checkCompleted(database_name)\n",
    "\n",
    "for char in chars:\n",
    "    if char in completed:\n",
    "        print(char, 'already done')\n",
    "    else:\n",
    "        print(char)\n",
    "        query = \"\"\"\n",
    "                    SELECT author, subreddit, count(link_id) as weight\n",
    "                    FROM `fh-bigquery.reddit_comments.2018_03`\n",
    "                    WHERE lower(author) like '{}%' \n",
    "                    GROUP BY author, subreddit\n",
    "                \"\"\".format(char)\n",
    "\n",
    "        data = fetchQuery(query)\n",
    "        database_name = 'allEdges'\n",
    "        saveSQL(data, char, database_name)"
   ]
  },
  {
   "cell_type": "code",
   "execution_count": null,
   "metadata": {},
   "outputs": [],
   "source": [
    "query = \"\"\"\n",
    "            SELECT author, subreddit, count(link_id) as weight\n",
    "            FROM `fh-bigquery.reddit_comments.2018_03`\n",
    "            WHERE (author not like '[A-Z]%') AND\n",
    "                  (author not like '[0-9]%')\n",
    "            GROUP BY author, subreddit\n",
    "        \"\"\".format(startswith)\n",
    "\n",
    "data = fetchQuery(query)\n",
    "\n",
    "saveSQL(data, 'punc', database_name)"
   ]
  },
  {
   "cell_type": "code",
   "execution_count": 1,
   "metadata": {},
   "outputs": [
    {
     "ename": "NameError",
     "evalue": "name 'checkCompleted' is not defined",
     "output_type": "error",
     "traceback": [
      "\u001b[0;31m---------------------------------------------------------------------------\u001b[0m",
      "\u001b[0;31mNameError\u001b[0m                                 Traceback (most recent call last)",
      "\u001b[0;32m<ipython-input-1-6d41617d2dad>\u001b[0m in \u001b[0;36m<module>\u001b[0;34m()\u001b[0m\n\u001b[0;32m----> 1\u001b[0;31m \u001b[0mcompleted\u001b[0m \u001b[0;34m=\u001b[0m \u001b[0mcheckCompleted\u001b[0m\u001b[0;34m(\u001b[0m\u001b[0mdatabase_name\u001b[0m\u001b[0;34m)\u001b[0m\u001b[0;34m\u001b[0m\u001b[0m\n\u001b[0m\u001b[1;32m      2\u001b[0m \u001b[0mcompleted\u001b[0m\u001b[0;34m\u001b[0m\u001b[0m\n",
      "\u001b[0;31mNameError\u001b[0m: name 'checkCompleted' is not defined"
     ]
    }
   ],
   "source": [
    "completed = checkCompleted(database_name)\n",
    "completed"
   ]
  },
  {
   "cell_type": "code",
   "execution_count": null,
   "metadata": {},
   "outputs": [],
   "source": [
    "punc = loadSQL('punc', database_name, index_col='index')\n",
    "punc.head()"
   ]
  },
  {
   "cell_type": "code",
   "execution_count": null,
   "metadata": {},
   "outputs": [],
   "source": []
  }
 ],
 "metadata": {
  "kernelspec": {
   "display_name": "Python 3",
   "language": "python",
   "name": "python3"
  },
  "language_info": {
   "codemirror_mode": {
    "name": "ipython",
    "version": 3
   },
   "file_extension": ".py",
   "mimetype": "text/x-python",
   "name": "python",
   "nbconvert_exporter": "python",
   "pygments_lexer": "ipython3",
   "version": "3.6.3"
  }
 },
 "nbformat": 4,
 "nbformat_minor": 2
}

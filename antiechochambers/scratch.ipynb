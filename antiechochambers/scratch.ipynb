{
 "cells": [
  {
   "cell_type": "code",
   "execution_count": 6,
   "metadata": {},
   "outputs": [],
   "source": [
    "%autoreload 2\n",
    "\n",
    "from VMTest import *"
   ]
  },
  {
   "cell_type": "code",
   "execution_count": 135,
   "metadata": {},
   "outputs": [],
   "source": [
    "database_name = 'allEdges'\n",
    "completed = checkCompleted(database_name)"
   ]
  },
  {
   "cell_type": "code",
   "execution_count": null,
   "metadata": {},
   "outputs": [],
   "source": [
    "charCounts = []\n",
    "for char in completed:\n",
    "    print(char)\n",
    "    df = loadSQL(char, database_name, index_col='index')\n",
    "    authorCounts = df.groupby('subreddit')['author'].count()\n",
    "    authorCounts.name = char\n",
    "    charCounts.append(authorCounts)\n",
    "    \n",
    "len(charCounts)"
   ]
  },
  {
   "cell_type": "code",
   "execution_count": 112,
   "metadata": {},
   "outputs": [],
   "source": [
    "totals = pd.concat(charCounts, axis=1)\n",
    "totals.index.name = 'subreddit'"
   ]
  },
  {
   "cell_type": "code",
   "execution_count": 113,
   "metadata": {},
   "outputs": [],
   "source": [
    "totals['TOTAL'] = totals.sum(axis=1)"
   ]
  },
  {
   "cell_type": "code",
   "execution_count": 136,
   "metadata": {},
   "outputs": [
    {
     "data": {
      "text/html": [
       "<div>\n",
       "<style scoped>\n",
       "    .dataframe tbody tr th:only-of-type {\n",
       "        vertical-align: middle;\n",
       "    }\n",
       "\n",
       "    .dataframe tbody tr th {\n",
       "        vertical-align: top;\n",
       "    }\n",
       "\n",
       "    .dataframe thead th {\n",
       "        text-align: right;\n",
       "    }\n",
       "</style>\n",
       "<table border=\"1\" class=\"dataframe\">\n",
       "  <thead>\n",
       "    <tr style=\"text-align: right;\">\n",
       "      <th></th>\n",
       "      <th>a</th>\n",
       "      <th>b</th>\n",
       "      <th>c</th>\n",
       "      <th>d</th>\n",
       "      <th>e</th>\n",
       "      <th>f</th>\n",
       "      <th>g</th>\n",
       "      <th>h</th>\n",
       "      <th>i</th>\n",
       "      <th>j</th>\n",
       "      <th>...</th>\n",
       "      <th>1</th>\n",
       "      <th>2</th>\n",
       "      <th>3</th>\n",
       "      <th>4</th>\n",
       "      <th>5</th>\n",
       "      <th>6</th>\n",
       "      <th>7</th>\n",
       "      <th>8</th>\n",
       "      <th>9</th>\n",
       "      <th>TOTAL</th>\n",
       "    </tr>\n",
       "    <tr>\n",
       "      <th>subreddit</th>\n",
       "      <th></th>\n",
       "      <th></th>\n",
       "      <th></th>\n",
       "      <th></th>\n",
       "      <th></th>\n",
       "      <th></th>\n",
       "      <th></th>\n",
       "      <th></th>\n",
       "      <th></th>\n",
       "      <th></th>\n",
       "      <th></th>\n",
       "      <th></th>\n",
       "      <th></th>\n",
       "      <th></th>\n",
       "      <th></th>\n",
       "      <th></th>\n",
       "      <th></th>\n",
       "      <th></th>\n",
       "      <th></th>\n",
       "      <th></th>\n",
       "      <th></th>\n",
       "    </tr>\n",
       "  </thead>\n",
       "  <tbody>\n",
       "    <tr>\n",
       "      <th>AskReddit</th>\n",
       "      <td>41824.0</td>\n",
       "      <td>43153.0</td>\n",
       "      <td>45064.0</td>\n",
       "      <td>42225.0</td>\n",
       "      <td>18620.0</td>\n",
       "      <td>24205.0</td>\n",
       "      <td>24280.0</td>\n",
       "      <td>22300.0</td>\n",
       "      <td>24027.0</td>\n",
       "      <td>28337.0</td>\n",
       "      <td>...</td>\n",
       "      <td>2009.0</td>\n",
       "      <td>1210.0</td>\n",
       "      <td>767.0</td>\n",
       "      <td>852.0</td>\n",
       "      <td>537.0</td>\n",
       "      <td>448.0</td>\n",
       "      <td>445.0</td>\n",
       "      <td>486.0</td>\n",
       "      <td>424.0</td>\n",
       "      <td>709096.0</td>\n",
       "    </tr>\n",
       "    <tr>\n",
       "      <th>funny</th>\n",
       "      <td>12194.0</td>\n",
       "      <td>13230.0</td>\n",
       "      <td>13612.0</td>\n",
       "      <td>13508.0</td>\n",
       "      <td>5593.0</td>\n",
       "      <td>7398.0</td>\n",
       "      <td>7474.0</td>\n",
       "      <td>6706.0</td>\n",
       "      <td>7269.0</td>\n",
       "      <td>8764.0</td>\n",
       "      <td>...</td>\n",
       "      <td>616.0</td>\n",
       "      <td>359.0</td>\n",
       "      <td>232.0</td>\n",
       "      <td>261.0</td>\n",
       "      <td>151.0</td>\n",
       "      <td>141.0</td>\n",
       "      <td>142.0</td>\n",
       "      <td>162.0</td>\n",
       "      <td>126.0</td>\n",
       "      <td>215223.0</td>\n",
       "    </tr>\n",
       "    <tr>\n",
       "      <th>pics</th>\n",
       "      <td>11959.0</td>\n",
       "      <td>13068.0</td>\n",
       "      <td>13050.0</td>\n",
       "      <td>12791.0</td>\n",
       "      <td>5445.0</td>\n",
       "      <td>7405.0</td>\n",
       "      <td>7243.0</td>\n",
       "      <td>6696.0</td>\n",
       "      <td>7134.0</td>\n",
       "      <td>8505.0</td>\n",
       "      <td>...</td>\n",
       "      <td>616.0</td>\n",
       "      <td>393.0</td>\n",
       "      <td>224.0</td>\n",
       "      <td>254.0</td>\n",
       "      <td>181.0</td>\n",
       "      <td>132.0</td>\n",
       "      <td>131.0</td>\n",
       "      <td>146.0</td>\n",
       "      <td>150.0</td>\n",
       "      <td>208222.0</td>\n",
       "    </tr>\n",
       "    <tr>\n",
       "      <th>gaming</th>\n",
       "      <td>11672.0</td>\n",
       "      <td>11785.0</td>\n",
       "      <td>12444.0</td>\n",
       "      <td>13064.0</td>\n",
       "      <td>5152.0</td>\n",
       "      <td>6898.0</td>\n",
       "      <td>7195.0</td>\n",
       "      <td>6180.0</td>\n",
       "      <td>6508.0</td>\n",
       "      <td>8030.0</td>\n",
       "      <td>...</td>\n",
       "      <td>506.0</td>\n",
       "      <td>288.0</td>\n",
       "      <td>194.0</td>\n",
       "      <td>214.0</td>\n",
       "      <td>131.0</td>\n",
       "      <td>106.0</td>\n",
       "      <td>107.0</td>\n",
       "      <td>114.0</td>\n",
       "      <td>95.0</td>\n",
       "      <td>201434.0</td>\n",
       "    </tr>\n",
       "    <tr>\n",
       "      <th>todayilearned</th>\n",
       "      <td>9770.0</td>\n",
       "      <td>10557.0</td>\n",
       "      <td>10875.0</td>\n",
       "      <td>10507.0</td>\n",
       "      <td>4503.0</td>\n",
       "      <td>5986.0</td>\n",
       "      <td>5966.0</td>\n",
       "      <td>5521.0</td>\n",
       "      <td>5911.0</td>\n",
       "      <td>6746.0</td>\n",
       "      <td>...</td>\n",
       "      <td>504.0</td>\n",
       "      <td>294.0</td>\n",
       "      <td>199.0</td>\n",
       "      <td>223.0</td>\n",
       "      <td>136.0</td>\n",
       "      <td>109.0</td>\n",
       "      <td>104.0</td>\n",
       "      <td>140.0</td>\n",
       "      <td>112.0</td>\n",
       "      <td>170856.0</td>\n",
       "    </tr>\n",
       "  </tbody>\n",
       "</table>\n",
       "<p>5 rows × 37 columns</p>\n",
       "</div>"
      ],
      "text/plain": [
       "                     a        b        c        d        e        f        g  \\\n",
       "subreddit                                                                      \n",
       "AskReddit      41824.0  43153.0  45064.0  42225.0  18620.0  24205.0  24280.0   \n",
       "funny          12194.0  13230.0  13612.0  13508.0   5593.0   7398.0   7474.0   \n",
       "pics           11959.0  13068.0  13050.0  12791.0   5445.0   7405.0   7243.0   \n",
       "gaming         11672.0  11785.0  12444.0  13064.0   5152.0   6898.0   7195.0   \n",
       "todayilearned   9770.0  10557.0  10875.0  10507.0   4503.0   5986.0   5966.0   \n",
       "\n",
       "                     h        i        j    ...          1       2      3  \\\n",
       "subreddit                                   ...                             \n",
       "AskReddit      22300.0  24027.0  28337.0    ...     2009.0  1210.0  767.0   \n",
       "funny           6706.0   7269.0   8764.0    ...      616.0   359.0  232.0   \n",
       "pics            6696.0   7134.0   8505.0    ...      616.0   393.0  224.0   \n",
       "gaming          6180.0   6508.0   8030.0    ...      506.0   288.0  194.0   \n",
       "todayilearned   5521.0   5911.0   6746.0    ...      504.0   294.0  199.0   \n",
       "\n",
       "                   4      5      6      7      8      9     TOTAL  \n",
       "subreddit                                                          \n",
       "AskReddit      852.0  537.0  448.0  445.0  486.0  424.0  709096.0  \n",
       "funny          261.0  151.0  141.0  142.0  162.0  126.0  215223.0  \n",
       "pics           254.0  181.0  132.0  131.0  146.0  150.0  208222.0  \n",
       "gaming         214.0  131.0  106.0  107.0  114.0   95.0  201434.0  \n",
       "todayilearned  223.0  136.0  109.0  104.0  140.0  112.0  170856.0  \n",
       "\n",
       "[5 rows x 37 columns]"
      ]
     },
     "execution_count": 136,
     "metadata": {},
     "output_type": "execute_result"
    }
   ],
   "source": [
    "totals.sort_values('TOTAL', ascending=False, inplace=True)\n",
    "totals.head()"
   ]
  },
  {
   "cell_type": "code",
   "execution_count": 115,
   "metadata": {},
   "outputs": [
    {
     "data": {
      "text/plain": [
       "count    106687.000000\n",
       "mean        171.664842\n",
       "std        3103.355680\n",
       "min           1.000000\n",
       "25%           1.000000\n",
       "50%           2.000000\n",
       "75%          13.000000\n",
       "max      709096.000000\n",
       "Name: TOTAL, dtype: float64"
      ]
     },
     "execution_count": 115,
     "metadata": {},
     "output_type": "execute_result"
    }
   ],
   "source": [
    "totals['TOTAL'].describe()"
   ]
  },
  {
   "cell_type": "code",
   "execution_count": 116,
   "metadata": {},
   "outputs": [],
   "source": [
    "n = totals['TOTAL']"
   ]
  },
  {
   "cell_type": "code",
   "execution_count": 118,
   "metadata": {},
   "outputs": [],
   "source": [
    "p = n.cumsum()/n.sum()"
   ]
  },
  {
   "cell_type": "code",
   "execution_count": 119,
   "metadata": {},
   "outputs": [
    {
     "data": {
      "text/plain": [
       "(53,)"
      ]
     },
     "execution_count": 119,
     "metadata": {},
     "output_type": "execute_result"
    }
   ],
   "source": [
    "p[p<0.25].shape"
   ]
  },
  {
   "cell_type": "code",
   "execution_count": 120,
   "metadata": {},
   "outputs": [
    {
     "data": {
      "text/plain": [
       "(175,)"
      ]
     },
     "execution_count": 120,
     "metadata": {},
     "output_type": "execute_result"
    }
   ],
   "source": [
    "p[p<0.40].shape"
   ]
  },
  {
   "cell_type": "code",
   "execution_count": 121,
   "metadata": {},
   "outputs": [
    {
     "data": {
      "text/plain": [
       "<matplotlib.axes._subplots.AxesSubplot at 0x11b2e41d0>"
      ]
     },
     "execution_count": 121,
     "metadata": {},
     "output_type": "execute_result"
    },
    {
     "data": {
      "image/png": "[encoded data removed]",
      "text/plain": [
       "<matplotlib.figure.Figure at 0x11b2e4a20>"
      ]
     },
     "metadata": {},
     "output_type": "display_data"
    }
   ],
   "source": [
    "np.log(n).hist()"
   ]
  },
  {
   "cell_type": "code",
   "execution_count": 122,
   "metadata": {},
   "outputs": [],
   "source": [
    "defaults = loadSQL('defaults','reference')\n",
    "defaults = defaults.defaults.unique()"
   ]
  },
  {
   "cell_type": "code",
   "execution_count": 123,
   "metadata": {},
   "outputs": [
    {
     "data": {
      "text/plain": [
       "True"
      ]
     },
     "execution_count": 123,
     "metadata": {},
     "output_type": "execute_result"
    }
   ],
   "source": [
    "'Art' in defaults"
   ]
  },
  {
   "cell_type": "code",
   "execution_count": 126,
   "metadata": {},
   "outputs": [],
   "source": [
    "n = n.reset_index()"
   ]
  },
  {
   "cell_type": "code",
   "execution_count": 137,
   "metadata": {},
   "outputs": [
    {
     "data": {
      "text/html": [
       "<div>\n",
       "<style scoped>\n",
       "    .dataframe tbody tr th:only-of-type {\n",
       "        vertical-align: middle;\n",
       "    }\n",
       "\n",
       "    .dataframe tbody tr th {\n",
       "        vertical-align: top;\n",
       "    }\n",
       "\n",
       "    .dataframe thead th {\n",
       "        text-align: right;\n",
       "    }\n",
       "</style>\n",
       "<table border=\"1\" class=\"dataframe\">\n",
       "  <thead>\n",
       "    <tr style=\"text-align: right;\">\n",
       "      <th></th>\n",
       "      <th>index</th>\n",
       "      <th>subreddit</th>\n",
       "      <th>TOTAL</th>\n",
       "    </tr>\n",
       "  </thead>\n",
       "  <tbody>\n",
       "    <tr>\n",
       "      <th>0</th>\n",
       "      <td>0</td>\n",
       "      <td>AskReddit</td>\n",
       "      <td>709096.0</td>\n",
       "    </tr>\n",
       "    <tr>\n",
       "      <th>1</th>\n",
       "      <td>1</td>\n",
       "      <td>funny</td>\n",
       "      <td>215223.0</td>\n",
       "    </tr>\n",
       "    <tr>\n",
       "      <th>2</th>\n",
       "      <td>2</td>\n",
       "      <td>pics</td>\n",
       "      <td>208222.0</td>\n",
       "    </tr>\n",
       "    <tr>\n",
       "      <th>3</th>\n",
       "      <td>3</td>\n",
       "      <td>gaming</td>\n",
       "      <td>201434.0</td>\n",
       "    </tr>\n",
       "    <tr>\n",
       "      <th>4</th>\n",
       "      <td>4</td>\n",
       "      <td>todayilearned</td>\n",
       "      <td>170856.0</td>\n",
       "    </tr>\n",
       "  </tbody>\n",
       "</table>\n",
       "</div>"
      ],
      "text/plain": [
       "   index      subreddit     TOTAL\n",
       "0      0      AskReddit  709096.0\n",
       "1      1          funny  215223.0\n",
       "2      2           pics  208222.0\n",
       "3      3         gaming  201434.0\n",
       "4      4  todayilearned  170856.0"
      ]
     },
     "execution_count": 137,
     "metadata": {},
     "output_type": "execute_result"
    }
   ],
   "source": [
    "d = n[n['subreddit'].isin(defaults)].reset_index()\n",
    "d.head()"
   ]
  },
  {
   "cell_type": "code",
   "execution_count": 138,
   "metadata": {},
   "outputs": [
    {
     "data": {
      "text/plain": [
       "'a'"
      ]
     },
     "execution_count": 138,
     "metadata": {},
     "output_type": "execute_result"
    }
   ],
   "source": [
    "database_name = 'allEdges'\n",
    "completed = checkCompleted(database_name)\n",
    "\n",
    "engine = get_engine(database_name)"
   ]
  },
  {
   "cell_type": "code",
   "execution_count": 151,
   "metadata": {},
   "outputs": [
    {
     "name": "stdout",
     "output_type": "stream",
     "text": [
      "a\n",
      "b\n",
      "c\n",
      "d\n",
      "e\n",
      "f\n",
      "g\n",
      "h\n",
      "i\n",
      "j\n",
      "k\n",
      "l\n",
      "m\n",
      "n\n",
      "o\n",
      "p\n",
      "q\n",
      "r\n",
      "s\n",
      "t\n",
      "u\n",
      "v\n",
      "w\n",
      "x\n",
      "y\n",
      "z\n",
      "0\n",
      "1\n",
      "2\n",
      "3\n",
      "4\n",
      "5\n",
      "6\n",
      "7\n",
      "8\n",
      "9\n"
     ]
    }
   ],
   "source": [
    "dfs = []\n",
    "for char in completed:\n",
    "    print(char)\n",
    "    query = \"\"\"\n",
    "    SELECT author, subreddit, weight FROM '{0}'\n",
    "    WHERE (author in\n",
    "                (SELECT author FROM '{0}'\n",
    "                WHERE (subreddit == 'changemyview') and\n",
    "                        (weight > 2)))\n",
    "        and (weight > 2)\n",
    "    \"\"\".format(char)\n",
    "    \n",
    "    data = pd.read_sql_query(query, engine)\n",
    "    dfs.append(data)"
   ]
  },
  {
   "cell_type": "code",
   "execution_count": 152,
   "metadata": {},
   "outputs": [
    {
     "data": {
      "text/html": [
       "<div>\n",
       "<style scoped>\n",
       "    .dataframe tbody tr th:only-of-type {\n",
       "        vertical-align: middle;\n",
       "    }\n",
       "\n",
       "    .dataframe tbody tr th {\n",
       "        vertical-align: top;\n",
       "    }\n",
       "\n",
       "    .dataframe thead th {\n",
       "        text-align: right;\n",
       "    }\n",
       "</style>\n",
       "<table border=\"1\" class=\"dataframe\">\n",
       "  <thead>\n",
       "    <tr style=\"text-align: right;\">\n",
       "      <th></th>\n",
       "      <th>author</th>\n",
       "      <th>subreddit</th>\n",
       "      <th>weight</th>\n",
       "    </tr>\n",
       "  </thead>\n",
       "  <tbody>\n",
       "    <tr>\n",
       "      <th>0</th>\n",
       "      <td>AutoModerator</td>\n",
       "      <td>onewordeach</td>\n",
       "      <td>52</td>\n",
       "    </tr>\n",
       "    <tr>\n",
       "      <th>1</th>\n",
       "      <td>AutoModerator</td>\n",
       "      <td>ModelNortheastChamber</td>\n",
       "      <td>31</td>\n",
       "    </tr>\n",
       "    <tr>\n",
       "      <th>2</th>\n",
       "      <td>alea6</td>\n",
       "      <td>CasualConversation</td>\n",
       "      <td>20</td>\n",
       "    </tr>\n",
       "    <tr>\n",
       "      <th>3</th>\n",
       "      <td>AutoModerator</td>\n",
       "      <td>KotakuInAction</td>\n",
       "      <td>335</td>\n",
       "    </tr>\n",
       "    <tr>\n",
       "      <th>4</th>\n",
       "      <td>AutoModerator</td>\n",
       "      <td>OldManDog</td>\n",
       "      <td>81</td>\n",
       "    </tr>\n",
       "  </tbody>\n",
       "</table>\n",
       "</div>"
      ],
      "text/plain": [
       "          author              subreddit  weight\n",
       "0  AutoModerator            onewordeach      52\n",
       "1  AutoModerator  ModelNortheastChamber      31\n",
       "2          alea6     CasualConversation      20\n",
       "3  AutoModerator         KotakuInAction     335\n",
       "4  AutoModerator              OldManDog      81"
      ]
     },
     "execution_count": 152,
     "metadata": {},
     "output_type": "execute_result"
    }
   ],
   "source": [
    "cmv = pd.concat(dfs)\n",
    "cmv.head()"
   ]
  },
  {
   "cell_type": "code",
   "execution_count": null,
   "metadata": {},
   "outputs": [],
   "source": [
    "cmv = pd.concat"
   ]
  }
 ],
 "metadata": {
  "kernelspec": {
   "display_name": "Python 3",
   "language": "python",
   "name": "python3"
  },
  "language_info": {
   "codemirror_mode": {
    "name": "ipython",
    "version": 3
   },
   "file_extension": ".py",
   "mimetype": "text/x-python",
   "name": "python",
   "nbconvert_exporter": "python",
   "pygments_lexer": "ipython3",
   "version": "3.6.3"
  }
 },
 "nbformat": 4,
 "nbformat_minor": 2
}

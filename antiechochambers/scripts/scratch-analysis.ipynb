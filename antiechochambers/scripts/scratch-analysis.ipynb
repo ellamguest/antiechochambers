{
 "cells": [
  {
   "cell_type": "markdown",
   "metadata": {
    "toc": true
   },
   "source": [
    "<h1>Table of Contents<span class=\"tocSkip\"></span></h1>\n",
    "<div class=\"toc\"><ul class=\"toc-item\"><li><span><a href=\"#looking-at-author-trajectories\" data-toc-modified-id=\"looking-at-author-trajectories-1\"><span class=\"toc-item-num\">1&nbsp;&nbsp;</span>looking at author trajectories</a></span></li><li><span><a href=\"#most-active-authors\" data-toc-modified-id=\"most-active-authors-2\"><span class=\"toc-item-num\">2&nbsp;&nbsp;</span>most active authors</a></span></li><li><span><a href=\"#subsetting-regulars\" data-toc-modified-id=\"subsetting-regulars-3\"><span class=\"toc-item-num\">3&nbsp;&nbsp;</span>subsetting regulars</a></span></li></ul></div>"
   ]
  },
  {
   "cell_type": "code",
   "execution_count": 1,
   "metadata": {},
   "outputs": [
    {
     "ename": "ImportError",
     "evalue": "No module named cloud",
     "output_type": "error",
     "traceback": [
      "\u001b[0;31m---------------------------------------------------------------------------\u001b[0m",
      "\u001b[0;31mImportError\u001b[0m                               Traceback (most recent call last)",
      "\u001b[0;32m<ipython-input-1-d5833ff5f3d2>\u001b[0m in \u001b[0;36m<module>\u001b[0;34m()\u001b[0m\n\u001b[0;32m----> 1\u001b[0;31m \u001b[0;32mfrom\u001b[0m \u001b[0mnetwork_stats\u001b[0m \u001b[0;32mimport\u001b[0m \u001b[0;34m*\u001b[0m\u001b[0;34m\u001b[0m\u001b[0m\n\u001b[0m\u001b[1;32m      2\u001b[0m \u001b[0;32mimport\u001b[0m \u001b[0mseaborn\u001b[0m \u001b[0;32mas\u001b[0m \u001b[0msns\u001b[0m\u001b[0;34m\u001b[0m\u001b[0m\n",
      "\u001b[0;32m/Users/emg/Programming/GitHub/antiechochambers/antiechochambers/network_stats.py\u001b[0m in \u001b[0;36m<module>\u001b[0;34m()\u001b[0m\n\u001b[1;32m      1\u001b[0m \u001b[0;32mfrom\u001b[0m \u001b[0m__future__\u001b[0m \u001b[0;32mimport\u001b[0m \u001b[0mabsolute_import\u001b[0m\u001b[0;34m\u001b[0m\u001b[0m\n\u001b[0;32m----> 2\u001b[0;31m \u001b[0;32mfrom\u001b[0m \u001b[0mgoogle\u001b[0m\u001b[0;34m.\u001b[0m\u001b[0mcloud\u001b[0m \u001b[0;32mimport\u001b[0m \u001b[0mbigquery\u001b[0m\u001b[0;34m\u001b[0m\u001b[0m\n\u001b[0m\u001b[1;32m      3\u001b[0m \u001b[0;32mimport\u001b[0m \u001b[0mpandas\u001b[0m \u001b[0;32mas\u001b[0m \u001b[0mpd\u001b[0m\u001b[0;34m\u001b[0m\u001b[0m\n\u001b[1;32m      4\u001b[0m \u001b[0;32mfrom\u001b[0m \u001b[0mtqdm\u001b[0m \u001b[0;32mimport\u001b[0m \u001b[0mtqdm\u001b[0m\u001b[0;34m\u001b[0m\u001b[0m\n\u001b[1;32m      5\u001b[0m \u001b[0;32mimport\u001b[0m \u001b[0mnumpy\u001b[0m \u001b[0;32mas\u001b[0m \u001b[0mnp\u001b[0m\u001b[0;34m\u001b[0m\u001b[0m\n",
      "\u001b[0;31mImportError\u001b[0m: No module named cloud"
     ]
    }
   ],
   "source": [
    "from network_stats import *\n",
    "import seaborn as sns"
   ]
  },
  {
   "cell_type": "code",
   "execution_count": 22,
   "metadata": {},
   "outputs": [],
   "source": [
    "stats_df = load_stats_df()"
   ]
  },
  {
   "cell_type": "code",
   "execution_count": 23,
   "metadata": {},
   "outputs": [
    {
     "data": {
      "text/plain": [
       "(6232, 7)"
      ]
     },
     "execution_count": 23,
     "metadata": {},
     "output_type": "execute_result"
    }
   ],
   "source": [
    "stats_df.shape"
   ]
  },
  {
   "cell_type": "code",
   "execution_count": 35,
   "metadata": {},
   "outputs": [
    {
     "name": "stdout",
     "output_type": "stream",
     "text": [
      "The_Donald is already in table\n",
      "changemyview is already in table\n"
     ]
    }
   ],
   "source": [
    "main_subs = ['The_Donald', 'changemyview']\n",
    "all_subs = stats_df.subreddit.unique()\n",
    "for subreddit in main_subs:\n",
    "    if subreddit not in all_subs:\n",
    "        print(f'adding {subreddit} to stats_df')\n",
    "        saveStatsDf(subreddit)\n",
    "    else:\n",
    "        print (f'{subreddit} is already in table')"
   ]
  },
  {
   "cell_type": "code",
   "execution_count": 37,
   "metadata": {},
   "outputs": [
    {
     "data": {
      "text/html": [
       "<div>\n",
       "<style scoped>\n",
       "    .dataframe tbody tr th:only-of-type {\n",
       "        vertical-align: middle;\n",
       "    }\n",
       "\n",
       "    .dataframe tbody tr th {\n",
       "        vertical-align: top;\n",
       "    }\n",
       "\n",
       "    .dataframe thead th {\n",
       "        text-align: right;\n",
       "    }\n",
       "</style>\n",
       "<table border=\"1\" class=\"dataframe\">\n",
       "  <thead>\n",
       "    <tr style=\"text-align: right;\">\n",
       "      <th></th>\n",
       "      <th>stat</th>\n",
       "      <th>author_counts</th>\n",
       "      <th>author_net_density</th>\n",
       "      <th>bipartite_edge_weights</th>\n",
       "      <th>sub_counts</th>\n",
       "      <th>sub_net_density</th>\n",
       "      <th>subreddit</th>\n",
       "    </tr>\n",
       "  </thead>\n",
       "  <tbody>\n",
       "    <tr>\n",
       "      <th>0</th>\n",
       "      <td>count</td>\n",
       "      <td>931.000000</td>\n",
       "      <td>0.032704</td>\n",
       "      <td>11491.000000</td>\n",
       "      <td>2554.000000</td>\n",
       "      <td>0.080926</td>\n",
       "      <td>bestoflegaladvice</td>\n",
       "    </tr>\n",
       "    <tr>\n",
       "      <th>1</th>\n",
       "      <td>mean</td>\n",
       "      <td>12.342642</td>\n",
       "      <td>0.032704</td>\n",
       "      <td>15.381516</td>\n",
       "      <td>4.499217</td>\n",
       "      <td>0.080926</td>\n",
       "      <td>bestoflegaladvice</td>\n",
       "    </tr>\n",
       "    <tr>\n",
       "      <th>2</th>\n",
       "      <td>std</td>\n",
       "      <td>25.607200</td>\n",
       "      <td>0.032704</td>\n",
       "      <td>40.268911</td>\n",
       "      <td>23.950321</td>\n",
       "      <td>0.080926</td>\n",
       "      <td>bestoflegaladvice</td>\n",
       "    </tr>\n",
       "    <tr>\n",
       "      <th>3</th>\n",
       "      <td>min</td>\n",
       "      <td>1.000000</td>\n",
       "      <td>0.032704</td>\n",
       "      <td>3.000000</td>\n",
       "      <td>1.000000</td>\n",
       "      <td>0.080926</td>\n",
       "      <td>bestoflegaladvice</td>\n",
       "    </tr>\n",
       "    <tr>\n",
       "      <th>4</th>\n",
       "      <td>25%</td>\n",
       "      <td>4.500000</td>\n",
       "      <td>0.032704</td>\n",
       "      <td>4.000000</td>\n",
       "      <td>1.000000</td>\n",
       "      <td>0.080926</td>\n",
       "      <td>bestoflegaladvice</td>\n",
       "    </tr>\n",
       "  </tbody>\n",
       "</table>\n",
       "</div>"
      ],
      "text/plain": [
       "    stat  author_counts  author_net_density  bipartite_edge_weights  \\\n",
       "0  count     931.000000            0.032704            11491.000000   \n",
       "1   mean      12.342642            0.032704               15.381516   \n",
       "2    std      25.607200            0.032704               40.268911   \n",
       "3    min       1.000000            0.032704                3.000000   \n",
       "4    25%       4.500000            0.032704                4.000000   \n",
       "\n",
       "    sub_counts  sub_net_density          subreddit  \n",
       "0  2554.000000         0.080926  bestoflegaladvice  \n",
       "1     4.499217         0.080926  bestoflegaladvice  \n",
       "2    23.950321         0.080926  bestoflegaladvice  \n",
       "3     1.000000         0.080926  bestoflegaladvice  \n",
       "4     1.000000         0.080926  bestoflegaladvice  "
      ]
     },
     "execution_count": 37,
     "metadata": {},
     "output_type": "execute_result"
    }
   ],
   "source": [
    "df = load_stats_df()\n",
    "df.head()"
   ]
  },
  {
   "cell_type": "code",
   "execution_count": 77,
   "metadata": {},
   "outputs": [],
   "source": [
    "density = (df[df['stat']=='count']\n",
    "           .set_index('subreddit')\n",
    "           .rename(columns=\n",
    "                   {'author_net_density':'author',\n",
    "                       'sub_net_density':'sub',\n",
    "                   'bipartite_edge_weights':'edge_count'}))\n",
    "\n",
    "density['count_ratio'] = density['author_counts']/density['sub_counts']\n",
    "density['density_ratio'] = density['author']/density['sub']"
   ]
  },
  {
   "cell_type": "code",
   "execution_count": 92,
   "metadata": {},
   "outputs": [
    {
     "data": {
      "text/plain": [
       "stat                  count\n",
       "author_counts         27756\n",
       "author            0.0504612\n",
       "edge_count           130977\n",
       "sub_counts             7187\n",
       "sub              0.00108348\n",
       "count_ratio         3.86197\n",
       "density_ratio       46.5731\n",
       "Name: The_Donald, dtype: object"
      ]
     },
     "execution_count": 92,
     "metadata": {},
     "output_type": "execute_result"
    }
   ],
   "source": [
    "density.loc['The_Donald']"
   ]
  },
  {
   "cell_type": "code",
   "execution_count": 93,
   "metadata": {},
   "outputs": [
    {
     "data": {
      "text/plain": [
       "stat                 count\n",
       "author_counts         3556\n",
       "author            0.059925\n",
       "edge_count           32882\n",
       "sub_counts            4047\n",
       "sub              0.0184246\n",
       "count_ratio       0.878676\n",
       "density_ratio      3.25245\n",
       "Name: changemyview, dtype: object"
      ]
     },
     "execution_count": 93,
     "metadata": {},
     "output_type": "execute_result"
    }
   ],
   "source": [
    "density.loc['changemyview']"
   ]
  },
  {
   "cell_type": "code",
   "execution_count": 94,
   "metadata": {},
   "outputs": [
    {
     "data": {
      "text/html": [
       "<div>\n",
       "<style scoped>\n",
       "    .dataframe tbody tr th:only-of-type {\n",
       "        vertical-align: middle;\n",
       "    }\n",
       "\n",
       "    .dataframe tbody tr th {\n",
       "        vertical-align: top;\n",
       "    }\n",
       "\n",
       "    .dataframe thead th {\n",
       "        text-align: right;\n",
       "    }\n",
       "</style>\n",
       "<table border=\"1\" class=\"dataframe\">\n",
       "  <thead>\n",
       "    <tr style=\"text-align: right;\">\n",
       "      <th></th>\n",
       "      <th>author_counts</th>\n",
       "      <th>author</th>\n",
       "      <th>edge_count</th>\n",
       "      <th>sub_counts</th>\n",
       "      <th>sub</th>\n",
       "      <th>count_ratio</th>\n",
       "      <th>density_ratio</th>\n",
       "    </tr>\n",
       "  </thead>\n",
       "  <tbody>\n",
       "    <tr>\n",
       "      <th>count</th>\n",
       "      <td>780.000000</td>\n",
       "      <td>780.000000</td>\n",
       "      <td>780.000000</td>\n",
       "      <td>780.000000</td>\n",
       "      <td>780.000000</td>\n",
       "      <td>780.000000</td>\n",
       "      <td>780.000000</td>\n",
       "    </tr>\n",
       "    <tr>\n",
       "      <th>mean</th>\n",
       "      <td>1465.870513</td>\n",
       "      <td>0.021831</td>\n",
       "      <td>10999.394872</td>\n",
       "      <td>1875.515385</td>\n",
       "      <td>0.100522</td>\n",
       "      <td>0.650705</td>\n",
       "      <td>0.937921</td>\n",
       "    </tr>\n",
       "    <tr>\n",
       "      <th>std</th>\n",
       "      <td>2359.219331</td>\n",
       "      <td>0.026058</td>\n",
       "      <td>19025.358018</td>\n",
       "      <td>1242.223506</td>\n",
       "      <td>0.099955</td>\n",
       "      <td>0.516991</td>\n",
       "      <td>3.551343</td>\n",
       "    </tr>\n",
       "    <tr>\n",
       "      <th>min</th>\n",
       "      <td>42.000000</td>\n",
       "      <td>-0.013153</td>\n",
       "      <td>78.000000</td>\n",
       "      <td>36.000000</td>\n",
       "      <td>0.001083</td>\n",
       "      <td>0.063419</td>\n",
       "      <td>-0.034101</td>\n",
       "    </tr>\n",
       "    <tr>\n",
       "      <th>25%</th>\n",
       "      <td>419.750000</td>\n",
       "      <td>0.007576</td>\n",
       "      <td>2869.500000</td>\n",
       "      <td>1076.750000</td>\n",
       "      <td>0.030380</td>\n",
       "      <td>0.343619</td>\n",
       "      <td>0.073634</td>\n",
       "    </tr>\n",
       "    <tr>\n",
       "      <th>50%</th>\n",
       "      <td>695.000000</td>\n",
       "      <td>0.013467</td>\n",
       "      <td>4740.000000</td>\n",
       "      <td>1534.000000</td>\n",
       "      <td>0.064492</td>\n",
       "      <td>0.518723</td>\n",
       "      <td>0.218542</td>\n",
       "    </tr>\n",
       "    <tr>\n",
       "      <th>75%</th>\n",
       "      <td>1504.000000</td>\n",
       "      <td>0.025061</td>\n",
       "      <td>10411.500000</td>\n",
       "      <td>2259.250000</td>\n",
       "      <td>0.136121</td>\n",
       "      <td>0.814928</td>\n",
       "      <td>0.567104</td>\n",
       "    </tr>\n",
       "    <tr>\n",
       "      <th>max</th>\n",
       "      <td>27756.000000</td>\n",
       "      <td>0.220022</td>\n",
       "      <td>183199.000000</td>\n",
       "      <td>8578.000000</td>\n",
       "      <td>0.654177</td>\n",
       "      <td>6.461538</td>\n",
       "      <td>53.764617</td>\n",
       "    </tr>\n",
       "  </tbody>\n",
       "</table>\n",
       "</div>"
      ],
      "text/plain": [
       "       author_counts      author     edge_count   sub_counts         sub  \\\n",
       "count     780.000000  780.000000     780.000000   780.000000  780.000000   \n",
       "mean     1465.870513    0.021831   10999.394872  1875.515385    0.100522   \n",
       "std      2359.219331    0.026058   19025.358018  1242.223506    0.099955   \n",
       "min        42.000000   -0.013153      78.000000    36.000000    0.001083   \n",
       "25%       419.750000    0.007576    2869.500000  1076.750000    0.030380   \n",
       "50%       695.000000    0.013467    4740.000000  1534.000000    0.064492   \n",
       "75%      1504.000000    0.025061   10411.500000  2259.250000    0.136121   \n",
       "max     27756.000000    0.220022  183199.000000  8578.000000    0.654177   \n",
       "\n",
       "       count_ratio  density_ratio  \n",
       "count   780.000000     780.000000  \n",
       "mean      0.650705       0.937921  \n",
       "std       0.516991       3.551343  \n",
       "min       0.063419      -0.034101  \n",
       "25%       0.343619       0.073634  \n",
       "50%       0.518723       0.218542  \n",
       "75%       0.814928       0.567104  \n",
       "max       6.461538      53.764617  "
      ]
     },
     "execution_count": 94,
     "metadata": {},
     "output_type": "execute_result"
    }
   ],
   "source": [
    "density.describe()"
   ]
  },
  {
   "cell_type": "code",
   "execution_count": 69,
   "metadata": {},
   "outputs": [
    {
     "data": {
      "image/png": "[encoded data removed]",
      "text/plain": [
       "<matplotlib.figure.Figure at 0x1189127f0>"
      ]
     },
     "metadata": {},
     "output_type": "display_data"
    }
   ],
   "source": [
    "density.plot('author','sub', kind='scatter');"
   ]
  },
  {
   "cell_type": "code",
   "execution_count": 95,
   "metadata": {},
   "outputs": [
    {
     "data": {
      "text/html": [
       "<div>\n",
       "<style scoped>\n",
       "    .dataframe tbody tr th:only-of-type {\n",
       "        vertical-align: middle;\n",
       "    }\n",
       "\n",
       "    .dataframe tbody tr th {\n",
       "        vertical-align: top;\n",
       "    }\n",
       "\n",
       "    .dataframe thead th {\n",
       "        text-align: right;\n",
       "    }\n",
       "</style>\n",
       "<table border=\"1\" class=\"dataframe\">\n",
       "  <thead>\n",
       "    <tr style=\"text-align: right;\">\n",
       "      <th></th>\n",
       "      <th>stat</th>\n",
       "      <th>author_counts</th>\n",
       "      <th>author</th>\n",
       "      <th>edge_count</th>\n",
       "      <th>sub_counts</th>\n",
       "      <th>sub</th>\n",
       "      <th>count_ratio</th>\n",
       "      <th>density_ratio</th>\n",
       "    </tr>\n",
       "    <tr>\n",
       "      <th>subreddit</th>\n",
       "      <th></th>\n",
       "      <th></th>\n",
       "      <th></th>\n",
       "      <th></th>\n",
       "      <th></th>\n",
       "      <th></th>\n",
       "      <th></th>\n",
       "      <th></th>\n",
       "    </tr>\n",
       "  </thead>\n",
       "  <tbody>\n",
       "    <tr>\n",
       "      <th>EndlessFrontier</th>\n",
       "      <td>count</td>\n",
       "      <td>612.0</td>\n",
       "      <td>-0.000057</td>\n",
       "      <td>1322.0</td>\n",
       "      <td>491.0</td>\n",
       "      <td>0.130111</td>\n",
       "      <td>1.246436</td>\n",
       "      <td>-0.000439</td>\n",
       "    </tr>\n",
       "    <tr>\n",
       "      <th>BlackSquad</th>\n",
       "      <td>count</td>\n",
       "      <td>42.0</td>\n",
       "      <td>-0.013153</td>\n",
       "      <td>78.0</td>\n",
       "      <td>36.0</td>\n",
       "      <td>0.385714</td>\n",
       "      <td>1.166667</td>\n",
       "      <td>-0.034101</td>\n",
       "    </tr>\n",
       "  </tbody>\n",
       "</table>\n",
       "</div>"
      ],
      "text/plain": [
       "                  stat  author_counts    author  edge_count  sub_counts  \\\n",
       "subreddit                                                                 \n",
       "EndlessFrontier  count          612.0 -0.000057      1322.0       491.0   \n",
       "BlackSquad       count           42.0 -0.013153        78.0        36.0   \n",
       "\n",
       "                      sub  count_ratio  density_ratio  \n",
       "subreddit                                              \n",
       "EndlessFrontier  0.130111     1.246436      -0.000439  \n",
       "BlackSquad       0.385714     1.166667      -0.034101  "
      ]
     },
     "execution_count": 95,
     "metadata": {},
     "output_type": "execute_result"
    }
   ],
   "source": [
    "density[density['author']<0]"
   ]
  },
  {
   "cell_type": "code",
   "execution_count": 96,
   "metadata": {},
   "outputs": [
    {
     "data": {
      "text/html": [
       "<div>\n",
       "<style scoped>\n",
       "    .dataframe tbody tr th:only-of-type {\n",
       "        vertical-align: middle;\n",
       "    }\n",
       "\n",
       "    .dataframe tbody tr th {\n",
       "        vertical-align: top;\n",
       "    }\n",
       "\n",
       "    .dataframe thead th {\n",
       "        text-align: right;\n",
       "    }\n",
       "</style>\n",
       "<table border=\"1\" class=\"dataframe\">\n",
       "  <thead>\n",
       "    <tr style=\"text-align: right;\">\n",
       "      <th></th>\n",
       "      <th>stat</th>\n",
       "      <th>author_counts</th>\n",
       "      <th>author</th>\n",
       "      <th>edge_count</th>\n",
       "      <th>sub_counts</th>\n",
       "      <th>sub</th>\n",
       "      <th>count_ratio</th>\n",
       "      <th>density_ratio</th>\n",
       "    </tr>\n",
       "    <tr>\n",
       "      <th>subreddit</th>\n",
       "      <th></th>\n",
       "      <th></th>\n",
       "      <th></th>\n",
       "      <th></th>\n",
       "      <th></th>\n",
       "      <th></th>\n",
       "      <th></th>\n",
       "      <th></th>\n",
       "    </tr>\n",
       "  </thead>\n",
       "  <tbody>\n",
       "    <tr>\n",
       "      <th>Futurology</th>\n",
       "      <td>count</td>\n",
       "      <td>8748.0</td>\n",
       "      <td>0.174829</td>\n",
       "      <td>104266.0</td>\n",
       "      <td>6013.0</td>\n",
       "      <td>0.010514</td>\n",
       "      <td>1.454848</td>\n",
       "      <td>16.629010</td>\n",
       "    </tr>\n",
       "    <tr>\n",
       "      <th>OldSchoolCool</th>\n",
       "      <td>count</td>\n",
       "      <td>9555.0</td>\n",
       "      <td>0.185300</td>\n",
       "      <td>128163.0</td>\n",
       "      <td>7161.0</td>\n",
       "      <td>0.019105</td>\n",
       "      <td>1.334311</td>\n",
       "      <td>9.698982</td>\n",
       "    </tr>\n",
       "    <tr>\n",
       "      <th>WTF</th>\n",
       "      <td>count</td>\n",
       "      <td>15132.0</td>\n",
       "      <td>0.202251</td>\n",
       "      <td>183199.0</td>\n",
       "      <td>8578.0</td>\n",
       "      <td>0.005792</td>\n",
       "      <td>1.764048</td>\n",
       "      <td>34.916064</td>\n",
       "    </tr>\n",
       "    <tr>\n",
       "      <th>television</th>\n",
       "      <td>count</td>\n",
       "      <td>12948.0</td>\n",
       "      <td>0.203374</td>\n",
       "      <td>154763.0</td>\n",
       "      <td>7200.0</td>\n",
       "      <td>0.003783</td>\n",
       "      <td>1.798333</td>\n",
       "      <td>53.764617</td>\n",
       "    </tr>\n",
       "    <tr>\n",
       "      <th>AdviceAnimals</th>\n",
       "      <td>count</td>\n",
       "      <td>13443.0</td>\n",
       "      <td>0.220022</td>\n",
       "      <td>160699.0</td>\n",
       "      <td>7580.0</td>\n",
       "      <td>0.015304</td>\n",
       "      <td>1.773483</td>\n",
       "      <td>14.376586</td>\n",
       "    </tr>\n",
       "  </tbody>\n",
       "</table>\n",
       "</div>"
      ],
      "text/plain": [
       "                stat  author_counts    author  edge_count  sub_counts  \\\n",
       "subreddit                                                               \n",
       "Futurology     count         8748.0  0.174829    104266.0      6013.0   \n",
       "OldSchoolCool  count         9555.0  0.185300    128163.0      7161.0   \n",
       "WTF            count        15132.0  0.202251    183199.0      8578.0   \n",
       "television     count        12948.0  0.203374    154763.0      7200.0   \n",
       "AdviceAnimals  count        13443.0  0.220022    160699.0      7580.0   \n",
       "\n",
       "                    sub  count_ratio  density_ratio  \n",
       "subreddit                                            \n",
       "Futurology     0.010514     1.454848      16.629010  \n",
       "OldSchoolCool  0.019105     1.334311       9.698982  \n",
       "WTF            0.005792     1.764048      34.916064  \n",
       "television     0.003783     1.798333      53.764617  \n",
       "AdviceAnimals  0.015304     1.773483      14.376586  "
      ]
     },
     "execution_count": 96,
     "metadata": {},
     "output_type": "execute_result"
    }
   ],
   "source": [
    "density.sort_values('author').tail()"
   ]
  },
  {
   "cell_type": "code",
   "execution_count": 97,
   "metadata": {},
   "outputs": [
    {
     "data": {
      "text/html": [
       "<div>\n",
       "<style scoped>\n",
       "    .dataframe tbody tr th:only-of-type {\n",
       "        vertical-align: middle;\n",
       "    }\n",
       "\n",
       "    .dataframe tbody tr th {\n",
       "        vertical-align: top;\n",
       "    }\n",
       "\n",
       "    .dataframe thead th {\n",
       "        text-align: right;\n",
       "    }\n",
       "</style>\n",
       "<table border=\"1\" class=\"dataframe\">\n",
       "  <thead>\n",
       "    <tr style=\"text-align: right;\">\n",
       "      <th></th>\n",
       "      <th>stat</th>\n",
       "      <th>author_counts</th>\n",
       "      <th>author</th>\n",
       "      <th>edge_count</th>\n",
       "      <th>sub_counts</th>\n",
       "      <th>sub</th>\n",
       "      <th>count_ratio</th>\n",
       "      <th>density_ratio</th>\n",
       "    </tr>\n",
       "    <tr>\n",
       "      <th>subreddit</th>\n",
       "      <th></th>\n",
       "      <th></th>\n",
       "      <th></th>\n",
       "      <th></th>\n",
       "      <th></th>\n",
       "      <th></th>\n",
       "      <th></th>\n",
       "      <th></th>\n",
       "    </tr>\n",
       "  </thead>\n",
       "  <tbody>\n",
       "    <tr>\n",
       "      <th>MemoryDefrag</th>\n",
       "      <td>count</td>\n",
       "      <td>769.0</td>\n",
       "      <td>0.001730</td>\n",
       "      <td>2868.0</td>\n",
       "      <td>1100.0</td>\n",
       "      <td>0.547193</td>\n",
       "      <td>0.699091</td>\n",
       "      <td>0.003161</td>\n",
       "    </tr>\n",
       "    <tr>\n",
       "      <th>rocket_league_trading</th>\n",
       "      <td>count</td>\n",
       "      <td>852.0</td>\n",
       "      <td>0.105379</td>\n",
       "      <td>2365.0</td>\n",
       "      <td>617.0</td>\n",
       "      <td>0.564829</td>\n",
       "      <td>1.380875</td>\n",
       "      <td>0.186568</td>\n",
       "    </tr>\n",
       "    <tr>\n",
       "      <th>NarutoBlazing</th>\n",
       "      <td>count</td>\n",
       "      <td>885.0</td>\n",
       "      <td>0.007756</td>\n",
       "      <td>2673.0</td>\n",
       "      <td>926.0</td>\n",
       "      <td>0.610709</td>\n",
       "      <td>0.955724</td>\n",
       "      <td>0.012699</td>\n",
       "    </tr>\n",
       "    <tr>\n",
       "      <th>PalaceClothing</th>\n",
       "      <td>count</td>\n",
       "      <td>492.0</td>\n",
       "      <td>0.015552</td>\n",
       "      <td>2176.0</td>\n",
       "      <td>906.0</td>\n",
       "      <td>0.638277</td>\n",
       "      <td>0.543046</td>\n",
       "      <td>0.024365</td>\n",
       "    </tr>\n",
       "    <tr>\n",
       "      <th>GOtrades</th>\n",
       "      <td>count</td>\n",
       "      <td>467.0</td>\n",
       "      <td>0.011853</td>\n",
       "      <td>1370.0</td>\n",
       "      <td>573.0</td>\n",
       "      <td>0.654177</td>\n",
       "      <td>0.815009</td>\n",
       "      <td>0.018119</td>\n",
       "    </tr>\n",
       "  </tbody>\n",
       "</table>\n",
       "</div>"
      ],
      "text/plain": [
       "                        stat  author_counts    author  edge_count  sub_counts  \\\n",
       "subreddit                                                                       \n",
       "MemoryDefrag           count          769.0  0.001730      2868.0      1100.0   \n",
       "rocket_league_trading  count          852.0  0.105379      2365.0       617.0   \n",
       "NarutoBlazing          count          885.0  0.007756      2673.0       926.0   \n",
       "PalaceClothing         count          492.0  0.015552      2176.0       906.0   \n",
       "GOtrades               count          467.0  0.011853      1370.0       573.0   \n",
       "\n",
       "                            sub  count_ratio  density_ratio  \n",
       "subreddit                                                    \n",
       "MemoryDefrag           0.547193     0.699091       0.003161  \n",
       "rocket_league_trading  0.564829     1.380875       0.186568  \n",
       "NarutoBlazing          0.610709     0.955724       0.012699  \n",
       "PalaceClothing         0.638277     0.543046       0.024365  \n",
       "GOtrades               0.654177     0.815009       0.018119  "
      ]
     },
     "execution_count": 97,
     "metadata": {},
     "output_type": "execute_result"
    }
   ],
   "source": [
    "density.sort_values('sub').tail()"
   ]
  },
  {
   "cell_type": "code",
   "execution_count": 100,
   "metadata": {},
   "outputs": [
    {
     "data": {
      "image/png": "[encoded data removed]",
      "text/plain": [
       "<matplotlib.figure.Figure at 0x10cddb358>"
      ]
     },
     "metadata": {},
     "output_type": "display_data"
    }
   ],
   "source": [
    "density.plot('author_counts','author', kind='scatter');"
   ]
  },
  {
   "cell_type": "code",
   "execution_count": 76,
   "metadata": {},
   "outputs": [
    {
     "data": {
      "image/png": "[encoded data removed]",
      "text/plain": [
       "<matplotlib.figure.Figure at 0x11b628d68>"
      ]
     },
     "metadata": {},
     "output_type": "display_data"
    }
   ],
   "source": [
    "density.plot('author_counts','author', kind='scatter');"
   ]
  },
  {
   "cell_type": "code",
   "execution_count": 81,
   "metadata": {},
   "outputs": [
    {
     "data": {
      "image/png": "[encoded data removed]",
      "text/plain": [
       "<matplotlib.figure.Figure at 0x11945f860>"
      ]
     },
     "metadata": {},
     "output_type": "display_data"
    }
   ],
   "source": [
    "density.plot('edge_count','author', kind='scatter');"
   ]
  },
  {
   "cell_type": "code",
   "execution_count": 82,
   "metadata": {},
   "outputs": [
    {
     "data": {
      "image/png": "[encoded data removed]",
      "text/plain": [
       "<matplotlib.figure.Figure at 0x11945f898>"
      ]
     },
     "metadata": {},
     "output_type": "display_data"
    }
   ],
   "source": [
    "density.plot('edge_count','sub', kind='scatter');"
   ]
  },
  {
   "cell_type": "code",
   "execution_count": 84,
   "metadata": {},
   "outputs": [
    {
     "data": {
      "image/png": "[encoded data removed]",
      "text/plain": [
       "<matplotlib.figure.Figure at 0x11cf6f0f0>"
      ]
     },
     "metadata": {},
     "output_type": "display_data"
    }
   ],
   "source": [
    "density.plot('edge_count','author_counts', kind='scatter');"
   ]
  },
  {
   "cell_type": "code",
   "execution_count": 86,
   "metadata": {},
   "outputs": [
    {
     "data": {
      "image/png": "[encoded data removed]",
      "text/plain": [
       "<matplotlib.figure.Figure at 0x2193dd5c0>"
      ]
     },
     "metadata": {},
     "output_type": "display_data"
    }
   ],
   "source": [
    "density.plot('edge_count','sub_counts', kind='scatter');"
   ]
  },
  {
   "cell_type": "code",
   "execution_count": 90,
   "metadata": {},
   "outputs": [
    {
     "data": {
      "image/png": "[encoded data removed]",
      "text/plain": [
       "<matplotlib.figure.Figure at 0x217eedcc0>"
      ]
     },
     "metadata": {},
     "output_type": "display_data"
    }
   ],
   "source": [
    "density.plot('count_ratio','density_ratio', kind='scatter');"
   ]
  },
  {
   "cell_type": "code",
   "execution_count": 114,
   "metadata": {},
   "outputs": [],
   "source": [
    "def fetchNetworkData(subreddit, months):\n",
    "    dfs = []\n",
    "    for month in months:\n",
    "        print(f'fetching {month}')\n",
    "        query = \"\"\"SELECT subreddit, author, COUNT(created_utc) as weight\n",
    "                    FROM `fh-bigquery.reddit_comments.{0}`\n",
    "                    WHERE author in (SELECT author\n",
    "                                     FROM `fh-bigquery.reddit_comments.{0}`\n",
    "                                     WHERE (subreddit = '{1}') \n",
    "                                             AND author not in (SELECT author\n",
    "                                                                 FROM `fh-bigquery.reddit_comments.bots_201505`)\n",
    "                                            AND (lower(author) NOT LIKE '%bot%')\n",
    "                                            AND (author NOT LIKE 'JlmmyButler')\n",
    "                                            AND (author NOT LIKE 'TotesMessenger')\n",
    "                                    GROUP BY author\n",
    "                                    HAVING COUNT(author) > 2)\n",
    "                    GROUP BY subreddit, author\n",
    "                    HAVING weight > 2\n",
    "                \"\"\".format(month, subreddit)\n",
    "\n",
    "        data = fetchQuery(query)\n",
    "        data['month'] = month\n",
    "        \n",
    "        data['month'] = month\n",
    "                \n",
    "        table_name = f'{subreddit}_network_{month}' \n",
    "        data.to_sql(name=table_name, con=engine, if_exists='replace', index=False)\n",
    "        \n",
    "def loadMonthlyNetworks(subreddit, months, engine):\n",
    "    dfs = []\n",
    "    for month in months:\n",
    "        table_name = f'{subreddit}_network_{month}' \n",
    "        df = pd.read_sql_table(table_name=table_name, con=engine)\n",
    "        \n",
    "        dfs.append(df)\n",
    "        \n",
    "    return dfs\n",
    "\n",
    "subreddit = 'changemyview'\n",
    "engine = get_engine()\n",
    "dfs = loadMonthlyNetworks(subreddit, cmv_months, engine)"
   ]
  },
  {
   "cell_type": "code",
   "execution_count": 116,
   "metadata": {},
   "outputs": [
    {
     "name": "stdout",
     "output_type": "stream",
     "text": [
      "fetching 2015_01\n",
      "fetching 2015_02\n",
      "fetching 2015_03\n",
      "fetching 2015_04\n",
      "fetching 2015_05\n",
      "fetching 2015_06\n",
      "fetching 2015_07\n",
      "fetching 2015_08\n",
      "fetching 2015_09\n",
      "fetching 2015_10\n",
      "fetching 2015_11\n",
      "fetching 2015_12\n",
      "fetching 2016_01\n",
      "fetching 2016_02\n",
      "fetching 2016_03\n",
      "fetching 2016_04\n",
      "fetching 2016_05\n",
      "fetching 2016_06\n",
      "fetching 2016_07\n",
      "fetching 2016_08\n",
      "fetching 2016_09\n",
      "fetching 2016_10\n",
      "fetching 2016_11\n",
      "fetching 2016_12\n",
      "fetching 2017_01\n",
      "fetching 2017_02\n",
      "fetching 2017_03\n",
      "fetching 2017_04\n",
      "fetching 2017_05\n",
      "fetching 2017_06\n",
      "fetching 2017_07\n",
      "fetching 2017_08\n",
      "fetching 2017_09\n",
      "fetching 2017_10\n",
      "fetching 2017_11\n",
      "fetching 2017_12\n",
      "fetching 2018_01\n",
      "fetching 2018_02\n",
      "fetching 2018_03\n"
     ]
    }
   ],
   "source": [
    "subreddit = 'changemyview'\n",
    "fetchNetworkData(subreddit, cmv_months)"
   ]
  },
  {
   "cell_type": "code",
   "execution_count": 141,
   "metadata": {},
   "outputs": [],
   "source": [
    "cmv = pd.concat(dfs)"
   ]
  },
  {
   "cell_type": "code",
   "execution_count": 142,
   "metadata": {},
   "outputs": [
    {
     "data": {
      "text/plain": [
       "(125563, 4)"
      ]
     },
     "execution_count": 142,
     "metadata": {},
     "output_type": "execute_result"
    }
   ],
   "source": [
    "cmv.shape"
   ]
  },
  {
   "cell_type": "code",
   "execution_count": 143,
   "metadata": {},
   "outputs": [
    {
     "data": {
      "text/html": [
       "<div>\n",
       "<style scoped>\n",
       "    .dataframe tbody tr th:only-of-type {\n",
       "        vertical-align: middle;\n",
       "    }\n",
       "\n",
       "    .dataframe tbody tr th {\n",
       "        vertical-align: top;\n",
       "    }\n",
       "\n",
       "    .dataframe thead th {\n",
       "        text-align: right;\n",
       "    }\n",
       "</style>\n",
       "<table border=\"1\" class=\"dataframe\">\n",
       "  <thead>\n",
       "    <tr style=\"text-align: right;\">\n",
       "      <th></th>\n",
       "      <th>subreddit</th>\n",
       "      <th>author</th>\n",
       "      <th>weight</th>\n",
       "      <th>month</th>\n",
       "    </tr>\n",
       "  </thead>\n",
       "  <tbody>\n",
       "    <tr>\n",
       "      <th>0</th>\n",
       "      <td>de</td>\n",
       "      <td>jaytehman</td>\n",
       "      <td>4</td>\n",
       "      <td>2018_01</td>\n",
       "    </tr>\n",
       "    <tr>\n",
       "      <th>1</th>\n",
       "      <td>de</td>\n",
       "      <td>zabolekar</td>\n",
       "      <td>5</td>\n",
       "      <td>2018_01</td>\n",
       "    </tr>\n",
       "    <tr>\n",
       "      <th>2</th>\n",
       "      <td>de</td>\n",
       "      <td>fyi1183</td>\n",
       "      <td>5</td>\n",
       "      <td>2018_01</td>\n",
       "    </tr>\n",
       "    <tr>\n",
       "      <th>3</th>\n",
       "      <td>de</td>\n",
       "      <td>thelandman19</td>\n",
       "      <td>7</td>\n",
       "      <td>2018_01</td>\n",
       "    </tr>\n",
       "    <tr>\n",
       "      <th>4</th>\n",
       "      <td>de</td>\n",
       "      <td>dal33t</td>\n",
       "      <td>7</td>\n",
       "      <td>2018_01</td>\n",
       "    </tr>\n",
       "  </tbody>\n",
       "</table>\n",
       "</div>"
      ],
      "text/plain": [
       "  subreddit        author  weight    month\n",
       "0        de     jaytehman       4  2018_01\n",
       "1        de     zabolekar       5  2018_01\n",
       "2        de       fyi1183       5  2018_01\n",
       "3        de  thelandman19       7  2018_01\n",
       "4        de        dal33t       7  2018_01"
      ]
     },
     "execution_count": 143,
     "metadata": {},
     "output_type": "execute_result"
    }
   ],
   "source": [
    "cmv.head()"
   ]
  },
  {
   "cell_type": "markdown",
   "metadata": {},
   "source": [
    "## looking at author trajectories"
   ]
  },
  {
   "cell_type": "code",
   "execution_count": 5,
   "metadata": {},
   "outputs": [],
   "source": [
    "cmv_months = ['2015_01','2015_02','2015_03','2015_04','2015_05','2015_06',\n",
    "              '2015_07','2015_08','2015_09','2015_10','2015_11','2015_12',\n",
    "              '2016_01','2016_02','2016_03','2016_04','2016_05','2016_06',\n",
    "              '2016_07','2016_08','2016_09','2016_10','2016_11','2016_12',\n",
    "              '2017_01','2017_02','2017_03','2017_04','2017_05','2017_06',\n",
    "              '2017_07','2017_08','2017_09','2017_10','2017_11','2017_12',\n",
    "              '2018_01','2018_02','2018_03']"
   ]
  },
  {
   "cell_type": "code",
   "execution_count": 6,
   "metadata": {},
   "outputs": [],
   "source": [
    "def fetchMonthlyCounts(subreddit, months, engine):\n",
    "    for month in months:\n",
    "        print(f'fetching {month}')\n",
    "        query = \"\"\"SELECT subreddit, author, COUNT(created_utc) as weight\n",
    "                    FROM `fh-bigquery.reddit_comments.{0}`\n",
    "                    WHERE (subreddit = '{1}')\n",
    "                    GROUP BY subreddit, author\n",
    "                \"\"\".format(month, subreddit)\n",
    "\n",
    "        data = fetchQuery(query)\n",
    "        data['month'] = month\n",
    "                \n",
    "        table_name = f'{subreddit}_{month}' \n",
    "        data.to_sql(name=table_name, con=engine, if_exists='replace', index=False)\n",
    "\n",
    "def loadMonthlyCounts(subreddit, months, engine):\n",
    "    dfs = []\n",
    "    for month in months:\n",
    "        table_name = f'{subreddit}_{month}' \n",
    "        df = pd.read_sql_table(table_name=table_name, con=engine)\n",
    "        \n",
    "        dfs.append(df)\n",
    "        \n",
    "    return dfs\n",
    "\n",
    "subreddit = 'changemyview'\n",
    "engine = get_engine()\n",
    "#fetchMonthlyCounts(subreddit, cmv_months, engine)\n",
    "dfs = loadMonthlyCounts(subreddit, cmv_months, engine)"
   ]
  },
  {
   "cell_type": "code",
   "execution_count": 103,
   "metadata": {},
   "outputs": [
    {
     "data": {
      "text/plain": [
       "(324087, 4)"
      ]
     },
     "execution_count": 103,
     "metadata": {},
     "output_type": "execute_result"
    }
   ],
   "source": [
    "cmv = pd.concat(dfs)\n",
    "cmv = cmv[~cmv['author'].isin(['[deleted]', 'DeltaBot'])]\n",
    "cmv.shape"
   ]
  },
  {
   "cell_type": "code",
   "execution_count": 104,
   "metadata": {},
   "outputs": [
    {
     "data": {
      "text/plain": [
       "count    324087.000000\n",
       "mean          7.307424\n",
       "std          22.990294\n",
       "min           1.000000\n",
       "25%           1.000000\n",
       "50%           2.000000\n",
       "75%           5.000000\n",
       "max        1068.000000\n",
       "Name: weight, dtype: float64"
      ]
     },
     "execution_count": 104,
     "metadata": {},
     "output_type": "execute_result"
    }
   ],
   "source": [
    "cmv['weight'].describe()"
   ]
  },
  {
   "cell_type": "markdown",
   "metadata": {},
   "source": [
    "## most active authors"
   ]
  },
  {
   "cell_type": "code",
   "execution_count": 105,
   "metadata": {},
   "outputs": [],
   "source": [
    "author_counts = cmv.groupby('author')['weight'].count()\n",
    "comment_counts = cmv.groupby('author')['weight'].sum()"
   ]
  },
  {
   "cell_type": "code",
   "execution_count": 106,
   "metadata": {},
   "outputs": [],
   "source": [
    "counts = pd.DataFrame({'months':author_counts, 'comments':comment_counts})"
   ]
  },
  {
   "cell_type": "code",
   "execution_count": 109,
   "metadata": {},
   "outputs": [
    {
     "data": {
      "text/html": [
       "<div>\n",
       "<style scoped>\n",
       "    .dataframe tbody tr th:only-of-type {\n",
       "        vertical-align: middle;\n",
       "    }\n",
       "\n",
       "    .dataframe tbody tr th {\n",
       "        vertical-align: top;\n",
       "    }\n",
       "\n",
       "    .dataframe thead th {\n",
       "        text-align: right;\n",
       "    }\n",
       "</style>\n",
       "<table border=\"1\" class=\"dataframe\">\n",
       "  <thead>\n",
       "    <tr style=\"text-align: right;\">\n",
       "      <th></th>\n",
       "      <th>comments</th>\n",
       "      <th>months</th>\n",
       "      <th>logcomments</th>\n",
       "    </tr>\n",
       "    <tr>\n",
       "      <th>author</th>\n",
       "      <th></th>\n",
       "      <th></th>\n",
       "      <th></th>\n",
       "    </tr>\n",
       "  </thead>\n",
       "  <tbody>\n",
       "    <tr>\n",
       "      <th>Ansuz07</th>\n",
       "      <td>14834</td>\n",
       "      <td>31</td>\n",
       "      <td>9.604677</td>\n",
       "    </tr>\n",
       "    <tr>\n",
       "      <th>cdb03b</th>\n",
       "      <td>11799</td>\n",
       "      <td>38</td>\n",
       "      <td>9.375770</td>\n",
       "    </tr>\n",
       "    <tr>\n",
       "      <th>Hq3473</th>\n",
       "      <td>11680</td>\n",
       "      <td>39</td>\n",
       "      <td>9.365633</td>\n",
       "    </tr>\n",
       "    <tr>\n",
       "      <th>huadpe</th>\n",
       "      <td>10325</td>\n",
       "      <td>39</td>\n",
       "      <td>9.242323</td>\n",
       "    </tr>\n",
       "    <tr>\n",
       "      <th>hacksoncode</th>\n",
       "      <td>9590</td>\n",
       "      <td>39</td>\n",
       "      <td>9.168476</td>\n",
       "    </tr>\n",
       "  </tbody>\n",
       "</table>\n",
       "</div>"
      ],
      "text/plain": [
       "             comments  months  logcomments\n",
       "author                                    \n",
       "Ansuz07         14834      31     9.604677\n",
       "cdb03b          11799      38     9.375770\n",
       "Hq3473          11680      39     9.365633\n",
       "huadpe          10325      39     9.242323\n",
       "hacksoncode      9590      39     9.168476"
      ]
     },
     "execution_count": 109,
     "metadata": {},
     "output_type": "execute_result"
    }
   ],
   "source": [
    "counts = counts.sort_values(['comments','months'], ascending=False)\n",
    "counts['logcomments'] = np.log(counts['comments'])\n",
    "counts.head()"
   ]
  },
  {
   "cell_type": "code",
   "execution_count": 110,
   "metadata": {},
   "outputs": [
    {
     "data": {
      "image/png": "[encoded data removed]",
      "text/plain": [
       "<matplotlib.figure.Figure at 0x12023ed68>"
      ]
     },
     "metadata": {},
     "output_type": "display_data"
    }
   ],
   "source": [
    "counts.plot('months','logcomments',kind='scatter');"
   ]
  },
  {
   "cell_type": "code",
   "execution_count": 111,
   "metadata": {},
   "outputs": [
    {
     "data": {
      "image/png": "[encoded data removed]",
      "text/plain": [
       "<matplotlib.figure.Figure at 0x1152d4860>"
      ]
     },
     "metadata": {},
     "output_type": "display_data"
    }
   ],
   "source": [
    "monthly_counts = cmv['author'].value_counts()\n",
    "regulars = monthly_counts[monthly_counts>4].index\n",
    "subset = cmv[(cmv['weight']>=5)&(cmv['author'].isin(regulars))].sort_values(['month','author'])\n",
    "subset['value'] = 1\n",
    "timeline = subset.pivot_table(index='author',columns='month',values='value').fillna(0)\n",
    "sns.clustermap(timeline, cmap='binary', col_cluster=False, metric='cosine');"
   ]
  },
  {
   "cell_type": "markdown",
   "metadata": {},
   "source": [
    "## subsetting regulars"
   ]
  },
  {
   "cell_type": "code",
   "execution_count": 124,
   "metadata": {},
   "outputs": [],
   "source": [
    "edges = cmv[cmv['author'].isin(regulars)]"
   ]
  },
  {
   "cell_type": "code",
   "execution_count": 112,
   "metadata": {},
   "outputs": [
    {
     "data": {
      "text/plain": [
       "0.1878785634721541"
      ]
     },
     "execution_count": 112,
     "metadata": {},
     "output_type": "execute_result"
    }
   ],
   "source": [
    "subset.shape[0]/cmv.shape[0]"
   ]
  },
  {
   "cell_type": "code",
   "execution_count": 158,
   "metadata": {},
   "outputs": [
    {
     "name": "stdout",
     "output_type": "stream",
     "text": [
      "0.29757980446848675\n",
      "0.2641863490792634\n",
      "0.22154804199433156\n"
     ]
    }
   ],
   "source": [
    "subsets = []\n",
    "for mon in dfs:\n",
    "    subset = df[df['author'].isin(regulars)]\n",
    "    print(subset.shape[0]/df.shape[0])\n",
    "    subsets.append(subset)"
   ]
  },
  {
   "cell_type": "code",
   "execution_count": 163,
   "metadata": {},
   "outputs": [
    {
     "name": "stdout",
     "output_type": "stream",
     "text": [
      "2018_01\n",
      "2018_02\n",
      "2018_03\n"
     ]
    }
   ],
   "source": [
    "stats_dfs = []\n",
    "for data in subsets:\n",
    "    month = data['month'].unique()[0]\n",
    "    print(month)\n",
    "    data = data[['subreddit','author','weight']]\n",
    "    stats_df = get_stats_df(data, 'changemyview')\n",
    "    stats_df.reset_index(drop=False, inplace=True)\n",
    "    stats_df['month'] = month\n",
    "    \n",
    "    stats_dfs.append(stats_df)"
   ]
  },
  {
   "cell_type": "code",
   "execution_count": 182,
   "metadata": {},
   "outputs": [],
   "source": [
    "stats = pd.concat(stats_dfs)\n",
    "stats.reset_index(inplace=True)"
   ]
  },
  {
   "cell_type": "code",
   "execution_count": 184,
   "metadata": {},
   "outputs": [
    {
     "data": {
      "image/png": "[encoded data removed]",
      "text/plain": [
       "<matplotlib.figure.Figure at 0x1182fef28>"
      ]
     },
     "metadata": {},
     "output_type": "display_data"
    }
   ],
   "source": [
    "stats[stats['stat']=='count']['sub_net_density'].plot();"
   ]
  },
  {
   "cell_type": "code",
   "execution_count": 185,
   "metadata": {},
   "outputs": [
    {
     "data": {
      "image/png": "[encoded data removed]",
      "text/plain": [
       "<matplotlib.figure.Figure at 0x115844da0>"
      ]
     },
     "metadata": {},
     "output_type": "display_data"
    }
   ],
   "source": [
    "stats[stats['stat']=='count']['author_net_density'].plot();"
   ]
  },
  {
   "cell_type": "code",
   "execution_count": null,
   "metadata": {},
   "outputs": [],
   "source": []
  }
 ],
 "metadata": {
  "kernelspec": {
   "display_name": "Python 3",
   "language": "python",
   "name": "python3"
  },
  "language_info": {
   "codemirror_mode": {
    "name": "ipython",
    "version": 3
   },
   "file_extension": ".py",
   "mimetype": "text/x-python",
   "name": "python",
   "nbconvert_exporter": "python",
   "pygments_lexer": "ipython3",
   "version": "3.6.5"
  },
  "toc": {
   "base_numbering": 1,
   "nav_menu": {},
   "number_sections": true,
   "sideBar": true,
   "skip_h1_title": false,
   "title_cell": "Table of Contents",
   "title_sidebar": "Contents",
   "toc_cell": true,
   "toc_position": {},
   "toc_section_display": true,
   "toc_window_display": true
  }
 },
 "nbformat": 4,
 "nbformat_minor": 2
}
